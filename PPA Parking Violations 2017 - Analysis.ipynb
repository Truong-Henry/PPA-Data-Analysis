{
 "cells": [
  {
   "cell_type": "markdown",
   "metadata": {},
   "source": [
    "# PPA Parking Violations (2017) Data Analysis\n",
    "\n",
    "This data analysis will include SQL, Python, and data visualization"
   ]
  },
  {
   "cell_type": "markdown",
   "metadata": {},
   "source": [
    "## Table of Contents:\n",
    "* [Setup](#setup)\n",
    "    * [Importing libraries](#import-libraries)\n",
    "    * [Importing data](#import-data)\n",
    "    * [Creating sqlite server](#create-sqlite-server)\n",
    "* [Analysis](#analysis)\n",
    "    * [How many tickets were given in 2017?](#total-tickets-2017)\n",
    "    * [How much fines did the PPA give in 2017?](#ppa-fines-2017)\n",
    "    * [Which agency gave out the most tickets?](#agency-tickets-given)\n",
    "    * [What are the revenue driver for the PPA?](#ppa-revenue-drivers)\n",
    "    * [What are the top five states that gets fined?](#top-five-states-fined)\n",
    "    * [What is the distrubtion of tickets given throughout the day?](#distribution-day)\n",
    "    * [What is the distrubtion of tickets given throughout the week?](#distribution-week)\n",
    "    * [What is the distrubtion of tickets given throughout the year?](#distribution-year)\n",
    "    * [Do certain zipcodes get more fines than other zip codes?](#zipcode-fine-comparison)"
   ]
  },
  {
   "cell_type": "markdown",
   "metadata": {},
   "source": [
    "## Setup <a class=\"anchor\" id=\"setup\"></a>"
   ]
  },
  {
   "cell_type": "markdown",
   "metadata": {},
   "source": [
    "### Importing libraries <a class=\"anchor\" id=\"import-libraries\"></a>\n",
    "\n",
    "We will be importing the following libraries:\n",
    "1. pandas\n",
    "    1. Data processing and reading/writing csv files\n",
    "2. plotly.express\n",
    "    1. Data visualization\n",
    "3. sqlite3\n",
    "    1. SQL querying and creating a quick database"
   ]
  },
  {
   "cell_type": "code",
   "execution_count": 23,
   "metadata": {},
   "outputs": [],
   "source": [
    "import pandas as pd # data processing, CSV file I/O (e.g. pd.read_csv)\n",
    "import plotly.express as px\n",
    "import sqlite3"
   ]
  },
  {
   "cell_type": "markdown",
   "metadata": {},
   "source": [
    "### Importing data <a class=\"anchor\" id=\"import-data\"></a>"
   ]
  },
  {
   "cell_type": "code",
   "execution_count": 24,
   "metadata": {},
   "outputs": [],
   "source": [
    "PPA_Dataset_1 = pd.read_csv('parking_violations_2017_1.csv')\n",
    "PPA_Dataset_2 = pd.read_csv('parking_violations_2017_2.csv')\n",
    "# combine both datasets\n",
    "PPA_Full_Dataset = pd.concat([PPA_Dataset_1,PPA_Dataset_2])\n",
    "\n",
    "# change null to 0 and int to get rid of float 19192.0 -> 19192\n",
    "PPA_Full_Dataset['zip_code'] = PPA_Full_Dataset['zip_code'].fillna(0).astype(\"int64\")"
   ]
  },
  {
   "cell_type": "markdown",
   "metadata": {},
   "source": [
    "### Creating sqlite server <a class=\"anchor\" id=\"create-sqlite-server\"></a>"
   ]
  },
  {
   "cell_type": "code",
   "execution_count": 25,
   "metadata": {},
   "outputs": [],
   "source": [
    "# Import sqlalchemy and create a sqlite engine\n",
    "from sqlalchemy import create_engine\n",
    "engine = create_engine('sqlite://', echo=False)\n",
    "\n",
    "# Connect dataframes to SQL database\n",
    "PPA_Full_Dataset.to_sql(\"PPA_2017_Dataset\", con=engine)\n",
    "\n",
    "## Run query function for SQL interaction\n",
    "def run_query(a):\n",
    "    df_sql = pd.read_sql_query(a,con=engine)\n",
    "    return df_sql"
   ]
  },
  {
   "cell_type": "markdown",
   "metadata": {},
   "source": [
    "## Analysis <a class=\"anchor\" id=\"analysis\"></a>"
   ]
  },
  {
   "cell_type": "markdown",
   "metadata": {},
   "source": [
    "### How many tickets were given in 2017? <a class=\"anchor\" id=\"total-tickets-2017\"></a>"
   ]
  },
  {
   "cell_type": "code",
   "execution_count": 26,
   "metadata": {},
   "outputs": [
    {
     "data": {
      "text/html": [
       "<div>\n",
       "<style scoped>\n",
       "    .dataframe tbody tr th:only-of-type {\n",
       "        vertical-align: middle;\n",
       "    }\n",
       "\n",
       "    .dataframe tbody tr th {\n",
       "        vertical-align: top;\n",
       "    }\n",
       "\n",
       "    .dataframe thead th {\n",
       "        text-align: right;\n",
       "    }\n",
       "</style>\n",
       "<table border=\"1\" class=\"dataframe\">\n",
       "  <thead>\n",
       "    <tr style=\"text-align: right;\">\n",
       "      <th></th>\n",
       "      <th>Total_Tickets</th>\n",
       "    </tr>\n",
       "  </thead>\n",
       "  <tbody>\n",
       "    <tr>\n",
       "      <th>0</th>\n",
       "      <td>1722620</td>\n",
       "    </tr>\n",
       "  </tbody>\n",
       "</table>\n",
       "</div>"
      ],
      "text/plain": [
       "   Total_Tickets\n",
       "0        1722620"
      ]
     },
     "execution_count": 26,
     "metadata": {},
     "output_type": "execute_result"
    }
   ],
   "source": [
    "Total_Tickets = \"\"\"\n",
    "SELECT CAST(COUNT(anon_ticket_number) AS int) AS Total_Tickets\n",
    "FROM PPA_2017_Dataset\n",
    "\"\"\" \n",
    "run_query(Total_Tickets)"
   ]
  },
  {
   "cell_type": "markdown",
   "metadata": {},
   "source": [
    "### Which agency gave out the most tickets? <a class=\"anchor\" id=\"agency-tickets-given\"></a>"
   ]
  },
  {
   "cell_type": "code",
   "execution_count": 27,
   "metadata": {
    "scrolled": true
   },
   "outputs": [
    {
     "data": {
      "text/html": [
       "<div>\n",
       "<style scoped>\n",
       "    .dataframe tbody tr th:only-of-type {\n",
       "        vertical-align: middle;\n",
       "    }\n",
       "\n",
       "    .dataframe tbody tr th {\n",
       "        vertical-align: top;\n",
       "    }\n",
       "\n",
       "    .dataframe thead th {\n",
       "        text-align: right;\n",
       "    }\n",
       "</style>\n",
       "<table border=\"1\" class=\"dataframe\">\n",
       "  <thead>\n",
       "    <tr style=\"text-align: right;\">\n",
       "      <th></th>\n",
       "      <th>Agency</th>\n",
       "      <th>Tickets_Given</th>\n",
       "      <th>Percent_Total_Tickets</th>\n",
       "    </tr>\n",
       "  </thead>\n",
       "  <tbody>\n",
       "    <tr>\n",
       "      <th>0</th>\n",
       "      <td>PPA</td>\n",
       "      <td>1527876</td>\n",
       "      <td>88.69%</td>\n",
       "    </tr>\n",
       "    <tr>\n",
       "      <th>1</th>\n",
       "      <td>POLICE</td>\n",
       "      <td>186304</td>\n",
       "      <td>10.82%</td>\n",
       "    </tr>\n",
       "    <tr>\n",
       "      <th>2</th>\n",
       "      <td>CENTER C</td>\n",
       "      <td>2846</td>\n",
       "      <td>0.17%</td>\n",
       "    </tr>\n",
       "    <tr>\n",
       "      <th>3</th>\n",
       "      <td>PENN</td>\n",
       "      <td>1407</td>\n",
       "      <td>0.08%</td>\n",
       "    </tr>\n",
       "    <tr>\n",
       "      <th>4</th>\n",
       "      <td>SEPTA</td>\n",
       "      <td>1190</td>\n",
       "      <td>0.07%</td>\n",
       "    </tr>\n",
       "    <tr>\n",
       "      <th>5</th>\n",
       "      <td>TEMPLE</td>\n",
       "      <td>1040</td>\n",
       "      <td>0.06%</td>\n",
       "    </tr>\n",
       "    <tr>\n",
       "      <th>6</th>\n",
       "      <td>HOUSING</td>\n",
       "      <td>1032</td>\n",
       "      <td>0.06%</td>\n",
       "    </tr>\n",
       "    <tr>\n",
       "      <th>7</th>\n",
       "      <td>FAIRMNT</td>\n",
       "      <td>465</td>\n",
       "      <td>0.03%</td>\n",
       "    </tr>\n",
       "    <tr>\n",
       "      <th>8</th>\n",
       "      <td>PRISONS</td>\n",
       "      <td>434</td>\n",
       "      <td>0.03%</td>\n",
       "    </tr>\n",
       "    <tr>\n",
       "      <th>9</th>\n",
       "      <td>POST OFF</td>\n",
       "      <td>16</td>\n",
       "      <td>0.0%</td>\n",
       "    </tr>\n",
       "    <tr>\n",
       "      <th>10</th>\n",
       "      <td>UNASSIGN</td>\n",
       "      <td>5</td>\n",
       "      <td>0.0%</td>\n",
       "    </tr>\n",
       "    <tr>\n",
       "      <th>11</th>\n",
       "      <td>None</td>\n",
       "      <td>3</td>\n",
       "      <td>0.0%</td>\n",
       "    </tr>\n",
       "    <tr>\n",
       "      <th>12</th>\n",
       "      <td>CONRAIL</td>\n",
       "      <td>2</td>\n",
       "      <td>0.0%</td>\n",
       "    </tr>\n",
       "  </tbody>\n",
       "</table>\n",
       "</div>"
      ],
      "text/plain": [
       "      Agency  Tickets_Given Percent_Total_Tickets\n",
       "0        PPA        1527876                88.69%\n",
       "1     POLICE         186304                10.82%\n",
       "2   CENTER C           2846                 0.17%\n",
       "3       PENN           1407                 0.08%\n",
       "4      SEPTA           1190                 0.07%\n",
       "5     TEMPLE           1040                 0.06%\n",
       "6    HOUSING           1032                 0.06%\n",
       "7    FAIRMNT            465                 0.03%\n",
       "8    PRISONS            434                 0.03%\n",
       "9   POST OFF             16                  0.0%\n",
       "10  UNASSIGN              5                  0.0%\n",
       "11      None              3                  0.0%\n",
       "12   CONRAIL              2                  0.0%"
      ]
     },
     "execution_count": 27,
     "metadata": {},
     "output_type": "execute_result"
    }
   ],
   "source": [
    "TicketsByAgency = \"\"\"\n",
    "WITH Total_Tickets AS (\n",
    "    SELECT CAST(COUNT(anon_ticket_number) AS int) AS Total_Tickets\n",
    "    FROM PPA_2017_Dataset\n",
    ")\n",
    "\n",
    "SELECT \n",
    "    issuing_agency AS Agency,\n",
    "    COUNT(anon_ticket_number) AS Tickets_Given,\n",
    "    ROUND((CAST(COUNT(anon_ticket_number) AS float) / Total_Tickets) * 100, 2) || '%' AS Percent_Total_Tickets\n",
    "FROM PPA_2017_Dataset, Total_Tickets\n",
    "GROUP BY Agency\n",
    "ORDER BY Tickets_Given DESC\n",
    "\"\"\"\n",
    "run_query(TicketsByAgency)"
   ]
  },
  {
   "cell_type": "code",
   "execution_count": 28,
   "metadata": {},
   "outputs": [
    {
     "data": {
      "application/vnd.plotly.v1+json": {
       "config": {
        "plotlyServerURL": "https://plot.ly"
       },
       "data": [
        {
         "alignmentgroup": "True",
         "hovertemplate": "Agency=%{x}<br>Tickets_Given=%{y}<extra></extra>",
         "legendgroup": "",
         "marker": {
          "color": "#636efa",
          "pattern": {
           "shape": ""
          }
         },
         "name": "",
         "offsetgroup": "",
         "orientation": "v",
         "showlegend": false,
         "textposition": "auto",
         "type": "bar",
         "x": [
          "PPA",
          "POLICE",
          "CENTER C",
          "PENN",
          "SEPTA",
          "TEMPLE",
          "HOUSING",
          "FAIRMNT",
          "PRISONS",
          "POST OFF",
          "UNASSIGN",
          null,
          "CONRAIL"
         ],
         "xaxis": "x",
         "y": [
          1527876,
          186304,
          2846,
          1407,
          1190,
          1040,
          1032,
          465,
          434,
          16,
          5,
          3,
          2
         ],
         "yaxis": "y"
        }
       ],
       "layout": {
        "barmode": "relative",
        "legend": {
         "tracegroupgap": 0
        },
        "margin": {
         "t": 60
        },
        "template": {
         "data": {
          "bar": [
           {
            "error_x": {
             "color": "#2a3f5f"
            },
            "error_y": {
             "color": "#2a3f5f"
            },
            "marker": {
             "line": {
              "color": "#E5ECF6",
              "width": 0.5
             },
             "pattern": {
              "fillmode": "overlay",
              "size": 10,
              "solidity": 0.2
             }
            },
            "type": "bar"
           }
          ],
          "barpolar": [
           {
            "marker": {
             "line": {
              "color": "#E5ECF6",
              "width": 0.5
             },
             "pattern": {
              "fillmode": "overlay",
              "size": 10,
              "solidity": 0.2
             }
            },
            "type": "barpolar"
           }
          ],
          "carpet": [
           {
            "aaxis": {
             "endlinecolor": "#2a3f5f",
             "gridcolor": "white",
             "linecolor": "white",
             "minorgridcolor": "white",
             "startlinecolor": "#2a3f5f"
            },
            "baxis": {
             "endlinecolor": "#2a3f5f",
             "gridcolor": "white",
             "linecolor": "white",
             "minorgridcolor": "white",
             "startlinecolor": "#2a3f5f"
            },
            "type": "carpet"
           }
          ],
          "choropleth": [
           {
            "colorbar": {
             "outlinewidth": 0,
             "ticks": ""
            },
            "type": "choropleth"
           }
          ],
          "contour": [
           {
            "colorbar": {
             "outlinewidth": 0,
             "ticks": ""
            },
            "colorscale": [
             [
              0,
              "#0d0887"
             ],
             [
              0.1111111111111111,
              "#46039f"
             ],
             [
              0.2222222222222222,
              "#7201a8"
             ],
             [
              0.3333333333333333,
              "#9c179e"
             ],
             [
              0.4444444444444444,
              "#bd3786"
             ],
             [
              0.5555555555555556,
              "#d8576b"
             ],
             [
              0.6666666666666666,
              "#ed7953"
             ],
             [
              0.7777777777777778,
              "#fb9f3a"
             ],
             [
              0.8888888888888888,
              "#fdca26"
             ],
             [
              1,
              "#f0f921"
             ]
            ],
            "type": "contour"
           }
          ],
          "contourcarpet": [
           {
            "colorbar": {
             "outlinewidth": 0,
             "ticks": ""
            },
            "type": "contourcarpet"
           }
          ],
          "heatmap": [
           {
            "colorbar": {
             "outlinewidth": 0,
             "ticks": ""
            },
            "colorscale": [
             [
              0,
              "#0d0887"
             ],
             [
              0.1111111111111111,
              "#46039f"
             ],
             [
              0.2222222222222222,
              "#7201a8"
             ],
             [
              0.3333333333333333,
              "#9c179e"
             ],
             [
              0.4444444444444444,
              "#bd3786"
             ],
             [
              0.5555555555555556,
              "#d8576b"
             ],
             [
              0.6666666666666666,
              "#ed7953"
             ],
             [
              0.7777777777777778,
              "#fb9f3a"
             ],
             [
              0.8888888888888888,
              "#fdca26"
             ],
             [
              1,
              "#f0f921"
             ]
            ],
            "type": "heatmap"
           }
          ],
          "heatmapgl": [
           {
            "colorbar": {
             "outlinewidth": 0,
             "ticks": ""
            },
            "colorscale": [
             [
              0,
              "#0d0887"
             ],
             [
              0.1111111111111111,
              "#46039f"
             ],
             [
              0.2222222222222222,
              "#7201a8"
             ],
             [
              0.3333333333333333,
              "#9c179e"
             ],
             [
              0.4444444444444444,
              "#bd3786"
             ],
             [
              0.5555555555555556,
              "#d8576b"
             ],
             [
              0.6666666666666666,
              "#ed7953"
             ],
             [
              0.7777777777777778,
              "#fb9f3a"
             ],
             [
              0.8888888888888888,
              "#fdca26"
             ],
             [
              1,
              "#f0f921"
             ]
            ],
            "type": "heatmapgl"
           }
          ],
          "histogram": [
           {
            "marker": {
             "pattern": {
              "fillmode": "overlay",
              "size": 10,
              "solidity": 0.2
             }
            },
            "type": "histogram"
           }
          ],
          "histogram2d": [
           {
            "colorbar": {
             "outlinewidth": 0,
             "ticks": ""
            },
            "colorscale": [
             [
              0,
              "#0d0887"
             ],
             [
              0.1111111111111111,
              "#46039f"
             ],
             [
              0.2222222222222222,
              "#7201a8"
             ],
             [
              0.3333333333333333,
              "#9c179e"
             ],
             [
              0.4444444444444444,
              "#bd3786"
             ],
             [
              0.5555555555555556,
              "#d8576b"
             ],
             [
              0.6666666666666666,
              "#ed7953"
             ],
             [
              0.7777777777777778,
              "#fb9f3a"
             ],
             [
              0.8888888888888888,
              "#fdca26"
             ],
             [
              1,
              "#f0f921"
             ]
            ],
            "type": "histogram2d"
           }
          ],
          "histogram2dcontour": [
           {
            "colorbar": {
             "outlinewidth": 0,
             "ticks": ""
            },
            "colorscale": [
             [
              0,
              "#0d0887"
             ],
             [
              0.1111111111111111,
              "#46039f"
             ],
             [
              0.2222222222222222,
              "#7201a8"
             ],
             [
              0.3333333333333333,
              "#9c179e"
             ],
             [
              0.4444444444444444,
              "#bd3786"
             ],
             [
              0.5555555555555556,
              "#d8576b"
             ],
             [
              0.6666666666666666,
              "#ed7953"
             ],
             [
              0.7777777777777778,
              "#fb9f3a"
             ],
             [
              0.8888888888888888,
              "#fdca26"
             ],
             [
              1,
              "#f0f921"
             ]
            ],
            "type": "histogram2dcontour"
           }
          ],
          "mesh3d": [
           {
            "colorbar": {
             "outlinewidth": 0,
             "ticks": ""
            },
            "type": "mesh3d"
           }
          ],
          "parcoords": [
           {
            "line": {
             "colorbar": {
              "outlinewidth": 0,
              "ticks": ""
             }
            },
            "type": "parcoords"
           }
          ],
          "pie": [
           {
            "automargin": true,
            "type": "pie"
           }
          ],
          "scatter": [
           {
            "fillpattern": {
             "fillmode": "overlay",
             "size": 10,
             "solidity": 0.2
            },
            "type": "scatter"
           }
          ],
          "scatter3d": [
           {
            "line": {
             "colorbar": {
              "outlinewidth": 0,
              "ticks": ""
             }
            },
            "marker": {
             "colorbar": {
              "outlinewidth": 0,
              "ticks": ""
             }
            },
            "type": "scatter3d"
           }
          ],
          "scattercarpet": [
           {
            "marker": {
             "colorbar": {
              "outlinewidth": 0,
              "ticks": ""
             }
            },
            "type": "scattercarpet"
           }
          ],
          "scattergeo": [
           {
            "marker": {
             "colorbar": {
              "outlinewidth": 0,
              "ticks": ""
             }
            },
            "type": "scattergeo"
           }
          ],
          "scattergl": [
           {
            "marker": {
             "colorbar": {
              "outlinewidth": 0,
              "ticks": ""
             }
            },
            "type": "scattergl"
           }
          ],
          "scattermapbox": [
           {
            "marker": {
             "colorbar": {
              "outlinewidth": 0,
              "ticks": ""
             }
            },
            "type": "scattermapbox"
           }
          ],
          "scatterpolar": [
           {
            "marker": {
             "colorbar": {
              "outlinewidth": 0,
              "ticks": ""
             }
            },
            "type": "scatterpolar"
           }
          ],
          "scatterpolargl": [
           {
            "marker": {
             "colorbar": {
              "outlinewidth": 0,
              "ticks": ""
             }
            },
            "type": "scatterpolargl"
           }
          ],
          "scatterternary": [
           {
            "marker": {
             "colorbar": {
              "outlinewidth": 0,
              "ticks": ""
             }
            },
            "type": "scatterternary"
           }
          ],
          "surface": [
           {
            "colorbar": {
             "outlinewidth": 0,
             "ticks": ""
            },
            "colorscale": [
             [
              0,
              "#0d0887"
             ],
             [
              0.1111111111111111,
              "#46039f"
             ],
             [
              0.2222222222222222,
              "#7201a8"
             ],
             [
              0.3333333333333333,
              "#9c179e"
             ],
             [
              0.4444444444444444,
              "#bd3786"
             ],
             [
              0.5555555555555556,
              "#d8576b"
             ],
             [
              0.6666666666666666,
              "#ed7953"
             ],
             [
              0.7777777777777778,
              "#fb9f3a"
             ],
             [
              0.8888888888888888,
              "#fdca26"
             ],
             [
              1,
              "#f0f921"
             ]
            ],
            "type": "surface"
           }
          ],
          "table": [
           {
            "cells": {
             "fill": {
              "color": "#EBF0F8"
             },
             "line": {
              "color": "white"
             }
            },
            "header": {
             "fill": {
              "color": "#C8D4E3"
             },
             "line": {
              "color": "white"
             }
            },
            "type": "table"
           }
          ]
         },
         "layout": {
          "annotationdefaults": {
           "arrowcolor": "#2a3f5f",
           "arrowhead": 0,
           "arrowwidth": 1
          },
          "autotypenumbers": "strict",
          "coloraxis": {
           "colorbar": {
            "outlinewidth": 0,
            "ticks": ""
           }
          },
          "colorscale": {
           "diverging": [
            [
             0,
             "#8e0152"
            ],
            [
             0.1,
             "#c51b7d"
            ],
            [
             0.2,
             "#de77ae"
            ],
            [
             0.3,
             "#f1b6da"
            ],
            [
             0.4,
             "#fde0ef"
            ],
            [
             0.5,
             "#f7f7f7"
            ],
            [
             0.6,
             "#e6f5d0"
            ],
            [
             0.7,
             "#b8e186"
            ],
            [
             0.8,
             "#7fbc41"
            ],
            [
             0.9,
             "#4d9221"
            ],
            [
             1,
             "#276419"
            ]
           ],
           "sequential": [
            [
             0,
             "#0d0887"
            ],
            [
             0.1111111111111111,
             "#46039f"
            ],
            [
             0.2222222222222222,
             "#7201a8"
            ],
            [
             0.3333333333333333,
             "#9c179e"
            ],
            [
             0.4444444444444444,
             "#bd3786"
            ],
            [
             0.5555555555555556,
             "#d8576b"
            ],
            [
             0.6666666666666666,
             "#ed7953"
            ],
            [
             0.7777777777777778,
             "#fb9f3a"
            ],
            [
             0.8888888888888888,
             "#fdca26"
            ],
            [
             1,
             "#f0f921"
            ]
           ],
           "sequentialminus": [
            [
             0,
             "#0d0887"
            ],
            [
             0.1111111111111111,
             "#46039f"
            ],
            [
             0.2222222222222222,
             "#7201a8"
            ],
            [
             0.3333333333333333,
             "#9c179e"
            ],
            [
             0.4444444444444444,
             "#bd3786"
            ],
            [
             0.5555555555555556,
             "#d8576b"
            ],
            [
             0.6666666666666666,
             "#ed7953"
            ],
            [
             0.7777777777777778,
             "#fb9f3a"
            ],
            [
             0.8888888888888888,
             "#fdca26"
            ],
            [
             1,
             "#f0f921"
            ]
           ]
          },
          "colorway": [
           "#636efa",
           "#EF553B",
           "#00cc96",
           "#ab63fa",
           "#FFA15A",
           "#19d3f3",
           "#FF6692",
           "#B6E880",
           "#FF97FF",
           "#FECB52"
          ],
          "font": {
           "color": "#2a3f5f"
          },
          "geo": {
           "bgcolor": "white",
           "lakecolor": "white",
           "landcolor": "#E5ECF6",
           "showlakes": true,
           "showland": true,
           "subunitcolor": "white"
          },
          "hoverlabel": {
           "align": "left"
          },
          "hovermode": "closest",
          "mapbox": {
           "style": "light"
          },
          "paper_bgcolor": "white",
          "plot_bgcolor": "#E5ECF6",
          "polar": {
           "angularaxis": {
            "gridcolor": "white",
            "linecolor": "white",
            "ticks": ""
           },
           "bgcolor": "#E5ECF6",
           "radialaxis": {
            "gridcolor": "white",
            "linecolor": "white",
            "ticks": ""
           }
          },
          "scene": {
           "xaxis": {
            "backgroundcolor": "#E5ECF6",
            "gridcolor": "white",
            "gridwidth": 2,
            "linecolor": "white",
            "showbackground": true,
            "ticks": "",
            "zerolinecolor": "white"
           },
           "yaxis": {
            "backgroundcolor": "#E5ECF6",
            "gridcolor": "white",
            "gridwidth": 2,
            "linecolor": "white",
            "showbackground": true,
            "ticks": "",
            "zerolinecolor": "white"
           },
           "zaxis": {
            "backgroundcolor": "#E5ECF6",
            "gridcolor": "white",
            "gridwidth": 2,
            "linecolor": "white",
            "showbackground": true,
            "ticks": "",
            "zerolinecolor": "white"
           }
          },
          "shapedefaults": {
           "line": {
            "color": "#2a3f5f"
           }
          },
          "ternary": {
           "aaxis": {
            "gridcolor": "white",
            "linecolor": "white",
            "ticks": ""
           },
           "baxis": {
            "gridcolor": "white",
            "linecolor": "white",
            "ticks": ""
           },
           "bgcolor": "#E5ECF6",
           "caxis": {
            "gridcolor": "white",
            "linecolor": "white",
            "ticks": ""
           }
          },
          "title": {
           "x": 0.05
          },
          "xaxis": {
           "automargin": true,
           "gridcolor": "white",
           "linecolor": "white",
           "ticks": "",
           "title": {
            "standoff": 15
           },
           "zerolinecolor": "white",
           "zerolinewidth": 2
          },
          "yaxis": {
           "automargin": true,
           "gridcolor": "white",
           "linecolor": "white",
           "ticks": "",
           "title": {
            "standoff": 15
           },
           "zerolinecolor": "white",
           "zerolinewidth": 2
          }
         }
        },
        "xaxis": {
         "anchor": "y",
         "domain": [
          0,
          1
         ],
         "title": {
          "text": "Agency"
         }
        },
        "yaxis": {
         "anchor": "x",
         "domain": [
          0,
          1
         ],
         "title": {
          "text": "Tickets_Given"
         }
        }
       }
      },
      "text/html": [
       "<div>                            <div id=\"c9f304a2-8f41-4a45-ae3e-679f1f83949f\" class=\"plotly-graph-div\" style=\"height:525px; width:100%;\"></div>            <script type=\"text/javascript\">                require([\"plotly\"], function(Plotly) {                    window.PLOTLYENV=window.PLOTLYENV || {};                                    if (document.getElementById(\"c9f304a2-8f41-4a45-ae3e-679f1f83949f\")) {                    Plotly.newPlot(                        \"c9f304a2-8f41-4a45-ae3e-679f1f83949f\",                        [{\"alignmentgroup\":\"True\",\"hovertemplate\":\"Agency=%{x}<br>Tickets_Given=%{y}<extra></extra>\",\"legendgroup\":\"\",\"marker\":{\"color\":\"#636efa\",\"pattern\":{\"shape\":\"\"}},\"name\":\"\",\"offsetgroup\":\"\",\"orientation\":\"v\",\"showlegend\":false,\"textposition\":\"auto\",\"x\":[\"PPA\",\"POLICE\",\"CENTER C\",\"PENN\",\"SEPTA\",\"TEMPLE\",\"HOUSING\",\"FAIRMNT\",\"PRISONS\",\"POST OFF\",\"UNASSIGN\",null,\"CONRAIL\"],\"xaxis\":\"x\",\"y\":[1527876,186304,2846,1407,1190,1040,1032,465,434,16,5,3,2],\"yaxis\":\"y\",\"type\":\"bar\"}],                        {\"template\":{\"data\":{\"histogram2dcontour\":[{\"type\":\"histogram2dcontour\",\"colorbar\":{\"outlinewidth\":0,\"ticks\":\"\"},\"colorscale\":[[0.0,\"#0d0887\"],[0.1111111111111111,\"#46039f\"],[0.2222222222222222,\"#7201a8\"],[0.3333333333333333,\"#9c179e\"],[0.4444444444444444,\"#bd3786\"],[0.5555555555555556,\"#d8576b\"],[0.6666666666666666,\"#ed7953\"],[0.7777777777777778,\"#fb9f3a\"],[0.8888888888888888,\"#fdca26\"],[1.0,\"#f0f921\"]]}],\"choropleth\":[{\"type\":\"choropleth\",\"colorbar\":{\"outlinewidth\":0,\"ticks\":\"\"}}],\"histogram2d\":[{\"type\":\"histogram2d\",\"colorbar\":{\"outlinewidth\":0,\"ticks\":\"\"},\"colorscale\":[[0.0,\"#0d0887\"],[0.1111111111111111,\"#46039f\"],[0.2222222222222222,\"#7201a8\"],[0.3333333333333333,\"#9c179e\"],[0.4444444444444444,\"#bd3786\"],[0.5555555555555556,\"#d8576b\"],[0.6666666666666666,\"#ed7953\"],[0.7777777777777778,\"#fb9f3a\"],[0.8888888888888888,\"#fdca26\"],[1.0,\"#f0f921\"]]}],\"heatmap\":[{\"type\":\"heatmap\",\"colorbar\":{\"outlinewidth\":0,\"ticks\":\"\"},\"colorscale\":[[0.0,\"#0d0887\"],[0.1111111111111111,\"#46039f\"],[0.2222222222222222,\"#7201a8\"],[0.3333333333333333,\"#9c179e\"],[0.4444444444444444,\"#bd3786\"],[0.5555555555555556,\"#d8576b\"],[0.6666666666666666,\"#ed7953\"],[0.7777777777777778,\"#fb9f3a\"],[0.8888888888888888,\"#fdca26\"],[1.0,\"#f0f921\"]]}],\"heatmapgl\":[{\"type\":\"heatmapgl\",\"colorbar\":{\"outlinewidth\":0,\"ticks\":\"\"},\"colorscale\":[[0.0,\"#0d0887\"],[0.1111111111111111,\"#46039f\"],[0.2222222222222222,\"#7201a8\"],[0.3333333333333333,\"#9c179e\"],[0.4444444444444444,\"#bd3786\"],[0.5555555555555556,\"#d8576b\"],[0.6666666666666666,\"#ed7953\"],[0.7777777777777778,\"#fb9f3a\"],[0.8888888888888888,\"#fdca26\"],[1.0,\"#f0f921\"]]}],\"contourcarpet\":[{\"type\":\"contourcarpet\",\"colorbar\":{\"outlinewidth\":0,\"ticks\":\"\"}}],\"contour\":[{\"type\":\"contour\",\"colorbar\":{\"outlinewidth\":0,\"ticks\":\"\"},\"colorscale\":[[0.0,\"#0d0887\"],[0.1111111111111111,\"#46039f\"],[0.2222222222222222,\"#7201a8\"],[0.3333333333333333,\"#9c179e\"],[0.4444444444444444,\"#bd3786\"],[0.5555555555555556,\"#d8576b\"],[0.6666666666666666,\"#ed7953\"],[0.7777777777777778,\"#fb9f3a\"],[0.8888888888888888,\"#fdca26\"],[1.0,\"#f0f921\"]]}],\"surface\":[{\"type\":\"surface\",\"colorbar\":{\"outlinewidth\":0,\"ticks\":\"\"},\"colorscale\":[[0.0,\"#0d0887\"],[0.1111111111111111,\"#46039f\"],[0.2222222222222222,\"#7201a8\"],[0.3333333333333333,\"#9c179e\"],[0.4444444444444444,\"#bd3786\"],[0.5555555555555556,\"#d8576b\"],[0.6666666666666666,\"#ed7953\"],[0.7777777777777778,\"#fb9f3a\"],[0.8888888888888888,\"#fdca26\"],[1.0,\"#f0f921\"]]}],\"mesh3d\":[{\"type\":\"mesh3d\",\"colorbar\":{\"outlinewidth\":0,\"ticks\":\"\"}}],\"scatter\":[{\"fillpattern\":{\"fillmode\":\"overlay\",\"size\":10,\"solidity\":0.2},\"type\":\"scatter\"}],\"parcoords\":[{\"type\":\"parcoords\",\"line\":{\"colorbar\":{\"outlinewidth\":0,\"ticks\":\"\"}}}],\"scatterpolargl\":[{\"type\":\"scatterpolargl\",\"marker\":{\"colorbar\":{\"outlinewidth\":0,\"ticks\":\"\"}}}],\"bar\":[{\"error_x\":{\"color\":\"#2a3f5f\"},\"error_y\":{\"color\":\"#2a3f5f\"},\"marker\":{\"line\":{\"color\":\"#E5ECF6\",\"width\":0.5},\"pattern\":{\"fillmode\":\"overlay\",\"size\":10,\"solidity\":0.2}},\"type\":\"bar\"}],\"scattergeo\":[{\"type\":\"scattergeo\",\"marker\":{\"colorbar\":{\"outlinewidth\":0,\"ticks\":\"\"}}}],\"scatterpolar\":[{\"type\":\"scatterpolar\",\"marker\":{\"colorbar\":{\"outlinewidth\":0,\"ticks\":\"\"}}}],\"histogram\":[{\"marker\":{\"pattern\":{\"fillmode\":\"overlay\",\"size\":10,\"solidity\":0.2}},\"type\":\"histogram\"}],\"scattergl\":[{\"type\":\"scattergl\",\"marker\":{\"colorbar\":{\"outlinewidth\":0,\"ticks\":\"\"}}}],\"scatter3d\":[{\"type\":\"scatter3d\",\"line\":{\"colorbar\":{\"outlinewidth\":0,\"ticks\":\"\"}},\"marker\":{\"colorbar\":{\"outlinewidth\":0,\"ticks\":\"\"}}}],\"scattermapbox\":[{\"type\":\"scattermapbox\",\"marker\":{\"colorbar\":{\"outlinewidth\":0,\"ticks\":\"\"}}}],\"scatterternary\":[{\"type\":\"scatterternary\",\"marker\":{\"colorbar\":{\"outlinewidth\":0,\"ticks\":\"\"}}}],\"scattercarpet\":[{\"type\":\"scattercarpet\",\"marker\":{\"colorbar\":{\"outlinewidth\":0,\"ticks\":\"\"}}}],\"carpet\":[{\"aaxis\":{\"endlinecolor\":\"#2a3f5f\",\"gridcolor\":\"white\",\"linecolor\":\"white\",\"minorgridcolor\":\"white\",\"startlinecolor\":\"#2a3f5f\"},\"baxis\":{\"endlinecolor\":\"#2a3f5f\",\"gridcolor\":\"white\",\"linecolor\":\"white\",\"minorgridcolor\":\"white\",\"startlinecolor\":\"#2a3f5f\"},\"type\":\"carpet\"}],\"table\":[{\"cells\":{\"fill\":{\"color\":\"#EBF0F8\"},\"line\":{\"color\":\"white\"}},\"header\":{\"fill\":{\"color\":\"#C8D4E3\"},\"line\":{\"color\":\"white\"}},\"type\":\"table\"}],\"barpolar\":[{\"marker\":{\"line\":{\"color\":\"#E5ECF6\",\"width\":0.5},\"pattern\":{\"fillmode\":\"overlay\",\"size\":10,\"solidity\":0.2}},\"type\":\"barpolar\"}],\"pie\":[{\"automargin\":true,\"type\":\"pie\"}]},\"layout\":{\"autotypenumbers\":\"strict\",\"colorway\":[\"#636efa\",\"#EF553B\",\"#00cc96\",\"#ab63fa\",\"#FFA15A\",\"#19d3f3\",\"#FF6692\",\"#B6E880\",\"#FF97FF\",\"#FECB52\"],\"font\":{\"color\":\"#2a3f5f\"},\"hovermode\":\"closest\",\"hoverlabel\":{\"align\":\"left\"},\"paper_bgcolor\":\"white\",\"plot_bgcolor\":\"#E5ECF6\",\"polar\":{\"bgcolor\":\"#E5ECF6\",\"angularaxis\":{\"gridcolor\":\"white\",\"linecolor\":\"white\",\"ticks\":\"\"},\"radialaxis\":{\"gridcolor\":\"white\",\"linecolor\":\"white\",\"ticks\":\"\"}},\"ternary\":{\"bgcolor\":\"#E5ECF6\",\"aaxis\":{\"gridcolor\":\"white\",\"linecolor\":\"white\",\"ticks\":\"\"},\"baxis\":{\"gridcolor\":\"white\",\"linecolor\":\"white\",\"ticks\":\"\"},\"caxis\":{\"gridcolor\":\"white\",\"linecolor\":\"white\",\"ticks\":\"\"}},\"coloraxis\":{\"colorbar\":{\"outlinewidth\":0,\"ticks\":\"\"}},\"colorscale\":{\"sequential\":[[0.0,\"#0d0887\"],[0.1111111111111111,\"#46039f\"],[0.2222222222222222,\"#7201a8\"],[0.3333333333333333,\"#9c179e\"],[0.4444444444444444,\"#bd3786\"],[0.5555555555555556,\"#d8576b\"],[0.6666666666666666,\"#ed7953\"],[0.7777777777777778,\"#fb9f3a\"],[0.8888888888888888,\"#fdca26\"],[1.0,\"#f0f921\"]],\"sequentialminus\":[[0.0,\"#0d0887\"],[0.1111111111111111,\"#46039f\"],[0.2222222222222222,\"#7201a8\"],[0.3333333333333333,\"#9c179e\"],[0.4444444444444444,\"#bd3786\"],[0.5555555555555556,\"#d8576b\"],[0.6666666666666666,\"#ed7953\"],[0.7777777777777778,\"#fb9f3a\"],[0.8888888888888888,\"#fdca26\"],[1.0,\"#f0f921\"]],\"diverging\":[[0,\"#8e0152\"],[0.1,\"#c51b7d\"],[0.2,\"#de77ae\"],[0.3,\"#f1b6da\"],[0.4,\"#fde0ef\"],[0.5,\"#f7f7f7\"],[0.6,\"#e6f5d0\"],[0.7,\"#b8e186\"],[0.8,\"#7fbc41\"],[0.9,\"#4d9221\"],[1,\"#276419\"]]},\"xaxis\":{\"gridcolor\":\"white\",\"linecolor\":\"white\",\"ticks\":\"\",\"title\":{\"standoff\":15},\"zerolinecolor\":\"white\",\"automargin\":true,\"zerolinewidth\":2},\"yaxis\":{\"gridcolor\":\"white\",\"linecolor\":\"white\",\"ticks\":\"\",\"title\":{\"standoff\":15},\"zerolinecolor\":\"white\",\"automargin\":true,\"zerolinewidth\":2},\"scene\":{\"xaxis\":{\"backgroundcolor\":\"#E5ECF6\",\"gridcolor\":\"white\",\"linecolor\":\"white\",\"showbackground\":true,\"ticks\":\"\",\"zerolinecolor\":\"white\",\"gridwidth\":2},\"yaxis\":{\"backgroundcolor\":\"#E5ECF6\",\"gridcolor\":\"white\",\"linecolor\":\"white\",\"showbackground\":true,\"ticks\":\"\",\"zerolinecolor\":\"white\",\"gridwidth\":2},\"zaxis\":{\"backgroundcolor\":\"#E5ECF6\",\"gridcolor\":\"white\",\"linecolor\":\"white\",\"showbackground\":true,\"ticks\":\"\",\"zerolinecolor\":\"white\",\"gridwidth\":2}},\"shapedefaults\":{\"line\":{\"color\":\"#2a3f5f\"}},\"annotationdefaults\":{\"arrowcolor\":\"#2a3f5f\",\"arrowhead\":0,\"arrowwidth\":1},\"geo\":{\"bgcolor\":\"white\",\"landcolor\":\"#E5ECF6\",\"subunitcolor\":\"white\",\"showland\":true,\"showlakes\":true,\"lakecolor\":\"white\"},\"title\":{\"x\":0.05},\"mapbox\":{\"style\":\"light\"}}},\"xaxis\":{\"anchor\":\"y\",\"domain\":[0.0,1.0],\"title\":{\"text\":\"Agency\"}},\"yaxis\":{\"anchor\":\"x\",\"domain\":[0.0,1.0],\"title\":{\"text\":\"Tickets_Given\"}},\"legend\":{\"tracegroupgap\":0},\"margin\":{\"t\":60},\"barmode\":\"relative\"},                        {\"responsive\": true}                    ).then(function(){\n",
       "                            \n",
       "var gd = document.getElementById('c9f304a2-8f41-4a45-ae3e-679f1f83949f');\n",
       "var x = new MutationObserver(function (mutations, observer) {{\n",
       "        var display = window.getComputedStyle(gd).display;\n",
       "        if (!display || display === 'none') {{\n",
       "            console.log([gd, 'removed!']);\n",
       "            Plotly.purge(gd);\n",
       "            observer.disconnect();\n",
       "        }}\n",
       "}});\n",
       "\n",
       "// Listen for the removal of the full notebook cells\n",
       "var notebookContainer = gd.closest('#notebook-container');\n",
       "if (notebookContainer) {{\n",
       "    x.observe(notebookContainer, {childList: true});\n",
       "}}\n",
       "\n",
       "// Listen for the clearing of the current output cell\n",
       "var outputEl = gd.closest('.output');\n",
       "if (outputEl) {{\n",
       "    x.observe(outputEl, {childList: true});\n",
       "}}\n",
       "\n",
       "                        })                };                });            </script>        </div>"
      ]
     },
     "metadata": {},
     "output_type": "display_data"
    }
   ],
   "source": [
    "fig = px.bar(run_query(TicketsByAgency), x='Agency', y='Tickets_Given')\n",
    "fig.show()"
   ]
  },
  {
   "cell_type": "markdown",
   "metadata": {},
   "source": [
    "### How much fines did the PPA give in 2017? <a class=\"anchor\" id=\"ppa-fines-2017\"></a>"
   ]
  },
  {
   "cell_type": "code",
   "execution_count": 29,
   "metadata": {},
   "outputs": [
    {
     "data": {
      "text/html": [
       "<div>\n",
       "<style scoped>\n",
       "    .dataframe tbody tr th:only-of-type {\n",
       "        vertical-align: middle;\n",
       "    }\n",
       "\n",
       "    .dataframe tbody tr th {\n",
       "        vertical-align: top;\n",
       "    }\n",
       "\n",
       "    .dataframe thead th {\n",
       "        text-align: right;\n",
       "    }\n",
       "</style>\n",
       "<table border=\"1\" class=\"dataframe\">\n",
       "  <thead>\n",
       "    <tr style=\"text-align: right;\">\n",
       "      <th></th>\n",
       "      <th>PPA_Total_Fines</th>\n",
       "    </tr>\n",
       "  </thead>\n",
       "  <tbody>\n",
       "    <tr>\n",
       "      <th>0</th>\n",
       "      <td>67958756</td>\n",
       "    </tr>\n",
       "  </tbody>\n",
       "</table>\n",
       "</div>"
      ],
      "text/plain": [
       "   PPA_Total_Fines\n",
       "0         67958756"
      ]
     },
     "execution_count": 29,
     "metadata": {},
     "output_type": "execute_result"
    }
   ],
   "source": [
    "PPAFines2017 = \"\"\"\n",
    "SELECT SUM(fine) AS PPA_Total_Fines\n",
    "FROM PPA_2017_Dataset\n",
    "WHERE issuing_agency = 'PPA'\n",
    "\"\"\"\n",
    "run_query(PPAFines2017)"
   ]
  },
  {
   "cell_type": "code",
   "execution_count": 30,
   "metadata": {
    "scrolled": true
   },
   "outputs": [
    {
     "data": {
      "text/html": [
       "<div>\n",
       "<style scoped>\n",
       "    .dataframe tbody tr th:only-of-type {\n",
       "        vertical-align: middle;\n",
       "    }\n",
       "\n",
       "    .dataframe tbody tr th {\n",
       "        vertical-align: top;\n",
       "    }\n",
       "\n",
       "    .dataframe thead th {\n",
       "        text-align: right;\n",
       "    }\n",
       "</style>\n",
       "<table border=\"1\" class=\"dataframe\">\n",
       "  <thead>\n",
       "    <tr style=\"text-align: right;\">\n",
       "      <th></th>\n",
       "      <th>issuing_agency</th>\n",
       "      <th>Sum_Fines</th>\n",
       "      <th>Percent_Total_Fines</th>\n",
       "    </tr>\n",
       "  </thead>\n",
       "  <tbody>\n",
       "    <tr>\n",
       "      <th>0</th>\n",
       "      <td>PPA</td>\n",
       "      <td>67958756</td>\n",
       "      <td>83.66%</td>\n",
       "    </tr>\n",
       "    <tr>\n",
       "      <th>1</th>\n",
       "      <td>POLICE</td>\n",
       "      <td>12733945</td>\n",
       "      <td>15.68%</td>\n",
       "    </tr>\n",
       "    <tr>\n",
       "      <th>2</th>\n",
       "      <td>CENTER C</td>\n",
       "      <td>204681</td>\n",
       "      <td>0.25%</td>\n",
       "    </tr>\n",
       "    <tr>\n",
       "      <th>3</th>\n",
       "      <td>PENN</td>\n",
       "      <td>84527</td>\n",
       "      <td>0.1%</td>\n",
       "    </tr>\n",
       "    <tr>\n",
       "      <th>4</th>\n",
       "      <td>HOUSING</td>\n",
       "      <td>83882</td>\n",
       "      <td>0.1%</td>\n",
       "    </tr>\n",
       "    <tr>\n",
       "      <th>5</th>\n",
       "      <td>SEPTA</td>\n",
       "      <td>69555</td>\n",
       "      <td>0.09%</td>\n",
       "    </tr>\n",
       "    <tr>\n",
       "      <th>6</th>\n",
       "      <td>TEMPLE</td>\n",
       "      <td>52810</td>\n",
       "      <td>0.07%</td>\n",
       "    </tr>\n",
       "    <tr>\n",
       "      <th>7</th>\n",
       "      <td>FAIRMNT</td>\n",
       "      <td>21355</td>\n",
       "      <td>0.03%</td>\n",
       "    </tr>\n",
       "    <tr>\n",
       "      <th>8</th>\n",
       "      <td>PRISONS</td>\n",
       "      <td>19884</td>\n",
       "      <td>0.02%</td>\n",
       "    </tr>\n",
       "    <tr>\n",
       "      <th>9</th>\n",
       "      <td>POST OFF</td>\n",
       "      <td>1031</td>\n",
       "      <td>0.0%</td>\n",
       "    </tr>\n",
       "    <tr>\n",
       "      <th>10</th>\n",
       "      <td>UNASSIGN</td>\n",
       "      <td>245</td>\n",
       "      <td>0.0%</td>\n",
       "    </tr>\n",
       "    <tr>\n",
       "      <th>11</th>\n",
       "      <td>CONRAIL</td>\n",
       "      <td>102</td>\n",
       "      <td>0.0%</td>\n",
       "    </tr>\n",
       "    <tr>\n",
       "      <th>12</th>\n",
       "      <td>None</td>\n",
       "      <td>93</td>\n",
       "      <td>0.0%</td>\n",
       "    </tr>\n",
       "  </tbody>\n",
       "</table>\n",
       "</div>"
      ],
      "text/plain": [
       "   issuing_agency  Sum_Fines Percent_Total_Fines\n",
       "0             PPA   67958756              83.66%\n",
       "1          POLICE   12733945              15.68%\n",
       "2        CENTER C     204681               0.25%\n",
       "3            PENN      84527                0.1%\n",
       "4         HOUSING      83882                0.1%\n",
       "5           SEPTA      69555               0.09%\n",
       "6          TEMPLE      52810               0.07%\n",
       "7         FAIRMNT      21355               0.03%\n",
       "8         PRISONS      19884               0.02%\n",
       "9        POST OFF       1031                0.0%\n",
       "10       UNASSIGN        245                0.0%\n",
       "11        CONRAIL        102                0.0%\n",
       "12           None         93                0.0%"
      ]
     },
     "execution_count": 30,
     "metadata": {},
     "output_type": "execute_result"
    }
   ],
   "source": [
    "PPAFines2017 = \"\"\"\n",
    "WITH Total_Fines_All_Agencies AS (\n",
    "    SELECT SUM(fine) AS Total_Fines\n",
    "    FROM PPA_2017_Dataset\n",
    ")\n",
    "\n",
    "SELECT issuing_agency, SUM(fine) AS Sum_Fines,\n",
    "    ROUND((CAST(SUM(fine) AS float) / Total_Fines) * 100, 2) || '%' AS Percent_Total_Fines\n",
    "FROM PPA_2017_Dataset, Total_Fines_All_Agencies\n",
    "GROUP by issuing_agency\n",
    "ORDER BY Sum_Fines DESC\n",
    "\"\"\"\n",
    "run_query(PPAFines2017)"
   ]
  },
  {
   "cell_type": "markdown",
   "metadata": {},
   "source": [
    "### What are the revenue driver for the PPA? <a class=\"anchor\" id=\"ppa-revenue-drivers\"></a>"
   ]
  },
  {
   "cell_type": "code",
   "execution_count": 31,
   "metadata": {},
   "outputs": [
    {
     "data": {
      "text/html": [
       "<div>\n",
       "<style scoped>\n",
       "    .dataframe tbody tr th:only-of-type {\n",
       "        vertical-align: middle;\n",
       "    }\n",
       "\n",
       "    .dataframe tbody tr th {\n",
       "        vertical-align: top;\n",
       "    }\n",
       "\n",
       "    .dataframe thead th {\n",
       "        text-align: right;\n",
       "    }\n",
       "</style>\n",
       "<table border=\"1\" class=\"dataframe\">\n",
       "  <thead>\n",
       "    <tr style=\"text-align: right;\">\n",
       "      <th></th>\n",
       "      <th>ViolationDescription</th>\n",
       "      <th>Total_Fines</th>\n",
       "      <th>Percent_Total_Revenue</th>\n",
       "    </tr>\n",
       "  </thead>\n",
       "  <tbody>\n",
       "    <tr>\n",
       "      <th>0</th>\n",
       "      <td>METER EXPIRED</td>\n",
       "      <td>20647426</td>\n",
       "      <td>30.38%</td>\n",
       "    </tr>\n",
       "    <tr>\n",
       "      <th>1</th>\n",
       "      <td>STOP PROHIBITED</td>\n",
       "      <td>12342882</td>\n",
       "      <td>18.16%</td>\n",
       "    </tr>\n",
       "    <tr>\n",
       "      <th>2</th>\n",
       "      <td>OVER TIME LIMIT</td>\n",
       "      <td>6748822</td>\n",
       "      <td>9.93%</td>\n",
       "    </tr>\n",
       "    <tr>\n",
       "      <th>3</th>\n",
       "      <td>HP RESERVED SPACE</td>\n",
       "      <td>5717194</td>\n",
       "      <td>8.41%</td>\n",
       "    </tr>\n",
       "    <tr>\n",
       "      <th>4</th>\n",
       "      <td>EXPIRED INSPECTION</td>\n",
       "      <td>5155668</td>\n",
       "      <td>7.59%</td>\n",
       "    </tr>\n",
       "    <tr>\n",
       "      <th>5</th>\n",
       "      <td>PARKING PROHBITED</td>\n",
       "      <td>4361765</td>\n",
       "      <td>6.42%</td>\n",
       "    </tr>\n",
       "    <tr>\n",
       "      <th>6</th>\n",
       "      <td>STOPPING PROHIBITED</td>\n",
       "      <td>2719065</td>\n",
       "      <td>4.0%</td>\n",
       "    </tr>\n",
       "    <tr>\n",
       "      <th>7</th>\n",
       "      <td>BUS ONLY ZONE</td>\n",
       "      <td>2142168</td>\n",
       "      <td>3.15%</td>\n",
       "    </tr>\n",
       "    <tr>\n",
       "      <th>8</th>\n",
       "      <td>DOUBLE PARKED</td>\n",
       "      <td>1093191</td>\n",
       "      <td>1.61%</td>\n",
       "    </tr>\n",
       "    <tr>\n",
       "      <th>9</th>\n",
       "      <td>LOADING ZONE</td>\n",
       "      <td>1063497</td>\n",
       "      <td>1.56%</td>\n",
       "    </tr>\n",
       "  </tbody>\n",
       "</table>\n",
       "</div>"
      ],
      "text/plain": [
       "  ViolationDescription  Total_Fines Percent_Total_Revenue\n",
       "0        METER EXPIRED     20647426                30.38%\n",
       "1      STOP PROHIBITED     12342882                18.16%\n",
       "2      OVER TIME LIMIT      6748822                 9.93%\n",
       "3    HP RESERVED SPACE      5717194                 8.41%\n",
       "4   EXPIRED INSPECTION      5155668                 7.59%\n",
       "5    PARKING PROHBITED      4361765                 6.42%\n",
       "6  STOPPING PROHIBITED      2719065                  4.0%\n",
       "7        BUS ONLY ZONE      2142168                 3.15%\n",
       "8        DOUBLE PARKED      1093191                 1.61%\n",
       "9         LOADING ZONE      1063497                 1.56%"
      ]
     },
     "execution_count": 31,
     "metadata": {},
     "output_type": "execute_result"
    }
   ],
   "source": [
    "PPARevenueDrivers = \"\"\"\n",
    "WITH TotalRevenue AS (\n",
    "    SELECT SUM(fine) AS PPA_Total_Revenue\n",
    "    FROM PPA_2017_Dataset\n",
    "    WHERE issuing_agency = 'PPA'\n",
    ")\n",
    "\n",
    "SELECT \n",
    "    TRIM(violation_desc, ' CC') AS ViolationDescription,\n",
    "    SUM(fine) as Total_Fines,\n",
    "    ROUND((SUM(fine)/CAST(PPA_Total_Revenue AS FLOAT)) * 100, 2) || '%' AS Percent_Total_Revenue\n",
    "FROM PPA_2017_Dataset, TotalRevenue\n",
    "WHERE issuing_agency = 'PPA'\n",
    "GROUP BY ViolationDescription\n",
    "ORDER BY Total_Fines DESC\n",
    "LIMIT 10\n",
    "\"\"\"\n",
    "run_query(PPARevenueDrivers)"
   ]
  },
  {
   "cell_type": "code",
   "execution_count": 32,
   "metadata": {},
   "outputs": [
    {
     "data": {
      "application/vnd.plotly.v1+json": {
       "config": {
        "plotlyServerURL": "https://plot.ly"
       },
       "data": [
        {
         "alignmentgroup": "True",
         "hovertemplate": "Total_Fines=%{x}<br>ViolationDescription=%{y}<extra></extra>",
         "legendgroup": "",
         "marker": {
          "color": "#636efa",
          "pattern": {
           "shape": ""
          }
         },
         "name": "",
         "offsetgroup": "",
         "orientation": "h",
         "showlegend": false,
         "textposition": "auto",
         "type": "bar",
         "x": [
          20647426,
          12342882,
          6748822,
          5717194,
          5155668,
          4361765,
          2719065,
          2142168,
          1093191,
          1063497
         ],
         "xaxis": "x",
         "y": [
          "METER EXPIRED",
          "STOP PROHIBITED",
          "OVER TIME LIMIT",
          "HP RESERVED SPACE",
          "EXPIRED INSPECTION",
          "PARKING PROHBITED",
          "STOPPING PROHIBITED",
          "BUS ONLY ZONE",
          "DOUBLE PARKED",
          "LOADING ZONE"
         ],
         "yaxis": "y"
        }
       ],
       "layout": {
        "barmode": "relative",
        "legend": {
         "tracegroupgap": 0
        },
        "margin": {
         "t": 60
        },
        "template": {
         "data": {
          "bar": [
           {
            "error_x": {
             "color": "#2a3f5f"
            },
            "error_y": {
             "color": "#2a3f5f"
            },
            "marker": {
             "line": {
              "color": "#E5ECF6",
              "width": 0.5
             },
             "pattern": {
              "fillmode": "overlay",
              "size": 10,
              "solidity": 0.2
             }
            },
            "type": "bar"
           }
          ],
          "barpolar": [
           {
            "marker": {
             "line": {
              "color": "#E5ECF6",
              "width": 0.5
             },
             "pattern": {
              "fillmode": "overlay",
              "size": 10,
              "solidity": 0.2
             }
            },
            "type": "barpolar"
           }
          ],
          "carpet": [
           {
            "aaxis": {
             "endlinecolor": "#2a3f5f",
             "gridcolor": "white",
             "linecolor": "white",
             "minorgridcolor": "white",
             "startlinecolor": "#2a3f5f"
            },
            "baxis": {
             "endlinecolor": "#2a3f5f",
             "gridcolor": "white",
             "linecolor": "white",
             "minorgridcolor": "white",
             "startlinecolor": "#2a3f5f"
            },
            "type": "carpet"
           }
          ],
          "choropleth": [
           {
            "colorbar": {
             "outlinewidth": 0,
             "ticks": ""
            },
            "type": "choropleth"
           }
          ],
          "contour": [
           {
            "colorbar": {
             "outlinewidth": 0,
             "ticks": ""
            },
            "colorscale": [
             [
              0,
              "#0d0887"
             ],
             [
              0.1111111111111111,
              "#46039f"
             ],
             [
              0.2222222222222222,
              "#7201a8"
             ],
             [
              0.3333333333333333,
              "#9c179e"
             ],
             [
              0.4444444444444444,
              "#bd3786"
             ],
             [
              0.5555555555555556,
              "#d8576b"
             ],
             [
              0.6666666666666666,
              "#ed7953"
             ],
             [
              0.7777777777777778,
              "#fb9f3a"
             ],
             [
              0.8888888888888888,
              "#fdca26"
             ],
             [
              1,
              "#f0f921"
             ]
            ],
            "type": "contour"
           }
          ],
          "contourcarpet": [
           {
            "colorbar": {
             "outlinewidth": 0,
             "ticks": ""
            },
            "type": "contourcarpet"
           }
          ],
          "heatmap": [
           {
            "colorbar": {
             "outlinewidth": 0,
             "ticks": ""
            },
            "colorscale": [
             [
              0,
              "#0d0887"
             ],
             [
              0.1111111111111111,
              "#46039f"
             ],
             [
              0.2222222222222222,
              "#7201a8"
             ],
             [
              0.3333333333333333,
              "#9c179e"
             ],
             [
              0.4444444444444444,
              "#bd3786"
             ],
             [
              0.5555555555555556,
              "#d8576b"
             ],
             [
              0.6666666666666666,
              "#ed7953"
             ],
             [
              0.7777777777777778,
              "#fb9f3a"
             ],
             [
              0.8888888888888888,
              "#fdca26"
             ],
             [
              1,
              "#f0f921"
             ]
            ],
            "type": "heatmap"
           }
          ],
          "heatmapgl": [
           {
            "colorbar": {
             "outlinewidth": 0,
             "ticks": ""
            },
            "colorscale": [
             [
              0,
              "#0d0887"
             ],
             [
              0.1111111111111111,
              "#46039f"
             ],
             [
              0.2222222222222222,
              "#7201a8"
             ],
             [
              0.3333333333333333,
              "#9c179e"
             ],
             [
              0.4444444444444444,
              "#bd3786"
             ],
             [
              0.5555555555555556,
              "#d8576b"
             ],
             [
              0.6666666666666666,
              "#ed7953"
             ],
             [
              0.7777777777777778,
              "#fb9f3a"
             ],
             [
              0.8888888888888888,
              "#fdca26"
             ],
             [
              1,
              "#f0f921"
             ]
            ],
            "type": "heatmapgl"
           }
          ],
          "histogram": [
           {
            "marker": {
             "pattern": {
              "fillmode": "overlay",
              "size": 10,
              "solidity": 0.2
             }
            },
            "type": "histogram"
           }
          ],
          "histogram2d": [
           {
            "colorbar": {
             "outlinewidth": 0,
             "ticks": ""
            },
            "colorscale": [
             [
              0,
              "#0d0887"
             ],
             [
              0.1111111111111111,
              "#46039f"
             ],
             [
              0.2222222222222222,
              "#7201a8"
             ],
             [
              0.3333333333333333,
              "#9c179e"
             ],
             [
              0.4444444444444444,
              "#bd3786"
             ],
             [
              0.5555555555555556,
              "#d8576b"
             ],
             [
              0.6666666666666666,
              "#ed7953"
             ],
             [
              0.7777777777777778,
              "#fb9f3a"
             ],
             [
              0.8888888888888888,
              "#fdca26"
             ],
             [
              1,
              "#f0f921"
             ]
            ],
            "type": "histogram2d"
           }
          ],
          "histogram2dcontour": [
           {
            "colorbar": {
             "outlinewidth": 0,
             "ticks": ""
            },
            "colorscale": [
             [
              0,
              "#0d0887"
             ],
             [
              0.1111111111111111,
              "#46039f"
             ],
             [
              0.2222222222222222,
              "#7201a8"
             ],
             [
              0.3333333333333333,
              "#9c179e"
             ],
             [
              0.4444444444444444,
              "#bd3786"
             ],
             [
              0.5555555555555556,
              "#d8576b"
             ],
             [
              0.6666666666666666,
              "#ed7953"
             ],
             [
              0.7777777777777778,
              "#fb9f3a"
             ],
             [
              0.8888888888888888,
              "#fdca26"
             ],
             [
              1,
              "#f0f921"
             ]
            ],
            "type": "histogram2dcontour"
           }
          ],
          "mesh3d": [
           {
            "colorbar": {
             "outlinewidth": 0,
             "ticks": ""
            },
            "type": "mesh3d"
           }
          ],
          "parcoords": [
           {
            "line": {
             "colorbar": {
              "outlinewidth": 0,
              "ticks": ""
             }
            },
            "type": "parcoords"
           }
          ],
          "pie": [
           {
            "automargin": true,
            "type": "pie"
           }
          ],
          "scatter": [
           {
            "fillpattern": {
             "fillmode": "overlay",
             "size": 10,
             "solidity": 0.2
            },
            "type": "scatter"
           }
          ],
          "scatter3d": [
           {
            "line": {
             "colorbar": {
              "outlinewidth": 0,
              "ticks": ""
             }
            },
            "marker": {
             "colorbar": {
              "outlinewidth": 0,
              "ticks": ""
             }
            },
            "type": "scatter3d"
           }
          ],
          "scattercarpet": [
           {
            "marker": {
             "colorbar": {
              "outlinewidth": 0,
              "ticks": ""
             }
            },
            "type": "scattercarpet"
           }
          ],
          "scattergeo": [
           {
            "marker": {
             "colorbar": {
              "outlinewidth": 0,
              "ticks": ""
             }
            },
            "type": "scattergeo"
           }
          ],
          "scattergl": [
           {
            "marker": {
             "colorbar": {
              "outlinewidth": 0,
              "ticks": ""
             }
            },
            "type": "scattergl"
           }
          ],
          "scattermapbox": [
           {
            "marker": {
             "colorbar": {
              "outlinewidth": 0,
              "ticks": ""
             }
            },
            "type": "scattermapbox"
           }
          ],
          "scatterpolar": [
           {
            "marker": {
             "colorbar": {
              "outlinewidth": 0,
              "ticks": ""
             }
            },
            "type": "scatterpolar"
           }
          ],
          "scatterpolargl": [
           {
            "marker": {
             "colorbar": {
              "outlinewidth": 0,
              "ticks": ""
             }
            },
            "type": "scatterpolargl"
           }
          ],
          "scatterternary": [
           {
            "marker": {
             "colorbar": {
              "outlinewidth": 0,
              "ticks": ""
             }
            },
            "type": "scatterternary"
           }
          ],
          "surface": [
           {
            "colorbar": {
             "outlinewidth": 0,
             "ticks": ""
            },
            "colorscale": [
             [
              0,
              "#0d0887"
             ],
             [
              0.1111111111111111,
              "#46039f"
             ],
             [
              0.2222222222222222,
              "#7201a8"
             ],
             [
              0.3333333333333333,
              "#9c179e"
             ],
             [
              0.4444444444444444,
              "#bd3786"
             ],
             [
              0.5555555555555556,
              "#d8576b"
             ],
             [
              0.6666666666666666,
              "#ed7953"
             ],
             [
              0.7777777777777778,
              "#fb9f3a"
             ],
             [
              0.8888888888888888,
              "#fdca26"
             ],
             [
              1,
              "#f0f921"
             ]
            ],
            "type": "surface"
           }
          ],
          "table": [
           {
            "cells": {
             "fill": {
              "color": "#EBF0F8"
             },
             "line": {
              "color": "white"
             }
            },
            "header": {
             "fill": {
              "color": "#C8D4E3"
             },
             "line": {
              "color": "white"
             }
            },
            "type": "table"
           }
          ]
         },
         "layout": {
          "annotationdefaults": {
           "arrowcolor": "#2a3f5f",
           "arrowhead": 0,
           "arrowwidth": 1
          },
          "autotypenumbers": "strict",
          "coloraxis": {
           "colorbar": {
            "outlinewidth": 0,
            "ticks": ""
           }
          },
          "colorscale": {
           "diverging": [
            [
             0,
             "#8e0152"
            ],
            [
             0.1,
             "#c51b7d"
            ],
            [
             0.2,
             "#de77ae"
            ],
            [
             0.3,
             "#f1b6da"
            ],
            [
             0.4,
             "#fde0ef"
            ],
            [
             0.5,
             "#f7f7f7"
            ],
            [
             0.6,
             "#e6f5d0"
            ],
            [
             0.7,
             "#b8e186"
            ],
            [
             0.8,
             "#7fbc41"
            ],
            [
             0.9,
             "#4d9221"
            ],
            [
             1,
             "#276419"
            ]
           ],
           "sequential": [
            [
             0,
             "#0d0887"
            ],
            [
             0.1111111111111111,
             "#46039f"
            ],
            [
             0.2222222222222222,
             "#7201a8"
            ],
            [
             0.3333333333333333,
             "#9c179e"
            ],
            [
             0.4444444444444444,
             "#bd3786"
            ],
            [
             0.5555555555555556,
             "#d8576b"
            ],
            [
             0.6666666666666666,
             "#ed7953"
            ],
            [
             0.7777777777777778,
             "#fb9f3a"
            ],
            [
             0.8888888888888888,
             "#fdca26"
            ],
            [
             1,
             "#f0f921"
            ]
           ],
           "sequentialminus": [
            [
             0,
             "#0d0887"
            ],
            [
             0.1111111111111111,
             "#46039f"
            ],
            [
             0.2222222222222222,
             "#7201a8"
            ],
            [
             0.3333333333333333,
             "#9c179e"
            ],
            [
             0.4444444444444444,
             "#bd3786"
            ],
            [
             0.5555555555555556,
             "#d8576b"
            ],
            [
             0.6666666666666666,
             "#ed7953"
            ],
            [
             0.7777777777777778,
             "#fb9f3a"
            ],
            [
             0.8888888888888888,
             "#fdca26"
            ],
            [
             1,
             "#f0f921"
            ]
           ]
          },
          "colorway": [
           "#636efa",
           "#EF553B",
           "#00cc96",
           "#ab63fa",
           "#FFA15A",
           "#19d3f3",
           "#FF6692",
           "#B6E880",
           "#FF97FF",
           "#FECB52"
          ],
          "font": {
           "color": "#2a3f5f"
          },
          "geo": {
           "bgcolor": "white",
           "lakecolor": "white",
           "landcolor": "#E5ECF6",
           "showlakes": true,
           "showland": true,
           "subunitcolor": "white"
          },
          "hoverlabel": {
           "align": "left"
          },
          "hovermode": "closest",
          "mapbox": {
           "style": "light"
          },
          "paper_bgcolor": "white",
          "plot_bgcolor": "#E5ECF6",
          "polar": {
           "angularaxis": {
            "gridcolor": "white",
            "linecolor": "white",
            "ticks": ""
           },
           "bgcolor": "#E5ECF6",
           "radialaxis": {
            "gridcolor": "white",
            "linecolor": "white",
            "ticks": ""
           }
          },
          "scene": {
           "xaxis": {
            "backgroundcolor": "#E5ECF6",
            "gridcolor": "white",
            "gridwidth": 2,
            "linecolor": "white",
            "showbackground": true,
            "ticks": "",
            "zerolinecolor": "white"
           },
           "yaxis": {
            "backgroundcolor": "#E5ECF6",
            "gridcolor": "white",
            "gridwidth": 2,
            "linecolor": "white",
            "showbackground": true,
            "ticks": "",
            "zerolinecolor": "white"
           },
           "zaxis": {
            "backgroundcolor": "#E5ECF6",
            "gridcolor": "white",
            "gridwidth": 2,
            "linecolor": "white",
            "showbackground": true,
            "ticks": "",
            "zerolinecolor": "white"
           }
          },
          "shapedefaults": {
           "line": {
            "color": "#2a3f5f"
           }
          },
          "ternary": {
           "aaxis": {
            "gridcolor": "white",
            "linecolor": "white",
            "ticks": ""
           },
           "baxis": {
            "gridcolor": "white",
            "linecolor": "white",
            "ticks": ""
           },
           "bgcolor": "#E5ECF6",
           "caxis": {
            "gridcolor": "white",
            "linecolor": "white",
            "ticks": ""
           }
          },
          "title": {
           "x": 0.05
          },
          "xaxis": {
           "automargin": true,
           "gridcolor": "white",
           "linecolor": "white",
           "ticks": "",
           "title": {
            "standoff": 15
           },
           "zerolinecolor": "white",
           "zerolinewidth": 2
          },
          "yaxis": {
           "automargin": true,
           "gridcolor": "white",
           "linecolor": "white",
           "ticks": "",
           "title": {
            "standoff": 15
           },
           "zerolinecolor": "white",
           "zerolinewidth": 2
          }
         }
        },
        "xaxis": {
         "anchor": "y",
         "domain": [
          0,
          1
         ],
         "title": {
          "text": "Total_Fines"
         }
        },
        "yaxis": {
         "anchor": "x",
         "domain": [
          0,
          1
         ],
         "title": {
          "text": "ViolationDescription"
         }
        }
       }
      },
      "text/html": [
       "<div>                            <div id=\"41432571-dffa-47e5-8269-fd8e8a9fbbed\" class=\"plotly-graph-div\" style=\"height:525px; width:100%;\"></div>            <script type=\"text/javascript\">                require([\"plotly\"], function(Plotly) {                    window.PLOTLYENV=window.PLOTLYENV || {};                                    if (document.getElementById(\"41432571-dffa-47e5-8269-fd8e8a9fbbed\")) {                    Plotly.newPlot(                        \"41432571-dffa-47e5-8269-fd8e8a9fbbed\",                        [{\"alignmentgroup\":\"True\",\"hovertemplate\":\"Total_Fines=%{x}<br>ViolationDescription=%{y}<extra></extra>\",\"legendgroup\":\"\",\"marker\":{\"color\":\"#636efa\",\"pattern\":{\"shape\":\"\"}},\"name\":\"\",\"offsetgroup\":\"\",\"orientation\":\"h\",\"showlegend\":false,\"textposition\":\"auto\",\"x\":[20647426,12342882,6748822,5717194,5155668,4361765,2719065,2142168,1093191,1063497],\"xaxis\":\"x\",\"y\":[\"METER EXPIRED\",\"STOP PROHIBITED\",\"OVER TIME LIMIT\",\"HP RESERVED SPACE\",\"EXPIRED INSPECTION\",\"PARKING PROHBITED\",\"STOPPING PROHIBITED\",\"BUS ONLY ZONE\",\"DOUBLE PARKED\",\"LOADING ZONE\"],\"yaxis\":\"y\",\"type\":\"bar\"}],                        {\"template\":{\"data\":{\"histogram2dcontour\":[{\"type\":\"histogram2dcontour\",\"colorbar\":{\"outlinewidth\":0,\"ticks\":\"\"},\"colorscale\":[[0.0,\"#0d0887\"],[0.1111111111111111,\"#46039f\"],[0.2222222222222222,\"#7201a8\"],[0.3333333333333333,\"#9c179e\"],[0.4444444444444444,\"#bd3786\"],[0.5555555555555556,\"#d8576b\"],[0.6666666666666666,\"#ed7953\"],[0.7777777777777778,\"#fb9f3a\"],[0.8888888888888888,\"#fdca26\"],[1.0,\"#f0f921\"]]}],\"choropleth\":[{\"type\":\"choropleth\",\"colorbar\":{\"outlinewidth\":0,\"ticks\":\"\"}}],\"histogram2d\":[{\"type\":\"histogram2d\",\"colorbar\":{\"outlinewidth\":0,\"ticks\":\"\"},\"colorscale\":[[0.0,\"#0d0887\"],[0.1111111111111111,\"#46039f\"],[0.2222222222222222,\"#7201a8\"],[0.3333333333333333,\"#9c179e\"],[0.4444444444444444,\"#bd3786\"],[0.5555555555555556,\"#d8576b\"],[0.6666666666666666,\"#ed7953\"],[0.7777777777777778,\"#fb9f3a\"],[0.8888888888888888,\"#fdca26\"],[1.0,\"#f0f921\"]]}],\"heatmap\":[{\"type\":\"heatmap\",\"colorbar\":{\"outlinewidth\":0,\"ticks\":\"\"},\"colorscale\":[[0.0,\"#0d0887\"],[0.1111111111111111,\"#46039f\"],[0.2222222222222222,\"#7201a8\"],[0.3333333333333333,\"#9c179e\"],[0.4444444444444444,\"#bd3786\"],[0.5555555555555556,\"#d8576b\"],[0.6666666666666666,\"#ed7953\"],[0.7777777777777778,\"#fb9f3a\"],[0.8888888888888888,\"#fdca26\"],[1.0,\"#f0f921\"]]}],\"heatmapgl\":[{\"type\":\"heatmapgl\",\"colorbar\":{\"outlinewidth\":0,\"ticks\":\"\"},\"colorscale\":[[0.0,\"#0d0887\"],[0.1111111111111111,\"#46039f\"],[0.2222222222222222,\"#7201a8\"],[0.3333333333333333,\"#9c179e\"],[0.4444444444444444,\"#bd3786\"],[0.5555555555555556,\"#d8576b\"],[0.6666666666666666,\"#ed7953\"],[0.7777777777777778,\"#fb9f3a\"],[0.8888888888888888,\"#fdca26\"],[1.0,\"#f0f921\"]]}],\"contourcarpet\":[{\"type\":\"contourcarpet\",\"colorbar\":{\"outlinewidth\":0,\"ticks\":\"\"}}],\"contour\":[{\"type\":\"contour\",\"colorbar\":{\"outlinewidth\":0,\"ticks\":\"\"},\"colorscale\":[[0.0,\"#0d0887\"],[0.1111111111111111,\"#46039f\"],[0.2222222222222222,\"#7201a8\"],[0.3333333333333333,\"#9c179e\"],[0.4444444444444444,\"#bd3786\"],[0.5555555555555556,\"#d8576b\"],[0.6666666666666666,\"#ed7953\"],[0.7777777777777778,\"#fb9f3a\"],[0.8888888888888888,\"#fdca26\"],[1.0,\"#f0f921\"]]}],\"surface\":[{\"type\":\"surface\",\"colorbar\":{\"outlinewidth\":0,\"ticks\":\"\"},\"colorscale\":[[0.0,\"#0d0887\"],[0.1111111111111111,\"#46039f\"],[0.2222222222222222,\"#7201a8\"],[0.3333333333333333,\"#9c179e\"],[0.4444444444444444,\"#bd3786\"],[0.5555555555555556,\"#d8576b\"],[0.6666666666666666,\"#ed7953\"],[0.7777777777777778,\"#fb9f3a\"],[0.8888888888888888,\"#fdca26\"],[1.0,\"#f0f921\"]]}],\"mesh3d\":[{\"type\":\"mesh3d\",\"colorbar\":{\"outlinewidth\":0,\"ticks\":\"\"}}],\"scatter\":[{\"fillpattern\":{\"fillmode\":\"overlay\",\"size\":10,\"solidity\":0.2},\"type\":\"scatter\"}],\"parcoords\":[{\"type\":\"parcoords\",\"line\":{\"colorbar\":{\"outlinewidth\":0,\"ticks\":\"\"}}}],\"scatterpolargl\":[{\"type\":\"scatterpolargl\",\"marker\":{\"colorbar\":{\"outlinewidth\":0,\"ticks\":\"\"}}}],\"bar\":[{\"error_x\":{\"color\":\"#2a3f5f\"},\"error_y\":{\"color\":\"#2a3f5f\"},\"marker\":{\"line\":{\"color\":\"#E5ECF6\",\"width\":0.5},\"pattern\":{\"fillmode\":\"overlay\",\"size\":10,\"solidity\":0.2}},\"type\":\"bar\"}],\"scattergeo\":[{\"type\":\"scattergeo\",\"marker\":{\"colorbar\":{\"outlinewidth\":0,\"ticks\":\"\"}}}],\"scatterpolar\":[{\"type\":\"scatterpolar\",\"marker\":{\"colorbar\":{\"outlinewidth\":0,\"ticks\":\"\"}}}],\"histogram\":[{\"marker\":{\"pattern\":{\"fillmode\":\"overlay\",\"size\":10,\"solidity\":0.2}},\"type\":\"histogram\"}],\"scattergl\":[{\"type\":\"scattergl\",\"marker\":{\"colorbar\":{\"outlinewidth\":0,\"ticks\":\"\"}}}],\"scatter3d\":[{\"type\":\"scatter3d\",\"line\":{\"colorbar\":{\"outlinewidth\":0,\"ticks\":\"\"}},\"marker\":{\"colorbar\":{\"outlinewidth\":0,\"ticks\":\"\"}}}],\"scattermapbox\":[{\"type\":\"scattermapbox\",\"marker\":{\"colorbar\":{\"outlinewidth\":0,\"ticks\":\"\"}}}],\"scatterternary\":[{\"type\":\"scatterternary\",\"marker\":{\"colorbar\":{\"outlinewidth\":0,\"ticks\":\"\"}}}],\"scattercarpet\":[{\"type\":\"scattercarpet\",\"marker\":{\"colorbar\":{\"outlinewidth\":0,\"ticks\":\"\"}}}],\"carpet\":[{\"aaxis\":{\"endlinecolor\":\"#2a3f5f\",\"gridcolor\":\"white\",\"linecolor\":\"white\",\"minorgridcolor\":\"white\",\"startlinecolor\":\"#2a3f5f\"},\"baxis\":{\"endlinecolor\":\"#2a3f5f\",\"gridcolor\":\"white\",\"linecolor\":\"white\",\"minorgridcolor\":\"white\",\"startlinecolor\":\"#2a3f5f\"},\"type\":\"carpet\"}],\"table\":[{\"cells\":{\"fill\":{\"color\":\"#EBF0F8\"},\"line\":{\"color\":\"white\"}},\"header\":{\"fill\":{\"color\":\"#C8D4E3\"},\"line\":{\"color\":\"white\"}},\"type\":\"table\"}],\"barpolar\":[{\"marker\":{\"line\":{\"color\":\"#E5ECF6\",\"width\":0.5},\"pattern\":{\"fillmode\":\"overlay\",\"size\":10,\"solidity\":0.2}},\"type\":\"barpolar\"}],\"pie\":[{\"automargin\":true,\"type\":\"pie\"}]},\"layout\":{\"autotypenumbers\":\"strict\",\"colorway\":[\"#636efa\",\"#EF553B\",\"#00cc96\",\"#ab63fa\",\"#FFA15A\",\"#19d3f3\",\"#FF6692\",\"#B6E880\",\"#FF97FF\",\"#FECB52\"],\"font\":{\"color\":\"#2a3f5f\"},\"hovermode\":\"closest\",\"hoverlabel\":{\"align\":\"left\"},\"paper_bgcolor\":\"white\",\"plot_bgcolor\":\"#E5ECF6\",\"polar\":{\"bgcolor\":\"#E5ECF6\",\"angularaxis\":{\"gridcolor\":\"white\",\"linecolor\":\"white\",\"ticks\":\"\"},\"radialaxis\":{\"gridcolor\":\"white\",\"linecolor\":\"white\",\"ticks\":\"\"}},\"ternary\":{\"bgcolor\":\"#E5ECF6\",\"aaxis\":{\"gridcolor\":\"white\",\"linecolor\":\"white\",\"ticks\":\"\"},\"baxis\":{\"gridcolor\":\"white\",\"linecolor\":\"white\",\"ticks\":\"\"},\"caxis\":{\"gridcolor\":\"white\",\"linecolor\":\"white\",\"ticks\":\"\"}},\"coloraxis\":{\"colorbar\":{\"outlinewidth\":0,\"ticks\":\"\"}},\"colorscale\":{\"sequential\":[[0.0,\"#0d0887\"],[0.1111111111111111,\"#46039f\"],[0.2222222222222222,\"#7201a8\"],[0.3333333333333333,\"#9c179e\"],[0.4444444444444444,\"#bd3786\"],[0.5555555555555556,\"#d8576b\"],[0.6666666666666666,\"#ed7953\"],[0.7777777777777778,\"#fb9f3a\"],[0.8888888888888888,\"#fdca26\"],[1.0,\"#f0f921\"]],\"sequentialminus\":[[0.0,\"#0d0887\"],[0.1111111111111111,\"#46039f\"],[0.2222222222222222,\"#7201a8\"],[0.3333333333333333,\"#9c179e\"],[0.4444444444444444,\"#bd3786\"],[0.5555555555555556,\"#d8576b\"],[0.6666666666666666,\"#ed7953\"],[0.7777777777777778,\"#fb9f3a\"],[0.8888888888888888,\"#fdca26\"],[1.0,\"#f0f921\"]],\"diverging\":[[0,\"#8e0152\"],[0.1,\"#c51b7d\"],[0.2,\"#de77ae\"],[0.3,\"#f1b6da\"],[0.4,\"#fde0ef\"],[0.5,\"#f7f7f7\"],[0.6,\"#e6f5d0\"],[0.7,\"#b8e186\"],[0.8,\"#7fbc41\"],[0.9,\"#4d9221\"],[1,\"#276419\"]]},\"xaxis\":{\"gridcolor\":\"white\",\"linecolor\":\"white\",\"ticks\":\"\",\"title\":{\"standoff\":15},\"zerolinecolor\":\"white\",\"automargin\":true,\"zerolinewidth\":2},\"yaxis\":{\"gridcolor\":\"white\",\"linecolor\":\"white\",\"ticks\":\"\",\"title\":{\"standoff\":15},\"zerolinecolor\":\"white\",\"automargin\":true,\"zerolinewidth\":2},\"scene\":{\"xaxis\":{\"backgroundcolor\":\"#E5ECF6\",\"gridcolor\":\"white\",\"linecolor\":\"white\",\"showbackground\":true,\"ticks\":\"\",\"zerolinecolor\":\"white\",\"gridwidth\":2},\"yaxis\":{\"backgroundcolor\":\"#E5ECF6\",\"gridcolor\":\"white\",\"linecolor\":\"white\",\"showbackground\":true,\"ticks\":\"\",\"zerolinecolor\":\"white\",\"gridwidth\":2},\"zaxis\":{\"backgroundcolor\":\"#E5ECF6\",\"gridcolor\":\"white\",\"linecolor\":\"white\",\"showbackground\":true,\"ticks\":\"\",\"zerolinecolor\":\"white\",\"gridwidth\":2}},\"shapedefaults\":{\"line\":{\"color\":\"#2a3f5f\"}},\"annotationdefaults\":{\"arrowcolor\":\"#2a3f5f\",\"arrowhead\":0,\"arrowwidth\":1},\"geo\":{\"bgcolor\":\"white\",\"landcolor\":\"#E5ECF6\",\"subunitcolor\":\"white\",\"showland\":true,\"showlakes\":true,\"lakecolor\":\"white\"},\"title\":{\"x\":0.05},\"mapbox\":{\"style\":\"light\"}}},\"xaxis\":{\"anchor\":\"y\",\"domain\":[0.0,1.0],\"title\":{\"text\":\"Total_Fines\"}},\"yaxis\":{\"anchor\":\"x\",\"domain\":[0.0,1.0],\"title\":{\"text\":\"ViolationDescription\"}},\"legend\":{\"tracegroupgap\":0},\"margin\":{\"t\":60},\"barmode\":\"relative\"},                        {\"responsive\": true}                    ).then(function(){\n",
       "                            \n",
       "var gd = document.getElementById('41432571-dffa-47e5-8269-fd8e8a9fbbed');\n",
       "var x = new MutationObserver(function (mutations, observer) {{\n",
       "        var display = window.getComputedStyle(gd).display;\n",
       "        if (!display || display === 'none') {{\n",
       "            console.log([gd, 'removed!']);\n",
       "            Plotly.purge(gd);\n",
       "            observer.disconnect();\n",
       "        }}\n",
       "}});\n",
       "\n",
       "// Listen for the removal of the full notebook cells\n",
       "var notebookContainer = gd.closest('#notebook-container');\n",
       "if (notebookContainer) {{\n",
       "    x.observe(notebookContainer, {childList: true});\n",
       "}}\n",
       "\n",
       "// Listen for the clearing of the current output cell\n",
       "var outputEl = gd.closest('.output');\n",
       "if (outputEl) {{\n",
       "    x.observe(outputEl, {childList: true});\n",
       "}}\n",
       "\n",
       "                        })                };                });            </script>        </div>"
      ]
     },
     "metadata": {},
     "output_type": "display_data"
    }
   ],
   "source": [
    "fig = px.bar(run_query(PPARevenueDrivers), x='Total_Fines', y='ViolationDescription', orientation='h')\n",
    "fig.show()"
   ]
  },
  {
   "cell_type": "markdown",
   "metadata": {},
   "source": [
    "### What are the top five states that gets fined? <a class=\"anchor\" id=\"top-five-states-fined\"></a>"
   ]
  },
  {
   "cell_type": "code",
   "execution_count": 33,
   "metadata": {
    "scrolled": false
   },
   "outputs": [
    {
     "data": {
      "text/html": [
       "<div>\n",
       "<style scoped>\n",
       "    .dataframe tbody tr th:only-of-type {\n",
       "        vertical-align: middle;\n",
       "    }\n",
       "\n",
       "    .dataframe tbody tr th {\n",
       "        vertical-align: top;\n",
       "    }\n",
       "\n",
       "    .dataframe thead th {\n",
       "        text-align: right;\n",
       "    }\n",
       "</style>\n",
       "<table border=\"1\" class=\"dataframe\">\n",
       "  <thead>\n",
       "    <tr style=\"text-align: right;\">\n",
       "      <th></th>\n",
       "      <th>state</th>\n",
       "      <th>Tickets_Given</th>\n",
       "      <th>Percentage_Of_Tickets</th>\n",
       "    </tr>\n",
       "  </thead>\n",
       "  <tbody>\n",
       "    <tr>\n",
       "      <th>0</th>\n",
       "      <td>PA</td>\n",
       "      <td>1315711</td>\n",
       "      <td>76.38%</td>\n",
       "    </tr>\n",
       "    <tr>\n",
       "      <th>1</th>\n",
       "      <td>NJ</td>\n",
       "      <td>189102</td>\n",
       "      <td>10.98%</td>\n",
       "    </tr>\n",
       "    <tr>\n",
       "      <th>2</th>\n",
       "      <td>NY</td>\n",
       "      <td>32953</td>\n",
       "      <td>1.91%</td>\n",
       "    </tr>\n",
       "    <tr>\n",
       "      <th>3</th>\n",
       "      <td>DE</td>\n",
       "      <td>31481</td>\n",
       "      <td>1.83%</td>\n",
       "    </tr>\n",
       "    <tr>\n",
       "      <th>4</th>\n",
       "      <td>MD</td>\n",
       "      <td>22311</td>\n",
       "      <td>1.3%</td>\n",
       "    </tr>\n",
       "  </tbody>\n",
       "</table>\n",
       "</div>"
      ],
      "text/plain": [
       "  state  Tickets_Given Percentage_Of_Tickets\n",
       "0    PA        1315711                76.38%\n",
       "1    NJ         189102                10.98%\n",
       "2    NY          32953                 1.91%\n",
       "3    DE          31481                 1.83%\n",
       "4    MD          22311                  1.3%"
      ]
     },
     "execution_count": 33,
     "metadata": {},
     "output_type": "execute_result"
    }
   ],
   "source": [
    "ticketsPerState = \"\"\"\n",
    "WITH TotalTickets AS (\n",
    "    SELECT COUNT(state) AS Total_Tickets\n",
    "    FROM PPA_2017_Dataset\n",
    ")\n",
    "\n",
    "SELECT \n",
    "    state, \n",
    "    COUNT(state) as Tickets_Given, \n",
    "    ROUND(CAST(COUNT(state) AS INT)/CAST(TotalTickets.Total_Tickets AS FLOAT) * 100, 2) || '%' AS Percentage_Of_Tickets\n",
    "FROM PPA_2017_Dataset, TotalTickets\n",
    "GROUP BY State \n",
    "ORDER BY Tickets_Given DESC\n",
    "LIMIT 5\n",
    "\"\"\"\n",
    "run_query(ticketsPerState)"
   ]
  },
  {
   "cell_type": "code",
   "execution_count": 34,
   "metadata": {},
   "outputs": [
    {
     "data": {
      "application/vnd.plotly.v1+json": {
       "config": {
        "plotlyServerURL": "https://plot.ly"
       },
       "data": [
        {
         "alignmentgroup": "True",
         "hovertemplate": "state=%{x}<br>Tickets_Given=%{y}<extra></extra>",
         "legendgroup": "",
         "marker": {
          "color": "#636efa",
          "pattern": {
           "shape": ""
          }
         },
         "name": "",
         "offsetgroup": "",
         "orientation": "v",
         "showlegend": false,
         "textposition": "auto",
         "type": "bar",
         "x": [
          "PA",
          "NJ",
          "NY",
          "DE",
          "MD"
         ],
         "xaxis": "x",
         "y": [
          1315711,
          189102,
          32953,
          31481,
          22311
         ],
         "yaxis": "y"
        }
       ],
       "layout": {
        "barmode": "relative",
        "legend": {
         "tracegroupgap": 0
        },
        "margin": {
         "t": 60
        },
        "template": {
         "data": {
          "bar": [
           {
            "error_x": {
             "color": "#2a3f5f"
            },
            "error_y": {
             "color": "#2a3f5f"
            },
            "marker": {
             "line": {
              "color": "#E5ECF6",
              "width": 0.5
             },
             "pattern": {
              "fillmode": "overlay",
              "size": 10,
              "solidity": 0.2
             }
            },
            "type": "bar"
           }
          ],
          "barpolar": [
           {
            "marker": {
             "line": {
              "color": "#E5ECF6",
              "width": 0.5
             },
             "pattern": {
              "fillmode": "overlay",
              "size": 10,
              "solidity": 0.2
             }
            },
            "type": "barpolar"
           }
          ],
          "carpet": [
           {
            "aaxis": {
             "endlinecolor": "#2a3f5f",
             "gridcolor": "white",
             "linecolor": "white",
             "minorgridcolor": "white",
             "startlinecolor": "#2a3f5f"
            },
            "baxis": {
             "endlinecolor": "#2a3f5f",
             "gridcolor": "white",
             "linecolor": "white",
             "minorgridcolor": "white",
             "startlinecolor": "#2a3f5f"
            },
            "type": "carpet"
           }
          ],
          "choropleth": [
           {
            "colorbar": {
             "outlinewidth": 0,
             "ticks": ""
            },
            "type": "choropleth"
           }
          ],
          "contour": [
           {
            "colorbar": {
             "outlinewidth": 0,
             "ticks": ""
            },
            "colorscale": [
             [
              0,
              "#0d0887"
             ],
             [
              0.1111111111111111,
              "#46039f"
             ],
             [
              0.2222222222222222,
              "#7201a8"
             ],
             [
              0.3333333333333333,
              "#9c179e"
             ],
             [
              0.4444444444444444,
              "#bd3786"
             ],
             [
              0.5555555555555556,
              "#d8576b"
             ],
             [
              0.6666666666666666,
              "#ed7953"
             ],
             [
              0.7777777777777778,
              "#fb9f3a"
             ],
             [
              0.8888888888888888,
              "#fdca26"
             ],
             [
              1,
              "#f0f921"
             ]
            ],
            "type": "contour"
           }
          ],
          "contourcarpet": [
           {
            "colorbar": {
             "outlinewidth": 0,
             "ticks": ""
            },
            "type": "contourcarpet"
           }
          ],
          "heatmap": [
           {
            "colorbar": {
             "outlinewidth": 0,
             "ticks": ""
            },
            "colorscale": [
             [
              0,
              "#0d0887"
             ],
             [
              0.1111111111111111,
              "#46039f"
             ],
             [
              0.2222222222222222,
              "#7201a8"
             ],
             [
              0.3333333333333333,
              "#9c179e"
             ],
             [
              0.4444444444444444,
              "#bd3786"
             ],
             [
              0.5555555555555556,
              "#d8576b"
             ],
             [
              0.6666666666666666,
              "#ed7953"
             ],
             [
              0.7777777777777778,
              "#fb9f3a"
             ],
             [
              0.8888888888888888,
              "#fdca26"
             ],
             [
              1,
              "#f0f921"
             ]
            ],
            "type": "heatmap"
           }
          ],
          "heatmapgl": [
           {
            "colorbar": {
             "outlinewidth": 0,
             "ticks": ""
            },
            "colorscale": [
             [
              0,
              "#0d0887"
             ],
             [
              0.1111111111111111,
              "#46039f"
             ],
             [
              0.2222222222222222,
              "#7201a8"
             ],
             [
              0.3333333333333333,
              "#9c179e"
             ],
             [
              0.4444444444444444,
              "#bd3786"
             ],
             [
              0.5555555555555556,
              "#d8576b"
             ],
             [
              0.6666666666666666,
              "#ed7953"
             ],
             [
              0.7777777777777778,
              "#fb9f3a"
             ],
             [
              0.8888888888888888,
              "#fdca26"
             ],
             [
              1,
              "#f0f921"
             ]
            ],
            "type": "heatmapgl"
           }
          ],
          "histogram": [
           {
            "marker": {
             "pattern": {
              "fillmode": "overlay",
              "size": 10,
              "solidity": 0.2
             }
            },
            "type": "histogram"
           }
          ],
          "histogram2d": [
           {
            "colorbar": {
             "outlinewidth": 0,
             "ticks": ""
            },
            "colorscale": [
             [
              0,
              "#0d0887"
             ],
             [
              0.1111111111111111,
              "#46039f"
             ],
             [
              0.2222222222222222,
              "#7201a8"
             ],
             [
              0.3333333333333333,
              "#9c179e"
             ],
             [
              0.4444444444444444,
              "#bd3786"
             ],
             [
              0.5555555555555556,
              "#d8576b"
             ],
             [
              0.6666666666666666,
              "#ed7953"
             ],
             [
              0.7777777777777778,
              "#fb9f3a"
             ],
             [
              0.8888888888888888,
              "#fdca26"
             ],
             [
              1,
              "#f0f921"
             ]
            ],
            "type": "histogram2d"
           }
          ],
          "histogram2dcontour": [
           {
            "colorbar": {
             "outlinewidth": 0,
             "ticks": ""
            },
            "colorscale": [
             [
              0,
              "#0d0887"
             ],
             [
              0.1111111111111111,
              "#46039f"
             ],
             [
              0.2222222222222222,
              "#7201a8"
             ],
             [
              0.3333333333333333,
              "#9c179e"
             ],
             [
              0.4444444444444444,
              "#bd3786"
             ],
             [
              0.5555555555555556,
              "#d8576b"
             ],
             [
              0.6666666666666666,
              "#ed7953"
             ],
             [
              0.7777777777777778,
              "#fb9f3a"
             ],
             [
              0.8888888888888888,
              "#fdca26"
             ],
             [
              1,
              "#f0f921"
             ]
            ],
            "type": "histogram2dcontour"
           }
          ],
          "mesh3d": [
           {
            "colorbar": {
             "outlinewidth": 0,
             "ticks": ""
            },
            "type": "mesh3d"
           }
          ],
          "parcoords": [
           {
            "line": {
             "colorbar": {
              "outlinewidth": 0,
              "ticks": ""
             }
            },
            "type": "parcoords"
           }
          ],
          "pie": [
           {
            "automargin": true,
            "type": "pie"
           }
          ],
          "scatter": [
           {
            "fillpattern": {
             "fillmode": "overlay",
             "size": 10,
             "solidity": 0.2
            },
            "type": "scatter"
           }
          ],
          "scatter3d": [
           {
            "line": {
             "colorbar": {
              "outlinewidth": 0,
              "ticks": ""
             }
            },
            "marker": {
             "colorbar": {
              "outlinewidth": 0,
              "ticks": ""
             }
            },
            "type": "scatter3d"
           }
          ],
          "scattercarpet": [
           {
            "marker": {
             "colorbar": {
              "outlinewidth": 0,
              "ticks": ""
             }
            },
            "type": "scattercarpet"
           }
          ],
          "scattergeo": [
           {
            "marker": {
             "colorbar": {
              "outlinewidth": 0,
              "ticks": ""
             }
            },
            "type": "scattergeo"
           }
          ],
          "scattergl": [
           {
            "marker": {
             "colorbar": {
              "outlinewidth": 0,
              "ticks": ""
             }
            },
            "type": "scattergl"
           }
          ],
          "scattermapbox": [
           {
            "marker": {
             "colorbar": {
              "outlinewidth": 0,
              "ticks": ""
             }
            },
            "type": "scattermapbox"
           }
          ],
          "scatterpolar": [
           {
            "marker": {
             "colorbar": {
              "outlinewidth": 0,
              "ticks": ""
             }
            },
            "type": "scatterpolar"
           }
          ],
          "scatterpolargl": [
           {
            "marker": {
             "colorbar": {
              "outlinewidth": 0,
              "ticks": ""
             }
            },
            "type": "scatterpolargl"
           }
          ],
          "scatterternary": [
           {
            "marker": {
             "colorbar": {
              "outlinewidth": 0,
              "ticks": ""
             }
            },
            "type": "scatterternary"
           }
          ],
          "surface": [
           {
            "colorbar": {
             "outlinewidth": 0,
             "ticks": ""
            },
            "colorscale": [
             [
              0,
              "#0d0887"
             ],
             [
              0.1111111111111111,
              "#46039f"
             ],
             [
              0.2222222222222222,
              "#7201a8"
             ],
             [
              0.3333333333333333,
              "#9c179e"
             ],
             [
              0.4444444444444444,
              "#bd3786"
             ],
             [
              0.5555555555555556,
              "#d8576b"
             ],
             [
              0.6666666666666666,
              "#ed7953"
             ],
             [
              0.7777777777777778,
              "#fb9f3a"
             ],
             [
              0.8888888888888888,
              "#fdca26"
             ],
             [
              1,
              "#f0f921"
             ]
            ],
            "type": "surface"
           }
          ],
          "table": [
           {
            "cells": {
             "fill": {
              "color": "#EBF0F8"
             },
             "line": {
              "color": "white"
             }
            },
            "header": {
             "fill": {
              "color": "#C8D4E3"
             },
             "line": {
              "color": "white"
             }
            },
            "type": "table"
           }
          ]
         },
         "layout": {
          "annotationdefaults": {
           "arrowcolor": "#2a3f5f",
           "arrowhead": 0,
           "arrowwidth": 1
          },
          "autotypenumbers": "strict",
          "coloraxis": {
           "colorbar": {
            "outlinewidth": 0,
            "ticks": ""
           }
          },
          "colorscale": {
           "diverging": [
            [
             0,
             "#8e0152"
            ],
            [
             0.1,
             "#c51b7d"
            ],
            [
             0.2,
             "#de77ae"
            ],
            [
             0.3,
             "#f1b6da"
            ],
            [
             0.4,
             "#fde0ef"
            ],
            [
             0.5,
             "#f7f7f7"
            ],
            [
             0.6,
             "#e6f5d0"
            ],
            [
             0.7,
             "#b8e186"
            ],
            [
             0.8,
             "#7fbc41"
            ],
            [
             0.9,
             "#4d9221"
            ],
            [
             1,
             "#276419"
            ]
           ],
           "sequential": [
            [
             0,
             "#0d0887"
            ],
            [
             0.1111111111111111,
             "#46039f"
            ],
            [
             0.2222222222222222,
             "#7201a8"
            ],
            [
             0.3333333333333333,
             "#9c179e"
            ],
            [
             0.4444444444444444,
             "#bd3786"
            ],
            [
             0.5555555555555556,
             "#d8576b"
            ],
            [
             0.6666666666666666,
             "#ed7953"
            ],
            [
             0.7777777777777778,
             "#fb9f3a"
            ],
            [
             0.8888888888888888,
             "#fdca26"
            ],
            [
             1,
             "#f0f921"
            ]
           ],
           "sequentialminus": [
            [
             0,
             "#0d0887"
            ],
            [
             0.1111111111111111,
             "#46039f"
            ],
            [
             0.2222222222222222,
             "#7201a8"
            ],
            [
             0.3333333333333333,
             "#9c179e"
            ],
            [
             0.4444444444444444,
             "#bd3786"
            ],
            [
             0.5555555555555556,
             "#d8576b"
            ],
            [
             0.6666666666666666,
             "#ed7953"
            ],
            [
             0.7777777777777778,
             "#fb9f3a"
            ],
            [
             0.8888888888888888,
             "#fdca26"
            ],
            [
             1,
             "#f0f921"
            ]
           ]
          },
          "colorway": [
           "#636efa",
           "#EF553B",
           "#00cc96",
           "#ab63fa",
           "#FFA15A",
           "#19d3f3",
           "#FF6692",
           "#B6E880",
           "#FF97FF",
           "#FECB52"
          ],
          "font": {
           "color": "#2a3f5f"
          },
          "geo": {
           "bgcolor": "white",
           "lakecolor": "white",
           "landcolor": "#E5ECF6",
           "showlakes": true,
           "showland": true,
           "subunitcolor": "white"
          },
          "hoverlabel": {
           "align": "left"
          },
          "hovermode": "closest",
          "mapbox": {
           "style": "light"
          },
          "paper_bgcolor": "white",
          "plot_bgcolor": "#E5ECF6",
          "polar": {
           "angularaxis": {
            "gridcolor": "white",
            "linecolor": "white",
            "ticks": ""
           },
           "bgcolor": "#E5ECF6",
           "radialaxis": {
            "gridcolor": "white",
            "linecolor": "white",
            "ticks": ""
           }
          },
          "scene": {
           "xaxis": {
            "backgroundcolor": "#E5ECF6",
            "gridcolor": "white",
            "gridwidth": 2,
            "linecolor": "white",
            "showbackground": true,
            "ticks": "",
            "zerolinecolor": "white"
           },
           "yaxis": {
            "backgroundcolor": "#E5ECF6",
            "gridcolor": "white",
            "gridwidth": 2,
            "linecolor": "white",
            "showbackground": true,
            "ticks": "",
            "zerolinecolor": "white"
           },
           "zaxis": {
            "backgroundcolor": "#E5ECF6",
            "gridcolor": "white",
            "gridwidth": 2,
            "linecolor": "white",
            "showbackground": true,
            "ticks": "",
            "zerolinecolor": "white"
           }
          },
          "shapedefaults": {
           "line": {
            "color": "#2a3f5f"
           }
          },
          "ternary": {
           "aaxis": {
            "gridcolor": "white",
            "linecolor": "white",
            "ticks": ""
           },
           "baxis": {
            "gridcolor": "white",
            "linecolor": "white",
            "ticks": ""
           },
           "bgcolor": "#E5ECF6",
           "caxis": {
            "gridcolor": "white",
            "linecolor": "white",
            "ticks": ""
           }
          },
          "title": {
           "x": 0.05
          },
          "xaxis": {
           "automargin": true,
           "gridcolor": "white",
           "linecolor": "white",
           "ticks": "",
           "title": {
            "standoff": 15
           },
           "zerolinecolor": "white",
           "zerolinewidth": 2
          },
          "yaxis": {
           "automargin": true,
           "gridcolor": "white",
           "linecolor": "white",
           "ticks": "",
           "title": {
            "standoff": 15
           },
           "zerolinecolor": "white",
           "zerolinewidth": 2
          }
         }
        },
        "xaxis": {
         "anchor": "y",
         "domain": [
          0,
          1
         ],
         "title": {
          "text": "state"
         }
        },
        "yaxis": {
         "anchor": "x",
         "domain": [
          0,
          1
         ],
         "title": {
          "text": "Tickets_Given"
         }
        }
       }
      },
      "text/html": [
       "<div>                            <div id=\"d211ceec-f8d4-44b5-8d47-aca61f2b298d\" class=\"plotly-graph-div\" style=\"height:525px; width:100%;\"></div>            <script type=\"text/javascript\">                require([\"plotly\"], function(Plotly) {                    window.PLOTLYENV=window.PLOTLYENV || {};                                    if (document.getElementById(\"d211ceec-f8d4-44b5-8d47-aca61f2b298d\")) {                    Plotly.newPlot(                        \"d211ceec-f8d4-44b5-8d47-aca61f2b298d\",                        [{\"alignmentgroup\":\"True\",\"hovertemplate\":\"state=%{x}<br>Tickets_Given=%{y}<extra></extra>\",\"legendgroup\":\"\",\"marker\":{\"color\":\"#636efa\",\"pattern\":{\"shape\":\"\"}},\"name\":\"\",\"offsetgroup\":\"\",\"orientation\":\"v\",\"showlegend\":false,\"textposition\":\"auto\",\"x\":[\"PA\",\"NJ\",\"NY\",\"DE\",\"MD\"],\"xaxis\":\"x\",\"y\":[1315711,189102,32953,31481,22311],\"yaxis\":\"y\",\"type\":\"bar\"}],                        {\"template\":{\"data\":{\"histogram2dcontour\":[{\"type\":\"histogram2dcontour\",\"colorbar\":{\"outlinewidth\":0,\"ticks\":\"\"},\"colorscale\":[[0.0,\"#0d0887\"],[0.1111111111111111,\"#46039f\"],[0.2222222222222222,\"#7201a8\"],[0.3333333333333333,\"#9c179e\"],[0.4444444444444444,\"#bd3786\"],[0.5555555555555556,\"#d8576b\"],[0.6666666666666666,\"#ed7953\"],[0.7777777777777778,\"#fb9f3a\"],[0.8888888888888888,\"#fdca26\"],[1.0,\"#f0f921\"]]}],\"choropleth\":[{\"type\":\"choropleth\",\"colorbar\":{\"outlinewidth\":0,\"ticks\":\"\"}}],\"histogram2d\":[{\"type\":\"histogram2d\",\"colorbar\":{\"outlinewidth\":0,\"ticks\":\"\"},\"colorscale\":[[0.0,\"#0d0887\"],[0.1111111111111111,\"#46039f\"],[0.2222222222222222,\"#7201a8\"],[0.3333333333333333,\"#9c179e\"],[0.4444444444444444,\"#bd3786\"],[0.5555555555555556,\"#d8576b\"],[0.6666666666666666,\"#ed7953\"],[0.7777777777777778,\"#fb9f3a\"],[0.8888888888888888,\"#fdca26\"],[1.0,\"#f0f921\"]]}],\"heatmap\":[{\"type\":\"heatmap\",\"colorbar\":{\"outlinewidth\":0,\"ticks\":\"\"},\"colorscale\":[[0.0,\"#0d0887\"],[0.1111111111111111,\"#46039f\"],[0.2222222222222222,\"#7201a8\"],[0.3333333333333333,\"#9c179e\"],[0.4444444444444444,\"#bd3786\"],[0.5555555555555556,\"#d8576b\"],[0.6666666666666666,\"#ed7953\"],[0.7777777777777778,\"#fb9f3a\"],[0.8888888888888888,\"#fdca26\"],[1.0,\"#f0f921\"]]}],\"heatmapgl\":[{\"type\":\"heatmapgl\",\"colorbar\":{\"outlinewidth\":0,\"ticks\":\"\"},\"colorscale\":[[0.0,\"#0d0887\"],[0.1111111111111111,\"#46039f\"],[0.2222222222222222,\"#7201a8\"],[0.3333333333333333,\"#9c179e\"],[0.4444444444444444,\"#bd3786\"],[0.5555555555555556,\"#d8576b\"],[0.6666666666666666,\"#ed7953\"],[0.7777777777777778,\"#fb9f3a\"],[0.8888888888888888,\"#fdca26\"],[1.0,\"#f0f921\"]]}],\"contourcarpet\":[{\"type\":\"contourcarpet\",\"colorbar\":{\"outlinewidth\":0,\"ticks\":\"\"}}],\"contour\":[{\"type\":\"contour\",\"colorbar\":{\"outlinewidth\":0,\"ticks\":\"\"},\"colorscale\":[[0.0,\"#0d0887\"],[0.1111111111111111,\"#46039f\"],[0.2222222222222222,\"#7201a8\"],[0.3333333333333333,\"#9c179e\"],[0.4444444444444444,\"#bd3786\"],[0.5555555555555556,\"#d8576b\"],[0.6666666666666666,\"#ed7953\"],[0.7777777777777778,\"#fb9f3a\"],[0.8888888888888888,\"#fdca26\"],[1.0,\"#f0f921\"]]}],\"surface\":[{\"type\":\"surface\",\"colorbar\":{\"outlinewidth\":0,\"ticks\":\"\"},\"colorscale\":[[0.0,\"#0d0887\"],[0.1111111111111111,\"#46039f\"],[0.2222222222222222,\"#7201a8\"],[0.3333333333333333,\"#9c179e\"],[0.4444444444444444,\"#bd3786\"],[0.5555555555555556,\"#d8576b\"],[0.6666666666666666,\"#ed7953\"],[0.7777777777777778,\"#fb9f3a\"],[0.8888888888888888,\"#fdca26\"],[1.0,\"#f0f921\"]]}],\"mesh3d\":[{\"type\":\"mesh3d\",\"colorbar\":{\"outlinewidth\":0,\"ticks\":\"\"}}],\"scatter\":[{\"fillpattern\":{\"fillmode\":\"overlay\",\"size\":10,\"solidity\":0.2},\"type\":\"scatter\"}],\"parcoords\":[{\"type\":\"parcoords\",\"line\":{\"colorbar\":{\"outlinewidth\":0,\"ticks\":\"\"}}}],\"scatterpolargl\":[{\"type\":\"scatterpolargl\",\"marker\":{\"colorbar\":{\"outlinewidth\":0,\"ticks\":\"\"}}}],\"bar\":[{\"error_x\":{\"color\":\"#2a3f5f\"},\"error_y\":{\"color\":\"#2a3f5f\"},\"marker\":{\"line\":{\"color\":\"#E5ECF6\",\"width\":0.5},\"pattern\":{\"fillmode\":\"overlay\",\"size\":10,\"solidity\":0.2}},\"type\":\"bar\"}],\"scattergeo\":[{\"type\":\"scattergeo\",\"marker\":{\"colorbar\":{\"outlinewidth\":0,\"ticks\":\"\"}}}],\"scatterpolar\":[{\"type\":\"scatterpolar\",\"marker\":{\"colorbar\":{\"outlinewidth\":0,\"ticks\":\"\"}}}],\"histogram\":[{\"marker\":{\"pattern\":{\"fillmode\":\"overlay\",\"size\":10,\"solidity\":0.2}},\"type\":\"histogram\"}],\"scattergl\":[{\"type\":\"scattergl\",\"marker\":{\"colorbar\":{\"outlinewidth\":0,\"ticks\":\"\"}}}],\"scatter3d\":[{\"type\":\"scatter3d\",\"line\":{\"colorbar\":{\"outlinewidth\":0,\"ticks\":\"\"}},\"marker\":{\"colorbar\":{\"outlinewidth\":0,\"ticks\":\"\"}}}],\"scattermapbox\":[{\"type\":\"scattermapbox\",\"marker\":{\"colorbar\":{\"outlinewidth\":0,\"ticks\":\"\"}}}],\"scatterternary\":[{\"type\":\"scatterternary\",\"marker\":{\"colorbar\":{\"outlinewidth\":0,\"ticks\":\"\"}}}],\"scattercarpet\":[{\"type\":\"scattercarpet\",\"marker\":{\"colorbar\":{\"outlinewidth\":0,\"ticks\":\"\"}}}],\"carpet\":[{\"aaxis\":{\"endlinecolor\":\"#2a3f5f\",\"gridcolor\":\"white\",\"linecolor\":\"white\",\"minorgridcolor\":\"white\",\"startlinecolor\":\"#2a3f5f\"},\"baxis\":{\"endlinecolor\":\"#2a3f5f\",\"gridcolor\":\"white\",\"linecolor\":\"white\",\"minorgridcolor\":\"white\",\"startlinecolor\":\"#2a3f5f\"},\"type\":\"carpet\"}],\"table\":[{\"cells\":{\"fill\":{\"color\":\"#EBF0F8\"},\"line\":{\"color\":\"white\"}},\"header\":{\"fill\":{\"color\":\"#C8D4E3\"},\"line\":{\"color\":\"white\"}},\"type\":\"table\"}],\"barpolar\":[{\"marker\":{\"line\":{\"color\":\"#E5ECF6\",\"width\":0.5},\"pattern\":{\"fillmode\":\"overlay\",\"size\":10,\"solidity\":0.2}},\"type\":\"barpolar\"}],\"pie\":[{\"automargin\":true,\"type\":\"pie\"}]},\"layout\":{\"autotypenumbers\":\"strict\",\"colorway\":[\"#636efa\",\"#EF553B\",\"#00cc96\",\"#ab63fa\",\"#FFA15A\",\"#19d3f3\",\"#FF6692\",\"#B6E880\",\"#FF97FF\",\"#FECB52\"],\"font\":{\"color\":\"#2a3f5f\"},\"hovermode\":\"closest\",\"hoverlabel\":{\"align\":\"left\"},\"paper_bgcolor\":\"white\",\"plot_bgcolor\":\"#E5ECF6\",\"polar\":{\"bgcolor\":\"#E5ECF6\",\"angularaxis\":{\"gridcolor\":\"white\",\"linecolor\":\"white\",\"ticks\":\"\"},\"radialaxis\":{\"gridcolor\":\"white\",\"linecolor\":\"white\",\"ticks\":\"\"}},\"ternary\":{\"bgcolor\":\"#E5ECF6\",\"aaxis\":{\"gridcolor\":\"white\",\"linecolor\":\"white\",\"ticks\":\"\"},\"baxis\":{\"gridcolor\":\"white\",\"linecolor\":\"white\",\"ticks\":\"\"},\"caxis\":{\"gridcolor\":\"white\",\"linecolor\":\"white\",\"ticks\":\"\"}},\"coloraxis\":{\"colorbar\":{\"outlinewidth\":0,\"ticks\":\"\"}},\"colorscale\":{\"sequential\":[[0.0,\"#0d0887\"],[0.1111111111111111,\"#46039f\"],[0.2222222222222222,\"#7201a8\"],[0.3333333333333333,\"#9c179e\"],[0.4444444444444444,\"#bd3786\"],[0.5555555555555556,\"#d8576b\"],[0.6666666666666666,\"#ed7953\"],[0.7777777777777778,\"#fb9f3a\"],[0.8888888888888888,\"#fdca26\"],[1.0,\"#f0f921\"]],\"sequentialminus\":[[0.0,\"#0d0887\"],[0.1111111111111111,\"#46039f\"],[0.2222222222222222,\"#7201a8\"],[0.3333333333333333,\"#9c179e\"],[0.4444444444444444,\"#bd3786\"],[0.5555555555555556,\"#d8576b\"],[0.6666666666666666,\"#ed7953\"],[0.7777777777777778,\"#fb9f3a\"],[0.8888888888888888,\"#fdca26\"],[1.0,\"#f0f921\"]],\"diverging\":[[0,\"#8e0152\"],[0.1,\"#c51b7d\"],[0.2,\"#de77ae\"],[0.3,\"#f1b6da\"],[0.4,\"#fde0ef\"],[0.5,\"#f7f7f7\"],[0.6,\"#e6f5d0\"],[0.7,\"#b8e186\"],[0.8,\"#7fbc41\"],[0.9,\"#4d9221\"],[1,\"#276419\"]]},\"xaxis\":{\"gridcolor\":\"white\",\"linecolor\":\"white\",\"ticks\":\"\",\"title\":{\"standoff\":15},\"zerolinecolor\":\"white\",\"automargin\":true,\"zerolinewidth\":2},\"yaxis\":{\"gridcolor\":\"white\",\"linecolor\":\"white\",\"ticks\":\"\",\"title\":{\"standoff\":15},\"zerolinecolor\":\"white\",\"automargin\":true,\"zerolinewidth\":2},\"scene\":{\"xaxis\":{\"backgroundcolor\":\"#E5ECF6\",\"gridcolor\":\"white\",\"linecolor\":\"white\",\"showbackground\":true,\"ticks\":\"\",\"zerolinecolor\":\"white\",\"gridwidth\":2},\"yaxis\":{\"backgroundcolor\":\"#E5ECF6\",\"gridcolor\":\"white\",\"linecolor\":\"white\",\"showbackground\":true,\"ticks\":\"\",\"zerolinecolor\":\"white\",\"gridwidth\":2},\"zaxis\":{\"backgroundcolor\":\"#E5ECF6\",\"gridcolor\":\"white\",\"linecolor\":\"white\",\"showbackground\":true,\"ticks\":\"\",\"zerolinecolor\":\"white\",\"gridwidth\":2}},\"shapedefaults\":{\"line\":{\"color\":\"#2a3f5f\"}},\"annotationdefaults\":{\"arrowcolor\":\"#2a3f5f\",\"arrowhead\":0,\"arrowwidth\":1},\"geo\":{\"bgcolor\":\"white\",\"landcolor\":\"#E5ECF6\",\"subunitcolor\":\"white\",\"showland\":true,\"showlakes\":true,\"lakecolor\":\"white\"},\"title\":{\"x\":0.05},\"mapbox\":{\"style\":\"light\"}}},\"xaxis\":{\"anchor\":\"y\",\"domain\":[0.0,1.0],\"title\":{\"text\":\"state\"}},\"yaxis\":{\"anchor\":\"x\",\"domain\":[0.0,1.0],\"title\":{\"text\":\"Tickets_Given\"}},\"legend\":{\"tracegroupgap\":0},\"margin\":{\"t\":60},\"barmode\":\"relative\"},                        {\"responsive\": true}                    ).then(function(){\n",
       "                            \n",
       "var gd = document.getElementById('d211ceec-f8d4-44b5-8d47-aca61f2b298d');\n",
       "var x = new MutationObserver(function (mutations, observer) {{\n",
       "        var display = window.getComputedStyle(gd).display;\n",
       "        if (!display || display === 'none') {{\n",
       "            console.log([gd, 'removed!']);\n",
       "            Plotly.purge(gd);\n",
       "            observer.disconnect();\n",
       "        }}\n",
       "}});\n",
       "\n",
       "// Listen for the removal of the full notebook cells\n",
       "var notebookContainer = gd.closest('#notebook-container');\n",
       "if (notebookContainer) {{\n",
       "    x.observe(notebookContainer, {childList: true});\n",
       "}}\n",
       "\n",
       "// Listen for the clearing of the current output cell\n",
       "var outputEl = gd.closest('.output');\n",
       "if (outputEl) {{\n",
       "    x.observe(outputEl, {childList: true});\n",
       "}}\n",
       "\n",
       "                        })                };                });            </script>        </div>"
      ]
     },
     "metadata": {},
     "output_type": "display_data"
    }
   ],
   "source": [
    "fig = px.bar(run_query(ticketsPerState), x='state', y='Tickets_Given')\n",
    "fig.show()"
   ]
  },
  {
   "cell_type": "markdown",
   "metadata": {},
   "source": [
    "### What is the distrubtion of tickets given throughout the day? <a class=\"anchor\" id=\"distribution-day\"></a>"
   ]
  },
  {
   "cell_type": "code",
   "execution_count": 35,
   "metadata": {
    "scrolled": true
   },
   "outputs": [
    {
     "data": {
      "text/html": [
       "<div>\n",
       "<style scoped>\n",
       "    .dataframe tbody tr th:only-of-type {\n",
       "        vertical-align: middle;\n",
       "    }\n",
       "\n",
       "    .dataframe tbody tr th {\n",
       "        vertical-align: top;\n",
       "    }\n",
       "\n",
       "    .dataframe thead th {\n",
       "        text-align: right;\n",
       "    }\n",
       "</style>\n",
       "<table border=\"1\" class=\"dataframe\">\n",
       "  <thead>\n",
       "    <tr style=\"text-align: right;\">\n",
       "      <th></th>\n",
       "      <th>issue_datetime</th>\n",
       "      <th>issuing_agency</th>\n",
       "      <th>Hour</th>\n",
       "      <th>Total_Tickets</th>\n",
       "    </tr>\n",
       "  </thead>\n",
       "  <tbody>\n",
       "    <tr>\n",
       "      <th>0</th>\n",
       "      <td>2017-02-11 00:00:00</td>\n",
       "      <td>None</td>\n",
       "      <td>00</td>\n",
       "      <td>1</td>\n",
       "    </tr>\n",
       "    <tr>\n",
       "      <th>1</th>\n",
       "      <td>2017-03-28 00:00:00</td>\n",
       "      <td>CENTER C</td>\n",
       "      <td>00</td>\n",
       "      <td>21</td>\n",
       "    </tr>\n",
       "    <tr>\n",
       "      <th>2</th>\n",
       "      <td>2017-01-16 00:03:00</td>\n",
       "      <td>FAIRMNT</td>\n",
       "      <td>00</td>\n",
       "      <td>3</td>\n",
       "    </tr>\n",
       "    <tr>\n",
       "      <th>3</th>\n",
       "      <td>2017-01-15 00:21:00</td>\n",
       "      <td>HOUSING</td>\n",
       "      <td>00</td>\n",
       "      <td>48</td>\n",
       "    </tr>\n",
       "    <tr>\n",
       "      <th>4</th>\n",
       "      <td>2017-02-18 00:45:00</td>\n",
       "      <td>PENN</td>\n",
       "      <td>00</td>\n",
       "      <td>53</td>\n",
       "    </tr>\n",
       "    <tr>\n",
       "      <th>...</th>\n",
       "      <td>...</td>\n",
       "      <td>...</td>\n",
       "      <td>...</td>\n",
       "      <td>...</td>\n",
       "    </tr>\n",
       "    <tr>\n",
       "      <th>216</th>\n",
       "      <td>2017-01-21 23:30:00</td>\n",
       "      <td>PENN</td>\n",
       "      <td>23</td>\n",
       "      <td>20</td>\n",
       "    </tr>\n",
       "    <tr>\n",
       "      <th>217</th>\n",
       "      <td>2017-02-26 23:45:00</td>\n",
       "      <td>POLICE</td>\n",
       "      <td>23</td>\n",
       "      <td>6558</td>\n",
       "    </tr>\n",
       "    <tr>\n",
       "      <th>218</th>\n",
       "      <td>2017-02-25 23:13:00</td>\n",
       "      <td>PPA</td>\n",
       "      <td>23</td>\n",
       "      <td>10009</td>\n",
       "    </tr>\n",
       "    <tr>\n",
       "      <th>219</th>\n",
       "      <td>2017-03-08 23:12:00</td>\n",
       "      <td>SEPTA</td>\n",
       "      <td>23</td>\n",
       "      <td>14</td>\n",
       "    </tr>\n",
       "    <tr>\n",
       "      <th>220</th>\n",
       "      <td>2017-02-18 23:35:00</td>\n",
       "      <td>TEMPLE</td>\n",
       "      <td>23</td>\n",
       "      <td>15</td>\n",
       "    </tr>\n",
       "  </tbody>\n",
       "</table>\n",
       "<p>221 rows × 4 columns</p>\n",
       "</div>"
      ],
      "text/plain": [
       "          issue_datetime issuing_agency Hour  Total_Tickets\n",
       "0    2017-02-11 00:00:00           None   00              1\n",
       "1    2017-03-28 00:00:00       CENTER C   00             21\n",
       "2    2017-01-16 00:03:00        FAIRMNT   00              3\n",
       "3    2017-01-15 00:21:00        HOUSING   00             48\n",
       "4    2017-02-18 00:45:00           PENN   00             53\n",
       "..                   ...            ...  ...            ...\n",
       "216  2017-01-21 23:30:00           PENN   23             20\n",
       "217  2017-02-26 23:45:00         POLICE   23           6558\n",
       "218  2017-02-25 23:13:00            PPA   23          10009\n",
       "219  2017-03-08 23:12:00          SEPTA   23             14\n",
       "220  2017-02-18 23:35:00         TEMPLE   23             15\n",
       "\n",
       "[221 rows x 4 columns]"
      ]
     },
     "execution_count": 35,
     "metadata": {},
     "output_type": "execute_result"
    }
   ],
   "source": [
    "# playing with dates, check month, day of week, and time for patterns\n",
    "# https://philapark.org/laws-enforcement/ - does it match the hours?\n",
    "#6AM to 10:30PM Monday – Wednesday\n",
    "#6AM to 12AM Thursday\n",
    "#6AM to 3AM Friday\n",
    "#6:30AM to 3AM Saturday\n",
    "#7AM to 11PM Sunday\n",
    "\n",
    "FinesByHour = \"\"\"\n",
    "SELECT\n",
    "    issue_datetime,\n",
    "    issuing_agency,\n",
    "    SUBSTR(issue_datetime, 12, 2) AS Hour, -- Get the hour 2017-02-11 [00]:00:00\n",
    "    COUNT(anon_ticket_number) AS Total_Tickets\n",
    "FROM PPA_2017_Dataset\n",
    "GROUP BY issuing_agency, Hour\n",
    "ORDER BY Hour\n",
    "\"\"\"\n",
    "run_query(FinesByHour)"
   ]
  },
  {
   "cell_type": "code",
   "execution_count": 36,
   "metadata": {},
   "outputs": [
    {
     "data": {
      "application/vnd.plotly.v1+json": {
       "config": {
        "plotlyServerURL": "https://plot.ly"
       },
       "data": [
        {
         "alignmentgroup": "True",
         "bingroup": "x",
         "histfunc": "sum",
         "hovertemplate": "issuing_agency=CENTER C<br>Hour=%{x}<br>sum of Total_Tickets=%{y}<extra></extra>",
         "legendgroup": "CENTER C",
         "marker": {
          "color": "#EF553B",
          "pattern": {
           "shape": ""
          }
         },
         "name": "CENTER C",
         "offsetgroup": "CENTER C",
         "orientation": "v",
         "showlegend": true,
         "type": "histogram",
         "x": [
          "00",
          "01",
          "02",
          "03",
          "04",
          "05",
          "06",
          "07",
          "08",
          "09",
          "10",
          "11",
          "12",
          "13",
          "14",
          "15",
          "16",
          "17",
          "18",
          "19",
          "20",
          "21",
          "22",
          "23"
         ],
         "xaxis": "x",
         "y": [
          21,
          10,
          7,
          41,
          54,
          20,
          27,
          75,
          143,
          278,
          378,
          307,
          262,
          262,
          163,
          181,
          137,
          135,
          88,
          126,
          66,
          38,
          11,
          16
         ],
         "yaxis": "y"
        },
        {
         "alignmentgroup": "True",
         "bingroup": "x",
         "histfunc": "sum",
         "hovertemplate": "issuing_agency=FAIRMNT<br>Hour=%{x}<br>sum of Total_Tickets=%{y}<extra></extra>",
         "legendgroup": "FAIRMNT",
         "marker": {
          "color": "#00cc96",
          "pattern": {
           "shape": ""
          }
         },
         "name": "FAIRMNT",
         "offsetgroup": "FAIRMNT",
         "orientation": "v",
         "showlegend": true,
         "type": "histogram",
         "x": [
          "00",
          "03",
          "05",
          "07",
          "08",
          "09",
          "10",
          "11",
          "12",
          "13",
          "14",
          "15",
          "16",
          "17",
          "18",
          "19",
          "20",
          "21",
          "22",
          "23"
         ],
         "xaxis": "x",
         "y": [
          3,
          1,
          1,
          2,
          2,
          41,
          142,
          115,
          44,
          27,
          8,
          6,
          4,
          12,
          16,
          17,
          13,
          4,
          5,
          2
         ],
         "yaxis": "y"
        },
        {
         "alignmentgroup": "True",
         "bingroup": "x",
         "histfunc": "sum",
         "hovertemplate": "issuing_agency=HOUSING<br>Hour=%{x}<br>sum of Total_Tickets=%{y}<extra></extra>",
         "legendgroup": "HOUSING",
         "marker": {
          "color": "#ab63fa",
          "pattern": {
           "shape": ""
          }
         },
         "name": "HOUSING",
         "offsetgroup": "HOUSING",
         "orientation": "v",
         "showlegend": true,
         "type": "histogram",
         "x": [
          "00",
          "01",
          "02",
          "03",
          "04",
          "05",
          "06",
          "07",
          "08",
          "09",
          "10",
          "11",
          "12",
          "13",
          "14",
          "15",
          "16",
          "17",
          "18",
          "19",
          "20",
          "21",
          "22",
          "23"
         ],
         "xaxis": "x",
         "y": [
          48,
          24,
          13,
          12,
          9,
          12,
          3,
          12,
          107,
          140,
          144,
          103,
          80,
          76,
          63,
          42,
          42,
          26,
          7,
          3,
          16,
          18,
          16,
          16
         ],
         "yaxis": "y"
        },
        {
         "alignmentgroup": "True",
         "bingroup": "x",
         "histfunc": "sum",
         "hovertemplate": "issuing_agency=PENN<br>Hour=%{x}<br>sum of Total_Tickets=%{y}<extra></extra>",
         "legendgroup": "PENN",
         "marker": {
          "color": "#FFA15A",
          "pattern": {
           "shape": ""
          }
         },
         "name": "PENN",
         "offsetgroup": "PENN",
         "orientation": "v",
         "showlegend": true,
         "type": "histogram",
         "x": [
          "00",
          "01",
          "02",
          "03",
          "04",
          "05",
          "06",
          "07",
          "08",
          "09",
          "10",
          "11",
          "12",
          "13",
          "14",
          "15",
          "16",
          "17",
          "18",
          "19",
          "20",
          "21",
          "22",
          "23"
         ],
         "xaxis": "x",
         "y": [
          53,
          17,
          8,
          5,
          2,
          5,
          15,
          59,
          78,
          114,
          218,
          232,
          136,
          137,
          69,
          45,
          32,
          25,
          26,
          31,
          19,
          34,
          27,
          20
         ],
         "yaxis": "y"
        },
        {
         "alignmentgroup": "True",
         "bingroup": "x",
         "histfunc": "sum",
         "hovertemplate": "issuing_agency=POLICE<br>Hour=%{x}<br>sum of Total_Tickets=%{y}<extra></extra>",
         "legendgroup": "POLICE",
         "marker": {
          "color": "#19d3f3",
          "pattern": {
           "shape": ""
          }
         },
         "name": "POLICE",
         "offsetgroup": "POLICE",
         "orientation": "v",
         "showlegend": true,
         "type": "histogram",
         "x": [
          "00",
          "01",
          "02",
          "03",
          "04",
          "05",
          "06",
          "07",
          "08",
          "09",
          "10",
          "11",
          "12",
          "13",
          "14",
          "15",
          "16",
          "17",
          "18",
          "19",
          "20",
          "21",
          "22",
          "23"
         ],
         "xaxis": "x",
         "y": [
          14455,
          10610,
          8067,
          7013,
          5230,
          4447,
          4255,
          10759,
          12129,
          11861,
          10402,
          9370,
          7562,
          6710,
          5458,
          5058,
          6586,
          5985,
          6066,
          7834,
          7112,
          7230,
          5547,
          6558
         ],
         "yaxis": "y"
        },
        {
         "alignmentgroup": "True",
         "bingroup": "x",
         "histfunc": "sum",
         "hovertemplate": "issuing_agency=POST OFF<br>Hour=%{x}<br>sum of Total_Tickets=%{y}<extra></extra>",
         "legendgroup": "POST OFF",
         "marker": {
          "color": "#FF6692",
          "pattern": {
           "shape": ""
          }
         },
         "name": "POST OFF",
         "offsetgroup": "POST OFF",
         "orientation": "v",
         "showlegend": true,
         "type": "histogram",
         "x": [
          "00",
          "01",
          "02",
          "04",
          "05",
          "06",
          "10",
          "17",
          "18"
         ],
         "xaxis": "x",
         "y": [
          1,
          1,
          1,
          3,
          1,
          4,
          1,
          1,
          3
         ],
         "yaxis": "y"
        },
        {
         "alignmentgroup": "True",
         "bingroup": "x",
         "histfunc": "sum",
         "hovertemplate": "issuing_agency=PPA<br>Hour=%{x}<br>sum of Total_Tickets=%{y}<extra></extra>",
         "legendgroup": "PPA",
         "marker": {
          "color": "#B6E880",
          "pattern": {
           "shape": ""
          }
         },
         "name": "PPA",
         "offsetgroup": "PPA",
         "orientation": "v",
         "showlegend": true,
         "type": "histogram",
         "x": [
          "00",
          "01",
          "02",
          "03",
          "04",
          "05",
          "06",
          "07",
          "08",
          "09",
          "10",
          "11",
          "12",
          "13",
          "14",
          "15",
          "16",
          "17",
          "18",
          "19",
          "20",
          "21",
          "22",
          "23"
         ],
         "xaxis": "x",
         "y": [
          2098,
          2832,
          808,
          121,
          65,
          194,
          5376,
          36459,
          50119,
          85067,
          119850,
          167490,
          171611,
          146351,
          136611,
          122951,
          106189,
          81072,
          55806,
          69590,
          59859,
          77888,
          19460,
          10009
         ],
         "yaxis": "y"
        },
        {
         "alignmentgroup": "True",
         "bingroup": "x",
         "histfunc": "sum",
         "hovertemplate": "issuing_agency=PRISONS<br>Hour=%{x}<br>sum of Total_Tickets=%{y}<extra></extra>",
         "legendgroup": "PRISONS",
         "marker": {
          "color": "#FF97FF",
          "pattern": {
           "shape": ""
          }
         },
         "name": "PRISONS",
         "offsetgroup": "PRISONS",
         "orientation": "v",
         "showlegend": true,
         "type": "histogram",
         "x": [
          "00",
          "01",
          "07",
          "08",
          "09",
          "10",
          "11",
          "12",
          "13",
          "14",
          "15",
          "16",
          "17",
          "18",
          "19",
          "21",
          "22"
         ],
         "xaxis": "x",
         "y": [
          7,
          2,
          57,
          41,
          88,
          58,
          23,
          23,
          23,
          31,
          25,
          28,
          19,
          5,
          2,
          1,
          1
         ],
         "yaxis": "y"
        },
        {
         "alignmentgroup": "True",
         "bingroup": "x",
         "histfunc": "sum",
         "hovertemplate": "issuing_agency=SEPTA<br>Hour=%{x}<br>sum of Total_Tickets=%{y}<extra></extra>",
         "legendgroup": "SEPTA",
         "marker": {
          "color": "#FECB52",
          "pattern": {
           "shape": ""
          }
         },
         "name": "SEPTA",
         "offsetgroup": "SEPTA",
         "orientation": "v",
         "showlegend": true,
         "type": "histogram",
         "x": [
          "00",
          "01",
          "02",
          "03",
          "04",
          "05",
          "06",
          "07",
          "08",
          "09",
          "10",
          "11",
          "12",
          "13",
          "14",
          "15",
          "16",
          "17",
          "18",
          "19",
          "20",
          "21",
          "22",
          "23"
         ],
         "xaxis": "x",
         "y": [
          50,
          11,
          6,
          10,
          2,
          31,
          52,
          85,
          90,
          93,
          82,
          74,
          54,
          29,
          33,
          60,
          79,
          88,
          75,
          62,
          72,
          22,
          16,
          14
         ],
         "yaxis": "y"
        },
        {
         "alignmentgroup": "True",
         "bingroup": "x",
         "histfunc": "sum",
         "hovertemplate": "issuing_agency=TEMPLE<br>Hour=%{x}<br>sum of Total_Tickets=%{y}<extra></extra>",
         "legendgroup": "TEMPLE",
         "marker": {
          "color": "#636efa",
          "pattern": {
           "shape": ""
          }
         },
         "name": "TEMPLE",
         "offsetgroup": "TEMPLE",
         "orientation": "v",
         "showlegend": true,
         "type": "histogram",
         "x": [
          "00",
          "01",
          "02",
          "03",
          "04",
          "05",
          "06",
          "07",
          "08",
          "09",
          "10",
          "11",
          "12",
          "13",
          "14",
          "15",
          "16",
          "17",
          "18",
          "19",
          "20",
          "21",
          "22",
          "23"
         ],
         "xaxis": "x",
         "y": [
          33,
          19,
          13,
          10,
          7,
          21,
          16,
          32,
          100,
          107,
          122,
          113,
          75,
          83,
          69,
          18,
          31,
          31,
          24,
          37,
          18,
          29,
          17,
          15
         ],
         "yaxis": "y"
        },
        {
         "alignmentgroup": "True",
         "bingroup": "x",
         "histfunc": "sum",
         "hovertemplate": "issuing_agency=UNASSIGN<br>Hour=%{x}<br>sum of Total_Tickets=%{y}<extra></extra>",
         "legendgroup": "UNASSIGN",
         "marker": {
          "color": "#EF553B",
          "pattern": {
           "shape": ""
          }
         },
         "name": "UNASSIGN",
         "offsetgroup": "UNASSIGN",
         "orientation": "v",
         "showlegend": true,
         "type": "histogram",
         "x": [
          "11",
          "16",
          "18"
         ],
         "xaxis": "x",
         "y": [
          3,
          1,
          1
         ],
         "yaxis": "y"
        },
        {
         "alignmentgroup": "True",
         "bingroup": "x",
         "histfunc": "sum",
         "hovertemplate": "issuing_agency=CONRAIL<br>Hour=%{x}<br>sum of Total_Tickets=%{y}<extra></extra>",
         "legendgroup": "CONRAIL",
         "marker": {
          "color": "#00cc96",
          "pattern": {
           "shape": ""
          }
         },
         "name": "CONRAIL",
         "offsetgroup": "CONRAIL",
         "orientation": "v",
         "showlegend": true,
         "type": "histogram",
         "x": [
          "21"
         ],
         "xaxis": "x",
         "y": [
          2
         ],
         "yaxis": "y"
        }
       ],
       "layout": {
        "bargap": 0,
        "barmode": "stack",
        "legend": {
         "title": {
          "text": "issuing_agency"
         },
         "tracegroupgap": 0
        },
        "margin": {
         "t": 60
        },
        "template": {
         "data": {
          "bar": [
           {
            "error_x": {
             "color": "#2a3f5f"
            },
            "error_y": {
             "color": "#2a3f5f"
            },
            "marker": {
             "line": {
              "color": "#E5ECF6",
              "width": 0.5
             },
             "pattern": {
              "fillmode": "overlay",
              "size": 10,
              "solidity": 0.2
             }
            },
            "type": "bar"
           }
          ],
          "barpolar": [
           {
            "marker": {
             "line": {
              "color": "#E5ECF6",
              "width": 0.5
             },
             "pattern": {
              "fillmode": "overlay",
              "size": 10,
              "solidity": 0.2
             }
            },
            "type": "barpolar"
           }
          ],
          "carpet": [
           {
            "aaxis": {
             "endlinecolor": "#2a3f5f",
             "gridcolor": "white",
             "linecolor": "white",
             "minorgridcolor": "white",
             "startlinecolor": "#2a3f5f"
            },
            "baxis": {
             "endlinecolor": "#2a3f5f",
             "gridcolor": "white",
             "linecolor": "white",
             "minorgridcolor": "white",
             "startlinecolor": "#2a3f5f"
            },
            "type": "carpet"
           }
          ],
          "choropleth": [
           {
            "colorbar": {
             "outlinewidth": 0,
             "ticks": ""
            },
            "type": "choropleth"
           }
          ],
          "contour": [
           {
            "colorbar": {
             "outlinewidth": 0,
             "ticks": ""
            },
            "colorscale": [
             [
              0,
              "#0d0887"
             ],
             [
              0.1111111111111111,
              "#46039f"
             ],
             [
              0.2222222222222222,
              "#7201a8"
             ],
             [
              0.3333333333333333,
              "#9c179e"
             ],
             [
              0.4444444444444444,
              "#bd3786"
             ],
             [
              0.5555555555555556,
              "#d8576b"
             ],
             [
              0.6666666666666666,
              "#ed7953"
             ],
             [
              0.7777777777777778,
              "#fb9f3a"
             ],
             [
              0.8888888888888888,
              "#fdca26"
             ],
             [
              1,
              "#f0f921"
             ]
            ],
            "type": "contour"
           }
          ],
          "contourcarpet": [
           {
            "colorbar": {
             "outlinewidth": 0,
             "ticks": ""
            },
            "type": "contourcarpet"
           }
          ],
          "heatmap": [
           {
            "colorbar": {
             "outlinewidth": 0,
             "ticks": ""
            },
            "colorscale": [
             [
              0,
              "#0d0887"
             ],
             [
              0.1111111111111111,
              "#46039f"
             ],
             [
              0.2222222222222222,
              "#7201a8"
             ],
             [
              0.3333333333333333,
              "#9c179e"
             ],
             [
              0.4444444444444444,
              "#bd3786"
             ],
             [
              0.5555555555555556,
              "#d8576b"
             ],
             [
              0.6666666666666666,
              "#ed7953"
             ],
             [
              0.7777777777777778,
              "#fb9f3a"
             ],
             [
              0.8888888888888888,
              "#fdca26"
             ],
             [
              1,
              "#f0f921"
             ]
            ],
            "type": "heatmap"
           }
          ],
          "heatmapgl": [
           {
            "colorbar": {
             "outlinewidth": 0,
             "ticks": ""
            },
            "colorscale": [
             [
              0,
              "#0d0887"
             ],
             [
              0.1111111111111111,
              "#46039f"
             ],
             [
              0.2222222222222222,
              "#7201a8"
             ],
             [
              0.3333333333333333,
              "#9c179e"
             ],
             [
              0.4444444444444444,
              "#bd3786"
             ],
             [
              0.5555555555555556,
              "#d8576b"
             ],
             [
              0.6666666666666666,
              "#ed7953"
             ],
             [
              0.7777777777777778,
              "#fb9f3a"
             ],
             [
              0.8888888888888888,
              "#fdca26"
             ],
             [
              1,
              "#f0f921"
             ]
            ],
            "type": "heatmapgl"
           }
          ],
          "histogram": [
           {
            "marker": {
             "pattern": {
              "fillmode": "overlay",
              "size": 10,
              "solidity": 0.2
             }
            },
            "type": "histogram"
           }
          ],
          "histogram2d": [
           {
            "colorbar": {
             "outlinewidth": 0,
             "ticks": ""
            },
            "colorscale": [
             [
              0,
              "#0d0887"
             ],
             [
              0.1111111111111111,
              "#46039f"
             ],
             [
              0.2222222222222222,
              "#7201a8"
             ],
             [
              0.3333333333333333,
              "#9c179e"
             ],
             [
              0.4444444444444444,
              "#bd3786"
             ],
             [
              0.5555555555555556,
              "#d8576b"
             ],
             [
              0.6666666666666666,
              "#ed7953"
             ],
             [
              0.7777777777777778,
              "#fb9f3a"
             ],
             [
              0.8888888888888888,
              "#fdca26"
             ],
             [
              1,
              "#f0f921"
             ]
            ],
            "type": "histogram2d"
           }
          ],
          "histogram2dcontour": [
           {
            "colorbar": {
             "outlinewidth": 0,
             "ticks": ""
            },
            "colorscale": [
             [
              0,
              "#0d0887"
             ],
             [
              0.1111111111111111,
              "#46039f"
             ],
             [
              0.2222222222222222,
              "#7201a8"
             ],
             [
              0.3333333333333333,
              "#9c179e"
             ],
             [
              0.4444444444444444,
              "#bd3786"
             ],
             [
              0.5555555555555556,
              "#d8576b"
             ],
             [
              0.6666666666666666,
              "#ed7953"
             ],
             [
              0.7777777777777778,
              "#fb9f3a"
             ],
             [
              0.8888888888888888,
              "#fdca26"
             ],
             [
              1,
              "#f0f921"
             ]
            ],
            "type": "histogram2dcontour"
           }
          ],
          "mesh3d": [
           {
            "colorbar": {
             "outlinewidth": 0,
             "ticks": ""
            },
            "type": "mesh3d"
           }
          ],
          "parcoords": [
           {
            "line": {
             "colorbar": {
              "outlinewidth": 0,
              "ticks": ""
             }
            },
            "type": "parcoords"
           }
          ],
          "pie": [
           {
            "automargin": true,
            "type": "pie"
           }
          ],
          "scatter": [
           {
            "fillpattern": {
             "fillmode": "overlay",
             "size": 10,
             "solidity": 0.2
            },
            "type": "scatter"
           }
          ],
          "scatter3d": [
           {
            "line": {
             "colorbar": {
              "outlinewidth": 0,
              "ticks": ""
             }
            },
            "marker": {
             "colorbar": {
              "outlinewidth": 0,
              "ticks": ""
             }
            },
            "type": "scatter3d"
           }
          ],
          "scattercarpet": [
           {
            "marker": {
             "colorbar": {
              "outlinewidth": 0,
              "ticks": ""
             }
            },
            "type": "scattercarpet"
           }
          ],
          "scattergeo": [
           {
            "marker": {
             "colorbar": {
              "outlinewidth": 0,
              "ticks": ""
             }
            },
            "type": "scattergeo"
           }
          ],
          "scattergl": [
           {
            "marker": {
             "colorbar": {
              "outlinewidth": 0,
              "ticks": ""
             }
            },
            "type": "scattergl"
           }
          ],
          "scattermapbox": [
           {
            "marker": {
             "colorbar": {
              "outlinewidth": 0,
              "ticks": ""
             }
            },
            "type": "scattermapbox"
           }
          ],
          "scatterpolar": [
           {
            "marker": {
             "colorbar": {
              "outlinewidth": 0,
              "ticks": ""
             }
            },
            "type": "scatterpolar"
           }
          ],
          "scatterpolargl": [
           {
            "marker": {
             "colorbar": {
              "outlinewidth": 0,
              "ticks": ""
             }
            },
            "type": "scatterpolargl"
           }
          ],
          "scatterternary": [
           {
            "marker": {
             "colorbar": {
              "outlinewidth": 0,
              "ticks": ""
             }
            },
            "type": "scatterternary"
           }
          ],
          "surface": [
           {
            "colorbar": {
             "outlinewidth": 0,
             "ticks": ""
            },
            "colorscale": [
             [
              0,
              "#0d0887"
             ],
             [
              0.1111111111111111,
              "#46039f"
             ],
             [
              0.2222222222222222,
              "#7201a8"
             ],
             [
              0.3333333333333333,
              "#9c179e"
             ],
             [
              0.4444444444444444,
              "#bd3786"
             ],
             [
              0.5555555555555556,
              "#d8576b"
             ],
             [
              0.6666666666666666,
              "#ed7953"
             ],
             [
              0.7777777777777778,
              "#fb9f3a"
             ],
             [
              0.8888888888888888,
              "#fdca26"
             ],
             [
              1,
              "#f0f921"
             ]
            ],
            "type": "surface"
           }
          ],
          "table": [
           {
            "cells": {
             "fill": {
              "color": "#EBF0F8"
             },
             "line": {
              "color": "white"
             }
            },
            "header": {
             "fill": {
              "color": "#C8D4E3"
             },
             "line": {
              "color": "white"
             }
            },
            "type": "table"
           }
          ]
         },
         "layout": {
          "annotationdefaults": {
           "arrowcolor": "#2a3f5f",
           "arrowhead": 0,
           "arrowwidth": 1
          },
          "autotypenumbers": "strict",
          "coloraxis": {
           "colorbar": {
            "outlinewidth": 0,
            "ticks": ""
           }
          },
          "colorscale": {
           "diverging": [
            [
             0,
             "#8e0152"
            ],
            [
             0.1,
             "#c51b7d"
            ],
            [
             0.2,
             "#de77ae"
            ],
            [
             0.3,
             "#f1b6da"
            ],
            [
             0.4,
             "#fde0ef"
            ],
            [
             0.5,
             "#f7f7f7"
            ],
            [
             0.6,
             "#e6f5d0"
            ],
            [
             0.7,
             "#b8e186"
            ],
            [
             0.8,
             "#7fbc41"
            ],
            [
             0.9,
             "#4d9221"
            ],
            [
             1,
             "#276419"
            ]
           ],
           "sequential": [
            [
             0,
             "#0d0887"
            ],
            [
             0.1111111111111111,
             "#46039f"
            ],
            [
             0.2222222222222222,
             "#7201a8"
            ],
            [
             0.3333333333333333,
             "#9c179e"
            ],
            [
             0.4444444444444444,
             "#bd3786"
            ],
            [
             0.5555555555555556,
             "#d8576b"
            ],
            [
             0.6666666666666666,
             "#ed7953"
            ],
            [
             0.7777777777777778,
             "#fb9f3a"
            ],
            [
             0.8888888888888888,
             "#fdca26"
            ],
            [
             1,
             "#f0f921"
            ]
           ],
           "sequentialminus": [
            [
             0,
             "#0d0887"
            ],
            [
             0.1111111111111111,
             "#46039f"
            ],
            [
             0.2222222222222222,
             "#7201a8"
            ],
            [
             0.3333333333333333,
             "#9c179e"
            ],
            [
             0.4444444444444444,
             "#bd3786"
            ],
            [
             0.5555555555555556,
             "#d8576b"
            ],
            [
             0.6666666666666666,
             "#ed7953"
            ],
            [
             0.7777777777777778,
             "#fb9f3a"
            ],
            [
             0.8888888888888888,
             "#fdca26"
            ],
            [
             1,
             "#f0f921"
            ]
           ]
          },
          "colorway": [
           "#636efa",
           "#EF553B",
           "#00cc96",
           "#ab63fa",
           "#FFA15A",
           "#19d3f3",
           "#FF6692",
           "#B6E880",
           "#FF97FF",
           "#FECB52"
          ],
          "font": {
           "color": "#2a3f5f"
          },
          "geo": {
           "bgcolor": "white",
           "lakecolor": "white",
           "landcolor": "#E5ECF6",
           "showlakes": true,
           "showland": true,
           "subunitcolor": "white"
          },
          "hoverlabel": {
           "align": "left"
          },
          "hovermode": "closest",
          "mapbox": {
           "style": "light"
          },
          "paper_bgcolor": "white",
          "plot_bgcolor": "#E5ECF6",
          "polar": {
           "angularaxis": {
            "gridcolor": "white",
            "linecolor": "white",
            "ticks": ""
           },
           "bgcolor": "#E5ECF6",
           "radialaxis": {
            "gridcolor": "white",
            "linecolor": "white",
            "ticks": ""
           }
          },
          "scene": {
           "xaxis": {
            "backgroundcolor": "#E5ECF6",
            "gridcolor": "white",
            "gridwidth": 2,
            "linecolor": "white",
            "showbackground": true,
            "ticks": "",
            "zerolinecolor": "white"
           },
           "yaxis": {
            "backgroundcolor": "#E5ECF6",
            "gridcolor": "white",
            "gridwidth": 2,
            "linecolor": "white",
            "showbackground": true,
            "ticks": "",
            "zerolinecolor": "white"
           },
           "zaxis": {
            "backgroundcolor": "#E5ECF6",
            "gridcolor": "white",
            "gridwidth": 2,
            "linecolor": "white",
            "showbackground": true,
            "ticks": "",
            "zerolinecolor": "white"
           }
          },
          "shapedefaults": {
           "line": {
            "color": "#2a3f5f"
           }
          },
          "ternary": {
           "aaxis": {
            "gridcolor": "white",
            "linecolor": "white",
            "ticks": ""
           },
           "baxis": {
            "gridcolor": "white",
            "linecolor": "white",
            "ticks": ""
           },
           "bgcolor": "#E5ECF6",
           "caxis": {
            "gridcolor": "white",
            "linecolor": "white",
            "ticks": ""
           }
          },
          "title": {
           "x": 0.05
          },
          "xaxis": {
           "automargin": true,
           "gridcolor": "white",
           "linecolor": "white",
           "ticks": "",
           "title": {
            "standoff": 15
           },
           "zerolinecolor": "white",
           "zerolinewidth": 2
          },
          "yaxis": {
           "automargin": true,
           "gridcolor": "white",
           "linecolor": "white",
           "ticks": "",
           "title": {
            "standoff": 15
           },
           "zerolinecolor": "white",
           "zerolinewidth": 2
          }
         }
        },
        "xaxis": {
         "anchor": "y",
         "domain": [
          0,
          1
         ],
         "title": {
          "text": "Hour"
         }
        },
        "yaxis": {
         "anchor": "x",
         "domain": [
          0,
          1
         ],
         "title": {
          "text": "sum of Total_Tickets"
         }
        }
       }
      },
      "text/html": [
       "<div>                            <div id=\"3753abbb-00fa-4e9d-a41c-8ddaff61f10b\" class=\"plotly-graph-div\" style=\"height:525px; width:100%;\"></div>            <script type=\"text/javascript\">                require([\"plotly\"], function(Plotly) {                    window.PLOTLYENV=window.PLOTLYENV || {};                                    if (document.getElementById(\"3753abbb-00fa-4e9d-a41c-8ddaff61f10b\")) {                    Plotly.newPlot(                        \"3753abbb-00fa-4e9d-a41c-8ddaff61f10b\",                        [{\"alignmentgroup\":\"True\",\"bingroup\":\"x\",\"histfunc\":\"sum\",\"hovertemplate\":\"issuing_agency=CENTER C<br>Hour=%{x}<br>sum of Total_Tickets=%{y}<extra></extra>\",\"legendgroup\":\"CENTER C\",\"marker\":{\"color\":\"#EF553B\",\"pattern\":{\"shape\":\"\"}},\"name\":\"CENTER C\",\"offsetgroup\":\"CENTER C\",\"orientation\":\"v\",\"showlegend\":true,\"x\":[\"00\",\"01\",\"02\",\"03\",\"04\",\"05\",\"06\",\"07\",\"08\",\"09\",\"10\",\"11\",\"12\",\"13\",\"14\",\"15\",\"16\",\"17\",\"18\",\"19\",\"20\",\"21\",\"22\",\"23\"],\"xaxis\":\"x\",\"y\":[21,10,7,41,54,20,27,75,143,278,378,307,262,262,163,181,137,135,88,126,66,38,11,16],\"yaxis\":\"y\",\"type\":\"histogram\"},{\"alignmentgroup\":\"True\",\"bingroup\":\"x\",\"histfunc\":\"sum\",\"hovertemplate\":\"issuing_agency=FAIRMNT<br>Hour=%{x}<br>sum of Total_Tickets=%{y}<extra></extra>\",\"legendgroup\":\"FAIRMNT\",\"marker\":{\"color\":\"#00cc96\",\"pattern\":{\"shape\":\"\"}},\"name\":\"FAIRMNT\",\"offsetgroup\":\"FAIRMNT\",\"orientation\":\"v\",\"showlegend\":true,\"x\":[\"00\",\"03\",\"05\",\"07\",\"08\",\"09\",\"10\",\"11\",\"12\",\"13\",\"14\",\"15\",\"16\",\"17\",\"18\",\"19\",\"20\",\"21\",\"22\",\"23\"],\"xaxis\":\"x\",\"y\":[3,1,1,2,2,41,142,115,44,27,8,6,4,12,16,17,13,4,5,2],\"yaxis\":\"y\",\"type\":\"histogram\"},{\"alignmentgroup\":\"True\",\"bingroup\":\"x\",\"histfunc\":\"sum\",\"hovertemplate\":\"issuing_agency=HOUSING<br>Hour=%{x}<br>sum of Total_Tickets=%{y}<extra></extra>\",\"legendgroup\":\"HOUSING\",\"marker\":{\"color\":\"#ab63fa\",\"pattern\":{\"shape\":\"\"}},\"name\":\"HOUSING\",\"offsetgroup\":\"HOUSING\",\"orientation\":\"v\",\"showlegend\":true,\"x\":[\"00\",\"01\",\"02\",\"03\",\"04\",\"05\",\"06\",\"07\",\"08\",\"09\",\"10\",\"11\",\"12\",\"13\",\"14\",\"15\",\"16\",\"17\",\"18\",\"19\",\"20\",\"21\",\"22\",\"23\"],\"xaxis\":\"x\",\"y\":[48,24,13,12,9,12,3,12,107,140,144,103,80,76,63,42,42,26,7,3,16,18,16,16],\"yaxis\":\"y\",\"type\":\"histogram\"},{\"alignmentgroup\":\"True\",\"bingroup\":\"x\",\"histfunc\":\"sum\",\"hovertemplate\":\"issuing_agency=PENN<br>Hour=%{x}<br>sum of Total_Tickets=%{y}<extra></extra>\",\"legendgroup\":\"PENN\",\"marker\":{\"color\":\"#FFA15A\",\"pattern\":{\"shape\":\"\"}},\"name\":\"PENN\",\"offsetgroup\":\"PENN\",\"orientation\":\"v\",\"showlegend\":true,\"x\":[\"00\",\"01\",\"02\",\"03\",\"04\",\"05\",\"06\",\"07\",\"08\",\"09\",\"10\",\"11\",\"12\",\"13\",\"14\",\"15\",\"16\",\"17\",\"18\",\"19\",\"20\",\"21\",\"22\",\"23\"],\"xaxis\":\"x\",\"y\":[53,17,8,5,2,5,15,59,78,114,218,232,136,137,69,45,32,25,26,31,19,34,27,20],\"yaxis\":\"y\",\"type\":\"histogram\"},{\"alignmentgroup\":\"True\",\"bingroup\":\"x\",\"histfunc\":\"sum\",\"hovertemplate\":\"issuing_agency=POLICE<br>Hour=%{x}<br>sum of Total_Tickets=%{y}<extra></extra>\",\"legendgroup\":\"POLICE\",\"marker\":{\"color\":\"#19d3f3\",\"pattern\":{\"shape\":\"\"}},\"name\":\"POLICE\",\"offsetgroup\":\"POLICE\",\"orientation\":\"v\",\"showlegend\":true,\"x\":[\"00\",\"01\",\"02\",\"03\",\"04\",\"05\",\"06\",\"07\",\"08\",\"09\",\"10\",\"11\",\"12\",\"13\",\"14\",\"15\",\"16\",\"17\",\"18\",\"19\",\"20\",\"21\",\"22\",\"23\"],\"xaxis\":\"x\",\"y\":[14455,10610,8067,7013,5230,4447,4255,10759,12129,11861,10402,9370,7562,6710,5458,5058,6586,5985,6066,7834,7112,7230,5547,6558],\"yaxis\":\"y\",\"type\":\"histogram\"},{\"alignmentgroup\":\"True\",\"bingroup\":\"x\",\"histfunc\":\"sum\",\"hovertemplate\":\"issuing_agency=POST OFF<br>Hour=%{x}<br>sum of Total_Tickets=%{y}<extra></extra>\",\"legendgroup\":\"POST OFF\",\"marker\":{\"color\":\"#FF6692\",\"pattern\":{\"shape\":\"\"}},\"name\":\"POST OFF\",\"offsetgroup\":\"POST OFF\",\"orientation\":\"v\",\"showlegend\":true,\"x\":[\"00\",\"01\",\"02\",\"04\",\"05\",\"06\",\"10\",\"17\",\"18\"],\"xaxis\":\"x\",\"y\":[1,1,1,3,1,4,1,1,3],\"yaxis\":\"y\",\"type\":\"histogram\"},{\"alignmentgroup\":\"True\",\"bingroup\":\"x\",\"histfunc\":\"sum\",\"hovertemplate\":\"issuing_agency=PPA<br>Hour=%{x}<br>sum of Total_Tickets=%{y}<extra></extra>\",\"legendgroup\":\"PPA\",\"marker\":{\"color\":\"#B6E880\",\"pattern\":{\"shape\":\"\"}},\"name\":\"PPA\",\"offsetgroup\":\"PPA\",\"orientation\":\"v\",\"showlegend\":true,\"x\":[\"00\",\"01\",\"02\",\"03\",\"04\",\"05\",\"06\",\"07\",\"08\",\"09\",\"10\",\"11\",\"12\",\"13\",\"14\",\"15\",\"16\",\"17\",\"18\",\"19\",\"20\",\"21\",\"22\",\"23\"],\"xaxis\":\"x\",\"y\":[2098,2832,808,121,65,194,5376,36459,50119,85067,119850,167490,171611,146351,136611,122951,106189,81072,55806,69590,59859,77888,19460,10009],\"yaxis\":\"y\",\"type\":\"histogram\"},{\"alignmentgroup\":\"True\",\"bingroup\":\"x\",\"histfunc\":\"sum\",\"hovertemplate\":\"issuing_agency=PRISONS<br>Hour=%{x}<br>sum of Total_Tickets=%{y}<extra></extra>\",\"legendgroup\":\"PRISONS\",\"marker\":{\"color\":\"#FF97FF\",\"pattern\":{\"shape\":\"\"}},\"name\":\"PRISONS\",\"offsetgroup\":\"PRISONS\",\"orientation\":\"v\",\"showlegend\":true,\"x\":[\"00\",\"01\",\"07\",\"08\",\"09\",\"10\",\"11\",\"12\",\"13\",\"14\",\"15\",\"16\",\"17\",\"18\",\"19\",\"21\",\"22\"],\"xaxis\":\"x\",\"y\":[7,2,57,41,88,58,23,23,23,31,25,28,19,5,2,1,1],\"yaxis\":\"y\",\"type\":\"histogram\"},{\"alignmentgroup\":\"True\",\"bingroup\":\"x\",\"histfunc\":\"sum\",\"hovertemplate\":\"issuing_agency=SEPTA<br>Hour=%{x}<br>sum of Total_Tickets=%{y}<extra></extra>\",\"legendgroup\":\"SEPTA\",\"marker\":{\"color\":\"#FECB52\",\"pattern\":{\"shape\":\"\"}},\"name\":\"SEPTA\",\"offsetgroup\":\"SEPTA\",\"orientation\":\"v\",\"showlegend\":true,\"x\":[\"00\",\"01\",\"02\",\"03\",\"04\",\"05\",\"06\",\"07\",\"08\",\"09\",\"10\",\"11\",\"12\",\"13\",\"14\",\"15\",\"16\",\"17\",\"18\",\"19\",\"20\",\"21\",\"22\",\"23\"],\"xaxis\":\"x\",\"y\":[50,11,6,10,2,31,52,85,90,93,82,74,54,29,33,60,79,88,75,62,72,22,16,14],\"yaxis\":\"y\",\"type\":\"histogram\"},{\"alignmentgroup\":\"True\",\"bingroup\":\"x\",\"histfunc\":\"sum\",\"hovertemplate\":\"issuing_agency=TEMPLE<br>Hour=%{x}<br>sum of Total_Tickets=%{y}<extra></extra>\",\"legendgroup\":\"TEMPLE\",\"marker\":{\"color\":\"#636efa\",\"pattern\":{\"shape\":\"\"}},\"name\":\"TEMPLE\",\"offsetgroup\":\"TEMPLE\",\"orientation\":\"v\",\"showlegend\":true,\"x\":[\"00\",\"01\",\"02\",\"03\",\"04\",\"05\",\"06\",\"07\",\"08\",\"09\",\"10\",\"11\",\"12\",\"13\",\"14\",\"15\",\"16\",\"17\",\"18\",\"19\",\"20\",\"21\",\"22\",\"23\"],\"xaxis\":\"x\",\"y\":[33,19,13,10,7,21,16,32,100,107,122,113,75,83,69,18,31,31,24,37,18,29,17,15],\"yaxis\":\"y\",\"type\":\"histogram\"},{\"alignmentgroup\":\"True\",\"bingroup\":\"x\",\"histfunc\":\"sum\",\"hovertemplate\":\"issuing_agency=UNASSIGN<br>Hour=%{x}<br>sum of Total_Tickets=%{y}<extra></extra>\",\"legendgroup\":\"UNASSIGN\",\"marker\":{\"color\":\"#EF553B\",\"pattern\":{\"shape\":\"\"}},\"name\":\"UNASSIGN\",\"offsetgroup\":\"UNASSIGN\",\"orientation\":\"v\",\"showlegend\":true,\"x\":[\"11\",\"16\",\"18\"],\"xaxis\":\"x\",\"y\":[3,1,1],\"yaxis\":\"y\",\"type\":\"histogram\"},{\"alignmentgroup\":\"True\",\"bingroup\":\"x\",\"histfunc\":\"sum\",\"hovertemplate\":\"issuing_agency=CONRAIL<br>Hour=%{x}<br>sum of Total_Tickets=%{y}<extra></extra>\",\"legendgroup\":\"CONRAIL\",\"marker\":{\"color\":\"#00cc96\",\"pattern\":{\"shape\":\"\"}},\"name\":\"CONRAIL\",\"offsetgroup\":\"CONRAIL\",\"orientation\":\"v\",\"showlegend\":true,\"x\":[\"21\"],\"xaxis\":\"x\",\"y\":[2],\"yaxis\":\"y\",\"type\":\"histogram\"}],                        {\"template\":{\"data\":{\"histogram2dcontour\":[{\"type\":\"histogram2dcontour\",\"colorbar\":{\"outlinewidth\":0,\"ticks\":\"\"},\"colorscale\":[[0.0,\"#0d0887\"],[0.1111111111111111,\"#46039f\"],[0.2222222222222222,\"#7201a8\"],[0.3333333333333333,\"#9c179e\"],[0.4444444444444444,\"#bd3786\"],[0.5555555555555556,\"#d8576b\"],[0.6666666666666666,\"#ed7953\"],[0.7777777777777778,\"#fb9f3a\"],[0.8888888888888888,\"#fdca26\"],[1.0,\"#f0f921\"]]}],\"choropleth\":[{\"type\":\"choropleth\",\"colorbar\":{\"outlinewidth\":0,\"ticks\":\"\"}}],\"histogram2d\":[{\"type\":\"histogram2d\",\"colorbar\":{\"outlinewidth\":0,\"ticks\":\"\"},\"colorscale\":[[0.0,\"#0d0887\"],[0.1111111111111111,\"#46039f\"],[0.2222222222222222,\"#7201a8\"],[0.3333333333333333,\"#9c179e\"],[0.4444444444444444,\"#bd3786\"],[0.5555555555555556,\"#d8576b\"],[0.6666666666666666,\"#ed7953\"],[0.7777777777777778,\"#fb9f3a\"],[0.8888888888888888,\"#fdca26\"],[1.0,\"#f0f921\"]]}],\"heatmap\":[{\"type\":\"heatmap\",\"colorbar\":{\"outlinewidth\":0,\"ticks\":\"\"},\"colorscale\":[[0.0,\"#0d0887\"],[0.1111111111111111,\"#46039f\"],[0.2222222222222222,\"#7201a8\"],[0.3333333333333333,\"#9c179e\"],[0.4444444444444444,\"#bd3786\"],[0.5555555555555556,\"#d8576b\"],[0.6666666666666666,\"#ed7953\"],[0.7777777777777778,\"#fb9f3a\"],[0.8888888888888888,\"#fdca26\"],[1.0,\"#f0f921\"]]}],\"heatmapgl\":[{\"type\":\"heatmapgl\",\"colorbar\":{\"outlinewidth\":0,\"ticks\":\"\"},\"colorscale\":[[0.0,\"#0d0887\"],[0.1111111111111111,\"#46039f\"],[0.2222222222222222,\"#7201a8\"],[0.3333333333333333,\"#9c179e\"],[0.4444444444444444,\"#bd3786\"],[0.5555555555555556,\"#d8576b\"],[0.6666666666666666,\"#ed7953\"],[0.7777777777777778,\"#fb9f3a\"],[0.8888888888888888,\"#fdca26\"],[1.0,\"#f0f921\"]]}],\"contourcarpet\":[{\"type\":\"contourcarpet\",\"colorbar\":{\"outlinewidth\":0,\"ticks\":\"\"}}],\"contour\":[{\"type\":\"contour\",\"colorbar\":{\"outlinewidth\":0,\"ticks\":\"\"},\"colorscale\":[[0.0,\"#0d0887\"],[0.1111111111111111,\"#46039f\"],[0.2222222222222222,\"#7201a8\"],[0.3333333333333333,\"#9c179e\"],[0.4444444444444444,\"#bd3786\"],[0.5555555555555556,\"#d8576b\"],[0.6666666666666666,\"#ed7953\"],[0.7777777777777778,\"#fb9f3a\"],[0.8888888888888888,\"#fdca26\"],[1.0,\"#f0f921\"]]}],\"surface\":[{\"type\":\"surface\",\"colorbar\":{\"outlinewidth\":0,\"ticks\":\"\"},\"colorscale\":[[0.0,\"#0d0887\"],[0.1111111111111111,\"#46039f\"],[0.2222222222222222,\"#7201a8\"],[0.3333333333333333,\"#9c179e\"],[0.4444444444444444,\"#bd3786\"],[0.5555555555555556,\"#d8576b\"],[0.6666666666666666,\"#ed7953\"],[0.7777777777777778,\"#fb9f3a\"],[0.8888888888888888,\"#fdca26\"],[1.0,\"#f0f921\"]]}],\"mesh3d\":[{\"type\":\"mesh3d\",\"colorbar\":{\"outlinewidth\":0,\"ticks\":\"\"}}],\"scatter\":[{\"fillpattern\":{\"fillmode\":\"overlay\",\"size\":10,\"solidity\":0.2},\"type\":\"scatter\"}],\"parcoords\":[{\"type\":\"parcoords\",\"line\":{\"colorbar\":{\"outlinewidth\":0,\"ticks\":\"\"}}}],\"scatterpolargl\":[{\"type\":\"scatterpolargl\",\"marker\":{\"colorbar\":{\"outlinewidth\":0,\"ticks\":\"\"}}}],\"bar\":[{\"error_x\":{\"color\":\"#2a3f5f\"},\"error_y\":{\"color\":\"#2a3f5f\"},\"marker\":{\"line\":{\"color\":\"#E5ECF6\",\"width\":0.5},\"pattern\":{\"fillmode\":\"overlay\",\"size\":10,\"solidity\":0.2}},\"type\":\"bar\"}],\"scattergeo\":[{\"type\":\"scattergeo\",\"marker\":{\"colorbar\":{\"outlinewidth\":0,\"ticks\":\"\"}}}],\"scatterpolar\":[{\"type\":\"scatterpolar\",\"marker\":{\"colorbar\":{\"outlinewidth\":0,\"ticks\":\"\"}}}],\"histogram\":[{\"marker\":{\"pattern\":{\"fillmode\":\"overlay\",\"size\":10,\"solidity\":0.2}},\"type\":\"histogram\"}],\"scattergl\":[{\"type\":\"scattergl\",\"marker\":{\"colorbar\":{\"outlinewidth\":0,\"ticks\":\"\"}}}],\"scatter3d\":[{\"type\":\"scatter3d\",\"line\":{\"colorbar\":{\"outlinewidth\":0,\"ticks\":\"\"}},\"marker\":{\"colorbar\":{\"outlinewidth\":0,\"ticks\":\"\"}}}],\"scattermapbox\":[{\"type\":\"scattermapbox\",\"marker\":{\"colorbar\":{\"outlinewidth\":0,\"ticks\":\"\"}}}],\"scatterternary\":[{\"type\":\"scatterternary\",\"marker\":{\"colorbar\":{\"outlinewidth\":0,\"ticks\":\"\"}}}],\"scattercarpet\":[{\"type\":\"scattercarpet\",\"marker\":{\"colorbar\":{\"outlinewidth\":0,\"ticks\":\"\"}}}],\"carpet\":[{\"aaxis\":{\"endlinecolor\":\"#2a3f5f\",\"gridcolor\":\"white\",\"linecolor\":\"white\",\"minorgridcolor\":\"white\",\"startlinecolor\":\"#2a3f5f\"},\"baxis\":{\"endlinecolor\":\"#2a3f5f\",\"gridcolor\":\"white\",\"linecolor\":\"white\",\"minorgridcolor\":\"white\",\"startlinecolor\":\"#2a3f5f\"},\"type\":\"carpet\"}],\"table\":[{\"cells\":{\"fill\":{\"color\":\"#EBF0F8\"},\"line\":{\"color\":\"white\"}},\"header\":{\"fill\":{\"color\":\"#C8D4E3\"},\"line\":{\"color\":\"white\"}},\"type\":\"table\"}],\"barpolar\":[{\"marker\":{\"line\":{\"color\":\"#E5ECF6\",\"width\":0.5},\"pattern\":{\"fillmode\":\"overlay\",\"size\":10,\"solidity\":0.2}},\"type\":\"barpolar\"}],\"pie\":[{\"automargin\":true,\"type\":\"pie\"}]},\"layout\":{\"autotypenumbers\":\"strict\",\"colorway\":[\"#636efa\",\"#EF553B\",\"#00cc96\",\"#ab63fa\",\"#FFA15A\",\"#19d3f3\",\"#FF6692\",\"#B6E880\",\"#FF97FF\",\"#FECB52\"],\"font\":{\"color\":\"#2a3f5f\"},\"hovermode\":\"closest\",\"hoverlabel\":{\"align\":\"left\"},\"paper_bgcolor\":\"white\",\"plot_bgcolor\":\"#E5ECF6\",\"polar\":{\"bgcolor\":\"#E5ECF6\",\"angularaxis\":{\"gridcolor\":\"white\",\"linecolor\":\"white\",\"ticks\":\"\"},\"radialaxis\":{\"gridcolor\":\"white\",\"linecolor\":\"white\",\"ticks\":\"\"}},\"ternary\":{\"bgcolor\":\"#E5ECF6\",\"aaxis\":{\"gridcolor\":\"white\",\"linecolor\":\"white\",\"ticks\":\"\"},\"baxis\":{\"gridcolor\":\"white\",\"linecolor\":\"white\",\"ticks\":\"\"},\"caxis\":{\"gridcolor\":\"white\",\"linecolor\":\"white\",\"ticks\":\"\"}},\"coloraxis\":{\"colorbar\":{\"outlinewidth\":0,\"ticks\":\"\"}},\"colorscale\":{\"sequential\":[[0.0,\"#0d0887\"],[0.1111111111111111,\"#46039f\"],[0.2222222222222222,\"#7201a8\"],[0.3333333333333333,\"#9c179e\"],[0.4444444444444444,\"#bd3786\"],[0.5555555555555556,\"#d8576b\"],[0.6666666666666666,\"#ed7953\"],[0.7777777777777778,\"#fb9f3a\"],[0.8888888888888888,\"#fdca26\"],[1.0,\"#f0f921\"]],\"sequentialminus\":[[0.0,\"#0d0887\"],[0.1111111111111111,\"#46039f\"],[0.2222222222222222,\"#7201a8\"],[0.3333333333333333,\"#9c179e\"],[0.4444444444444444,\"#bd3786\"],[0.5555555555555556,\"#d8576b\"],[0.6666666666666666,\"#ed7953\"],[0.7777777777777778,\"#fb9f3a\"],[0.8888888888888888,\"#fdca26\"],[1.0,\"#f0f921\"]],\"diverging\":[[0,\"#8e0152\"],[0.1,\"#c51b7d\"],[0.2,\"#de77ae\"],[0.3,\"#f1b6da\"],[0.4,\"#fde0ef\"],[0.5,\"#f7f7f7\"],[0.6,\"#e6f5d0\"],[0.7,\"#b8e186\"],[0.8,\"#7fbc41\"],[0.9,\"#4d9221\"],[1,\"#276419\"]]},\"xaxis\":{\"gridcolor\":\"white\",\"linecolor\":\"white\",\"ticks\":\"\",\"title\":{\"standoff\":15},\"zerolinecolor\":\"white\",\"automargin\":true,\"zerolinewidth\":2},\"yaxis\":{\"gridcolor\":\"white\",\"linecolor\":\"white\",\"ticks\":\"\",\"title\":{\"standoff\":15},\"zerolinecolor\":\"white\",\"automargin\":true,\"zerolinewidth\":2},\"scene\":{\"xaxis\":{\"backgroundcolor\":\"#E5ECF6\",\"gridcolor\":\"white\",\"linecolor\":\"white\",\"showbackground\":true,\"ticks\":\"\",\"zerolinecolor\":\"white\",\"gridwidth\":2},\"yaxis\":{\"backgroundcolor\":\"#E5ECF6\",\"gridcolor\":\"white\",\"linecolor\":\"white\",\"showbackground\":true,\"ticks\":\"\",\"zerolinecolor\":\"white\",\"gridwidth\":2},\"zaxis\":{\"backgroundcolor\":\"#E5ECF6\",\"gridcolor\":\"white\",\"linecolor\":\"white\",\"showbackground\":true,\"ticks\":\"\",\"zerolinecolor\":\"white\",\"gridwidth\":2}},\"shapedefaults\":{\"line\":{\"color\":\"#2a3f5f\"}},\"annotationdefaults\":{\"arrowcolor\":\"#2a3f5f\",\"arrowhead\":0,\"arrowwidth\":1},\"geo\":{\"bgcolor\":\"white\",\"landcolor\":\"#E5ECF6\",\"subunitcolor\":\"white\",\"showland\":true,\"showlakes\":true,\"lakecolor\":\"white\"},\"title\":{\"x\":0.05},\"mapbox\":{\"style\":\"light\"}}},\"xaxis\":{\"anchor\":\"y\",\"domain\":[0.0,1.0],\"title\":{\"text\":\"Hour\"}},\"yaxis\":{\"anchor\":\"x\",\"domain\":[0.0,1.0],\"title\":{\"text\":\"sum of Total_Tickets\"}},\"legend\":{\"title\":{\"text\":\"issuing_agency\"},\"tracegroupgap\":0},\"margin\":{\"t\":60},\"barmode\":\"stack\",\"bargap\":0.0},                        {\"responsive\": true}                    ).then(function(){\n",
       "                            \n",
       "var gd = document.getElementById('3753abbb-00fa-4e9d-a41c-8ddaff61f10b');\n",
       "var x = new MutationObserver(function (mutations, observer) {{\n",
       "        var display = window.getComputedStyle(gd).display;\n",
       "        if (!display || display === 'none') {{\n",
       "            console.log([gd, 'removed!']);\n",
       "            Plotly.purge(gd);\n",
       "            observer.disconnect();\n",
       "        }}\n",
       "}});\n",
       "\n",
       "// Listen for the removal of the full notebook cells\n",
       "var notebookContainer = gd.closest('#notebook-container');\n",
       "if (notebookContainer) {{\n",
       "    x.observe(notebookContainer, {childList: true});\n",
       "}}\n",
       "\n",
       "// Listen for the clearing of the current output cell\n",
       "var outputEl = gd.closest('.output');\n",
       "if (outputEl) {{\n",
       "    x.observe(outputEl, {childList: true});\n",
       "}}\n",
       "\n",
       "                        })                };                });            </script>        </div>"
      ]
     },
     "metadata": {},
     "output_type": "display_data"
    }
   ],
   "source": [
    "fig = px.histogram(run_query(FinesByHour), x=\"Hour\", y=\"Total_Tickets\", color=\"issuing_agency\")\n",
    "\n",
    "fig.update_layout(\n",
    "    bargap=0.0,# gap between bars of adjacent location coordinates\n",
    "    barmode='stack'\n",
    ")\n",
    "fig.show()"
   ]
  },
  {
   "cell_type": "markdown",
   "metadata": {},
   "source": [
    "### What is the distrubtion of tickets given throughout the week? <a class=\"anchor\" id=\"distribution-week\"></a>"
   ]
  },
  {
   "cell_type": "code",
   "execution_count": 37,
   "metadata": {
    "scrolled": true
   },
   "outputs": [
    {
     "data": {
      "text/html": [
       "<div>\n",
       "<style scoped>\n",
       "    .dataframe tbody tr th:only-of-type {\n",
       "        vertical-align: middle;\n",
       "    }\n",
       "\n",
       "    .dataframe tbody tr th {\n",
       "        vertical-align: top;\n",
       "    }\n",
       "\n",
       "    .dataframe thead th {\n",
       "        text-align: right;\n",
       "    }\n",
       "</style>\n",
       "<table border=\"1\" class=\"dataframe\">\n",
       "  <thead>\n",
       "    <tr style=\"text-align: right;\">\n",
       "      <th></th>\n",
       "      <th>DayOfWeek</th>\n",
       "      <th>DayOfWeekINT</th>\n",
       "      <th>ViolationDescription</th>\n",
       "      <th>CountOfViolations</th>\n",
       "    </tr>\n",
       "  </thead>\n",
       "  <tbody>\n",
       "    <tr>\n",
       "      <th>0</th>\n",
       "      <td>Sunday</td>\n",
       "      <td>0</td>\n",
       "      <td>EXPIRED INSPECTION</td>\n",
       "      <td>8276</td>\n",
       "    </tr>\n",
       "    <tr>\n",
       "      <th>1</th>\n",
       "      <td>Sunday</td>\n",
       "      <td>0</td>\n",
       "      <td>METER EXPIRED</td>\n",
       "      <td>29779</td>\n",
       "    </tr>\n",
       "    <tr>\n",
       "      <th>2</th>\n",
       "      <td>Sunday</td>\n",
       "      <td>0</td>\n",
       "      <td>OVER TIME LIMIT</td>\n",
       "      <td>5758</td>\n",
       "    </tr>\n",
       "    <tr>\n",
       "      <th>3</th>\n",
       "      <td>Sunday</td>\n",
       "      <td>0</td>\n",
       "      <td>PARKING PROHBITED</td>\n",
       "      <td>9363</td>\n",
       "    </tr>\n",
       "    <tr>\n",
       "      <th>4</th>\n",
       "      <td>Sunday</td>\n",
       "      <td>0</td>\n",
       "      <td>STOP PROHIBITED</td>\n",
       "      <td>6057</td>\n",
       "    </tr>\n",
       "    <tr>\n",
       "      <th>5</th>\n",
       "      <td>Monday</td>\n",
       "      <td>1</td>\n",
       "      <td>BUS ONLY ZONE</td>\n",
       "      <td>5190</td>\n",
       "    </tr>\n",
       "    <tr>\n",
       "      <th>6</th>\n",
       "      <td>Monday</td>\n",
       "      <td>1</td>\n",
       "      <td>EXPIRED INSPECTION</td>\n",
       "      <td>21436</td>\n",
       "    </tr>\n",
       "    <tr>\n",
       "      <th>7</th>\n",
       "      <td>Monday</td>\n",
       "      <td>1</td>\n",
       "      <td>METER EXPIRED</td>\n",
       "      <td>85595</td>\n",
       "    </tr>\n",
       "    <tr>\n",
       "      <th>8</th>\n",
       "      <td>Monday</td>\n",
       "      <td>1</td>\n",
       "      <td>OVER TIME LIMIT</td>\n",
       "      <td>32049</td>\n",
       "    </tr>\n",
       "    <tr>\n",
       "      <th>9</th>\n",
       "      <td>Monday</td>\n",
       "      <td>1</td>\n",
       "      <td>PARKING PROHBITED</td>\n",
       "      <td>19673</td>\n",
       "    </tr>\n",
       "    <tr>\n",
       "      <th>10</th>\n",
       "      <td>Monday</td>\n",
       "      <td>1</td>\n",
       "      <td>SIDEWALK</td>\n",
       "      <td>5167</td>\n",
       "    </tr>\n",
       "    <tr>\n",
       "      <th>11</th>\n",
       "      <td>Monday</td>\n",
       "      <td>1</td>\n",
       "      <td>STOP PROHIBITED</td>\n",
       "      <td>24301</td>\n",
       "    </tr>\n",
       "    <tr>\n",
       "      <th>12</th>\n",
       "      <td>Monday</td>\n",
       "      <td>1</td>\n",
       "      <td>STOPPING PROHIBITED</td>\n",
       "      <td>8254</td>\n",
       "    </tr>\n",
       "    <tr>\n",
       "      <th>13</th>\n",
       "      <td>Tuesday</td>\n",
       "      <td>2</td>\n",
       "      <td>BUS ONLY ZONE</td>\n",
       "      <td>6189</td>\n",
       "    </tr>\n",
       "    <tr>\n",
       "      <th>14</th>\n",
       "      <td>Tuesday</td>\n",
       "      <td>2</td>\n",
       "      <td>EXPIRED INSPECTION</td>\n",
       "      <td>26126</td>\n",
       "    </tr>\n",
       "    <tr>\n",
       "      <th>15</th>\n",
       "      <td>Tuesday</td>\n",
       "      <td>2</td>\n",
       "      <td>METER EXPIRED</td>\n",
       "      <td>99734</td>\n",
       "    </tr>\n",
       "    <tr>\n",
       "      <th>16</th>\n",
       "      <td>Tuesday</td>\n",
       "      <td>2</td>\n",
       "      <td>OVER TIME LIMIT</td>\n",
       "      <td>41176</td>\n",
       "    </tr>\n",
       "    <tr>\n",
       "      <th>17</th>\n",
       "      <td>Tuesday</td>\n",
       "      <td>2</td>\n",
       "      <td>PARKING PROHBITED</td>\n",
       "      <td>21860</td>\n",
       "    </tr>\n",
       "    <tr>\n",
       "      <th>18</th>\n",
       "      <td>Tuesday</td>\n",
       "      <td>2</td>\n",
       "      <td>PASSENGR LOADNG ZONE</td>\n",
       "      <td>5885</td>\n",
       "    </tr>\n",
       "    <tr>\n",
       "      <th>19</th>\n",
       "      <td>Tuesday</td>\n",
       "      <td>2</td>\n",
       "      <td>SIDEWALK</td>\n",
       "      <td>5196</td>\n",
       "    </tr>\n",
       "    <tr>\n",
       "      <th>20</th>\n",
       "      <td>Tuesday</td>\n",
       "      <td>2</td>\n",
       "      <td>STOP PROHIBITED</td>\n",
       "      <td>29976</td>\n",
       "    </tr>\n",
       "    <tr>\n",
       "      <th>21</th>\n",
       "      <td>Tuesday</td>\n",
       "      <td>2</td>\n",
       "      <td>STOPPING PROHIBITED</td>\n",
       "      <td>9291</td>\n",
       "    </tr>\n",
       "    <tr>\n",
       "      <th>22</th>\n",
       "      <td>Wednesday</td>\n",
       "      <td>3</td>\n",
       "      <td>BUS ONLY ZONE</td>\n",
       "      <td>6877</td>\n",
       "    </tr>\n",
       "    <tr>\n",
       "      <th>23</th>\n",
       "      <td>Wednesday</td>\n",
       "      <td>3</td>\n",
       "      <td>EXPIRED INSPECTION</td>\n",
       "      <td>27286</td>\n",
       "    </tr>\n",
       "    <tr>\n",
       "      <th>24</th>\n",
       "      <td>Wednesday</td>\n",
       "      <td>3</td>\n",
       "      <td>FIRE HYDRANT</td>\n",
       "      <td>5036</td>\n",
       "    </tr>\n",
       "    <tr>\n",
       "      <th>25</th>\n",
       "      <td>Wednesday</td>\n",
       "      <td>3</td>\n",
       "      <td>METER EXPIRED</td>\n",
       "      <td>107238</td>\n",
       "    </tr>\n",
       "    <tr>\n",
       "      <th>26</th>\n",
       "      <td>Wednesday</td>\n",
       "      <td>3</td>\n",
       "      <td>OVER TIME LIMIT</td>\n",
       "      <td>41667</td>\n",
       "    </tr>\n",
       "    <tr>\n",
       "      <th>27</th>\n",
       "      <td>Wednesday</td>\n",
       "      <td>3</td>\n",
       "      <td>PARKING PROHBITED</td>\n",
       "      <td>23029</td>\n",
       "    </tr>\n",
       "    <tr>\n",
       "      <th>28</th>\n",
       "      <td>Wednesday</td>\n",
       "      <td>3</td>\n",
       "      <td>PASSENGR LOADNG ZONE</td>\n",
       "      <td>6193</td>\n",
       "    </tr>\n",
       "    <tr>\n",
       "      <th>29</th>\n",
       "      <td>Wednesday</td>\n",
       "      <td>3</td>\n",
       "      <td>SIDEWALK</td>\n",
       "      <td>5968</td>\n",
       "    </tr>\n",
       "    <tr>\n",
       "      <th>30</th>\n",
       "      <td>Wednesday</td>\n",
       "      <td>3</td>\n",
       "      <td>STOP PROHIBITED</td>\n",
       "      <td>30427</td>\n",
       "    </tr>\n",
       "    <tr>\n",
       "      <th>31</th>\n",
       "      <td>Wednesday</td>\n",
       "      <td>3</td>\n",
       "      <td>STOPPING PROHIBITED</td>\n",
       "      <td>10429</td>\n",
       "    </tr>\n",
       "    <tr>\n",
       "      <th>32</th>\n",
       "      <td>Thursday</td>\n",
       "      <td>4</td>\n",
       "      <td>BUS ONLY ZONE</td>\n",
       "      <td>7049</td>\n",
       "    </tr>\n",
       "    <tr>\n",
       "      <th>33</th>\n",
       "      <td>Thursday</td>\n",
       "      <td>4</td>\n",
       "      <td>EXPIRED INSPECTION</td>\n",
       "      <td>27783</td>\n",
       "    </tr>\n",
       "    <tr>\n",
       "      <th>34</th>\n",
       "      <td>Thursday</td>\n",
       "      <td>4</td>\n",
       "      <td>FIRE HYDRANT</td>\n",
       "      <td>5006</td>\n",
       "    </tr>\n",
       "    <tr>\n",
       "      <th>35</th>\n",
       "      <td>Thursday</td>\n",
       "      <td>4</td>\n",
       "      <td>METER EXPIRED</td>\n",
       "      <td>108125</td>\n",
       "    </tr>\n",
       "    <tr>\n",
       "      <th>36</th>\n",
       "      <td>Thursday</td>\n",
       "      <td>4</td>\n",
       "      <td>OVER TIME LIMIT</td>\n",
       "      <td>47049</td>\n",
       "    </tr>\n",
       "    <tr>\n",
       "      <th>37</th>\n",
       "      <td>Thursday</td>\n",
       "      <td>4</td>\n",
       "      <td>PARKING PROHBITED</td>\n",
       "      <td>22708</td>\n",
       "    </tr>\n",
       "    <tr>\n",
       "      <th>38</th>\n",
       "      <td>Thursday</td>\n",
       "      <td>4</td>\n",
       "      <td>PASSENGR LOADNG ZONE</td>\n",
       "      <td>6176</td>\n",
       "    </tr>\n",
       "    <tr>\n",
       "      <th>39</th>\n",
       "      <td>Thursday</td>\n",
       "      <td>4</td>\n",
       "      <td>SIDEWALK</td>\n",
       "      <td>5521</td>\n",
       "    </tr>\n",
       "    <tr>\n",
       "      <th>40</th>\n",
       "      <td>Thursday</td>\n",
       "      <td>4</td>\n",
       "      <td>STOP PROHIBITED</td>\n",
       "      <td>30942</td>\n",
       "    </tr>\n",
       "    <tr>\n",
       "      <th>41</th>\n",
       "      <td>Thursday</td>\n",
       "      <td>4</td>\n",
       "      <td>STOPPING PROHIBITED</td>\n",
       "      <td>10631</td>\n",
       "    </tr>\n",
       "    <tr>\n",
       "      <th>42</th>\n",
       "      <td>Friday</td>\n",
       "      <td>5</td>\n",
       "      <td>BUS ONLY ZONE</td>\n",
       "      <td>7050</td>\n",
       "    </tr>\n",
       "    <tr>\n",
       "      <th>43</th>\n",
       "      <td>Friday</td>\n",
       "      <td>5</td>\n",
       "      <td>EXPIRED INSPECTION</td>\n",
       "      <td>26494</td>\n",
       "    </tr>\n",
       "    <tr>\n",
       "      <th>44</th>\n",
       "      <td>Friday</td>\n",
       "      <td>5</td>\n",
       "      <td>METER EXPIRED</td>\n",
       "      <td>108074</td>\n",
       "    </tr>\n",
       "    <tr>\n",
       "      <th>45</th>\n",
       "      <td>Friday</td>\n",
       "      <td>5</td>\n",
       "      <td>OVER TIME LIMIT</td>\n",
       "      <td>45941</td>\n",
       "    </tr>\n",
       "    <tr>\n",
       "      <th>46</th>\n",
       "      <td>Friday</td>\n",
       "      <td>5</td>\n",
       "      <td>PARKING PROHBITED</td>\n",
       "      <td>22930</td>\n",
       "    </tr>\n",
       "    <tr>\n",
       "      <th>47</th>\n",
       "      <td>Friday</td>\n",
       "      <td>5</td>\n",
       "      <td>PASSENGR LOADNG ZONE</td>\n",
       "      <td>5821</td>\n",
       "    </tr>\n",
       "    <tr>\n",
       "      <th>48</th>\n",
       "      <td>Friday</td>\n",
       "      <td>5</td>\n",
       "      <td>SIDEWALK</td>\n",
       "      <td>5540</td>\n",
       "    </tr>\n",
       "    <tr>\n",
       "      <th>49</th>\n",
       "      <td>Friday</td>\n",
       "      <td>5</td>\n",
       "      <td>STOP PROHIBITED</td>\n",
       "      <td>32490</td>\n",
       "    </tr>\n",
       "    <tr>\n",
       "      <th>50</th>\n",
       "      <td>Friday</td>\n",
       "      <td>5</td>\n",
       "      <td>STOPPING PROHIBITED</td>\n",
       "      <td>10705</td>\n",
       "    </tr>\n",
       "    <tr>\n",
       "      <th>51</th>\n",
       "      <td>Saturday</td>\n",
       "      <td>6</td>\n",
       "      <td>BUS ONLY ZONE</td>\n",
       "      <td>5135</td>\n",
       "    </tr>\n",
       "    <tr>\n",
       "      <th>52</th>\n",
       "      <td>Saturday</td>\n",
       "      <td>6</td>\n",
       "      <td>EXPIRED INSPECTION</td>\n",
       "      <td>19724</td>\n",
       "    </tr>\n",
       "    <tr>\n",
       "      <th>53</th>\n",
       "      <td>Saturday</td>\n",
       "      <td>6</td>\n",
       "      <td>METER EXPIRED</td>\n",
       "      <td>94453</td>\n",
       "    </tr>\n",
       "    <tr>\n",
       "      <th>54</th>\n",
       "      <td>Saturday</td>\n",
       "      <td>6</td>\n",
       "      <td>OVER TIME LIMIT</td>\n",
       "      <td>32833</td>\n",
       "    </tr>\n",
       "    <tr>\n",
       "      <th>55</th>\n",
       "      <td>Saturday</td>\n",
       "      <td>6</td>\n",
       "      <td>PARKING PROHBITED</td>\n",
       "      <td>14578</td>\n",
       "    </tr>\n",
       "    <tr>\n",
       "      <th>56</th>\n",
       "      <td>Saturday</td>\n",
       "      <td>6</td>\n",
       "      <td>STOP PROHIBITED</td>\n",
       "      <td>12710</td>\n",
       "    </tr>\n",
       "    <tr>\n",
       "      <th>57</th>\n",
       "      <td>Saturday</td>\n",
       "      <td>6</td>\n",
       "      <td>STOPPING PROHIBITED</td>\n",
       "      <td>7711</td>\n",
       "    </tr>\n",
       "  </tbody>\n",
       "</table>\n",
       "</div>"
      ],
      "text/plain": [
       "    DayOfWeek  DayOfWeekINT  ViolationDescription  CountOfViolations\n",
       "0      Sunday             0    EXPIRED INSPECTION               8276\n",
       "1      Sunday             0         METER EXPIRED              29779\n",
       "2      Sunday             0       OVER TIME LIMIT               5758\n",
       "3      Sunday             0     PARKING PROHBITED               9363\n",
       "4      Sunday             0       STOP PROHIBITED               6057\n",
       "5      Monday             1         BUS ONLY ZONE               5190\n",
       "6      Monday             1    EXPIRED INSPECTION              21436\n",
       "7      Monday             1         METER EXPIRED              85595\n",
       "8      Monday             1       OVER TIME LIMIT              32049\n",
       "9      Monday             1     PARKING PROHBITED              19673\n",
       "10     Monday             1              SIDEWALK               5167\n",
       "11     Monday             1       STOP PROHIBITED              24301\n",
       "12     Monday             1   STOPPING PROHIBITED               8254\n",
       "13    Tuesday             2         BUS ONLY ZONE               6189\n",
       "14    Tuesday             2    EXPIRED INSPECTION              26126\n",
       "15    Tuesday             2         METER EXPIRED              99734\n",
       "16    Tuesday             2       OVER TIME LIMIT              41176\n",
       "17    Tuesday             2     PARKING PROHBITED              21860\n",
       "18    Tuesday             2  PASSENGR LOADNG ZONE               5885\n",
       "19    Tuesday             2              SIDEWALK               5196\n",
       "20    Tuesday             2       STOP PROHIBITED              29976\n",
       "21    Tuesday             2   STOPPING PROHIBITED               9291\n",
       "22  Wednesday             3         BUS ONLY ZONE               6877\n",
       "23  Wednesday             3    EXPIRED INSPECTION              27286\n",
       "24  Wednesday             3          FIRE HYDRANT               5036\n",
       "25  Wednesday             3         METER EXPIRED             107238\n",
       "26  Wednesday             3       OVER TIME LIMIT              41667\n",
       "27  Wednesday             3     PARKING PROHBITED              23029\n",
       "28  Wednesday             3  PASSENGR LOADNG ZONE               6193\n",
       "29  Wednesday             3              SIDEWALK               5968\n",
       "30  Wednesday             3       STOP PROHIBITED              30427\n",
       "31  Wednesday             3   STOPPING PROHIBITED              10429\n",
       "32   Thursday             4         BUS ONLY ZONE               7049\n",
       "33   Thursday             4    EXPIRED INSPECTION              27783\n",
       "34   Thursday             4          FIRE HYDRANT               5006\n",
       "35   Thursday             4         METER EXPIRED             108125\n",
       "36   Thursday             4       OVER TIME LIMIT              47049\n",
       "37   Thursday             4     PARKING PROHBITED              22708\n",
       "38   Thursday             4  PASSENGR LOADNG ZONE               6176\n",
       "39   Thursday             4              SIDEWALK               5521\n",
       "40   Thursday             4       STOP PROHIBITED              30942\n",
       "41   Thursday             4   STOPPING PROHIBITED              10631\n",
       "42     Friday             5         BUS ONLY ZONE               7050\n",
       "43     Friday             5    EXPIRED INSPECTION              26494\n",
       "44     Friday             5         METER EXPIRED             108074\n",
       "45     Friday             5       OVER TIME LIMIT              45941\n",
       "46     Friday             5     PARKING PROHBITED              22930\n",
       "47     Friday             5  PASSENGR LOADNG ZONE               5821\n",
       "48     Friday             5              SIDEWALK               5540\n",
       "49     Friday             5       STOP PROHIBITED              32490\n",
       "50     Friday             5   STOPPING PROHIBITED              10705\n",
       "51   Saturday             6         BUS ONLY ZONE               5135\n",
       "52   Saturday             6    EXPIRED INSPECTION              19724\n",
       "53   Saturday             6         METER EXPIRED              94453\n",
       "54   Saturday             6       OVER TIME LIMIT              32833\n",
       "55   Saturday             6     PARKING PROHBITED              14578\n",
       "56   Saturday             6       STOP PROHIBITED              12710\n",
       "57   Saturday             6   STOPPING PROHIBITED               7711"
      ]
     },
     "execution_count": 37,
     "metadata": {},
     "output_type": "execute_result"
    }
   ],
   "source": [
    "# Fine seperated by day of week\n",
    "FinesByDayOfWeek = \"\"\"\n",
    "WITH FinesByDay AS (\n",
    "    SELECT\n",
    "        CASE \n",
    "          CAST (strftime('%w', issue_datetime) AS INTEGER)\n",
    "          WHEN 0 THEN 'Sunday'\n",
    "          WHEN 1 THEN 'Monday'\n",
    "          WHEN 2 THEN 'Tuesday'\n",
    "          WHEN 3 THEN 'Wednesday'\n",
    "          WHEN 4 THEN 'Thursday'\n",
    "          WHEN 5 THEN 'Friday'\n",
    "          ELSE 'Saturday' \n",
    "        END AS DayOfWeek,\n",
    "        CAST (strftime('%w', issue_datetime) AS INTEGER) AS DayOfWeekINT,\n",
    "        TRIM(violation_desc, ' CC') AS ViolationDescription,\n",
    "        COUNT(issue_datetime) as CountOfViolations\n",
    "    FROM PPA_2017_Dataset\n",
    "    GROUP BY DayOfWeek, ViolationDescription\n",
    "    ORDER BY DayOfWeekINT\n",
    ")\n",
    "\n",
    "SELECT *\n",
    "FROM FinesByDay\n",
    "WHERE CountOfViolations > 5000\n",
    "\"\"\"\n",
    "run_query(FinesByDayOfWeek)"
   ]
  },
  {
   "cell_type": "code",
   "execution_count": 38,
   "metadata": {},
   "outputs": [
    {
     "data": {
      "application/vnd.plotly.v1+json": {
       "config": {
        "plotlyServerURL": "https://plot.ly"
       },
       "data": [
        {
         "hovertemplate": "ViolationDescription=EXPIRED INSPECTION<br>DayOfWeek=%{x}<br>CountOfViolations=%{y}<extra></extra>",
         "legendgroup": "EXPIRED INSPECTION",
         "line": {
          "color": "#636efa",
          "dash": "solid"
         },
         "marker": {
          "symbol": "circle"
         },
         "mode": "lines",
         "name": "EXPIRED INSPECTION",
         "orientation": "v",
         "showlegend": true,
         "type": "scatter",
         "x": [
          "Sunday",
          "Monday",
          "Tuesday",
          "Wednesday",
          "Thursday",
          "Friday",
          "Saturday"
         ],
         "xaxis": "x",
         "y": [
          8276,
          21436,
          26126,
          27286,
          27783,
          26494,
          19724
         ],
         "yaxis": "y"
        },
        {
         "hovertemplate": "ViolationDescription=METER EXPIRED<br>DayOfWeek=%{x}<br>CountOfViolations=%{y}<extra></extra>",
         "legendgroup": "METER EXPIRED",
         "line": {
          "color": "#EF553B",
          "dash": "solid"
         },
         "marker": {
          "symbol": "circle"
         },
         "mode": "lines",
         "name": "METER EXPIRED",
         "orientation": "v",
         "showlegend": true,
         "type": "scatter",
         "x": [
          "Sunday",
          "Monday",
          "Tuesday",
          "Wednesday",
          "Thursday",
          "Friday",
          "Saturday"
         ],
         "xaxis": "x",
         "y": [
          29779,
          85595,
          99734,
          107238,
          108125,
          108074,
          94453
         ],
         "yaxis": "y"
        },
        {
         "hovertemplate": "ViolationDescription=OVER TIME LIMIT<br>DayOfWeek=%{x}<br>CountOfViolations=%{y}<extra></extra>",
         "legendgroup": "OVER TIME LIMIT",
         "line": {
          "color": "#00cc96",
          "dash": "solid"
         },
         "marker": {
          "symbol": "circle"
         },
         "mode": "lines",
         "name": "OVER TIME LIMIT",
         "orientation": "v",
         "showlegend": true,
         "type": "scatter",
         "x": [
          "Sunday",
          "Monday",
          "Tuesday",
          "Wednesday",
          "Thursday",
          "Friday",
          "Saturday"
         ],
         "xaxis": "x",
         "y": [
          5758,
          32049,
          41176,
          41667,
          47049,
          45941,
          32833
         ],
         "yaxis": "y"
        },
        {
         "hovertemplate": "ViolationDescription=PARKING PROHBITED<br>DayOfWeek=%{x}<br>CountOfViolations=%{y}<extra></extra>",
         "legendgroup": "PARKING PROHBITED",
         "line": {
          "color": "#ab63fa",
          "dash": "solid"
         },
         "marker": {
          "symbol": "circle"
         },
         "mode": "lines",
         "name": "PARKING PROHBITED",
         "orientation": "v",
         "showlegend": true,
         "type": "scatter",
         "x": [
          "Sunday",
          "Monday",
          "Tuesday",
          "Wednesday",
          "Thursday",
          "Friday",
          "Saturday"
         ],
         "xaxis": "x",
         "y": [
          9363,
          19673,
          21860,
          23029,
          22708,
          22930,
          14578
         ],
         "yaxis": "y"
        },
        {
         "hovertemplate": "ViolationDescription=STOP PROHIBITED<br>DayOfWeek=%{x}<br>CountOfViolations=%{y}<extra></extra>",
         "legendgroup": "STOP PROHIBITED",
         "line": {
          "color": "#FFA15A",
          "dash": "solid"
         },
         "marker": {
          "symbol": "circle"
         },
         "mode": "lines",
         "name": "STOP PROHIBITED",
         "orientation": "v",
         "showlegend": true,
         "type": "scatter",
         "x": [
          "Sunday",
          "Monday",
          "Tuesday",
          "Wednesday",
          "Thursday",
          "Friday",
          "Saturday"
         ],
         "xaxis": "x",
         "y": [
          6057,
          24301,
          29976,
          30427,
          30942,
          32490,
          12710
         ],
         "yaxis": "y"
        },
        {
         "hovertemplate": "ViolationDescription=BUS ONLY ZONE<br>DayOfWeek=%{x}<br>CountOfViolations=%{y}<extra></extra>",
         "legendgroup": "BUS ONLY ZONE",
         "line": {
          "color": "#19d3f3",
          "dash": "solid"
         },
         "marker": {
          "symbol": "circle"
         },
         "mode": "lines",
         "name": "BUS ONLY ZONE",
         "orientation": "v",
         "showlegend": true,
         "type": "scatter",
         "x": [
          "Monday",
          "Tuesday",
          "Wednesday",
          "Thursday",
          "Friday",
          "Saturday"
         ],
         "xaxis": "x",
         "y": [
          5190,
          6189,
          6877,
          7049,
          7050,
          5135
         ],
         "yaxis": "y"
        },
        {
         "hovertemplate": "ViolationDescription=SIDEWALK<br>DayOfWeek=%{x}<br>CountOfViolations=%{y}<extra></extra>",
         "legendgroup": "SIDEWALK",
         "line": {
          "color": "#FF6692",
          "dash": "solid"
         },
         "marker": {
          "symbol": "circle"
         },
         "mode": "lines",
         "name": "SIDEWALK",
         "orientation": "v",
         "showlegend": true,
         "type": "scatter",
         "x": [
          "Monday",
          "Tuesday",
          "Wednesday",
          "Thursday",
          "Friday"
         ],
         "xaxis": "x",
         "y": [
          5167,
          5196,
          5968,
          5521,
          5540
         ],
         "yaxis": "y"
        },
        {
         "hovertemplate": "ViolationDescription=STOPPING PROHIBITED<br>DayOfWeek=%{x}<br>CountOfViolations=%{y}<extra></extra>",
         "legendgroup": "STOPPING PROHIBITED",
         "line": {
          "color": "#B6E880",
          "dash": "solid"
         },
         "marker": {
          "symbol": "circle"
         },
         "mode": "lines",
         "name": "STOPPING PROHIBITED",
         "orientation": "v",
         "showlegend": true,
         "type": "scatter",
         "x": [
          "Monday",
          "Tuesday",
          "Wednesday",
          "Thursday",
          "Friday",
          "Saturday"
         ],
         "xaxis": "x",
         "y": [
          8254,
          9291,
          10429,
          10631,
          10705,
          7711
         ],
         "yaxis": "y"
        },
        {
         "hovertemplate": "ViolationDescription=PASSENGR LOADNG ZONE<br>DayOfWeek=%{x}<br>CountOfViolations=%{y}<extra></extra>",
         "legendgroup": "PASSENGR LOADNG ZONE",
         "line": {
          "color": "#FF97FF",
          "dash": "solid"
         },
         "marker": {
          "symbol": "circle"
         },
         "mode": "lines",
         "name": "PASSENGR LOADNG ZONE",
         "orientation": "v",
         "showlegend": true,
         "type": "scatter",
         "x": [
          "Tuesday",
          "Wednesday",
          "Thursday",
          "Friday"
         ],
         "xaxis": "x",
         "y": [
          5885,
          6193,
          6176,
          5821
         ],
         "yaxis": "y"
        },
        {
         "hovertemplate": "ViolationDescription=FIRE HYDRANT<br>DayOfWeek=%{x}<br>CountOfViolations=%{y}<extra></extra>",
         "legendgroup": "FIRE HYDRANT",
         "line": {
          "color": "#FECB52",
          "dash": "solid"
         },
         "marker": {
          "symbol": "circle"
         },
         "mode": "lines",
         "name": "FIRE HYDRANT",
         "orientation": "v",
         "showlegend": true,
         "type": "scatter",
         "x": [
          "Wednesday",
          "Thursday"
         ],
         "xaxis": "x",
         "y": [
          5036,
          5006
         ],
         "yaxis": "y"
        }
       ],
       "layout": {
        "legend": {
         "title": {
          "text": "ViolationDescription"
         },
         "tracegroupgap": 0
        },
        "template": {
         "data": {
          "bar": [
           {
            "error_x": {
             "color": "#2a3f5f"
            },
            "error_y": {
             "color": "#2a3f5f"
            },
            "marker": {
             "line": {
              "color": "#E5ECF6",
              "width": 0.5
             },
             "pattern": {
              "fillmode": "overlay",
              "size": 10,
              "solidity": 0.2
             }
            },
            "type": "bar"
           }
          ],
          "barpolar": [
           {
            "marker": {
             "line": {
              "color": "#E5ECF6",
              "width": 0.5
             },
             "pattern": {
              "fillmode": "overlay",
              "size": 10,
              "solidity": 0.2
             }
            },
            "type": "barpolar"
           }
          ],
          "carpet": [
           {
            "aaxis": {
             "endlinecolor": "#2a3f5f",
             "gridcolor": "white",
             "linecolor": "white",
             "minorgridcolor": "white",
             "startlinecolor": "#2a3f5f"
            },
            "baxis": {
             "endlinecolor": "#2a3f5f",
             "gridcolor": "white",
             "linecolor": "white",
             "minorgridcolor": "white",
             "startlinecolor": "#2a3f5f"
            },
            "type": "carpet"
           }
          ],
          "choropleth": [
           {
            "colorbar": {
             "outlinewidth": 0,
             "ticks": ""
            },
            "type": "choropleth"
           }
          ],
          "contour": [
           {
            "colorbar": {
             "outlinewidth": 0,
             "ticks": ""
            },
            "colorscale": [
             [
              0,
              "#0d0887"
             ],
             [
              0.1111111111111111,
              "#46039f"
             ],
             [
              0.2222222222222222,
              "#7201a8"
             ],
             [
              0.3333333333333333,
              "#9c179e"
             ],
             [
              0.4444444444444444,
              "#bd3786"
             ],
             [
              0.5555555555555556,
              "#d8576b"
             ],
             [
              0.6666666666666666,
              "#ed7953"
             ],
             [
              0.7777777777777778,
              "#fb9f3a"
             ],
             [
              0.8888888888888888,
              "#fdca26"
             ],
             [
              1,
              "#f0f921"
             ]
            ],
            "type": "contour"
           }
          ],
          "contourcarpet": [
           {
            "colorbar": {
             "outlinewidth": 0,
             "ticks": ""
            },
            "type": "contourcarpet"
           }
          ],
          "heatmap": [
           {
            "colorbar": {
             "outlinewidth": 0,
             "ticks": ""
            },
            "colorscale": [
             [
              0,
              "#0d0887"
             ],
             [
              0.1111111111111111,
              "#46039f"
             ],
             [
              0.2222222222222222,
              "#7201a8"
             ],
             [
              0.3333333333333333,
              "#9c179e"
             ],
             [
              0.4444444444444444,
              "#bd3786"
             ],
             [
              0.5555555555555556,
              "#d8576b"
             ],
             [
              0.6666666666666666,
              "#ed7953"
             ],
             [
              0.7777777777777778,
              "#fb9f3a"
             ],
             [
              0.8888888888888888,
              "#fdca26"
             ],
             [
              1,
              "#f0f921"
             ]
            ],
            "type": "heatmap"
           }
          ],
          "heatmapgl": [
           {
            "colorbar": {
             "outlinewidth": 0,
             "ticks": ""
            },
            "colorscale": [
             [
              0,
              "#0d0887"
             ],
             [
              0.1111111111111111,
              "#46039f"
             ],
             [
              0.2222222222222222,
              "#7201a8"
             ],
             [
              0.3333333333333333,
              "#9c179e"
             ],
             [
              0.4444444444444444,
              "#bd3786"
             ],
             [
              0.5555555555555556,
              "#d8576b"
             ],
             [
              0.6666666666666666,
              "#ed7953"
             ],
             [
              0.7777777777777778,
              "#fb9f3a"
             ],
             [
              0.8888888888888888,
              "#fdca26"
             ],
             [
              1,
              "#f0f921"
             ]
            ],
            "type": "heatmapgl"
           }
          ],
          "histogram": [
           {
            "marker": {
             "pattern": {
              "fillmode": "overlay",
              "size": 10,
              "solidity": 0.2
             }
            },
            "type": "histogram"
           }
          ],
          "histogram2d": [
           {
            "colorbar": {
             "outlinewidth": 0,
             "ticks": ""
            },
            "colorscale": [
             [
              0,
              "#0d0887"
             ],
             [
              0.1111111111111111,
              "#46039f"
             ],
             [
              0.2222222222222222,
              "#7201a8"
             ],
             [
              0.3333333333333333,
              "#9c179e"
             ],
             [
              0.4444444444444444,
              "#bd3786"
             ],
             [
              0.5555555555555556,
              "#d8576b"
             ],
             [
              0.6666666666666666,
              "#ed7953"
             ],
             [
              0.7777777777777778,
              "#fb9f3a"
             ],
             [
              0.8888888888888888,
              "#fdca26"
             ],
             [
              1,
              "#f0f921"
             ]
            ],
            "type": "histogram2d"
           }
          ],
          "histogram2dcontour": [
           {
            "colorbar": {
             "outlinewidth": 0,
             "ticks": ""
            },
            "colorscale": [
             [
              0,
              "#0d0887"
             ],
             [
              0.1111111111111111,
              "#46039f"
             ],
             [
              0.2222222222222222,
              "#7201a8"
             ],
             [
              0.3333333333333333,
              "#9c179e"
             ],
             [
              0.4444444444444444,
              "#bd3786"
             ],
             [
              0.5555555555555556,
              "#d8576b"
             ],
             [
              0.6666666666666666,
              "#ed7953"
             ],
             [
              0.7777777777777778,
              "#fb9f3a"
             ],
             [
              0.8888888888888888,
              "#fdca26"
             ],
             [
              1,
              "#f0f921"
             ]
            ],
            "type": "histogram2dcontour"
           }
          ],
          "mesh3d": [
           {
            "colorbar": {
             "outlinewidth": 0,
             "ticks": ""
            },
            "type": "mesh3d"
           }
          ],
          "parcoords": [
           {
            "line": {
             "colorbar": {
              "outlinewidth": 0,
              "ticks": ""
             }
            },
            "type": "parcoords"
           }
          ],
          "pie": [
           {
            "automargin": true,
            "type": "pie"
           }
          ],
          "scatter": [
           {
            "fillpattern": {
             "fillmode": "overlay",
             "size": 10,
             "solidity": 0.2
            },
            "type": "scatter"
           }
          ],
          "scatter3d": [
           {
            "line": {
             "colorbar": {
              "outlinewidth": 0,
              "ticks": ""
             }
            },
            "marker": {
             "colorbar": {
              "outlinewidth": 0,
              "ticks": ""
             }
            },
            "type": "scatter3d"
           }
          ],
          "scattercarpet": [
           {
            "marker": {
             "colorbar": {
              "outlinewidth": 0,
              "ticks": ""
             }
            },
            "type": "scattercarpet"
           }
          ],
          "scattergeo": [
           {
            "marker": {
             "colorbar": {
              "outlinewidth": 0,
              "ticks": ""
             }
            },
            "type": "scattergeo"
           }
          ],
          "scattergl": [
           {
            "marker": {
             "colorbar": {
              "outlinewidth": 0,
              "ticks": ""
             }
            },
            "type": "scattergl"
           }
          ],
          "scattermapbox": [
           {
            "marker": {
             "colorbar": {
              "outlinewidth": 0,
              "ticks": ""
             }
            },
            "type": "scattermapbox"
           }
          ],
          "scatterpolar": [
           {
            "marker": {
             "colorbar": {
              "outlinewidth": 0,
              "ticks": ""
             }
            },
            "type": "scatterpolar"
           }
          ],
          "scatterpolargl": [
           {
            "marker": {
             "colorbar": {
              "outlinewidth": 0,
              "ticks": ""
             }
            },
            "type": "scatterpolargl"
           }
          ],
          "scatterternary": [
           {
            "marker": {
             "colorbar": {
              "outlinewidth": 0,
              "ticks": ""
             }
            },
            "type": "scatterternary"
           }
          ],
          "surface": [
           {
            "colorbar": {
             "outlinewidth": 0,
             "ticks": ""
            },
            "colorscale": [
             [
              0,
              "#0d0887"
             ],
             [
              0.1111111111111111,
              "#46039f"
             ],
             [
              0.2222222222222222,
              "#7201a8"
             ],
             [
              0.3333333333333333,
              "#9c179e"
             ],
             [
              0.4444444444444444,
              "#bd3786"
             ],
             [
              0.5555555555555556,
              "#d8576b"
             ],
             [
              0.6666666666666666,
              "#ed7953"
             ],
             [
              0.7777777777777778,
              "#fb9f3a"
             ],
             [
              0.8888888888888888,
              "#fdca26"
             ],
             [
              1,
              "#f0f921"
             ]
            ],
            "type": "surface"
           }
          ],
          "table": [
           {
            "cells": {
             "fill": {
              "color": "#EBF0F8"
             },
             "line": {
              "color": "white"
             }
            },
            "header": {
             "fill": {
              "color": "#C8D4E3"
             },
             "line": {
              "color": "white"
             }
            },
            "type": "table"
           }
          ]
         },
         "layout": {
          "annotationdefaults": {
           "arrowcolor": "#2a3f5f",
           "arrowhead": 0,
           "arrowwidth": 1
          },
          "autotypenumbers": "strict",
          "coloraxis": {
           "colorbar": {
            "outlinewidth": 0,
            "ticks": ""
           }
          },
          "colorscale": {
           "diverging": [
            [
             0,
             "#8e0152"
            ],
            [
             0.1,
             "#c51b7d"
            ],
            [
             0.2,
             "#de77ae"
            ],
            [
             0.3,
             "#f1b6da"
            ],
            [
             0.4,
             "#fde0ef"
            ],
            [
             0.5,
             "#f7f7f7"
            ],
            [
             0.6,
             "#e6f5d0"
            ],
            [
             0.7,
             "#b8e186"
            ],
            [
             0.8,
             "#7fbc41"
            ],
            [
             0.9,
             "#4d9221"
            ],
            [
             1,
             "#276419"
            ]
           ],
           "sequential": [
            [
             0,
             "#0d0887"
            ],
            [
             0.1111111111111111,
             "#46039f"
            ],
            [
             0.2222222222222222,
             "#7201a8"
            ],
            [
             0.3333333333333333,
             "#9c179e"
            ],
            [
             0.4444444444444444,
             "#bd3786"
            ],
            [
             0.5555555555555556,
             "#d8576b"
            ],
            [
             0.6666666666666666,
             "#ed7953"
            ],
            [
             0.7777777777777778,
             "#fb9f3a"
            ],
            [
             0.8888888888888888,
             "#fdca26"
            ],
            [
             1,
             "#f0f921"
            ]
           ],
           "sequentialminus": [
            [
             0,
             "#0d0887"
            ],
            [
             0.1111111111111111,
             "#46039f"
            ],
            [
             0.2222222222222222,
             "#7201a8"
            ],
            [
             0.3333333333333333,
             "#9c179e"
            ],
            [
             0.4444444444444444,
             "#bd3786"
            ],
            [
             0.5555555555555556,
             "#d8576b"
            ],
            [
             0.6666666666666666,
             "#ed7953"
            ],
            [
             0.7777777777777778,
             "#fb9f3a"
            ],
            [
             0.8888888888888888,
             "#fdca26"
            ],
            [
             1,
             "#f0f921"
            ]
           ]
          },
          "colorway": [
           "#636efa",
           "#EF553B",
           "#00cc96",
           "#ab63fa",
           "#FFA15A",
           "#19d3f3",
           "#FF6692",
           "#B6E880",
           "#FF97FF",
           "#FECB52"
          ],
          "font": {
           "color": "#2a3f5f"
          },
          "geo": {
           "bgcolor": "white",
           "lakecolor": "white",
           "landcolor": "#E5ECF6",
           "showlakes": true,
           "showland": true,
           "subunitcolor": "white"
          },
          "hoverlabel": {
           "align": "left"
          },
          "hovermode": "closest",
          "mapbox": {
           "style": "light"
          },
          "paper_bgcolor": "white",
          "plot_bgcolor": "#E5ECF6",
          "polar": {
           "angularaxis": {
            "gridcolor": "white",
            "linecolor": "white",
            "ticks": ""
           },
           "bgcolor": "#E5ECF6",
           "radialaxis": {
            "gridcolor": "white",
            "linecolor": "white",
            "ticks": ""
           }
          },
          "scene": {
           "xaxis": {
            "backgroundcolor": "#E5ECF6",
            "gridcolor": "white",
            "gridwidth": 2,
            "linecolor": "white",
            "showbackground": true,
            "ticks": "",
            "zerolinecolor": "white"
           },
           "yaxis": {
            "backgroundcolor": "#E5ECF6",
            "gridcolor": "white",
            "gridwidth": 2,
            "linecolor": "white",
            "showbackground": true,
            "ticks": "",
            "zerolinecolor": "white"
           },
           "zaxis": {
            "backgroundcolor": "#E5ECF6",
            "gridcolor": "white",
            "gridwidth": 2,
            "linecolor": "white",
            "showbackground": true,
            "ticks": "",
            "zerolinecolor": "white"
           }
          },
          "shapedefaults": {
           "line": {
            "color": "#2a3f5f"
           }
          },
          "ternary": {
           "aaxis": {
            "gridcolor": "white",
            "linecolor": "white",
            "ticks": ""
           },
           "baxis": {
            "gridcolor": "white",
            "linecolor": "white",
            "ticks": ""
           },
           "bgcolor": "#E5ECF6",
           "caxis": {
            "gridcolor": "white",
            "linecolor": "white",
            "ticks": ""
           }
          },
          "title": {
           "x": 0.05
          },
          "xaxis": {
           "automargin": true,
           "gridcolor": "white",
           "linecolor": "white",
           "ticks": "",
           "title": {
            "standoff": 15
           },
           "zerolinecolor": "white",
           "zerolinewidth": 2
          },
          "yaxis": {
           "automargin": true,
           "gridcolor": "white",
           "linecolor": "white",
           "ticks": "",
           "title": {
            "standoff": 15
           },
           "zerolinecolor": "white",
           "zerolinewidth": 2
          }
         }
        },
        "title": {
         "text": "Violations by Day of the Week"
        },
        "xaxis": {
         "anchor": "y",
         "domain": [
          0,
          1
         ],
         "title": {
          "text": "DayOfWeek"
         }
        },
        "yaxis": {
         "anchor": "x",
         "domain": [
          0,
          1
         ],
         "title": {
          "text": "CountOfViolations"
         }
        }
       }
      },
      "text/html": [
       "<div>                            <div id=\"1ad71ebe-573f-4b60-877d-ec3f83e22329\" class=\"plotly-graph-div\" style=\"height:525px; width:100%;\"></div>            <script type=\"text/javascript\">                require([\"plotly\"], function(Plotly) {                    window.PLOTLYENV=window.PLOTLYENV || {};                                    if (document.getElementById(\"1ad71ebe-573f-4b60-877d-ec3f83e22329\")) {                    Plotly.newPlot(                        \"1ad71ebe-573f-4b60-877d-ec3f83e22329\",                        [{\"hovertemplate\":\"ViolationDescription=EXPIRED INSPECTION<br>DayOfWeek=%{x}<br>CountOfViolations=%{y}<extra></extra>\",\"legendgroup\":\"EXPIRED INSPECTION\",\"line\":{\"color\":\"#636efa\",\"dash\":\"solid\"},\"marker\":{\"symbol\":\"circle\"},\"mode\":\"lines\",\"name\":\"EXPIRED INSPECTION\",\"orientation\":\"v\",\"showlegend\":true,\"x\":[\"Sunday\",\"Monday\",\"Tuesday\",\"Wednesday\",\"Thursday\",\"Friday\",\"Saturday\"],\"xaxis\":\"x\",\"y\":[8276,21436,26126,27286,27783,26494,19724],\"yaxis\":\"y\",\"type\":\"scatter\"},{\"hovertemplate\":\"ViolationDescription=METER EXPIRED<br>DayOfWeek=%{x}<br>CountOfViolations=%{y}<extra></extra>\",\"legendgroup\":\"METER EXPIRED\",\"line\":{\"color\":\"#EF553B\",\"dash\":\"solid\"},\"marker\":{\"symbol\":\"circle\"},\"mode\":\"lines\",\"name\":\"METER EXPIRED\",\"orientation\":\"v\",\"showlegend\":true,\"x\":[\"Sunday\",\"Monday\",\"Tuesday\",\"Wednesday\",\"Thursday\",\"Friday\",\"Saturday\"],\"xaxis\":\"x\",\"y\":[29779,85595,99734,107238,108125,108074,94453],\"yaxis\":\"y\",\"type\":\"scatter\"},{\"hovertemplate\":\"ViolationDescription=OVER TIME LIMIT<br>DayOfWeek=%{x}<br>CountOfViolations=%{y}<extra></extra>\",\"legendgroup\":\"OVER TIME LIMIT\",\"line\":{\"color\":\"#00cc96\",\"dash\":\"solid\"},\"marker\":{\"symbol\":\"circle\"},\"mode\":\"lines\",\"name\":\"OVER TIME LIMIT\",\"orientation\":\"v\",\"showlegend\":true,\"x\":[\"Sunday\",\"Monday\",\"Tuesday\",\"Wednesday\",\"Thursday\",\"Friday\",\"Saturday\"],\"xaxis\":\"x\",\"y\":[5758,32049,41176,41667,47049,45941,32833],\"yaxis\":\"y\",\"type\":\"scatter\"},{\"hovertemplate\":\"ViolationDescription=PARKING PROHBITED<br>DayOfWeek=%{x}<br>CountOfViolations=%{y}<extra></extra>\",\"legendgroup\":\"PARKING PROHBITED\",\"line\":{\"color\":\"#ab63fa\",\"dash\":\"solid\"},\"marker\":{\"symbol\":\"circle\"},\"mode\":\"lines\",\"name\":\"PARKING PROHBITED\",\"orientation\":\"v\",\"showlegend\":true,\"x\":[\"Sunday\",\"Monday\",\"Tuesday\",\"Wednesday\",\"Thursday\",\"Friday\",\"Saturday\"],\"xaxis\":\"x\",\"y\":[9363,19673,21860,23029,22708,22930,14578],\"yaxis\":\"y\",\"type\":\"scatter\"},{\"hovertemplate\":\"ViolationDescription=STOP PROHIBITED<br>DayOfWeek=%{x}<br>CountOfViolations=%{y}<extra></extra>\",\"legendgroup\":\"STOP PROHIBITED\",\"line\":{\"color\":\"#FFA15A\",\"dash\":\"solid\"},\"marker\":{\"symbol\":\"circle\"},\"mode\":\"lines\",\"name\":\"STOP PROHIBITED\",\"orientation\":\"v\",\"showlegend\":true,\"x\":[\"Sunday\",\"Monday\",\"Tuesday\",\"Wednesday\",\"Thursday\",\"Friday\",\"Saturday\"],\"xaxis\":\"x\",\"y\":[6057,24301,29976,30427,30942,32490,12710],\"yaxis\":\"y\",\"type\":\"scatter\"},{\"hovertemplate\":\"ViolationDescription=BUS ONLY ZONE<br>DayOfWeek=%{x}<br>CountOfViolations=%{y}<extra></extra>\",\"legendgroup\":\"BUS ONLY ZONE\",\"line\":{\"color\":\"#19d3f3\",\"dash\":\"solid\"},\"marker\":{\"symbol\":\"circle\"},\"mode\":\"lines\",\"name\":\"BUS ONLY ZONE\",\"orientation\":\"v\",\"showlegend\":true,\"x\":[\"Monday\",\"Tuesday\",\"Wednesday\",\"Thursday\",\"Friday\",\"Saturday\"],\"xaxis\":\"x\",\"y\":[5190,6189,6877,7049,7050,5135],\"yaxis\":\"y\",\"type\":\"scatter\"},{\"hovertemplate\":\"ViolationDescription=SIDEWALK<br>DayOfWeek=%{x}<br>CountOfViolations=%{y}<extra></extra>\",\"legendgroup\":\"SIDEWALK\",\"line\":{\"color\":\"#FF6692\",\"dash\":\"solid\"},\"marker\":{\"symbol\":\"circle\"},\"mode\":\"lines\",\"name\":\"SIDEWALK\",\"orientation\":\"v\",\"showlegend\":true,\"x\":[\"Monday\",\"Tuesday\",\"Wednesday\",\"Thursday\",\"Friday\"],\"xaxis\":\"x\",\"y\":[5167,5196,5968,5521,5540],\"yaxis\":\"y\",\"type\":\"scatter\"},{\"hovertemplate\":\"ViolationDescription=STOPPING PROHIBITED<br>DayOfWeek=%{x}<br>CountOfViolations=%{y}<extra></extra>\",\"legendgroup\":\"STOPPING PROHIBITED\",\"line\":{\"color\":\"#B6E880\",\"dash\":\"solid\"},\"marker\":{\"symbol\":\"circle\"},\"mode\":\"lines\",\"name\":\"STOPPING PROHIBITED\",\"orientation\":\"v\",\"showlegend\":true,\"x\":[\"Monday\",\"Tuesday\",\"Wednesday\",\"Thursday\",\"Friday\",\"Saturday\"],\"xaxis\":\"x\",\"y\":[8254,9291,10429,10631,10705,7711],\"yaxis\":\"y\",\"type\":\"scatter\"},{\"hovertemplate\":\"ViolationDescription=PASSENGR LOADNG ZONE<br>DayOfWeek=%{x}<br>CountOfViolations=%{y}<extra></extra>\",\"legendgroup\":\"PASSENGR LOADNG ZONE\",\"line\":{\"color\":\"#FF97FF\",\"dash\":\"solid\"},\"marker\":{\"symbol\":\"circle\"},\"mode\":\"lines\",\"name\":\"PASSENGR LOADNG ZONE\",\"orientation\":\"v\",\"showlegend\":true,\"x\":[\"Tuesday\",\"Wednesday\",\"Thursday\",\"Friday\"],\"xaxis\":\"x\",\"y\":[5885,6193,6176,5821],\"yaxis\":\"y\",\"type\":\"scatter\"},{\"hovertemplate\":\"ViolationDescription=FIRE HYDRANT<br>DayOfWeek=%{x}<br>CountOfViolations=%{y}<extra></extra>\",\"legendgroup\":\"FIRE HYDRANT\",\"line\":{\"color\":\"#FECB52\",\"dash\":\"solid\"},\"marker\":{\"symbol\":\"circle\"},\"mode\":\"lines\",\"name\":\"FIRE HYDRANT\",\"orientation\":\"v\",\"showlegend\":true,\"x\":[\"Wednesday\",\"Thursday\"],\"xaxis\":\"x\",\"y\":[5036,5006],\"yaxis\":\"y\",\"type\":\"scatter\"}],                        {\"template\":{\"data\":{\"histogram2dcontour\":[{\"type\":\"histogram2dcontour\",\"colorbar\":{\"outlinewidth\":0,\"ticks\":\"\"},\"colorscale\":[[0.0,\"#0d0887\"],[0.1111111111111111,\"#46039f\"],[0.2222222222222222,\"#7201a8\"],[0.3333333333333333,\"#9c179e\"],[0.4444444444444444,\"#bd3786\"],[0.5555555555555556,\"#d8576b\"],[0.6666666666666666,\"#ed7953\"],[0.7777777777777778,\"#fb9f3a\"],[0.8888888888888888,\"#fdca26\"],[1.0,\"#f0f921\"]]}],\"choropleth\":[{\"type\":\"choropleth\",\"colorbar\":{\"outlinewidth\":0,\"ticks\":\"\"}}],\"histogram2d\":[{\"type\":\"histogram2d\",\"colorbar\":{\"outlinewidth\":0,\"ticks\":\"\"},\"colorscale\":[[0.0,\"#0d0887\"],[0.1111111111111111,\"#46039f\"],[0.2222222222222222,\"#7201a8\"],[0.3333333333333333,\"#9c179e\"],[0.4444444444444444,\"#bd3786\"],[0.5555555555555556,\"#d8576b\"],[0.6666666666666666,\"#ed7953\"],[0.7777777777777778,\"#fb9f3a\"],[0.8888888888888888,\"#fdca26\"],[1.0,\"#f0f921\"]]}],\"heatmap\":[{\"type\":\"heatmap\",\"colorbar\":{\"outlinewidth\":0,\"ticks\":\"\"},\"colorscale\":[[0.0,\"#0d0887\"],[0.1111111111111111,\"#46039f\"],[0.2222222222222222,\"#7201a8\"],[0.3333333333333333,\"#9c179e\"],[0.4444444444444444,\"#bd3786\"],[0.5555555555555556,\"#d8576b\"],[0.6666666666666666,\"#ed7953\"],[0.7777777777777778,\"#fb9f3a\"],[0.8888888888888888,\"#fdca26\"],[1.0,\"#f0f921\"]]}],\"heatmapgl\":[{\"type\":\"heatmapgl\",\"colorbar\":{\"outlinewidth\":0,\"ticks\":\"\"},\"colorscale\":[[0.0,\"#0d0887\"],[0.1111111111111111,\"#46039f\"],[0.2222222222222222,\"#7201a8\"],[0.3333333333333333,\"#9c179e\"],[0.4444444444444444,\"#bd3786\"],[0.5555555555555556,\"#d8576b\"],[0.6666666666666666,\"#ed7953\"],[0.7777777777777778,\"#fb9f3a\"],[0.8888888888888888,\"#fdca26\"],[1.0,\"#f0f921\"]]}],\"contourcarpet\":[{\"type\":\"contourcarpet\",\"colorbar\":{\"outlinewidth\":0,\"ticks\":\"\"}}],\"contour\":[{\"type\":\"contour\",\"colorbar\":{\"outlinewidth\":0,\"ticks\":\"\"},\"colorscale\":[[0.0,\"#0d0887\"],[0.1111111111111111,\"#46039f\"],[0.2222222222222222,\"#7201a8\"],[0.3333333333333333,\"#9c179e\"],[0.4444444444444444,\"#bd3786\"],[0.5555555555555556,\"#d8576b\"],[0.6666666666666666,\"#ed7953\"],[0.7777777777777778,\"#fb9f3a\"],[0.8888888888888888,\"#fdca26\"],[1.0,\"#f0f921\"]]}],\"surface\":[{\"type\":\"surface\",\"colorbar\":{\"outlinewidth\":0,\"ticks\":\"\"},\"colorscale\":[[0.0,\"#0d0887\"],[0.1111111111111111,\"#46039f\"],[0.2222222222222222,\"#7201a8\"],[0.3333333333333333,\"#9c179e\"],[0.4444444444444444,\"#bd3786\"],[0.5555555555555556,\"#d8576b\"],[0.6666666666666666,\"#ed7953\"],[0.7777777777777778,\"#fb9f3a\"],[0.8888888888888888,\"#fdca26\"],[1.0,\"#f0f921\"]]}],\"mesh3d\":[{\"type\":\"mesh3d\",\"colorbar\":{\"outlinewidth\":0,\"ticks\":\"\"}}],\"scatter\":[{\"fillpattern\":{\"fillmode\":\"overlay\",\"size\":10,\"solidity\":0.2},\"type\":\"scatter\"}],\"parcoords\":[{\"type\":\"parcoords\",\"line\":{\"colorbar\":{\"outlinewidth\":0,\"ticks\":\"\"}}}],\"scatterpolargl\":[{\"type\":\"scatterpolargl\",\"marker\":{\"colorbar\":{\"outlinewidth\":0,\"ticks\":\"\"}}}],\"bar\":[{\"error_x\":{\"color\":\"#2a3f5f\"},\"error_y\":{\"color\":\"#2a3f5f\"},\"marker\":{\"line\":{\"color\":\"#E5ECF6\",\"width\":0.5},\"pattern\":{\"fillmode\":\"overlay\",\"size\":10,\"solidity\":0.2}},\"type\":\"bar\"}],\"scattergeo\":[{\"type\":\"scattergeo\",\"marker\":{\"colorbar\":{\"outlinewidth\":0,\"ticks\":\"\"}}}],\"scatterpolar\":[{\"type\":\"scatterpolar\",\"marker\":{\"colorbar\":{\"outlinewidth\":0,\"ticks\":\"\"}}}],\"histogram\":[{\"marker\":{\"pattern\":{\"fillmode\":\"overlay\",\"size\":10,\"solidity\":0.2}},\"type\":\"histogram\"}],\"scattergl\":[{\"type\":\"scattergl\",\"marker\":{\"colorbar\":{\"outlinewidth\":0,\"ticks\":\"\"}}}],\"scatter3d\":[{\"type\":\"scatter3d\",\"line\":{\"colorbar\":{\"outlinewidth\":0,\"ticks\":\"\"}},\"marker\":{\"colorbar\":{\"outlinewidth\":0,\"ticks\":\"\"}}}],\"scattermapbox\":[{\"type\":\"scattermapbox\",\"marker\":{\"colorbar\":{\"outlinewidth\":0,\"ticks\":\"\"}}}],\"scatterternary\":[{\"type\":\"scatterternary\",\"marker\":{\"colorbar\":{\"outlinewidth\":0,\"ticks\":\"\"}}}],\"scattercarpet\":[{\"type\":\"scattercarpet\",\"marker\":{\"colorbar\":{\"outlinewidth\":0,\"ticks\":\"\"}}}],\"carpet\":[{\"aaxis\":{\"endlinecolor\":\"#2a3f5f\",\"gridcolor\":\"white\",\"linecolor\":\"white\",\"minorgridcolor\":\"white\",\"startlinecolor\":\"#2a3f5f\"},\"baxis\":{\"endlinecolor\":\"#2a3f5f\",\"gridcolor\":\"white\",\"linecolor\":\"white\",\"minorgridcolor\":\"white\",\"startlinecolor\":\"#2a3f5f\"},\"type\":\"carpet\"}],\"table\":[{\"cells\":{\"fill\":{\"color\":\"#EBF0F8\"},\"line\":{\"color\":\"white\"}},\"header\":{\"fill\":{\"color\":\"#C8D4E3\"},\"line\":{\"color\":\"white\"}},\"type\":\"table\"}],\"barpolar\":[{\"marker\":{\"line\":{\"color\":\"#E5ECF6\",\"width\":0.5},\"pattern\":{\"fillmode\":\"overlay\",\"size\":10,\"solidity\":0.2}},\"type\":\"barpolar\"}],\"pie\":[{\"automargin\":true,\"type\":\"pie\"}]},\"layout\":{\"autotypenumbers\":\"strict\",\"colorway\":[\"#636efa\",\"#EF553B\",\"#00cc96\",\"#ab63fa\",\"#FFA15A\",\"#19d3f3\",\"#FF6692\",\"#B6E880\",\"#FF97FF\",\"#FECB52\"],\"font\":{\"color\":\"#2a3f5f\"},\"hovermode\":\"closest\",\"hoverlabel\":{\"align\":\"left\"},\"paper_bgcolor\":\"white\",\"plot_bgcolor\":\"#E5ECF6\",\"polar\":{\"bgcolor\":\"#E5ECF6\",\"angularaxis\":{\"gridcolor\":\"white\",\"linecolor\":\"white\",\"ticks\":\"\"},\"radialaxis\":{\"gridcolor\":\"white\",\"linecolor\":\"white\",\"ticks\":\"\"}},\"ternary\":{\"bgcolor\":\"#E5ECF6\",\"aaxis\":{\"gridcolor\":\"white\",\"linecolor\":\"white\",\"ticks\":\"\"},\"baxis\":{\"gridcolor\":\"white\",\"linecolor\":\"white\",\"ticks\":\"\"},\"caxis\":{\"gridcolor\":\"white\",\"linecolor\":\"white\",\"ticks\":\"\"}},\"coloraxis\":{\"colorbar\":{\"outlinewidth\":0,\"ticks\":\"\"}},\"colorscale\":{\"sequential\":[[0.0,\"#0d0887\"],[0.1111111111111111,\"#46039f\"],[0.2222222222222222,\"#7201a8\"],[0.3333333333333333,\"#9c179e\"],[0.4444444444444444,\"#bd3786\"],[0.5555555555555556,\"#d8576b\"],[0.6666666666666666,\"#ed7953\"],[0.7777777777777778,\"#fb9f3a\"],[0.8888888888888888,\"#fdca26\"],[1.0,\"#f0f921\"]],\"sequentialminus\":[[0.0,\"#0d0887\"],[0.1111111111111111,\"#46039f\"],[0.2222222222222222,\"#7201a8\"],[0.3333333333333333,\"#9c179e\"],[0.4444444444444444,\"#bd3786\"],[0.5555555555555556,\"#d8576b\"],[0.6666666666666666,\"#ed7953\"],[0.7777777777777778,\"#fb9f3a\"],[0.8888888888888888,\"#fdca26\"],[1.0,\"#f0f921\"]],\"diverging\":[[0,\"#8e0152\"],[0.1,\"#c51b7d\"],[0.2,\"#de77ae\"],[0.3,\"#f1b6da\"],[0.4,\"#fde0ef\"],[0.5,\"#f7f7f7\"],[0.6,\"#e6f5d0\"],[0.7,\"#b8e186\"],[0.8,\"#7fbc41\"],[0.9,\"#4d9221\"],[1,\"#276419\"]]},\"xaxis\":{\"gridcolor\":\"white\",\"linecolor\":\"white\",\"ticks\":\"\",\"title\":{\"standoff\":15},\"zerolinecolor\":\"white\",\"automargin\":true,\"zerolinewidth\":2},\"yaxis\":{\"gridcolor\":\"white\",\"linecolor\":\"white\",\"ticks\":\"\",\"title\":{\"standoff\":15},\"zerolinecolor\":\"white\",\"automargin\":true,\"zerolinewidth\":2},\"scene\":{\"xaxis\":{\"backgroundcolor\":\"#E5ECF6\",\"gridcolor\":\"white\",\"linecolor\":\"white\",\"showbackground\":true,\"ticks\":\"\",\"zerolinecolor\":\"white\",\"gridwidth\":2},\"yaxis\":{\"backgroundcolor\":\"#E5ECF6\",\"gridcolor\":\"white\",\"linecolor\":\"white\",\"showbackground\":true,\"ticks\":\"\",\"zerolinecolor\":\"white\",\"gridwidth\":2},\"zaxis\":{\"backgroundcolor\":\"#E5ECF6\",\"gridcolor\":\"white\",\"linecolor\":\"white\",\"showbackground\":true,\"ticks\":\"\",\"zerolinecolor\":\"white\",\"gridwidth\":2}},\"shapedefaults\":{\"line\":{\"color\":\"#2a3f5f\"}},\"annotationdefaults\":{\"arrowcolor\":\"#2a3f5f\",\"arrowhead\":0,\"arrowwidth\":1},\"geo\":{\"bgcolor\":\"white\",\"landcolor\":\"#E5ECF6\",\"subunitcolor\":\"white\",\"showland\":true,\"showlakes\":true,\"lakecolor\":\"white\"},\"title\":{\"x\":0.05},\"mapbox\":{\"style\":\"light\"}}},\"xaxis\":{\"anchor\":\"y\",\"domain\":[0.0,1.0],\"title\":{\"text\":\"DayOfWeek\"}},\"yaxis\":{\"anchor\":\"x\",\"domain\":[0.0,1.0],\"title\":{\"text\":\"CountOfViolations\"}},\"legend\":{\"title\":{\"text\":\"ViolationDescription\"},\"tracegroupgap\":0},\"title\":{\"text\":\"Violations by Day of the Week\"}},                        {\"responsive\": true}                    ).then(function(){\n",
       "                            \n",
       "var gd = document.getElementById('1ad71ebe-573f-4b60-877d-ec3f83e22329');\n",
       "var x = new MutationObserver(function (mutations, observer) {{\n",
       "        var display = window.getComputedStyle(gd).display;\n",
       "        if (!display || display === 'none') {{\n",
       "            console.log([gd, 'removed!']);\n",
       "            Plotly.purge(gd);\n",
       "            observer.disconnect();\n",
       "        }}\n",
       "}});\n",
       "\n",
       "// Listen for the removal of the full notebook cells\n",
       "var notebookContainer = gd.closest('#notebook-container');\n",
       "if (notebookContainer) {{\n",
       "    x.observe(notebookContainer, {childList: true});\n",
       "}}\n",
       "\n",
       "// Listen for the clearing of the current output cell\n",
       "var outputEl = gd.closest('.output');\n",
       "if (outputEl) {{\n",
       "    x.observe(outputEl, {childList: true});\n",
       "}}\n",
       "\n",
       "                        })                };                });            </script>        </div>"
      ]
     },
     "metadata": {},
     "output_type": "display_data"
    }
   ],
   "source": [
    "fig = px.line(run_query(FinesByDayOfWeek), x=\"DayOfWeek\", y=\"CountOfViolations\", color=\"ViolationDescription\", title=\"Violations by Day of the Week\")\n",
    "fig.show()"
   ]
  },
  {
   "cell_type": "markdown",
   "metadata": {},
   "source": [
    "### What is the distrubtion of tickets given throughout the year? <a class=\"anchor\" id=\"distribution-year\"></a>"
   ]
  },
  {
   "cell_type": "code",
   "execution_count": 39,
   "metadata": {
    "scrolled": true
   },
   "outputs": [
    {
     "data": {
      "text/html": [
       "<div>\n",
       "<style scoped>\n",
       "    .dataframe tbody tr th:only-of-type {\n",
       "        vertical-align: middle;\n",
       "    }\n",
       "\n",
       "    .dataframe tbody tr th {\n",
       "        vertical-align: top;\n",
       "    }\n",
       "\n",
       "    .dataframe thead th {\n",
       "        text-align: right;\n",
       "    }\n",
       "</style>\n",
       "<table border=\"1\" class=\"dataframe\">\n",
       "  <thead>\n",
       "    <tr style=\"text-align: right;\">\n",
       "      <th></th>\n",
       "      <th>issue_datetime</th>\n",
       "      <th>Month</th>\n",
       "      <th>MonthINT</th>\n",
       "      <th>CountOfViolations</th>\n",
       "      <th>ViolationDescription</th>\n",
       "    </tr>\n",
       "  </thead>\n",
       "  <tbody>\n",
       "    <tr>\n",
       "      <th>0</th>\n",
       "      <td>2017-01-27 21:47:00</td>\n",
       "      <td>Jan</td>\n",
       "      <td>1</td>\n",
       "      <td>16</td>\n",
       "      <td>AR SHARE VEHS ONLY</td>\n",
       "    </tr>\n",
       "    <tr>\n",
       "      <th>1</th>\n",
       "      <td>2017-01-03 15:52:00</td>\n",
       "      <td>Jan</td>\n",
       "      <td>1</td>\n",
       "      <td>806</td>\n",
       "      <td>BLOCKING DRIVEWAY</td>\n",
       "    </tr>\n",
       "    <tr>\n",
       "      <th>2</th>\n",
       "      <td>2017-01-24 13:27:00</td>\n",
       "      <td>Jan</td>\n",
       "      <td>1</td>\n",
       "      <td>38</td>\n",
       "      <td>BLOCKNG MASS TRANSIT</td>\n",
       "    </tr>\n",
       "    <tr>\n",
       "      <th>3</th>\n",
       "      <td>2017-01-14 21:37:00</td>\n",
       "      <td>Jan</td>\n",
       "      <td>1</td>\n",
       "      <td>6</td>\n",
       "      <td>BUS NOT IN BUS STAND</td>\n",
       "    </tr>\n",
       "    <tr>\n",
       "      <th>4</th>\n",
       "      <td>2017-01-06 09:51:00</td>\n",
       "      <td>Jan</td>\n",
       "      <td>1</td>\n",
       "      <td>2985</td>\n",
       "      <td>BUS ONLY ZONE</td>\n",
       "    </tr>\n",
       "    <tr>\n",
       "      <th>...</th>\n",
       "      <td>...</td>\n",
       "      <td>...</td>\n",
       "      <td>...</td>\n",
       "      <td>...</td>\n",
       "      <td>...</td>\n",
       "    </tr>\n",
       "    <tr>\n",
       "      <th>773</th>\n",
       "      <td>2017-12-12 08:20:00</td>\n",
       "      <td>Dec</td>\n",
       "      <td>12</td>\n",
       "      <td>28</td>\n",
       "      <td>UNATTENDED VEH    29</td>\n",
       "    </tr>\n",
       "    <tr>\n",
       "      <th>774</th>\n",
       "      <td>2017-12-19 16:45:00</td>\n",
       "      <td>Dec</td>\n",
       "      <td>12</td>\n",
       "      <td>105</td>\n",
       "      <td>UNREG/ABANDONED VEH</td>\n",
       "    </tr>\n",
       "    <tr>\n",
       "      <th>775</th>\n",
       "      <td>2017-12-02 00:42:00</td>\n",
       "      <td>Dec</td>\n",
       "      <td>12</td>\n",
       "      <td>26</td>\n",
       "      <td>VALET VIOLATION</td>\n",
       "    </tr>\n",
       "    <tr>\n",
       "      <th>776</th>\n",
       "      <td>2017-12-02 00:58:00</td>\n",
       "      <td>Dec</td>\n",
       "      <td>12</td>\n",
       "      <td>158</td>\n",
       "      <td>VALET ZONE VIOLATION</td>\n",
       "    </tr>\n",
       "    <tr>\n",
       "      <th>777</th>\n",
       "      <td>2017-12-17 16:15:00</td>\n",
       "      <td>Dec</td>\n",
       "      <td>12</td>\n",
       "      <td>2</td>\n",
       "      <td>WASH/REPAIR VEH</td>\n",
       "    </tr>\n",
       "  </tbody>\n",
       "</table>\n",
       "<p>778 rows × 5 columns</p>\n",
       "</div>"
      ],
      "text/plain": [
       "          issue_datetime Month  MonthINT  CountOfViolations  \\\n",
       "0    2017-01-27 21:47:00   Jan         1                 16   \n",
       "1    2017-01-03 15:52:00   Jan         1                806   \n",
       "2    2017-01-24 13:27:00   Jan         1                 38   \n",
       "3    2017-01-14 21:37:00   Jan         1                  6   \n",
       "4    2017-01-06 09:51:00   Jan         1               2985   \n",
       "..                   ...   ...       ...                ...   \n",
       "773  2017-12-12 08:20:00   Dec        12                 28   \n",
       "774  2017-12-19 16:45:00   Dec        12                105   \n",
       "775  2017-12-02 00:42:00   Dec        12                 26   \n",
       "776  2017-12-02 00:58:00   Dec        12                158   \n",
       "777  2017-12-17 16:15:00   Dec        12                  2   \n",
       "\n",
       "     ViolationDescription  \n",
       "0      AR SHARE VEHS ONLY  \n",
       "1       BLOCKING DRIVEWAY  \n",
       "2    BLOCKNG MASS TRANSIT  \n",
       "3    BUS NOT IN BUS STAND  \n",
       "4           BUS ONLY ZONE  \n",
       "..                    ...  \n",
       "773  UNATTENDED VEH    29  \n",
       "774   UNREG/ABANDONED VEH  \n",
       "775       VALET VIOLATION  \n",
       "776  VALET ZONE VIOLATION  \n",
       "777       WASH/REPAIR VEH  \n",
       "\n",
       "[778 rows x 5 columns]"
      ]
     },
     "execution_count": 39,
     "metadata": {},
     "output_type": "execute_result"
    }
   ],
   "source": [
    "# Fine seperated by month\n",
    "FinesByMonth = \"\"\"\n",
    "SELECT\n",
    "    issue_datetime,\n",
    "    CASE \n",
    "        strftime('%m', issue_datetime)\n",
    "        WHEN '01' THEN 'Jan'\n",
    "        WHEN '02' THEN 'Feb'\n",
    "        WHEN '03' THEN 'Mar'\n",
    "        WHEN '04' THEN 'Apr'\n",
    "        WHEN '05' THEN 'May'\n",
    "        WHEN '06' THEN 'Jun'\n",
    "        WHEN '07' THEN 'Jul'\n",
    "        WHEN '08' THEN 'Aug'\n",
    "        WHEN '09' THEN 'Sep'\n",
    "        WHEN '10' THEN 'Oct'\n",
    "        WHEN '11' THEN 'Nov'\n",
    "        ELSE 'Dec' \n",
    "    END AS Month,\n",
    "    CAST(strftime('%m', issue_datetime) AS INTEGER) AS MonthINT,\n",
    "    COUNT(issue_datetime) AS CountOfViolations,\n",
    "    TRIM(violation_desc, ' CC') AS ViolationDescription\n",
    "FROM PPA_2017_Dataset\n",
    "GROUP BY Month, ViolationDescription\n",
    "ORDER BY MonthINT\n",
    "\"\"\"\n",
    "run_query(FinesByMonth)"
   ]
  },
  {
   "cell_type": "code",
   "execution_count": 40,
   "metadata": {
    "scrolled": false
   },
   "outputs": [
    {
     "data": {
      "application/vnd.plotly.v1+json": {
       "config": {
        "plotlyServerURL": "https://plot.ly"
       },
       "data": [
        {
         "hovertemplate": "ViolationDescription=AR SHARE VEHS ONLY<br>Month=%{x}<br>CountOfViolations=%{y}<extra></extra>",
         "legendgroup": "AR SHARE VEHS ONLY",
         "line": {
          "color": "#636efa",
          "dash": "solid"
         },
         "marker": {
          "symbol": "circle"
         },
         "mode": "lines",
         "name": "AR SHARE VEHS ONLY",
         "orientation": "v",
         "showlegend": true,
         "type": "scatter",
         "x": [
          "Jan",
          "Feb",
          "Mar",
          "Apr",
          "May",
          "Jun",
          "Jul",
          "Aug",
          "Sep",
          "Oct",
          "Nov",
          "Dec"
         ],
         "xaxis": "x",
         "y": [
          16,
          26,
          39,
          23,
          18,
          21,
          11,
          24,
          31,
          25,
          15,
          19
         ],
         "yaxis": "y"
        },
        {
         "hovertemplate": "ViolationDescription=BLOCKING DRIVEWAY<br>Month=%{x}<br>CountOfViolations=%{y}<extra></extra>",
         "legendgroup": "BLOCKING DRIVEWAY",
         "line": {
          "color": "#EF553B",
          "dash": "solid"
         },
         "marker": {
          "symbol": "circle"
         },
         "mode": "lines",
         "name": "BLOCKING DRIVEWAY",
         "orientation": "v",
         "showlegend": true,
         "type": "scatter",
         "x": [
          "Jan",
          "Feb",
          "Mar",
          "Apr",
          "May",
          "Jun",
          "Jul",
          "Aug",
          "Sep",
          "Oct",
          "Nov",
          "Dec"
         ],
         "xaxis": "x",
         "y": [
          806,
          1020,
          1267,
          1119,
          1150,
          1173,
          1097,
          1228,
          1235,
          1209,
          1192,
          945
         ],
         "yaxis": "y"
        },
        {
         "hovertemplate": "ViolationDescription=BLOCKNG MASS TRANSIT<br>Month=%{x}<br>CountOfViolations=%{y}<extra></extra>",
         "legendgroup": "BLOCKNG MASS TRANSIT",
         "line": {
          "color": "#00cc96",
          "dash": "solid"
         },
         "marker": {
          "symbol": "circle"
         },
         "mode": "lines",
         "name": "BLOCKNG MASS TRANSIT",
         "orientation": "v",
         "showlegend": true,
         "type": "scatter",
         "x": [
          "Jan",
          "Feb",
          "Mar",
          "Apr",
          "May",
          "Jun",
          "Jul",
          "Aug",
          "Sep",
          "Oct",
          "Nov",
          "Dec"
         ],
         "xaxis": "x",
         "y": [
          38,
          17,
          84,
          44,
          29,
          30,
          27,
          30,
          30,
          21,
          23,
          21
         ],
         "yaxis": "y"
        },
        {
         "hovertemplate": "ViolationDescription=BUS NOT IN BUS STAND<br>Month=%{x}<br>CountOfViolations=%{y}<extra></extra>",
         "legendgroup": "BUS NOT IN BUS STAND",
         "line": {
          "color": "#ab63fa",
          "dash": "solid"
         },
         "marker": {
          "symbol": "circle"
         },
         "mode": "lines",
         "name": "BUS NOT IN BUS STAND",
         "orientation": "v",
         "showlegend": true,
         "type": "scatter",
         "x": [
          "Jan",
          "Feb",
          "Mar",
          "Apr",
          "May",
          "Jun",
          "Jul",
          "Aug",
          "Sep",
          "Oct",
          "Nov",
          "Dec"
         ],
         "xaxis": "x",
         "y": [
          6,
          3,
          10,
          23,
          54,
          48,
          14,
          21,
          19,
          22,
          12,
          9
         ],
         "yaxis": "y"
        },
        {
         "hovertemplate": "ViolationDescription=BUS ONLY ZONE<br>Month=%{x}<br>CountOfViolations=%{y}<extra></extra>",
         "legendgroup": "BUS ONLY ZONE",
         "line": {
          "color": "#FFA15A",
          "dash": "solid"
         },
         "marker": {
          "symbol": "circle"
         },
         "mode": "lines",
         "name": "BUS ONLY ZONE",
         "orientation": "v",
         "showlegend": true,
         "type": "scatter",
         "x": [
          "Jan",
          "Feb",
          "Mar",
          "Apr",
          "May",
          "Jun",
          "Jul",
          "Aug",
          "Sep",
          "Oct",
          "Nov",
          "Dec"
         ],
         "xaxis": "x",
         "y": [
          2985,
          3034,
          3512,
          3379,
          3428,
          3222,
          2931,
          3511,
          3460,
          3460,
          3378,
          2681
         ],
         "yaxis": "y"
        },
        {
         "hovertemplate": "ViolationDescription=DISOBEY SIGN-PRHB 21<br>Month=%{x}<br>CountOfViolations=%{y}<extra></extra>",
         "legendgroup": "DISOBEY SIGN-PRHB 21",
         "line": {
          "color": "#19d3f3",
          "dash": "solid"
         },
         "marker": {
          "symbol": "circle"
         },
         "mode": "lines",
         "name": "DISOBEY SIGN-PRHB 21",
         "orientation": "v",
         "showlegend": true,
         "type": "scatter",
         "x": [
          "Jan",
          "Feb",
          "Jul",
          "Aug"
         ],
         "xaxis": "x",
         "y": [
          1,
          2,
          2,
          2
         ],
         "yaxis": "y"
        },
        {
         "hovertemplate": "ViolationDescription=DISOBEY SN-STANDING<br>Month=%{x}<br>CountOfViolations=%{y}<extra></extra>",
         "legendgroup": "DISOBEY SN-STANDING",
         "line": {
          "color": "#FF6692",
          "dash": "solid"
         },
         "marker": {
          "symbol": "circle"
         },
         "mode": "lines",
         "name": "DISOBEY SN-STANDING",
         "orientation": "v",
         "showlegend": true,
         "type": "scatter",
         "x": [
          "Jan",
          "Feb",
          "Apr",
          "May",
          "Jun",
          "Jul",
          "Aug",
          "Sep",
          "Nov"
         ],
         "xaxis": "x",
         "y": [
          1,
          1,
          7,
          3,
          3,
          1,
          1,
          2,
          1
         ],
         "yaxis": "y"
        },
        {
         "hovertemplate": "ViolationDescription=DISPLAY VEH FOR SALE<br>Month=%{x}<br>CountOfViolations=%{y}<extra></extra>",
         "legendgroup": "DISPLAY VEH FOR SALE",
         "line": {
          "color": "#B6E880",
          "dash": "solid"
         },
         "marker": {
          "symbol": "circle"
         },
         "mode": "lines",
         "name": "DISPLAY VEH FOR SALE",
         "orientation": "v",
         "showlegend": true,
         "type": "scatter",
         "x": [
          "Jan",
          "Feb",
          "Mar",
          "Apr",
          "May",
          "Jun",
          "Jul",
          "Aug",
          "Sep",
          "Oct",
          "Nov",
          "Dec"
         ],
         "xaxis": "x",
         "y": [
          43,
          37,
          32,
          66,
          34,
          20,
          32,
          24,
          19,
          18,
          25,
          9
         ],
         "yaxis": "y"
        },
        {
         "hovertemplate": "ViolationDescription=DOUBLE PARKED<br>Month=%{x}<br>CountOfViolations=%{y}<extra></extra>",
         "legendgroup": "DOUBLE PARKED",
         "line": {
          "color": "#FF97FF",
          "dash": "solid"
         },
         "marker": {
          "symbol": "circle"
         },
         "mode": "lines",
         "name": "DOUBLE PARKED",
         "orientation": "v",
         "showlegend": true,
         "type": "scatter",
         "x": [
          "Jan",
          "Feb",
          "Mar",
          "Apr",
          "May",
          "Jun",
          "Jul",
          "Aug",
          "Sep",
          "Oct",
          "Nov",
          "Dec"
         ],
         "xaxis": "x",
         "y": [
          1717,
          1645,
          2256,
          1865,
          2080,
          1928,
          1582,
          2029,
          2100,
          1961,
          1778,
          1573
         ],
         "yaxis": "y"
        },
        {
         "hovertemplate": "ViolationDescription=EXCESSIVE IDLING<br>Month=%{x}<br>CountOfViolations=%{y}<extra></extra>",
         "legendgroup": "EXCESSIVE IDLING",
         "line": {
          "color": "#FECB52",
          "dash": "solid"
         },
         "marker": {
          "symbol": "circle"
         },
         "mode": "lines",
         "name": "EXCESSIVE IDLING",
         "orientation": "v",
         "showlegend": true,
         "type": "scatter",
         "x": [
          "Jan",
          "Feb",
          "Mar",
          "Apr",
          "May",
          "Jun",
          "Jul",
          "Aug",
          "Sep",
          "Oct",
          "Dec"
         ],
         "xaxis": "x",
         "y": [
          6,
          6,
          6,
          3,
          1,
          5,
          4,
          11,
          4,
          3,
          4
         ],
         "yaxis": "y"
        },
        {
         "hovertemplate": "ViolationDescription=EXCESSIVE NOISE<br>Month=%{x}<br>CountOfViolations=%{y}<extra></extra>",
         "legendgroup": "EXCESSIVE NOISE",
         "line": {
          "color": "#636efa",
          "dash": "solid"
         },
         "marker": {
          "symbol": "circle"
         },
         "mode": "lines",
         "name": "EXCESSIVE NOISE",
         "orientation": "v",
         "showlegend": true,
         "type": "scatter",
         "x": [
          "Jan",
          "Feb",
          "Mar",
          "Apr",
          "May",
          "Jun",
          "Jul",
          "Aug",
          "Sep",
          "Oct",
          "Nov",
          "Dec"
         ],
         "xaxis": "x",
         "y": [
          11,
          8,
          3,
          11,
          14,
          29,
          18,
          20,
          9,
          11,
          2,
          1
         ],
         "yaxis": "y"
        },
        {
         "hovertemplate": "ViolationDescription=EXPIRED INSPECTION<br>Month=%{x}<br>CountOfViolations=%{y}<extra></extra>",
         "legendgroup": "EXPIRED INSPECTION",
         "line": {
          "color": "#EF553B",
          "dash": "solid"
         },
         "marker": {
          "symbol": "circle"
         },
         "mode": "lines",
         "name": "EXPIRED INSPECTION",
         "orientation": "v",
         "showlegend": true,
         "type": "scatter",
         "x": [
          "Jan",
          "Feb",
          "Mar",
          "Apr",
          "May",
          "Jun",
          "Jul",
          "Aug",
          "Sep",
          "Oct",
          "Nov",
          "Dec"
         ],
         "xaxis": "x",
         "y": [
          12303,
          11016,
          11705,
          12235,
          12914,
          13508,
          13787,
          15766,
          14271,
          15281,
          13802,
          10537
         ],
         "yaxis": "y"
        },
        {
         "hovertemplate": "ViolationDescription=EXPIRED TAG<br>Month=%{x}<br>CountOfViolations=%{y}<extra></extra>",
         "legendgroup": "EXPIRED TAG",
         "line": {
          "color": "#00cc96",
          "dash": "solid"
         },
         "marker": {
          "symbol": "circle"
         },
         "mode": "lines",
         "name": "EXPIRED TAG",
         "orientation": "v",
         "showlegend": true,
         "type": "scatter",
         "x": [
          "Jan",
          "Feb",
          "Mar",
          "Apr",
          "May",
          "Jun",
          "Jul",
          "Aug",
          "Sep",
          "Oct",
          "Nov",
          "Dec"
         ],
         "xaxis": "x",
         "y": [
          292,
          283,
          407,
          401,
          318,
          286,
          371,
          356,
          359,
          377,
          277,
          206
         ],
         "yaxis": "y"
        },
        {
         "hovertemplate": "ViolationDescription=FIRE HYDRANT<br>Month=%{x}<br>CountOfViolations=%{y}<extra></extra>",
         "legendgroup": "FIRE HYDRANT",
         "line": {
          "color": "#ab63fa",
          "dash": "solid"
         },
         "marker": {
          "symbol": "circle"
         },
         "mode": "lines",
         "name": "FIRE HYDRANT",
         "orientation": "v",
         "showlegend": true,
         "type": "scatter",
         "x": [
          "Jan",
          "Feb",
          "Mar",
          "Apr",
          "May",
          "Jun",
          "Jul",
          "Aug",
          "Sep",
          "Oct",
          "Nov",
          "Dec"
         ],
         "xaxis": "x",
         "y": [
          2759,
          2448,
          3069,
          2878,
          2922,
          2540,
          2119,
          2411,
          2737,
          2863,
          2673,
          2233
         ],
         "yaxis": "y"
        },
        {
         "hovertemplate": "ViolationDescription=HP RAMP BLOCKED<br>Month=%{x}<br>CountOfViolations=%{y}<extra></extra>",
         "legendgroup": "HP RAMP BLOCKED",
         "line": {
          "color": "#FFA15A",
          "dash": "solid"
         },
         "marker": {
          "symbol": "circle"
         },
         "mode": "lines",
         "name": "HP RAMP BLOCKED",
         "orientation": "v",
         "showlegend": true,
         "type": "scatter",
         "x": [
          "Jan",
          "Feb",
          "Mar",
          "Apr",
          "May",
          "Jun",
          "Jul",
          "Aug",
          "Sep",
          "Oct",
          "Nov",
          "Dec"
         ],
         "xaxis": "x",
         "y": [
          774,
          756,
          827,
          851,
          784,
          732,
          580,
          790,
          865,
          922,
          848,
          769
         ],
         "yaxis": "y"
        },
        {
         "hovertemplate": "ViolationDescription=HP RESERVED SPACE<br>Month=%{x}<br>CountOfViolations=%{y}<extra></extra>",
         "legendgroup": "HP RESERVED SPACE",
         "line": {
          "color": "#19d3f3",
          "dash": "solid"
         },
         "marker": {
          "symbol": "circle"
         },
         "mode": "lines",
         "name": "HP RESERVED SPACE",
         "orientation": "v",
         "showlegend": true,
         "type": "scatter",
         "x": [
          "Jan",
          "Feb",
          "Mar",
          "Apr",
          "May",
          "Jun",
          "Jul",
          "Aug",
          "Sep",
          "Oct",
          "Nov",
          "Dec"
         ],
         "xaxis": "x",
         "y": [
          1637,
          1667,
          1972,
          1954,
          2065,
          1999,
          1935,
          2173,
          2063,
          2030,
          2051,
          1653
         ],
         "yaxis": "y"
        },
        {
         "hovertemplate": "ViolationDescription=ILLEGAL PLACED TICKT<br>Month=%{x}<br>CountOfViolations=%{y}<extra></extra>",
         "legendgroup": "ILLEGAL PLACED TICKT",
         "line": {
          "color": "#FF6692",
          "dash": "solid"
         },
         "marker": {
          "symbol": "circle"
         },
         "mode": "lines",
         "name": "ILLEGAL PLACED TICKT",
         "orientation": "v",
         "showlegend": true,
         "type": "scatter",
         "x": [
          "Jan",
          "Feb",
          "Mar",
          "Apr",
          "May",
          "Jun",
          "Jul",
          "Sep",
          "Oct",
          "Nov",
          "Dec"
         ],
         "xaxis": "x",
         "y": [
          3,
          2,
          2,
          2,
          2,
          1,
          6,
          2,
          1,
          1,
          3
         ],
         "yaxis": "y"
        },
        {
         "hovertemplate": "ViolationDescription=IMPROPER ON 1WAY HWY<br>Month=%{x}<br>CountOfViolations=%{y}<extra></extra>",
         "legendgroup": "IMPROPER ON 1WAY HWY",
         "line": {
          "color": "#B6E880",
          "dash": "solid"
         },
         "marker": {
          "symbol": "circle"
         },
         "mode": "lines",
         "name": "IMPROPER ON 1WAY HWY",
         "orientation": "v",
         "showlegend": true,
         "type": "scatter",
         "x": [
          "Jan",
          "Feb",
          "Mar",
          "Apr",
          "May",
          "Jun",
          "Jul",
          "Aug",
          "Sep",
          "Oct",
          "Nov",
          "Dec"
         ],
         "xaxis": "x",
         "y": [
          68,
          73,
          99,
          67,
          85,
          54,
          64,
          68,
          75,
          85,
          69,
          63
         ],
         "yaxis": "y"
        },
        {
         "hovertemplate": "ViolationDescription=IMPROPER ON 2WAY HWY<br>Month=%{x}<br>CountOfViolations=%{y}<extra></extra>",
         "legendgroup": "IMPROPER ON 2WAY HWY",
         "line": {
          "color": "#FF97FF",
          "dash": "solid"
         },
         "marker": {
          "symbol": "circle"
         },
         "mode": "lines",
         "name": "IMPROPER ON 2WAY HWY",
         "orientation": "v",
         "showlegend": true,
         "type": "scatter",
         "x": [
          "Jan",
          "Feb",
          "Mar",
          "Apr",
          "May",
          "Jun",
          "Jul",
          "Aug",
          "Sep",
          "Oct",
          "Nov",
          "Dec"
         ],
         "xaxis": "x",
         "y": [
          306,
          919,
          1050,
          723,
          595,
          534,
          399,
          493,
          453,
          413,
          407,
          386
         ],
         "yaxis": "y"
        },
        {
         "hovertemplate": "ViolationDescription=IMPROPER-2WAY HWY 74<br>Month=%{x}<br>CountOfViolations=%{y}<extra></extra>",
         "legendgroup": "IMPROPER-2WAY HWY 74",
         "line": {
          "color": "#FECB52",
          "dash": "solid"
         },
         "marker": {
          "symbol": "circle"
         },
         "mode": "lines",
         "name": "IMPROPER-2WAY HWY 74",
         "orientation": "v",
         "showlegend": true,
         "type": "scatter",
         "x": [
          "Jan",
          "Feb",
          "Mar",
          "Apr",
          "May",
          "Aug",
          "Oct",
          "Dec"
         ],
         "xaxis": "x",
         "y": [
          1,
          1,
          2,
          2,
          2,
          1,
          2,
          1
         ],
         "yaxis": "y"
        },
        {
         "hovertemplate": "ViolationDescription=INVALID CONT PERMIT<br>Month=%{x}<br>CountOfViolations=%{y}<extra></extra>",
         "legendgroup": "INVALID CONT PERMIT",
         "line": {
          "color": "#636efa",
          "dash": "solid"
         },
         "marker": {
          "symbol": "circle"
         },
         "mode": "lines",
         "name": "INVALID CONT PERMIT",
         "orientation": "v",
         "showlegend": true,
         "type": "scatter",
         "x": [
          "Jan",
          "May",
          "Nov"
         ],
         "xaxis": "x",
         "y": [
          2,
          1,
          1
         ],
         "yaxis": "y"
        },
        {
         "hovertemplate": "ViolationDescription=INVALID KIOSK RECPT<br>Month=%{x}<br>CountOfViolations=%{y}<extra></extra>",
         "legendgroup": "INVALID KIOSK RECPT",
         "line": {
          "color": "#EF553B",
          "dash": "solid"
         },
         "marker": {
          "symbol": "circle"
         },
         "mode": "lines",
         "name": "INVALID KIOSK RECPT",
         "orientation": "v",
         "showlegend": true,
         "type": "scatter",
         "x": [
          "Jan",
          "Feb",
          "Mar",
          "Apr",
          "May",
          "Jun",
          "Jul",
          "Aug",
          "Sep",
          "Oct",
          "Nov",
          "Dec"
         ],
         "xaxis": "x",
         "y": [
          1,
          1,
          2,
          5,
          5,
          3,
          2,
          6,
          1,
          4,
          7,
          2
         ],
         "yaxis": "y"
        },
        {
         "hovertemplate": "ViolationDescription=LOADING ZONE<br>Month=%{x}<br>CountOfViolations=%{y}<extra></extra>",
         "legendgroup": "LOADING ZONE",
         "line": {
          "color": "#00cc96",
          "dash": "solid"
         },
         "marker": {
          "symbol": "circle"
         },
         "mode": "lines",
         "name": "LOADING ZONE",
         "orientation": "v",
         "showlegend": true,
         "type": "scatter",
         "x": [
          "Jan",
          "Feb",
          "Mar",
          "Apr",
          "May",
          "Jun",
          "Jul",
          "Aug",
          "Sep",
          "Oct",
          "Nov",
          "Dec"
         ],
         "xaxis": "x",
         "y": [
          2062,
          2006,
          2193,
          2028,
          1850,
          1928,
          1770,
          2227,
          2063,
          2218,
          2130,
          1923
         ],
         "yaxis": "y"
        },
        {
         "hovertemplate": "ViolationDescription=METER EXPIRED<br>Month=%{x}<br>CountOfViolations=%{y}<extra></extra>",
         "legendgroup": "METER EXPIRED",
         "line": {
          "color": "#ab63fa",
          "dash": "solid"
         },
         "marker": {
          "symbol": "circle"
         },
         "mode": "lines",
         "name": "METER EXPIRED",
         "orientation": "v",
         "showlegend": true,
         "type": "scatter",
         "x": [
          "Jan",
          "Feb",
          "Mar",
          "Apr",
          "May",
          "Jun",
          "Jul",
          "Aug",
          "Sep",
          "Oct",
          "Nov",
          "Dec"
         ],
         "xaxis": "x",
         "y": [
          48154,
          46735,
          52337,
          53061,
          56108,
          54189,
          51247,
          59922,
          55294,
          57232,
          55118,
          43601
         ],
         "yaxis": "y"
        },
        {
         "hovertemplate": "ViolationDescription=OMMRCL VEH RES AREA<br>Month=%{x}<br>CountOfViolations=%{y}<extra></extra>",
         "legendgroup": "OMMRCL VEH RES AREA",
         "line": {
          "color": "#FFA15A",
          "dash": "solid"
         },
         "marker": {
          "symbol": "circle"
         },
         "mode": "lines",
         "name": "OMMRCL VEH RES AREA",
         "orientation": "v",
         "showlegend": true,
         "type": "scatter",
         "x": [
          "Jan",
          "Feb",
          "Mar",
          "Apr",
          "May",
          "Jun",
          "Jul",
          "Aug",
          "Sep",
          "Oct",
          "Nov",
          "Dec"
         ],
         "xaxis": "x",
         "y": [
          65,
          43,
          74,
          91,
          64,
          40,
          39,
          48,
          46,
          99,
          38,
          44
         ],
         "yaxis": "y"
        },
        {
         "hovertemplate": "ViolationDescription=ON LIMITD ACCESS HW<br>Month=%{x}<br>CountOfViolations=%{y}<extra></extra>",
         "legendgroup": "ON LIMITD ACCESS HW",
         "line": {
          "color": "#19d3f3",
          "dash": "solid"
         },
         "marker": {
          "symbol": "circle"
         },
         "mode": "lines",
         "name": "ON LIMITD ACCESS HW",
         "orientation": "v",
         "showlegend": true,
         "type": "scatter",
         "x": [
          "Jan",
          "Feb",
          "Apr",
          "Aug",
          "Sep",
          "Oct"
         ],
         "xaxis": "x",
         "y": [
          1,
          2,
          2,
          3,
          1,
          1
         ],
         "yaxis": "y"
        },
        {
         "hovertemplate": "ViolationDescription=ORNER CLEARANCE<br>Month=%{x}<br>CountOfViolations=%{y}<extra></extra>",
         "legendgroup": "ORNER CLEARANCE",
         "line": {
          "color": "#FF6692",
          "dash": "solid"
         },
         "marker": {
          "symbol": "circle"
         },
         "mode": "lines",
         "name": "ORNER CLEARANCE",
         "orientation": "v",
         "showlegend": true,
         "type": "scatter",
         "x": [
          "Jan",
          "Feb",
          "Mar",
          "Apr",
          "May",
          "Jun",
          "Jul",
          "Aug",
          "Sep",
          "Oct",
          "Nov",
          "Dec"
         ],
         "xaxis": "x",
         "y": [
          1429,
          1468,
          1678,
          1765,
          1672,
          1461,
          1159,
          1405,
          1494,
          1340,
          1295,
          1061
         ],
         "yaxis": "y"
        },
        {
         "hovertemplate": "ViolationDescription=OUNTERFEIT HP PERM<br>Month=%{x}<br>CountOfViolations=%{y}<extra></extra>",
         "legendgroup": "OUNTERFEIT HP PERM",
         "line": {
          "color": "#B6E880",
          "dash": "solid"
         },
         "marker": {
          "symbol": "circle"
         },
         "mode": "lines",
         "name": "OUNTERFEIT HP PERM",
         "orientation": "v",
         "showlegend": true,
         "type": "scatter",
         "x": [
          "Jan",
          "Feb",
          "Mar",
          "Apr",
          "May",
          "Jun",
          "Jul",
          "Aug",
          "Sep",
          "Oct",
          "Nov",
          "Dec"
         ],
         "xaxis": "x",
         "y": [
          15,
          19,
          17,
          12,
          15,
          13,
          9,
          9,
          8,
          3,
          3,
          1
         ],
         "yaxis": "y"
        },
        {
         "hovertemplate": "ViolationDescription=OVER TIME LIMIT<br>Month=%{x}<br>CountOfViolations=%{y}<extra></extra>",
         "legendgroup": "OVER TIME LIMIT",
         "line": {
          "color": "#FF97FF",
          "dash": "solid"
         },
         "marker": {
          "symbol": "circle"
         },
         "mode": "lines",
         "name": "OVER TIME LIMIT",
         "orientation": "v",
         "showlegend": true,
         "type": "scatter",
         "x": [
          "Jan",
          "Feb",
          "Mar",
          "Apr",
          "May",
          "Jun",
          "Jul",
          "Aug",
          "Sep",
          "Oct",
          "Nov",
          "Dec"
         ],
         "xaxis": "x",
         "y": [
          19137,
          18326,
          20605,
          20313,
          20954,
          20291,
          17769,
          23225,
          21665,
          22424,
          22075,
          19689
         ],
         "yaxis": "y"
        },
        {
         "hovertemplate": "ViolationDescription=PARENTAL LIABILITY<br>Month=%{x}<br>CountOfViolations=%{y}<extra></extra>",
         "legendgroup": "PARENTAL LIABILITY",
         "line": {
          "color": "#FECB52",
          "dash": "solid"
         },
         "marker": {
          "symbol": "circle"
         },
         "mode": "lines",
         "name": "PARENTAL LIABILITY",
         "orientation": "v",
         "showlegend": true,
         "type": "scatter",
         "x": [
          "Jan",
          "Feb",
          "Mar",
          "Apr",
          "May",
          "Jun",
          "Jul",
          "Aug",
          "Sep",
          "Oct",
          "Nov",
          "Dec"
         ],
         "xaxis": "x",
         "y": [
          13,
          7,
          23,
          9,
          7,
          7,
          37,
          65,
          29,
          30,
          19,
          7
         ],
         "yaxis": "y"
        },
        {
         "hovertemplate": "ViolationDescription=PARK METER IMPROPER<br>Month=%{x}<br>CountOfViolations=%{y}<extra></extra>",
         "legendgroup": "PARK METER IMPROPER",
         "line": {
          "color": "#636efa",
          "dash": "solid"
         },
         "marker": {
          "symbol": "circle"
         },
         "mode": "lines",
         "name": "PARK METER IMPROPER",
         "orientation": "v",
         "showlegend": true,
         "type": "scatter",
         "x": [
          "Jan",
          "Feb",
          "Mar",
          "Apr",
          "May",
          "Jun",
          "Sep",
          "Nov",
          "Dec"
         ],
         "xaxis": "x",
         "y": [
          1,
          1,
          1,
          2,
          1,
          3,
          2,
          2,
          1
         ],
         "yaxis": "y"
        },
        {
         "hovertemplate": "ViolationDescription=PARK PROHIB PLACE<br>Month=%{x}<br>CountOfViolations=%{y}<extra></extra>",
         "legendgroup": "PARK PROHIB PLACE",
         "line": {
          "color": "#EF553B",
          "dash": "solid"
         },
         "marker": {
          "symbol": "circle"
         },
         "mode": "lines",
         "name": "PARK PROHIB PLACE",
         "orientation": "v",
         "showlegend": true,
         "type": "scatter",
         "x": [
          "Jan",
          "Mar",
          "Apr",
          "May",
          "Jun",
          "Jul",
          "Aug",
          "Sep",
          "Oct",
          "Nov"
         ],
         "xaxis": "x",
         "y": [
          1,
          4,
          3,
          11,
          8,
          2,
          21,
          3,
          3,
          3
         ],
         "yaxis": "y"
        },
        {
         "hovertemplate": "ViolationDescription=PARKED ON BRIDGE 14<br>Month=%{x}<br>CountOfViolations=%{y}<extra></extra>",
         "legendgroup": "PARKED ON BRIDGE 14",
         "line": {
          "color": "#00cc96",
          "dash": "solid"
         },
         "marker": {
          "symbol": "circle"
         },
         "mode": "lines",
         "name": "PARKED ON BRIDGE 14",
         "orientation": "v",
         "showlegend": true,
         "type": "scatter",
         "x": [
          "Jan",
          "Mar",
          "Apr",
          "Jun",
          "Aug",
          "Sep",
          "Oct",
          "Nov"
         ],
         "xaxis": "x",
         "y": [
          4,
          1,
          1,
          4,
          1,
          5,
          1,
          2
         ],
         "yaxis": "y"
        },
        {
         "hovertemplate": "ViolationDescription=PARKED ON GRASS<br>Month=%{x}<br>CountOfViolations=%{y}<extra></extra>",
         "legendgroup": "PARKED ON GRASS",
         "line": {
          "color": "#ab63fa",
          "dash": "solid"
         },
         "marker": {
          "symbol": "circle"
         },
         "mode": "lines",
         "name": "PARKED ON GRASS",
         "orientation": "v",
         "showlegend": true,
         "type": "scatter",
         "x": [
          "Jan",
          "Feb",
          "Mar",
          "Apr",
          "May",
          "Jun",
          "Jul",
          "Aug",
          "Sep",
          "Oct",
          "Nov",
          "Dec"
         ],
         "xaxis": "x",
         "y": [
          3,
          9,
          37,
          183,
          162,
          62,
          50,
          18,
          96,
          71,
          11,
          5
         ],
         "yaxis": "y"
        },
        {
         "hovertemplate": "ViolationDescription=PARKING PROHBITED<br>Month=%{x}<br>CountOfViolations=%{y}<extra></extra>",
         "legendgroup": "PARKING PROHBITED",
         "line": {
          "color": "#FFA15A",
          "dash": "solid"
         },
         "marker": {
          "symbol": "circle"
         },
         "mode": "lines",
         "name": "PARKING PROHBITED",
         "orientation": "v",
         "showlegend": true,
         "type": "scatter",
         "x": [
          "Jan",
          "Feb",
          "Mar",
          "Apr",
          "May",
          "Jun",
          "Jul",
          "Aug",
          "Sep",
          "Oct",
          "Nov",
          "Dec"
         ],
         "xaxis": "x",
         "y": [
          9939,
          10080,
          11876,
          11566,
          11577,
          11200,
          9967,
          11573,
          11681,
          12895,
          11835,
          9952
         ],
         "yaxis": "y"
        },
        {
         "hovertemplate": "ViolationDescription=PARKING PROHIBITED<br>Month=%{x}<br>CountOfViolations=%{y}<extra></extra>",
         "legendgroup": "PARKING PROHIBITED",
         "line": {
          "color": "#19d3f3",
          "dash": "solid"
         },
         "marker": {
          "symbol": "circle"
         },
         "mode": "lines",
         "name": "PARKING PROHIBITED",
         "orientation": "v",
         "showlegend": true,
         "type": "scatter",
         "x": [
          "Jan",
          "Mar",
          "May",
          "Jun",
          "Jul",
          "Aug",
          "Sep",
          "Oct",
          "Nov",
          "Dec"
         ],
         "xaxis": "x",
         "y": [
          2,
          13,
          1,
          13,
          15,
          26,
          10,
          3,
          20,
          2
         ],
         "yaxis": "y"
        },
        {
         "hovertemplate": "ViolationDescription=PASSENGR LOADNG ZONE<br>Month=%{x}<br>CountOfViolations=%{y}<extra></extra>",
         "legendgroup": "PASSENGR LOADNG ZONE",
         "line": {
          "color": "#FF6692",
          "dash": "solid"
         },
         "marker": {
          "symbol": "circle"
         },
         "mode": "lines",
         "name": "PASSENGR LOADNG ZONE",
         "orientation": "v",
         "showlegend": true,
         "type": "scatter",
         "x": [
          "Jan",
          "Feb",
          "Mar",
          "Apr",
          "May",
          "Jun",
          "Jul",
          "Aug",
          "Sep",
          "Oct",
          "Nov",
          "Dec"
         ],
         "xaxis": "x",
         "y": [
          2668,
          2686,
          2936,
          2664,
          2931,
          2773,
          2357,
          2954,
          2661,
          2781,
          2753,
          2670
         ],
         "yaxis": "y"
        },
        {
         "hovertemplate": "ViolationDescription=PKG W/LIC SUSPD 75<br>Month=%{x}<br>CountOfViolations=%{y}<extra></extra>",
         "legendgroup": "PKG W/LIC SUSPD 75",
         "line": {
          "color": "#B6E880",
          "dash": "solid"
         },
         "marker": {
          "symbol": "circle"
         },
         "mode": "lines",
         "name": "PKG W/LIC SUSPD 75",
         "orientation": "v",
         "showlegend": true,
         "type": "scatter",
         "x": [
          "Jan",
          "Feb",
          "Apr",
          "May",
          "Jun",
          "Jul",
          "Aug",
          "Sep",
          "Oct",
          "Dec"
         ],
         "xaxis": "x",
         "y": [
          3,
          15,
          6,
          1,
          1,
          2,
          5,
          2,
          4,
          4
         ],
         "yaxis": "y"
        },
        {
         "hovertemplate": "ViolationDescription=PRIVATE PROPERTY<br>Month=%{x}<br>CountOfViolations=%{y}<extra></extra>",
         "legendgroup": "PRIVATE PROPERTY",
         "line": {
          "color": "#FF97FF",
          "dash": "solid"
         },
         "marker": {
          "symbol": "circle"
         },
         "mode": "lines",
         "name": "PRIVATE PROPERTY",
         "orientation": "v",
         "showlegend": true,
         "type": "scatter",
         "x": [
          "Jan",
          "Feb",
          "Mar",
          "Apr",
          "May",
          "Jun",
          "Jul",
          "Aug",
          "Sep",
          "Oct",
          "Nov",
          "Dec"
         ],
         "xaxis": "x",
         "y": [
          103,
          453,
          524,
          652,
          700,
          770,
          747,
          746,
          736,
          782,
          709,
          537
         ],
         "yaxis": "y"
        },
        {
         "hovertemplate": "ViolationDescription=ROSSWALK<br>Month=%{x}<br>CountOfViolations=%{y}<extra></extra>",
         "legendgroup": "ROSSWALK",
         "line": {
          "color": "#FECB52",
          "dash": "solid"
         },
         "marker": {
          "symbol": "circle"
         },
         "mode": "lines",
         "name": "ROSSWALK",
         "orientation": "v",
         "showlegend": true,
         "type": "scatter",
         "x": [
          "Jan",
          "Feb",
          "Mar",
          "Apr",
          "May",
          "Jun",
          "Jul",
          "Aug",
          "Sep",
          "Oct",
          "Nov",
          "Dec"
         ],
         "xaxis": "x",
         "y": [
          1225,
          1017,
          1363,
          1238,
          1272,
          989,
          788,
          972,
          1130,
          1198,
          1193,
          995
         ],
         "yaxis": "y"
        },
        {
         "hovertemplate": "ViolationDescription=SCHOOL ZONE<br>Month=%{x}<br>CountOfViolations=%{y}<extra></extra>",
         "legendgroup": "SCHOOL ZONE",
         "line": {
          "color": "#636efa",
          "dash": "solid"
         },
         "marker": {
          "symbol": "circle"
         },
         "mode": "lines",
         "name": "SCHOOL ZONE",
         "orientation": "v",
         "showlegend": true,
         "type": "scatter",
         "x": [
          "Jan",
          "Feb",
          "Mar",
          "Apr",
          "May",
          "Jun",
          "Jul",
          "Aug",
          "Sep",
          "Oct",
          "Nov",
          "Dec"
         ],
         "xaxis": "x",
         "y": [
          997,
          1011,
          1363,
          954,
          1361,
          855,
          82,
          23,
          1283,
          1281,
          931,
          576
         ],
         "yaxis": "y"
        },
        {
         "hovertemplate": "ViolationDescription=SIDEWALK<br>Month=%{x}<br>CountOfViolations=%{y}<extra></extra>",
         "legendgroup": "SIDEWALK",
         "line": {
          "color": "#EF553B",
          "dash": "solid"
         },
         "marker": {
          "symbol": "circle"
         },
         "mode": "lines",
         "name": "SIDEWALK",
         "orientation": "v",
         "showlegend": true,
         "type": "scatter",
         "x": [
          "Jan",
          "Feb",
          "Mar",
          "Apr",
          "May",
          "Jun",
          "Jul",
          "Aug",
          "Sep",
          "Oct",
          "Nov",
          "Dec"
         ],
         "xaxis": "x",
         "y": [
          3107,
          3074,
          3701,
          3623,
          3449,
          2888,
          2453,
          2916,
          2982,
          3069,
          2891,
          2318
         ],
         "yaxis": "y"
        },
        {
         "hovertemplate": "ViolationDescription=STOP IN INTERSECTION<br>Month=%{x}<br>CountOfViolations=%{y}<extra></extra>",
         "legendgroup": "STOP IN INTERSECTION",
         "line": {
          "color": "#00cc96",
          "dash": "solid"
         },
         "marker": {
          "symbol": "circle"
         },
         "mode": "lines",
         "name": "STOP IN INTERSECTION",
         "orientation": "v",
         "showlegend": true,
         "type": "scatter",
         "x": [
          "Jan",
          "Feb",
          "Mar",
          "Apr",
          "May",
          "Jun",
          "Jul",
          "Aug",
          "Sep",
          "Oct",
          "Nov",
          "Dec"
         ],
         "xaxis": "x",
         "y": [
          5,
          3,
          4,
          6,
          5,
          2,
          7,
          5,
          6,
          9,
          4,
          8
         ],
         "yaxis": "y"
        },
        {
         "hovertemplate": "ViolationDescription=STOP MEDIAL STRIP<br>Month=%{x}<br>CountOfViolations=%{y}<extra></extra>",
         "legendgroup": "STOP MEDIAL STRIP",
         "line": {
          "color": "#ab63fa",
          "dash": "solid"
         },
         "marker": {
          "symbol": "circle"
         },
         "mode": "lines",
         "name": "STOP MEDIAL STRIP",
         "orientation": "v",
         "showlegend": true,
         "type": "scatter",
         "x": [
          "Jan",
          "Feb",
          "Mar",
          "Apr",
          "May",
          "Jun",
          "Jul",
          "Aug",
          "Sep",
          "Oct",
          "Nov",
          "Dec"
         ],
         "xaxis": "x",
         "y": [
          178,
          207,
          225,
          221,
          235,
          191,
          155,
          158,
          145,
          160,
          194,
          130
         ],
         "yaxis": "y"
        },
        {
         "hovertemplate": "ViolationDescription=STOP ON R/R TRACK 44<br>Month=%{x}<br>CountOfViolations=%{y}<extra></extra>",
         "legendgroup": "STOP ON R/R TRACK 44",
         "line": {
          "color": "#FFA15A",
          "dash": "solid"
         },
         "marker": {
          "symbol": "circle"
         },
         "mode": "lines",
         "name": "STOP ON R/R TRACK 44",
         "orientation": "v",
         "showlegend": true,
         "type": "scatter",
         "x": [
          "Jan",
          "Feb",
          "Mar",
          "May",
          "Jul",
          "Aug",
          "Sep",
          "Oct",
          "Nov",
          "Dec"
         ],
         "xaxis": "x",
         "y": [
          33,
          6,
          7,
          1,
          1,
          1,
          1,
          1,
          1,
          4
         ],
         "yaxis": "y"
        },
        {
         "hovertemplate": "ViolationDescription=STOP PROHIBITED<br>Month=%{x}<br>CountOfViolations=%{y}<extra></extra>",
         "legendgroup": "STOP PROHIBITED",
         "line": {
          "color": "#19d3f3",
          "dash": "solid"
         },
         "marker": {
          "symbol": "circle"
         },
         "mode": "lines",
         "name": "STOP PROHIBITED",
         "orientation": "v",
         "showlegend": true,
         "type": "scatter",
         "x": [
          "Jan",
          "Feb",
          "Mar",
          "Apr",
          "May",
          "Jun",
          "Jul",
          "Aug",
          "Sep",
          "Oct",
          "Nov",
          "Dec"
         ],
         "xaxis": "x",
         "y": [
          12596,
          12157,
          13922,
          13048,
          13970,
          14065,
          12753,
          15769,
          14728,
          15484,
          15143,
          13268
         ],
         "yaxis": "y"
        },
        {
         "hovertemplate": "ViolationDescription=STOP/BLOCK HIGHWAY<br>Month=%{x}<br>CountOfViolations=%{y}<extra></extra>",
         "legendgroup": "STOP/BLOCK HIGHWAY",
         "line": {
          "color": "#FF6692",
          "dash": "solid"
         },
         "marker": {
          "symbol": "circle"
         },
         "mode": "lines",
         "name": "STOP/BLOCK HIGHWAY",
         "orientation": "v",
         "showlegend": true,
         "type": "scatter",
         "x": [
          "Jan",
          "Feb",
          "Mar",
          "Apr",
          "May",
          "Jun",
          "Jul",
          "Aug",
          "Sep",
          "Oct",
          "Nov",
          "Dec"
         ],
         "xaxis": "x",
         "y": [
          56,
          41,
          69,
          62,
          27,
          26,
          30,
          21,
          37,
          43,
          24,
          17
         ],
         "yaxis": "y"
        },
        {
         "hovertemplate": "ViolationDescription=STOP/BLOCK HIWY<br>Month=%{x}<br>CountOfViolations=%{y}<extra></extra>",
         "legendgroup": "STOP/BLOCK HIWY",
         "line": {
          "color": "#B6E880",
          "dash": "solid"
         },
         "marker": {
          "symbol": "circle"
         },
         "mode": "lines",
         "name": "STOP/BLOCK HIWY",
         "orientation": "v",
         "showlegend": true,
         "type": "scatter",
         "x": [
          "Jan",
          "Feb",
          "Mar",
          "Apr",
          "May",
          "Jun",
          "Jul",
          "Aug",
          "Sep",
          "Oct",
          "Nov",
          "Dec"
         ],
         "xaxis": "x",
         "y": [
          6,
          4,
          9,
          19,
          14,
          12,
          8,
          9,
          10,
          19,
          10,
          6
         ],
         "yaxis": "y"
        },
        {
         "hovertemplate": "ViolationDescription=STOPPED IN SAFE ZONE<br>Month=%{x}<br>CountOfViolations=%{y}<extra></extra>",
         "legendgroup": "STOPPED IN SAFE ZONE",
         "line": {
          "color": "#FF97FF",
          "dash": "solid"
         },
         "marker": {
          "symbol": "circle"
         },
         "mode": "lines",
         "name": "STOPPED IN SAFE ZONE",
         "orientation": "v",
         "showlegend": true,
         "type": "scatter",
         "x": [
          "Jan",
          "Feb",
          "Mar",
          "Apr",
          "May",
          "Jun",
          "Jul",
          "Aug",
          "Sep",
          "Oct",
          "Nov",
          "Dec"
         ],
         "xaxis": "x",
         "y": [
          7,
          7,
          1,
          5,
          8,
          12,
          2,
          12,
          12,
          15,
          15,
          8
         ],
         "yaxis": "y"
        },
        {
         "hovertemplate": "ViolationDescription=STOPPING PROHIBITED<br>Month=%{x}<br>CountOfViolations=%{y}<extra></extra>",
         "legendgroup": "STOPPING PROHIBITED",
         "line": {
          "color": "#FECB52",
          "dash": "solid"
         },
         "marker": {
          "symbol": "circle"
         },
         "mode": "lines",
         "name": "STOPPING PROHIBITED",
         "orientation": "v",
         "showlegend": true,
         "type": "scatter",
         "x": [
          "Jan",
          "Feb",
          "Mar",
          "Apr",
          "May",
          "Jun",
          "Jul",
          "Aug",
          "Sep",
          "Oct",
          "Nov",
          "Dec"
         ],
         "xaxis": "x",
         "y": [
          4560,
          4322,
          5438,
          5267,
          5020,
          4809,
          4367,
          5624,
          5060,
          5566,
          5015,
          4259
         ],
         "yaxis": "y"
        },
        {
         "hovertemplate": "ViolationDescription=STREET CLEANING<br>Month=%{x}<br>CountOfViolations=%{y}<extra></extra>",
         "legendgroup": "STREET CLEANING",
         "line": {
          "color": "#636efa",
          "dash": "solid"
         },
         "marker": {
          "symbol": "circle"
         },
         "mode": "lines",
         "name": "STREET CLEANING",
         "orientation": "v",
         "showlegend": true,
         "type": "scatter",
         "x": [
          "Jan",
          "Feb",
          "Mar",
          "Apr",
          "May",
          "Jun",
          "Jul",
          "Aug",
          "Sep",
          "Oct",
          "Nov",
          "Dec"
         ],
         "xaxis": "x",
         "y": [
          727,
          687,
          746,
          747,
          852,
          861,
          809,
          695,
          591,
          529,
          580,
          666
         ],
         "yaxis": "y"
        },
        {
         "hovertemplate": "ViolationDescription=SUSPENDED LICENSE<br>Month=%{x}<br>CountOfViolations=%{y}<extra></extra>",
         "legendgroup": "SUSPENDED LICENSE",
         "line": {
          "color": "#EF553B",
          "dash": "solid"
         },
         "marker": {
          "symbol": "circle"
         },
         "mode": "lines",
         "name": "SUSPENDED LICENSE",
         "orientation": "v",
         "showlegend": true,
         "type": "scatter",
         "x": [
          "Jan",
          "Feb",
          "Mar",
          "Apr",
          "May",
          "Jun",
          "Jul",
          "Aug",
          "Sep",
          "Oct",
          "Nov",
          "Dec"
         ],
         "xaxis": "x",
         "y": [
          9,
          11,
          16,
          11,
          9,
          6,
          18,
          17,
          9,
          3,
          9,
          3
         ],
         "yaxis": "y"
        },
        {
         "hovertemplate": "ViolationDescription=TAXI NOT AT STAND<br>Month=%{x}<br>CountOfViolations=%{y}<extra></extra>",
         "legendgroup": "TAXI NOT AT STAND",
         "line": {
          "color": "#00cc96",
          "dash": "solid"
         },
         "marker": {
          "symbol": "circle"
         },
         "mode": "lines",
         "name": "TAXI NOT AT STAND",
         "orientation": "v",
         "showlegend": true,
         "type": "scatter",
         "x": [
          "Jan",
          "Feb",
          "Mar",
          "Apr",
          "May",
          "Jun",
          "Jul",
          "Aug",
          "Sep",
          "Oct",
          "Nov",
          "Dec"
         ],
         "xaxis": "x",
         "y": [
          2,
          5,
          7,
          4,
          1,
          3,
          1,
          1,
          1,
          4,
          2,
          1
         ],
         "yaxis": "y"
        },
        {
         "hovertemplate": "ViolationDescription=TAXI STAND<br>Month=%{x}<br>CountOfViolations=%{y}<extra></extra>",
         "legendgroup": "TAXI STAND",
         "line": {
          "color": "#ab63fa",
          "dash": "solid"
         },
         "marker": {
          "symbol": "circle"
         },
         "mode": "lines",
         "name": "TAXI STAND",
         "orientation": "v",
         "showlegend": true,
         "type": "scatter",
         "x": [
          "Jan",
          "Feb",
          "Mar",
          "Apr",
          "May",
          "Jun",
          "Jul",
          "Aug",
          "Sep",
          "Oct",
          "Nov",
          "Dec"
         ],
         "xaxis": "x",
         "y": [
          118,
          122,
          156,
          153,
          159,
          150,
          122,
          138,
          163,
          139,
          152,
          163
         ],
         "yaxis": "y"
        },
        {
         "hovertemplate": "ViolationDescription=UNATTENDED VEH    29<br>Month=%{x}<br>CountOfViolations=%{y}<extra></extra>",
         "legendgroup": "UNATTENDED VEH    29",
         "line": {
          "color": "#FFA15A",
          "dash": "solid"
         },
         "marker": {
          "symbol": "circle"
         },
         "mode": "lines",
         "name": "UNATTENDED VEH    29",
         "orientation": "v",
         "showlegend": true,
         "type": "scatter",
         "x": [
          "Jan",
          "Feb",
          "Mar",
          "Apr",
          "May",
          "Jun",
          "Jul",
          "Aug",
          "Sep",
          "Oct",
          "Nov",
          "Dec"
         ],
         "xaxis": "x",
         "y": [
          52,
          31,
          38,
          33,
          36,
          52,
          55,
          53,
          36,
          50,
          49,
          28
         ],
         "yaxis": "y"
        },
        {
         "hovertemplate": "ViolationDescription=UNLAWFUL ALARM<br>Month=%{x}<br>CountOfViolations=%{y}<extra></extra>",
         "legendgroup": "UNLAWFUL ALARM",
         "line": {
          "color": "#19d3f3",
          "dash": "solid"
         },
         "marker": {
          "symbol": "circle"
         },
         "mode": "lines",
         "name": "UNLAWFUL ALARM",
         "orientation": "v",
         "showlegend": true,
         "type": "scatter",
         "x": [
          "Jan",
          "Feb",
          "Mar",
          "Apr",
          "May",
          "Jun",
          "Aug",
          "Oct"
         ],
         "xaxis": "x",
         "y": [
          3,
          1,
          2,
          6,
          5,
          2,
          3,
          1
         ],
         "yaxis": "y"
        },
        {
         "hovertemplate": "ViolationDescription=UNMETERED SPACE<br>Month=%{x}<br>CountOfViolations=%{y}<extra></extra>",
         "legendgroup": "UNMETERED SPACE",
         "line": {
          "color": "#FF6692",
          "dash": "solid"
         },
         "marker": {
          "symbol": "circle"
         },
         "mode": "lines",
         "name": "UNMETERED SPACE",
         "orientation": "v",
         "showlegend": true,
         "type": "scatter",
         "x": [
          "Jan",
          "Mar",
          "Apr",
          "Jun",
          "Aug",
          "Nov"
         ],
         "xaxis": "x",
         "y": [
          1,
          30,
          4,
          1,
          1,
          2
         ],
         "yaxis": "y"
        },
        {
         "hovertemplate": "ViolationDescription=UNREG/ABANDONED VEH<br>Month=%{x}<br>CountOfViolations=%{y}<extra></extra>",
         "legendgroup": "UNREG/ABANDONED VEH",
         "line": {
          "color": "#B6E880",
          "dash": "solid"
         },
         "marker": {
          "symbol": "circle"
         },
         "mode": "lines",
         "name": "UNREG/ABANDONED VEH",
         "orientation": "v",
         "showlegend": true,
         "type": "scatter",
         "x": [
          "Jan",
          "Feb",
          "Mar",
          "Apr",
          "May",
          "Jun",
          "Jul",
          "Aug",
          "Sep",
          "Oct",
          "Nov",
          "Dec"
         ],
         "xaxis": "x",
         "y": [
          731,
          928,
          907,
          900,
          1014,
          861,
          482,
          977,
          712,
          915,
          575,
          105
         ],
         "yaxis": "y"
        },
        {
         "hovertemplate": "ViolationDescription=VALET VIOLATION<br>Month=%{x}<br>CountOfViolations=%{y}<extra></extra>",
         "legendgroup": "VALET VIOLATION",
         "line": {
          "color": "#FF97FF",
          "dash": "solid"
         },
         "marker": {
          "symbol": "circle"
         },
         "mode": "lines",
         "name": "VALET VIOLATION",
         "orientation": "v",
         "showlegend": true,
         "type": "scatter",
         "x": [
          "Jan",
          "Feb",
          "Mar",
          "Apr",
          "May",
          "Jun",
          "Jul",
          "Aug",
          "Sep",
          "Oct",
          "Nov",
          "Dec"
         ],
         "xaxis": "x",
         "y": [
          6,
          6,
          16,
          11,
          21,
          24,
          45,
          43,
          27,
          6,
          15,
          26
         ],
         "yaxis": "y"
        },
        {
         "hovertemplate": "ViolationDescription=VALET ZONE VIOLATION<br>Month=%{x}<br>CountOfViolations=%{y}<extra></extra>",
         "legendgroup": "VALET ZONE VIOLATION",
         "line": {
          "color": "#FECB52",
          "dash": "solid"
         },
         "marker": {
          "symbol": "circle"
         },
         "mode": "lines",
         "name": "VALET ZONE VIOLATION",
         "orientation": "v",
         "showlegend": true,
         "type": "scatter",
         "x": [
          "Jan",
          "Feb",
          "Mar",
          "Apr",
          "May",
          "Jun",
          "Jul",
          "Aug",
          "Sep",
          "Oct",
          "Nov",
          "Dec"
         ],
         "xaxis": "x",
         "y": [
          120,
          179,
          157,
          150,
          159,
          147,
          142,
          212,
          173,
          230,
          164,
          158
         ],
         "yaxis": "y"
        },
        {
         "hovertemplate": "ViolationDescription=WASH/REPAIR VEH<br>Month=%{x}<br>CountOfViolations=%{y}<extra></extra>",
         "legendgroup": "WASH/REPAIR VEH",
         "line": {
          "color": "#636efa",
          "dash": "solid"
         },
         "marker": {
          "symbol": "circle"
         },
         "mode": "lines",
         "name": "WASH/REPAIR VEH",
         "orientation": "v",
         "showlegend": true,
         "type": "scatter",
         "x": [
          "Jan",
          "Feb",
          "Mar",
          "Apr",
          "May",
          "Jun",
          "Jul",
          "Aug",
          "Sep",
          "Oct",
          "Nov",
          "Dec"
         ],
         "xaxis": "x",
         "y": [
          4,
          9,
          18,
          16,
          14,
          12,
          5,
          10,
          7,
          9,
          3,
          2
         ],
         "yaxis": "y"
        },
        {
         "hovertemplate": "ViolationDescription=BUS-IMP PSNG DISCHRG<br>Month=%{x}<br>CountOfViolations=%{y}<extra></extra>",
         "legendgroup": "BUS-IMP PSNG DISCHRG",
         "line": {
          "color": "#EF553B",
          "dash": "solid"
         },
         "marker": {
          "symbol": "circle"
         },
         "mode": "lines",
         "name": "BUS-IMP PSNG DISCHRG",
         "orientation": "v",
         "showlegend": true,
         "type": "scatter",
         "x": [
          "Feb",
          "Mar",
          "Apr",
          "May",
          "Jun",
          "Jul",
          "Oct",
          "Nov",
          "Dec"
         ],
         "xaxis": "x",
         "y": [
          7,
          1,
          1,
          4,
          1,
          4,
          1,
          10,
          6
         ],
         "yaxis": "y"
        },
        {
         "hovertemplate": "ViolationDescription=DAMAGE TO METER<br>Month=%{x}<br>CountOfViolations=%{y}<extra></extra>",
         "legendgroup": "DAMAGE TO METER",
         "line": {
          "color": "#00cc96",
          "dash": "solid"
         },
         "marker": {
          "symbol": "circle"
         },
         "mode": "lines",
         "name": "DAMAGE TO METER",
         "orientation": "v",
         "showlegend": true,
         "type": "scatter",
         "x": [
          "Feb",
          "Mar",
          "Apr",
          "May",
          "Jun",
          "Aug",
          "Sep",
          "Oct"
         ],
         "xaxis": "x",
         "y": [
          1,
          3,
          1,
          4,
          1,
          4,
          5,
          2
         ],
         "yaxis": "y"
        },
        {
         "hovertemplate": "ViolationDescription=DISOBEY SN-STANDG<br>Month=%{x}<br>CountOfViolations=%{y}<extra></extra>",
         "legendgroup": "DISOBEY SN-STANDG",
         "line": {
          "color": "#ab63fa",
          "dash": "solid"
         },
         "marker": {
          "symbol": "circle"
         },
         "mode": "lines",
         "name": "DISOBEY SN-STANDG",
         "orientation": "v",
         "showlegend": true,
         "type": "scatter",
         "x": [
          "Feb"
         ],
         "xaxis": "x",
         "y": [
          1
         ],
         "yaxis": "y"
        },
        {
         "hovertemplate": "ViolationDescription=FRAUD PARK HP SPACE<br>Month=%{x}<br>CountOfViolations=%{y}<extra></extra>",
         "legendgroup": "FRAUD PARK HP SPACE",
         "line": {
          "color": "#FFA15A",
          "dash": "solid"
         },
         "marker": {
          "symbol": "circle"
         },
         "mode": "lines",
         "name": "FRAUD PARK HP SPACE",
         "orientation": "v",
         "showlegend": true,
         "type": "scatter",
         "x": [
          "Feb",
          "Mar",
          "Apr",
          "Jul",
          "Aug"
         ],
         "xaxis": "x",
         "y": [
          1,
          3,
          1,
          1,
          3
         ],
         "yaxis": "y"
        },
        {
         "hovertemplate": "ViolationDescription=OBSTRUCT TROLLEY 52<br>Month=%{x}<br>CountOfViolations=%{y}<extra></extra>",
         "legendgroup": "OBSTRUCT TROLLEY 52",
         "line": {
          "color": "#19d3f3",
          "dash": "solid"
         },
         "marker": {
          "symbol": "circle"
         },
         "mode": "lines",
         "name": "OBSTRUCT TROLLEY 52",
         "orientation": "v",
         "showlegend": true,
         "type": "scatter",
         "x": [
          "Feb",
          "Mar",
          "Jun"
         ],
         "xaxis": "x",
         "y": [
          1,
          3,
          1
         ],
         "yaxis": "y"
        },
        {
         "hovertemplate": "ViolationDescription=PARK MOBILE HOME 28<br>Month=%{x}<br>CountOfViolations=%{y}<extra></extra>",
         "legendgroup": "PARK MOBILE HOME 28",
         "line": {
          "color": "#FF6692",
          "dash": "solid"
         },
         "marker": {
          "symbol": "circle"
         },
         "mode": "lines",
         "name": "PARK MOBILE HOME 28",
         "orientation": "v",
         "showlegend": true,
         "type": "scatter",
         "x": [
          "Feb",
          "Apr",
          "May",
          "Jul",
          "Aug",
          "Sep",
          "Oct",
          "Nov"
         ],
         "xaxis": "x",
         "y": [
          2,
          2,
          2,
          2,
          1,
          5,
          2,
          1
         ],
         "yaxis": "y"
        },
        {
         "hovertemplate": "ViolationDescription=PK NEAR FIRE STAT 51<br>Month=%{x}<br>CountOfViolations=%{y}<extra></extra>",
         "legendgroup": "PK NEAR FIRE STAT 51",
         "line": {
          "color": "#B6E880",
          "dash": "solid"
         },
         "marker": {
          "symbol": "circle"
         },
         "mode": "lines",
         "name": "PK NEAR FIRE STAT 51",
         "orientation": "v",
         "showlegend": true,
         "type": "scatter",
         "x": [
          "Feb",
          "Mar",
          "Apr",
          "May",
          "Aug",
          "Sep",
          "Nov",
          "Dec"
         ],
         "xaxis": "x",
         "y": [
          1,
          2,
          1,
          2,
          1,
          1,
          2,
          1
         ],
         "yaxis": "y"
        },
        {
         "hovertemplate": "ViolationDescription=PK NEAR TRAFF SIGNAL<br>Month=%{x}<br>CountOfViolations=%{y}<extra></extra>",
         "legendgroup": "PK NEAR TRAFF SIGNAL",
         "line": {
          "color": "#FF97FF",
          "dash": "solid"
         },
         "marker": {
          "symbol": "circle"
         },
         "mode": "lines",
         "name": "PK NEAR TRAFF SIGNAL",
         "orientation": "v",
         "showlegend": true,
         "type": "scatter",
         "x": [
          "Feb",
          "Mar",
          "Apr",
          "May",
          "Jun",
          "Jul",
          "Aug",
          "Sep",
          "Oct",
          "Nov",
          "Dec"
         ],
         "xaxis": "x",
         "y": [
          2,
          2,
          3,
          2,
          2,
          2,
          1,
          4,
          3,
          10,
          1
         ],
         "yaxis": "y"
        },
        {
         "hovertemplate": "ViolationDescription=SNOW EMERGENCY ROUTE<br>Month=%{x}<br>CountOfViolations=%{y}<extra></extra>",
         "legendgroup": "SNOW EMERGENCY ROUTE",
         "line": {
          "color": "#FECB52",
          "dash": "solid"
         },
         "marker": {
          "symbol": "circle"
         },
         "mode": "lines",
         "name": "SNOW EMERGENCY ROUTE",
         "orientation": "v",
         "showlegend": true,
         "type": "scatter",
         "x": [
          "Feb",
          "Mar"
         ],
         "xaxis": "x",
         "y": [
          1560,
          985
         ],
         "yaxis": "y"
        },
        {
         "hovertemplate": "ViolationDescription=SNOW RELOCATION TOW<br>Month=%{x}<br>CountOfViolations=%{y}<extra></extra>",
         "legendgroup": "SNOW RELOCATION TOW",
         "line": {
          "color": "#636efa",
          "dash": "solid"
         },
         "marker": {
          "symbol": "circle"
         },
         "mode": "lines",
         "name": "SNOW RELOCATION TOW",
         "orientation": "v",
         "showlegend": true,
         "type": "scatter",
         "x": [
          "Feb",
          "Mar",
          "Apr"
         ],
         "xaxis": "x",
         "y": [
          260,
          414,
          1
         ],
         "yaxis": "y"
        },
        {
         "hovertemplate": "ViolationDescription=STOPPED SAFE ZONE<br>Month=%{x}<br>CountOfViolations=%{y}<extra></extra>",
         "legendgroup": "STOPPED SAFE ZONE",
         "line": {
          "color": "#EF553B",
          "dash": "solid"
         },
         "marker": {
          "symbol": "circle"
         },
         "mode": "lines",
         "name": "STOPPED SAFE ZONE",
         "orientation": "v",
         "showlegend": true,
         "type": "scatter",
         "x": [
          "Feb",
          "Oct"
         ],
         "xaxis": "x",
         "y": [
          1,
          1
         ],
         "yaxis": "y"
        },
        {
         "hovertemplate": "ViolationDescription=ILLEGAL PLACD TKT 73<br>Month=%{x}<br>CountOfViolations=%{y}<extra></extra>",
         "legendgroup": "ILLEGAL PLACD TKT 73",
         "line": {
          "color": "#00cc96",
          "dash": "solid"
         },
         "marker": {
          "symbol": "circle"
         },
         "mode": "lines",
         "name": "ILLEGAL PLACD TKT 73",
         "orientation": "v",
         "showlegend": true,
         "type": "scatter",
         "x": [
          "Mar",
          "Jun"
         ],
         "xaxis": "x",
         "y": [
          1,
          1
         ],
         "yaxis": "y"
        },
        {
         "hovertemplate": "ViolationDescription=OWNER ID ON COM VEH<br>Month=%{x}<br>CountOfViolations=%{y}<extra></extra>",
         "legendgroup": "OWNER ID ON COM VEH",
         "line": {
          "color": "#ab63fa",
          "dash": "solid"
         },
         "marker": {
          "symbol": "circle"
         },
         "mode": "lines",
         "name": "OWNER ID ON COM VEH",
         "orientation": "v",
         "showlegend": true,
         "type": "scatter",
         "x": [
          "Mar",
          "Apr",
          "Jul",
          "Aug",
          "Sep",
          "Oct",
          "Dec"
         ],
         "xaxis": "x",
         "y": [
          3,
          3,
          5,
          1,
          1,
          1,
          1
         ],
         "yaxis": "y"
        },
        {
         "hovertemplate": "ViolationDescription=PARK PROHIBITED 04<br>Month=%{x}<br>CountOfViolations=%{y}<extra></extra>",
         "legendgroup": "PARK PROHIBITED 04",
         "line": {
          "color": "#FFA15A",
          "dash": "solid"
         },
         "marker": {
          "symbol": "circle"
         },
         "mode": "lines",
         "name": "PARK PROHIBITED 04",
         "orientation": "v",
         "showlegend": true,
         "type": "scatter",
         "x": [
          "Mar",
          "Apr",
          "Jun",
          "Sep",
          "Oct",
          "Nov"
         ],
         "xaxis": "x",
         "y": [
          4,
          1,
          1,
          1,
          1,
          3
         ],
         "yaxis": "y"
        },
        {
         "hovertemplate": "ViolationDescription=PARK-TROLLEY STOP 23<br>Month=%{x}<br>CountOfViolations=%{y}<extra></extra>",
         "legendgroup": "PARK-TROLLEY STOP 23",
         "line": {
          "color": "#19d3f3",
          "dash": "solid"
         },
         "marker": {
          "symbol": "circle"
         },
         "mode": "lines",
         "name": "PARK-TROLLEY STOP 23",
         "orientation": "v",
         "showlegend": true,
         "type": "scatter",
         "x": [
          "Mar",
          "Jul"
         ],
         "xaxis": "x",
         "y": [
          2,
          1
         ],
         "yaxis": "y"
        },
        {
         "hovertemplate": "ViolationDescription=ATV ON PUBLIC PROPTY<br>Month=%{x}<br>CountOfViolations=%{y}<extra></extra>",
         "legendgroup": "ATV ON PUBLIC PROPTY",
         "line": {
          "color": "#FF6692",
          "dash": "solid"
         },
         "marker": {
          "symbol": "circle"
         },
         "mode": "lines",
         "name": "ATV ON PUBLIC PROPTY",
         "orientation": "v",
         "showlegend": true,
         "type": "scatter",
         "x": [
          "Apr"
         ],
         "xaxis": "x",
         "y": [
          1
         ],
         "yaxis": "y"
        },
        {
         "hovertemplate": "ViolationDescription=HIWAY CONSTRCTION 43<br>Month=%{x}<br>CountOfViolations=%{y}<extra></extra>",
         "legendgroup": "HIWAY CONSTRCTION 43",
         "line": {
          "color": "#B6E880",
          "dash": "solid"
         },
         "marker": {
          "symbol": "circle"
         },
         "mode": "lines",
         "name": "HIWAY CONSTRCTION 43",
         "orientation": "v",
         "showlegend": true,
         "type": "scatter",
         "x": [
          "Apr",
          "Jun",
          "Jul",
          "Sep"
         ],
         "xaxis": "x",
         "y": [
          1,
          3,
          1,
          2
         ],
         "yaxis": "y"
        },
        {
         "hovertemplate": "ViolationDescription=INTERSECTION<br>Month=%{x}<br>CountOfViolations=%{y}<extra></extra>",
         "legendgroup": "INTERSECTION",
         "line": {
          "color": "#FF97FF",
          "dash": "solid"
         },
         "marker": {
          "symbol": "circle"
         },
         "mode": "lines",
         "name": "INTERSECTION",
         "orientation": "v",
         "showlegend": true,
         "type": "scatter",
         "x": [
          "Apr",
          "Sep",
          "Oct",
          "Nov",
          "Dec"
         ],
         "xaxis": "x",
         "y": [
          1,
          6,
          4,
          2,
          1
         ],
         "yaxis": "y"
        },
        {
         "hovertemplate": "ViolationDescription=INVALID RPP PERMIT<br>Month=%{x}<br>CountOfViolations=%{y}<extra></extra>",
         "legendgroup": "INVALID RPP PERMIT",
         "line": {
          "color": "#FECB52",
          "dash": "solid"
         },
         "marker": {
          "symbol": "circle"
         },
         "mode": "lines",
         "name": "INVALID RPP PERMIT",
         "orientation": "v",
         "showlegend": true,
         "type": "scatter",
         "x": [
          "Apr",
          "May",
          "Jun"
         ],
         "xaxis": "x",
         "y": [
          1,
          1,
          2
         ],
         "yaxis": "y"
        },
        {
         "hovertemplate": "ViolationDescription=BUS-IMPROPER LOADING<br>Month=%{x}<br>CountOfViolations=%{y}<extra></extra>",
         "legendgroup": "BUS-IMPROPER LOADING",
         "line": {
          "color": "#636efa",
          "dash": "solid"
         },
         "marker": {
          "symbol": "circle"
         },
         "mode": "lines",
         "name": "BUS-IMPROPER LOADING",
         "orientation": "v",
         "showlegend": true,
         "type": "scatter",
         "x": [
          "May",
          "Jul",
          "Aug",
          "Oct"
         ],
         "xaxis": "x",
         "y": [
          2,
          1,
          1,
          2
         ],
         "yaxis": "y"
        },
        {
         "hovertemplate": "ViolationDescription=IMPROPER MOTORCYCLE<br>Month=%{x}<br>CountOfViolations=%{y}<extra></extra>",
         "legendgroup": "IMPROPER MOTORCYCLE",
         "line": {
          "color": "#EF553B",
          "dash": "solid"
         },
         "marker": {
          "symbol": "circle"
         },
         "mode": "lines",
         "name": "IMPROPER MOTORCYCLE",
         "orientation": "v",
         "showlegend": true,
         "type": "scatter",
         "x": [
          "Jul",
          "Sep",
          "Nov",
          "Dec"
         ],
         "xaxis": "x",
         "y": [
          1,
          1,
          2,
          1
         ],
         "yaxis": "y"
        },
        {
         "hovertemplate": "ViolationDescription=ONTRACTOR PLAC VIOL<br>Month=%{x}<br>CountOfViolations=%{y}<extra></extra>",
         "legendgroup": "ONTRACTOR PLAC VIOL",
         "line": {
          "color": "#00cc96",
          "dash": "solid"
         },
         "marker": {
          "symbol": "circle"
         },
         "mode": "lines",
         "name": "ONTRACTOR PLAC VIOL",
         "orientation": "v",
         "showlegend": true,
         "type": "scatter",
         "x": [
          "Jul"
         ],
         "xaxis": "x",
         "y": [
          1
         ],
         "yaxis": "y"
        },
        {
         "hovertemplate": "ViolationDescription=PRK MTR IMPROPER 11<br>Month=%{x}<br>CountOfViolations=%{y}<extra></extra>",
         "legendgroup": "PRK MTR IMPROPER 11",
         "line": {
          "color": "#ab63fa",
          "dash": "solid"
         },
         "marker": {
          "symbol": "circle"
         },
         "mode": "lines",
         "name": "PRK MTR IMPROPER 11",
         "orientation": "v",
         "showlegend": true,
         "type": "scatter",
         "x": [
          "Sep"
         ],
         "xaxis": "x",
         "y": [
          1
         ],
         "yaxis": "y"
        },
        {
         "hovertemplate": "ViolationDescription=STOP/BLOCK HWY  33<br>Month=%{x}<br>CountOfViolations=%{y}<extra></extra>",
         "legendgroup": "STOP/BLOCK HWY  33",
         "line": {
          "color": "#FFA15A",
          "dash": "solid"
         },
         "marker": {
          "symbol": "circle"
         },
         "mode": "lines",
         "name": "STOP/BLOCK HWY  33",
         "orientation": "v",
         "showlegend": true,
         "type": "scatter",
         "x": [
          "Sep"
         ],
         "xaxis": "x",
         "y": [
          2
         ],
         "yaxis": "y"
        },
        {
         "hovertemplate": "ViolationDescription=+4HR IN LOADING ZONE<br>Month=%{x}<br>CountOfViolations=%{y}<extra></extra>",
         "legendgroup": "+4HR IN LOADING ZONE",
         "line": {
          "color": "#19d3f3",
          "dash": "solid"
         },
         "marker": {
          "symbol": "circle"
         },
         "mode": "lines",
         "name": "+4HR IN LOADING ZONE",
         "orientation": "v",
         "showlegend": true,
         "type": "scatter",
         "x": [
          "Dec"
         ],
         "xaxis": "x",
         "y": [
          1
         ],
         "yaxis": "y"
        },
        {
         "hovertemplate": "ViolationDescription=PK OVER TIME LIM 17<br>Month=%{x}<br>CountOfViolations=%{y}<extra></extra>",
         "legendgroup": "PK OVER TIME LIM 17",
         "line": {
          "color": "#FF6692",
          "dash": "solid"
         },
         "marker": {
          "symbol": "circle"
         },
         "mode": "lines",
         "name": "PK OVER TIME LIM 17",
         "orientation": "v",
         "showlegend": true,
         "type": "scatter",
         "x": [
          "Dec"
         ],
         "xaxis": "x",
         "y": [
          3
         ],
         "yaxis": "y"
        }
       ],
       "layout": {
        "legend": {
         "title": {
          "text": "ViolationDescription"
         },
         "tracegroupgap": 0
        },
        "template": {
         "data": {
          "bar": [
           {
            "error_x": {
             "color": "#2a3f5f"
            },
            "error_y": {
             "color": "#2a3f5f"
            },
            "marker": {
             "line": {
              "color": "#E5ECF6",
              "width": 0.5
             },
             "pattern": {
              "fillmode": "overlay",
              "size": 10,
              "solidity": 0.2
             }
            },
            "type": "bar"
           }
          ],
          "barpolar": [
           {
            "marker": {
             "line": {
              "color": "#E5ECF6",
              "width": 0.5
             },
             "pattern": {
              "fillmode": "overlay",
              "size": 10,
              "solidity": 0.2
             }
            },
            "type": "barpolar"
           }
          ],
          "carpet": [
           {
            "aaxis": {
             "endlinecolor": "#2a3f5f",
             "gridcolor": "white",
             "linecolor": "white",
             "minorgridcolor": "white",
             "startlinecolor": "#2a3f5f"
            },
            "baxis": {
             "endlinecolor": "#2a3f5f",
             "gridcolor": "white",
             "linecolor": "white",
             "minorgridcolor": "white",
             "startlinecolor": "#2a3f5f"
            },
            "type": "carpet"
           }
          ],
          "choropleth": [
           {
            "colorbar": {
             "outlinewidth": 0,
             "ticks": ""
            },
            "type": "choropleth"
           }
          ],
          "contour": [
           {
            "colorbar": {
             "outlinewidth": 0,
             "ticks": ""
            },
            "colorscale": [
             [
              0,
              "#0d0887"
             ],
             [
              0.1111111111111111,
              "#46039f"
             ],
             [
              0.2222222222222222,
              "#7201a8"
             ],
             [
              0.3333333333333333,
              "#9c179e"
             ],
             [
              0.4444444444444444,
              "#bd3786"
             ],
             [
              0.5555555555555556,
              "#d8576b"
             ],
             [
              0.6666666666666666,
              "#ed7953"
             ],
             [
              0.7777777777777778,
              "#fb9f3a"
             ],
             [
              0.8888888888888888,
              "#fdca26"
             ],
             [
              1,
              "#f0f921"
             ]
            ],
            "type": "contour"
           }
          ],
          "contourcarpet": [
           {
            "colorbar": {
             "outlinewidth": 0,
             "ticks": ""
            },
            "type": "contourcarpet"
           }
          ],
          "heatmap": [
           {
            "colorbar": {
             "outlinewidth": 0,
             "ticks": ""
            },
            "colorscale": [
             [
              0,
              "#0d0887"
             ],
             [
              0.1111111111111111,
              "#46039f"
             ],
             [
              0.2222222222222222,
              "#7201a8"
             ],
             [
              0.3333333333333333,
              "#9c179e"
             ],
             [
              0.4444444444444444,
              "#bd3786"
             ],
             [
              0.5555555555555556,
              "#d8576b"
             ],
             [
              0.6666666666666666,
              "#ed7953"
             ],
             [
              0.7777777777777778,
              "#fb9f3a"
             ],
             [
              0.8888888888888888,
              "#fdca26"
             ],
             [
              1,
              "#f0f921"
             ]
            ],
            "type": "heatmap"
           }
          ],
          "heatmapgl": [
           {
            "colorbar": {
             "outlinewidth": 0,
             "ticks": ""
            },
            "colorscale": [
             [
              0,
              "#0d0887"
             ],
             [
              0.1111111111111111,
              "#46039f"
             ],
             [
              0.2222222222222222,
              "#7201a8"
             ],
             [
              0.3333333333333333,
              "#9c179e"
             ],
             [
              0.4444444444444444,
              "#bd3786"
             ],
             [
              0.5555555555555556,
              "#d8576b"
             ],
             [
              0.6666666666666666,
              "#ed7953"
             ],
             [
              0.7777777777777778,
              "#fb9f3a"
             ],
             [
              0.8888888888888888,
              "#fdca26"
             ],
             [
              1,
              "#f0f921"
             ]
            ],
            "type": "heatmapgl"
           }
          ],
          "histogram": [
           {
            "marker": {
             "pattern": {
              "fillmode": "overlay",
              "size": 10,
              "solidity": 0.2
             }
            },
            "type": "histogram"
           }
          ],
          "histogram2d": [
           {
            "colorbar": {
             "outlinewidth": 0,
             "ticks": ""
            },
            "colorscale": [
             [
              0,
              "#0d0887"
             ],
             [
              0.1111111111111111,
              "#46039f"
             ],
             [
              0.2222222222222222,
              "#7201a8"
             ],
             [
              0.3333333333333333,
              "#9c179e"
             ],
             [
              0.4444444444444444,
              "#bd3786"
             ],
             [
              0.5555555555555556,
              "#d8576b"
             ],
             [
              0.6666666666666666,
              "#ed7953"
             ],
             [
              0.7777777777777778,
              "#fb9f3a"
             ],
             [
              0.8888888888888888,
              "#fdca26"
             ],
             [
              1,
              "#f0f921"
             ]
            ],
            "type": "histogram2d"
           }
          ],
          "histogram2dcontour": [
           {
            "colorbar": {
             "outlinewidth": 0,
             "ticks": ""
            },
            "colorscale": [
             [
              0,
              "#0d0887"
             ],
             [
              0.1111111111111111,
              "#46039f"
             ],
             [
              0.2222222222222222,
              "#7201a8"
             ],
             [
              0.3333333333333333,
              "#9c179e"
             ],
             [
              0.4444444444444444,
              "#bd3786"
             ],
             [
              0.5555555555555556,
              "#d8576b"
             ],
             [
              0.6666666666666666,
              "#ed7953"
             ],
             [
              0.7777777777777778,
              "#fb9f3a"
             ],
             [
              0.8888888888888888,
              "#fdca26"
             ],
             [
              1,
              "#f0f921"
             ]
            ],
            "type": "histogram2dcontour"
           }
          ],
          "mesh3d": [
           {
            "colorbar": {
             "outlinewidth": 0,
             "ticks": ""
            },
            "type": "mesh3d"
           }
          ],
          "parcoords": [
           {
            "line": {
             "colorbar": {
              "outlinewidth": 0,
              "ticks": ""
             }
            },
            "type": "parcoords"
           }
          ],
          "pie": [
           {
            "automargin": true,
            "type": "pie"
           }
          ],
          "scatter": [
           {
            "fillpattern": {
             "fillmode": "overlay",
             "size": 10,
             "solidity": 0.2
            },
            "type": "scatter"
           }
          ],
          "scatter3d": [
           {
            "line": {
             "colorbar": {
              "outlinewidth": 0,
              "ticks": ""
             }
            },
            "marker": {
             "colorbar": {
              "outlinewidth": 0,
              "ticks": ""
             }
            },
            "type": "scatter3d"
           }
          ],
          "scattercarpet": [
           {
            "marker": {
             "colorbar": {
              "outlinewidth": 0,
              "ticks": ""
             }
            },
            "type": "scattercarpet"
           }
          ],
          "scattergeo": [
           {
            "marker": {
             "colorbar": {
              "outlinewidth": 0,
              "ticks": ""
             }
            },
            "type": "scattergeo"
           }
          ],
          "scattergl": [
           {
            "marker": {
             "colorbar": {
              "outlinewidth": 0,
              "ticks": ""
             }
            },
            "type": "scattergl"
           }
          ],
          "scattermapbox": [
           {
            "marker": {
             "colorbar": {
              "outlinewidth": 0,
              "ticks": ""
             }
            },
            "type": "scattermapbox"
           }
          ],
          "scatterpolar": [
           {
            "marker": {
             "colorbar": {
              "outlinewidth": 0,
              "ticks": ""
             }
            },
            "type": "scatterpolar"
           }
          ],
          "scatterpolargl": [
           {
            "marker": {
             "colorbar": {
              "outlinewidth": 0,
              "ticks": ""
             }
            },
            "type": "scatterpolargl"
           }
          ],
          "scatterternary": [
           {
            "marker": {
             "colorbar": {
              "outlinewidth": 0,
              "ticks": ""
             }
            },
            "type": "scatterternary"
           }
          ],
          "surface": [
           {
            "colorbar": {
             "outlinewidth": 0,
             "ticks": ""
            },
            "colorscale": [
             [
              0,
              "#0d0887"
             ],
             [
              0.1111111111111111,
              "#46039f"
             ],
             [
              0.2222222222222222,
              "#7201a8"
             ],
             [
              0.3333333333333333,
              "#9c179e"
             ],
             [
              0.4444444444444444,
              "#bd3786"
             ],
             [
              0.5555555555555556,
              "#d8576b"
             ],
             [
              0.6666666666666666,
              "#ed7953"
             ],
             [
              0.7777777777777778,
              "#fb9f3a"
             ],
             [
              0.8888888888888888,
              "#fdca26"
             ],
             [
              1,
              "#f0f921"
             ]
            ],
            "type": "surface"
           }
          ],
          "table": [
           {
            "cells": {
             "fill": {
              "color": "#EBF0F8"
             },
             "line": {
              "color": "white"
             }
            },
            "header": {
             "fill": {
              "color": "#C8D4E3"
             },
             "line": {
              "color": "white"
             }
            },
            "type": "table"
           }
          ]
         },
         "layout": {
          "annotationdefaults": {
           "arrowcolor": "#2a3f5f",
           "arrowhead": 0,
           "arrowwidth": 1
          },
          "autotypenumbers": "strict",
          "coloraxis": {
           "colorbar": {
            "outlinewidth": 0,
            "ticks": ""
           }
          },
          "colorscale": {
           "diverging": [
            [
             0,
             "#8e0152"
            ],
            [
             0.1,
             "#c51b7d"
            ],
            [
             0.2,
             "#de77ae"
            ],
            [
             0.3,
             "#f1b6da"
            ],
            [
             0.4,
             "#fde0ef"
            ],
            [
             0.5,
             "#f7f7f7"
            ],
            [
             0.6,
             "#e6f5d0"
            ],
            [
             0.7,
             "#b8e186"
            ],
            [
             0.8,
             "#7fbc41"
            ],
            [
             0.9,
             "#4d9221"
            ],
            [
             1,
             "#276419"
            ]
           ],
           "sequential": [
            [
             0,
             "#0d0887"
            ],
            [
             0.1111111111111111,
             "#46039f"
            ],
            [
             0.2222222222222222,
             "#7201a8"
            ],
            [
             0.3333333333333333,
             "#9c179e"
            ],
            [
             0.4444444444444444,
             "#bd3786"
            ],
            [
             0.5555555555555556,
             "#d8576b"
            ],
            [
             0.6666666666666666,
             "#ed7953"
            ],
            [
             0.7777777777777778,
             "#fb9f3a"
            ],
            [
             0.8888888888888888,
             "#fdca26"
            ],
            [
             1,
             "#f0f921"
            ]
           ],
           "sequentialminus": [
            [
             0,
             "#0d0887"
            ],
            [
             0.1111111111111111,
             "#46039f"
            ],
            [
             0.2222222222222222,
             "#7201a8"
            ],
            [
             0.3333333333333333,
             "#9c179e"
            ],
            [
             0.4444444444444444,
             "#bd3786"
            ],
            [
             0.5555555555555556,
             "#d8576b"
            ],
            [
             0.6666666666666666,
             "#ed7953"
            ],
            [
             0.7777777777777778,
             "#fb9f3a"
            ],
            [
             0.8888888888888888,
             "#fdca26"
            ],
            [
             1,
             "#f0f921"
            ]
           ]
          },
          "colorway": [
           "#636efa",
           "#EF553B",
           "#00cc96",
           "#ab63fa",
           "#FFA15A",
           "#19d3f3",
           "#FF6692",
           "#B6E880",
           "#FF97FF",
           "#FECB52"
          ],
          "font": {
           "color": "#2a3f5f"
          },
          "geo": {
           "bgcolor": "white",
           "lakecolor": "white",
           "landcolor": "#E5ECF6",
           "showlakes": true,
           "showland": true,
           "subunitcolor": "white"
          },
          "hoverlabel": {
           "align": "left"
          },
          "hovermode": "closest",
          "mapbox": {
           "style": "light"
          },
          "paper_bgcolor": "white",
          "plot_bgcolor": "#E5ECF6",
          "polar": {
           "angularaxis": {
            "gridcolor": "white",
            "linecolor": "white",
            "ticks": ""
           },
           "bgcolor": "#E5ECF6",
           "radialaxis": {
            "gridcolor": "white",
            "linecolor": "white",
            "ticks": ""
           }
          },
          "scene": {
           "xaxis": {
            "backgroundcolor": "#E5ECF6",
            "gridcolor": "white",
            "gridwidth": 2,
            "linecolor": "white",
            "showbackground": true,
            "ticks": "",
            "zerolinecolor": "white"
           },
           "yaxis": {
            "backgroundcolor": "#E5ECF6",
            "gridcolor": "white",
            "gridwidth": 2,
            "linecolor": "white",
            "showbackground": true,
            "ticks": "",
            "zerolinecolor": "white"
           },
           "zaxis": {
            "backgroundcolor": "#E5ECF6",
            "gridcolor": "white",
            "gridwidth": 2,
            "linecolor": "white",
            "showbackground": true,
            "ticks": "",
            "zerolinecolor": "white"
           }
          },
          "shapedefaults": {
           "line": {
            "color": "#2a3f5f"
           }
          },
          "ternary": {
           "aaxis": {
            "gridcolor": "white",
            "linecolor": "white",
            "ticks": ""
           },
           "baxis": {
            "gridcolor": "white",
            "linecolor": "white",
            "ticks": ""
           },
           "bgcolor": "#E5ECF6",
           "caxis": {
            "gridcolor": "white",
            "linecolor": "white",
            "ticks": ""
           }
          },
          "title": {
           "x": 0.05
          },
          "xaxis": {
           "automargin": true,
           "gridcolor": "white",
           "linecolor": "white",
           "ticks": "",
           "title": {
            "standoff": 15
           },
           "zerolinecolor": "white",
           "zerolinewidth": 2
          },
          "yaxis": {
           "automargin": true,
           "gridcolor": "white",
           "linecolor": "white",
           "ticks": "",
           "title": {
            "standoff": 15
           },
           "zerolinecolor": "white",
           "zerolinewidth": 2
          }
         }
        },
        "title": {
         "text": "Violations by Month"
        },
        "xaxis": {
         "anchor": "y",
         "domain": [
          0,
          1
         ],
         "title": {
          "text": "Month"
         }
        },
        "yaxis": {
         "anchor": "x",
         "domain": [
          0,
          1
         ],
         "title": {
          "text": "CountOfViolations"
         }
        }
       }
      },
      "text/html": [
       "<div>                            <div id=\"accaac46-03a9-41d0-903a-db051f4df71c\" class=\"plotly-graph-div\" style=\"height:525px; width:100%;\"></div>            <script type=\"text/javascript\">                require([\"plotly\"], function(Plotly) {                    window.PLOTLYENV=window.PLOTLYENV || {};                                    if (document.getElementById(\"accaac46-03a9-41d0-903a-db051f4df71c\")) {                    Plotly.newPlot(                        \"accaac46-03a9-41d0-903a-db051f4df71c\",                        [{\"hovertemplate\":\"ViolationDescription=AR SHARE VEHS ONLY<br>Month=%{x}<br>CountOfViolations=%{y}<extra></extra>\",\"legendgroup\":\"AR SHARE VEHS ONLY\",\"line\":{\"color\":\"#636efa\",\"dash\":\"solid\"},\"marker\":{\"symbol\":\"circle\"},\"mode\":\"lines\",\"name\":\"AR SHARE VEHS ONLY\",\"orientation\":\"v\",\"showlegend\":true,\"x\":[\"Jan\",\"Feb\",\"Mar\",\"Apr\",\"May\",\"Jun\",\"Jul\",\"Aug\",\"Sep\",\"Oct\",\"Nov\",\"Dec\"],\"xaxis\":\"x\",\"y\":[16,26,39,23,18,21,11,24,31,25,15,19],\"yaxis\":\"y\",\"type\":\"scatter\"},{\"hovertemplate\":\"ViolationDescription=BLOCKING DRIVEWAY<br>Month=%{x}<br>CountOfViolations=%{y}<extra></extra>\",\"legendgroup\":\"BLOCKING DRIVEWAY\",\"line\":{\"color\":\"#EF553B\",\"dash\":\"solid\"},\"marker\":{\"symbol\":\"circle\"},\"mode\":\"lines\",\"name\":\"BLOCKING DRIVEWAY\",\"orientation\":\"v\",\"showlegend\":true,\"x\":[\"Jan\",\"Feb\",\"Mar\",\"Apr\",\"May\",\"Jun\",\"Jul\",\"Aug\",\"Sep\",\"Oct\",\"Nov\",\"Dec\"],\"xaxis\":\"x\",\"y\":[806,1020,1267,1119,1150,1173,1097,1228,1235,1209,1192,945],\"yaxis\":\"y\",\"type\":\"scatter\"},{\"hovertemplate\":\"ViolationDescription=BLOCKNG MASS TRANSIT<br>Month=%{x}<br>CountOfViolations=%{y}<extra></extra>\",\"legendgroup\":\"BLOCKNG MASS TRANSIT\",\"line\":{\"color\":\"#00cc96\",\"dash\":\"solid\"},\"marker\":{\"symbol\":\"circle\"},\"mode\":\"lines\",\"name\":\"BLOCKNG MASS TRANSIT\",\"orientation\":\"v\",\"showlegend\":true,\"x\":[\"Jan\",\"Feb\",\"Mar\",\"Apr\",\"May\",\"Jun\",\"Jul\",\"Aug\",\"Sep\",\"Oct\",\"Nov\",\"Dec\"],\"xaxis\":\"x\",\"y\":[38,17,84,44,29,30,27,30,30,21,23,21],\"yaxis\":\"y\",\"type\":\"scatter\"},{\"hovertemplate\":\"ViolationDescription=BUS NOT IN BUS STAND<br>Month=%{x}<br>CountOfViolations=%{y}<extra></extra>\",\"legendgroup\":\"BUS NOT IN BUS STAND\",\"line\":{\"color\":\"#ab63fa\",\"dash\":\"solid\"},\"marker\":{\"symbol\":\"circle\"},\"mode\":\"lines\",\"name\":\"BUS NOT IN BUS STAND\",\"orientation\":\"v\",\"showlegend\":true,\"x\":[\"Jan\",\"Feb\",\"Mar\",\"Apr\",\"May\",\"Jun\",\"Jul\",\"Aug\",\"Sep\",\"Oct\",\"Nov\",\"Dec\"],\"xaxis\":\"x\",\"y\":[6,3,10,23,54,48,14,21,19,22,12,9],\"yaxis\":\"y\",\"type\":\"scatter\"},{\"hovertemplate\":\"ViolationDescription=BUS ONLY ZONE<br>Month=%{x}<br>CountOfViolations=%{y}<extra></extra>\",\"legendgroup\":\"BUS ONLY ZONE\",\"line\":{\"color\":\"#FFA15A\",\"dash\":\"solid\"},\"marker\":{\"symbol\":\"circle\"},\"mode\":\"lines\",\"name\":\"BUS ONLY ZONE\",\"orientation\":\"v\",\"showlegend\":true,\"x\":[\"Jan\",\"Feb\",\"Mar\",\"Apr\",\"May\",\"Jun\",\"Jul\",\"Aug\",\"Sep\",\"Oct\",\"Nov\",\"Dec\"],\"xaxis\":\"x\",\"y\":[2985,3034,3512,3379,3428,3222,2931,3511,3460,3460,3378,2681],\"yaxis\":\"y\",\"type\":\"scatter\"},{\"hovertemplate\":\"ViolationDescription=DISOBEY SIGN-PRHB 21<br>Month=%{x}<br>CountOfViolations=%{y}<extra></extra>\",\"legendgroup\":\"DISOBEY SIGN-PRHB 21\",\"line\":{\"color\":\"#19d3f3\",\"dash\":\"solid\"},\"marker\":{\"symbol\":\"circle\"},\"mode\":\"lines\",\"name\":\"DISOBEY SIGN-PRHB 21\",\"orientation\":\"v\",\"showlegend\":true,\"x\":[\"Jan\",\"Feb\",\"Jul\",\"Aug\"],\"xaxis\":\"x\",\"y\":[1,2,2,2],\"yaxis\":\"y\",\"type\":\"scatter\"},{\"hovertemplate\":\"ViolationDescription=DISOBEY SN-STANDING<br>Month=%{x}<br>CountOfViolations=%{y}<extra></extra>\",\"legendgroup\":\"DISOBEY SN-STANDING\",\"line\":{\"color\":\"#FF6692\",\"dash\":\"solid\"},\"marker\":{\"symbol\":\"circle\"},\"mode\":\"lines\",\"name\":\"DISOBEY SN-STANDING\",\"orientation\":\"v\",\"showlegend\":true,\"x\":[\"Jan\",\"Feb\",\"Apr\",\"May\",\"Jun\",\"Jul\",\"Aug\",\"Sep\",\"Nov\"],\"xaxis\":\"x\",\"y\":[1,1,7,3,3,1,1,2,1],\"yaxis\":\"y\",\"type\":\"scatter\"},{\"hovertemplate\":\"ViolationDescription=DISPLAY VEH FOR SALE<br>Month=%{x}<br>CountOfViolations=%{y}<extra></extra>\",\"legendgroup\":\"DISPLAY VEH FOR SALE\",\"line\":{\"color\":\"#B6E880\",\"dash\":\"solid\"},\"marker\":{\"symbol\":\"circle\"},\"mode\":\"lines\",\"name\":\"DISPLAY VEH FOR SALE\",\"orientation\":\"v\",\"showlegend\":true,\"x\":[\"Jan\",\"Feb\",\"Mar\",\"Apr\",\"May\",\"Jun\",\"Jul\",\"Aug\",\"Sep\",\"Oct\",\"Nov\",\"Dec\"],\"xaxis\":\"x\",\"y\":[43,37,32,66,34,20,32,24,19,18,25,9],\"yaxis\":\"y\",\"type\":\"scatter\"},{\"hovertemplate\":\"ViolationDescription=DOUBLE PARKED<br>Month=%{x}<br>CountOfViolations=%{y}<extra></extra>\",\"legendgroup\":\"DOUBLE PARKED\",\"line\":{\"color\":\"#FF97FF\",\"dash\":\"solid\"},\"marker\":{\"symbol\":\"circle\"},\"mode\":\"lines\",\"name\":\"DOUBLE PARKED\",\"orientation\":\"v\",\"showlegend\":true,\"x\":[\"Jan\",\"Feb\",\"Mar\",\"Apr\",\"May\",\"Jun\",\"Jul\",\"Aug\",\"Sep\",\"Oct\",\"Nov\",\"Dec\"],\"xaxis\":\"x\",\"y\":[1717,1645,2256,1865,2080,1928,1582,2029,2100,1961,1778,1573],\"yaxis\":\"y\",\"type\":\"scatter\"},{\"hovertemplate\":\"ViolationDescription=EXCESSIVE IDLING<br>Month=%{x}<br>CountOfViolations=%{y}<extra></extra>\",\"legendgroup\":\"EXCESSIVE IDLING\",\"line\":{\"color\":\"#FECB52\",\"dash\":\"solid\"},\"marker\":{\"symbol\":\"circle\"},\"mode\":\"lines\",\"name\":\"EXCESSIVE IDLING\",\"orientation\":\"v\",\"showlegend\":true,\"x\":[\"Jan\",\"Feb\",\"Mar\",\"Apr\",\"May\",\"Jun\",\"Jul\",\"Aug\",\"Sep\",\"Oct\",\"Dec\"],\"xaxis\":\"x\",\"y\":[6,6,6,3,1,5,4,11,4,3,4],\"yaxis\":\"y\",\"type\":\"scatter\"},{\"hovertemplate\":\"ViolationDescription=EXCESSIVE NOISE<br>Month=%{x}<br>CountOfViolations=%{y}<extra></extra>\",\"legendgroup\":\"EXCESSIVE NOISE\",\"line\":{\"color\":\"#636efa\",\"dash\":\"solid\"},\"marker\":{\"symbol\":\"circle\"},\"mode\":\"lines\",\"name\":\"EXCESSIVE NOISE\",\"orientation\":\"v\",\"showlegend\":true,\"x\":[\"Jan\",\"Feb\",\"Mar\",\"Apr\",\"May\",\"Jun\",\"Jul\",\"Aug\",\"Sep\",\"Oct\",\"Nov\",\"Dec\"],\"xaxis\":\"x\",\"y\":[11,8,3,11,14,29,18,20,9,11,2,1],\"yaxis\":\"y\",\"type\":\"scatter\"},{\"hovertemplate\":\"ViolationDescription=EXPIRED INSPECTION<br>Month=%{x}<br>CountOfViolations=%{y}<extra></extra>\",\"legendgroup\":\"EXPIRED INSPECTION\",\"line\":{\"color\":\"#EF553B\",\"dash\":\"solid\"},\"marker\":{\"symbol\":\"circle\"},\"mode\":\"lines\",\"name\":\"EXPIRED INSPECTION\",\"orientation\":\"v\",\"showlegend\":true,\"x\":[\"Jan\",\"Feb\",\"Mar\",\"Apr\",\"May\",\"Jun\",\"Jul\",\"Aug\",\"Sep\",\"Oct\",\"Nov\",\"Dec\"],\"xaxis\":\"x\",\"y\":[12303,11016,11705,12235,12914,13508,13787,15766,14271,15281,13802,10537],\"yaxis\":\"y\",\"type\":\"scatter\"},{\"hovertemplate\":\"ViolationDescription=EXPIRED TAG<br>Month=%{x}<br>CountOfViolations=%{y}<extra></extra>\",\"legendgroup\":\"EXPIRED TAG\",\"line\":{\"color\":\"#00cc96\",\"dash\":\"solid\"},\"marker\":{\"symbol\":\"circle\"},\"mode\":\"lines\",\"name\":\"EXPIRED TAG\",\"orientation\":\"v\",\"showlegend\":true,\"x\":[\"Jan\",\"Feb\",\"Mar\",\"Apr\",\"May\",\"Jun\",\"Jul\",\"Aug\",\"Sep\",\"Oct\",\"Nov\",\"Dec\"],\"xaxis\":\"x\",\"y\":[292,283,407,401,318,286,371,356,359,377,277,206],\"yaxis\":\"y\",\"type\":\"scatter\"},{\"hovertemplate\":\"ViolationDescription=FIRE HYDRANT<br>Month=%{x}<br>CountOfViolations=%{y}<extra></extra>\",\"legendgroup\":\"FIRE HYDRANT\",\"line\":{\"color\":\"#ab63fa\",\"dash\":\"solid\"},\"marker\":{\"symbol\":\"circle\"},\"mode\":\"lines\",\"name\":\"FIRE HYDRANT\",\"orientation\":\"v\",\"showlegend\":true,\"x\":[\"Jan\",\"Feb\",\"Mar\",\"Apr\",\"May\",\"Jun\",\"Jul\",\"Aug\",\"Sep\",\"Oct\",\"Nov\",\"Dec\"],\"xaxis\":\"x\",\"y\":[2759,2448,3069,2878,2922,2540,2119,2411,2737,2863,2673,2233],\"yaxis\":\"y\",\"type\":\"scatter\"},{\"hovertemplate\":\"ViolationDescription=HP RAMP BLOCKED<br>Month=%{x}<br>CountOfViolations=%{y}<extra></extra>\",\"legendgroup\":\"HP RAMP BLOCKED\",\"line\":{\"color\":\"#FFA15A\",\"dash\":\"solid\"},\"marker\":{\"symbol\":\"circle\"},\"mode\":\"lines\",\"name\":\"HP RAMP BLOCKED\",\"orientation\":\"v\",\"showlegend\":true,\"x\":[\"Jan\",\"Feb\",\"Mar\",\"Apr\",\"May\",\"Jun\",\"Jul\",\"Aug\",\"Sep\",\"Oct\",\"Nov\",\"Dec\"],\"xaxis\":\"x\",\"y\":[774,756,827,851,784,732,580,790,865,922,848,769],\"yaxis\":\"y\",\"type\":\"scatter\"},{\"hovertemplate\":\"ViolationDescription=HP RESERVED SPACE<br>Month=%{x}<br>CountOfViolations=%{y}<extra></extra>\",\"legendgroup\":\"HP RESERVED SPACE\",\"line\":{\"color\":\"#19d3f3\",\"dash\":\"solid\"},\"marker\":{\"symbol\":\"circle\"},\"mode\":\"lines\",\"name\":\"HP RESERVED SPACE\",\"orientation\":\"v\",\"showlegend\":true,\"x\":[\"Jan\",\"Feb\",\"Mar\",\"Apr\",\"May\",\"Jun\",\"Jul\",\"Aug\",\"Sep\",\"Oct\",\"Nov\",\"Dec\"],\"xaxis\":\"x\",\"y\":[1637,1667,1972,1954,2065,1999,1935,2173,2063,2030,2051,1653],\"yaxis\":\"y\",\"type\":\"scatter\"},{\"hovertemplate\":\"ViolationDescription=ILLEGAL PLACED TICKT<br>Month=%{x}<br>CountOfViolations=%{y}<extra></extra>\",\"legendgroup\":\"ILLEGAL PLACED TICKT\",\"line\":{\"color\":\"#FF6692\",\"dash\":\"solid\"},\"marker\":{\"symbol\":\"circle\"},\"mode\":\"lines\",\"name\":\"ILLEGAL PLACED TICKT\",\"orientation\":\"v\",\"showlegend\":true,\"x\":[\"Jan\",\"Feb\",\"Mar\",\"Apr\",\"May\",\"Jun\",\"Jul\",\"Sep\",\"Oct\",\"Nov\",\"Dec\"],\"xaxis\":\"x\",\"y\":[3,2,2,2,2,1,6,2,1,1,3],\"yaxis\":\"y\",\"type\":\"scatter\"},{\"hovertemplate\":\"ViolationDescription=IMPROPER ON 1WAY HWY<br>Month=%{x}<br>CountOfViolations=%{y}<extra></extra>\",\"legendgroup\":\"IMPROPER ON 1WAY HWY\",\"line\":{\"color\":\"#B6E880\",\"dash\":\"solid\"},\"marker\":{\"symbol\":\"circle\"},\"mode\":\"lines\",\"name\":\"IMPROPER ON 1WAY HWY\",\"orientation\":\"v\",\"showlegend\":true,\"x\":[\"Jan\",\"Feb\",\"Mar\",\"Apr\",\"May\",\"Jun\",\"Jul\",\"Aug\",\"Sep\",\"Oct\",\"Nov\",\"Dec\"],\"xaxis\":\"x\",\"y\":[68,73,99,67,85,54,64,68,75,85,69,63],\"yaxis\":\"y\",\"type\":\"scatter\"},{\"hovertemplate\":\"ViolationDescription=IMPROPER ON 2WAY HWY<br>Month=%{x}<br>CountOfViolations=%{y}<extra></extra>\",\"legendgroup\":\"IMPROPER ON 2WAY HWY\",\"line\":{\"color\":\"#FF97FF\",\"dash\":\"solid\"},\"marker\":{\"symbol\":\"circle\"},\"mode\":\"lines\",\"name\":\"IMPROPER ON 2WAY HWY\",\"orientation\":\"v\",\"showlegend\":true,\"x\":[\"Jan\",\"Feb\",\"Mar\",\"Apr\",\"May\",\"Jun\",\"Jul\",\"Aug\",\"Sep\",\"Oct\",\"Nov\",\"Dec\"],\"xaxis\":\"x\",\"y\":[306,919,1050,723,595,534,399,493,453,413,407,386],\"yaxis\":\"y\",\"type\":\"scatter\"},{\"hovertemplate\":\"ViolationDescription=IMPROPER-2WAY HWY 74<br>Month=%{x}<br>CountOfViolations=%{y}<extra></extra>\",\"legendgroup\":\"IMPROPER-2WAY HWY 74\",\"line\":{\"color\":\"#FECB52\",\"dash\":\"solid\"},\"marker\":{\"symbol\":\"circle\"},\"mode\":\"lines\",\"name\":\"IMPROPER-2WAY HWY 74\",\"orientation\":\"v\",\"showlegend\":true,\"x\":[\"Jan\",\"Feb\",\"Mar\",\"Apr\",\"May\",\"Aug\",\"Oct\",\"Dec\"],\"xaxis\":\"x\",\"y\":[1,1,2,2,2,1,2,1],\"yaxis\":\"y\",\"type\":\"scatter\"},{\"hovertemplate\":\"ViolationDescription=INVALID CONT PERMIT<br>Month=%{x}<br>CountOfViolations=%{y}<extra></extra>\",\"legendgroup\":\"INVALID CONT PERMIT\",\"line\":{\"color\":\"#636efa\",\"dash\":\"solid\"},\"marker\":{\"symbol\":\"circle\"},\"mode\":\"lines\",\"name\":\"INVALID CONT PERMIT\",\"orientation\":\"v\",\"showlegend\":true,\"x\":[\"Jan\",\"May\",\"Nov\"],\"xaxis\":\"x\",\"y\":[2,1,1],\"yaxis\":\"y\",\"type\":\"scatter\"},{\"hovertemplate\":\"ViolationDescription=INVALID KIOSK RECPT<br>Month=%{x}<br>CountOfViolations=%{y}<extra></extra>\",\"legendgroup\":\"INVALID KIOSK RECPT\",\"line\":{\"color\":\"#EF553B\",\"dash\":\"solid\"},\"marker\":{\"symbol\":\"circle\"},\"mode\":\"lines\",\"name\":\"INVALID KIOSK RECPT\",\"orientation\":\"v\",\"showlegend\":true,\"x\":[\"Jan\",\"Feb\",\"Mar\",\"Apr\",\"May\",\"Jun\",\"Jul\",\"Aug\",\"Sep\",\"Oct\",\"Nov\",\"Dec\"],\"xaxis\":\"x\",\"y\":[1,1,2,5,5,3,2,6,1,4,7,2],\"yaxis\":\"y\",\"type\":\"scatter\"},{\"hovertemplate\":\"ViolationDescription=LOADING ZONE<br>Month=%{x}<br>CountOfViolations=%{y}<extra></extra>\",\"legendgroup\":\"LOADING ZONE\",\"line\":{\"color\":\"#00cc96\",\"dash\":\"solid\"},\"marker\":{\"symbol\":\"circle\"},\"mode\":\"lines\",\"name\":\"LOADING ZONE\",\"orientation\":\"v\",\"showlegend\":true,\"x\":[\"Jan\",\"Feb\",\"Mar\",\"Apr\",\"May\",\"Jun\",\"Jul\",\"Aug\",\"Sep\",\"Oct\",\"Nov\",\"Dec\"],\"xaxis\":\"x\",\"y\":[2062,2006,2193,2028,1850,1928,1770,2227,2063,2218,2130,1923],\"yaxis\":\"y\",\"type\":\"scatter\"},{\"hovertemplate\":\"ViolationDescription=METER EXPIRED<br>Month=%{x}<br>CountOfViolations=%{y}<extra></extra>\",\"legendgroup\":\"METER EXPIRED\",\"line\":{\"color\":\"#ab63fa\",\"dash\":\"solid\"},\"marker\":{\"symbol\":\"circle\"},\"mode\":\"lines\",\"name\":\"METER EXPIRED\",\"orientation\":\"v\",\"showlegend\":true,\"x\":[\"Jan\",\"Feb\",\"Mar\",\"Apr\",\"May\",\"Jun\",\"Jul\",\"Aug\",\"Sep\",\"Oct\",\"Nov\",\"Dec\"],\"xaxis\":\"x\",\"y\":[48154,46735,52337,53061,56108,54189,51247,59922,55294,57232,55118,43601],\"yaxis\":\"y\",\"type\":\"scatter\"},{\"hovertemplate\":\"ViolationDescription=OMMRCL VEH RES AREA<br>Month=%{x}<br>CountOfViolations=%{y}<extra></extra>\",\"legendgroup\":\"OMMRCL VEH RES AREA\",\"line\":{\"color\":\"#FFA15A\",\"dash\":\"solid\"},\"marker\":{\"symbol\":\"circle\"},\"mode\":\"lines\",\"name\":\"OMMRCL VEH RES AREA\",\"orientation\":\"v\",\"showlegend\":true,\"x\":[\"Jan\",\"Feb\",\"Mar\",\"Apr\",\"May\",\"Jun\",\"Jul\",\"Aug\",\"Sep\",\"Oct\",\"Nov\",\"Dec\"],\"xaxis\":\"x\",\"y\":[65,43,74,91,64,40,39,48,46,99,38,44],\"yaxis\":\"y\",\"type\":\"scatter\"},{\"hovertemplate\":\"ViolationDescription=ON LIMITD ACCESS HW<br>Month=%{x}<br>CountOfViolations=%{y}<extra></extra>\",\"legendgroup\":\"ON LIMITD ACCESS HW\",\"line\":{\"color\":\"#19d3f3\",\"dash\":\"solid\"},\"marker\":{\"symbol\":\"circle\"},\"mode\":\"lines\",\"name\":\"ON LIMITD ACCESS HW\",\"orientation\":\"v\",\"showlegend\":true,\"x\":[\"Jan\",\"Feb\",\"Apr\",\"Aug\",\"Sep\",\"Oct\"],\"xaxis\":\"x\",\"y\":[1,2,2,3,1,1],\"yaxis\":\"y\",\"type\":\"scatter\"},{\"hovertemplate\":\"ViolationDescription=ORNER CLEARANCE<br>Month=%{x}<br>CountOfViolations=%{y}<extra></extra>\",\"legendgroup\":\"ORNER CLEARANCE\",\"line\":{\"color\":\"#FF6692\",\"dash\":\"solid\"},\"marker\":{\"symbol\":\"circle\"},\"mode\":\"lines\",\"name\":\"ORNER CLEARANCE\",\"orientation\":\"v\",\"showlegend\":true,\"x\":[\"Jan\",\"Feb\",\"Mar\",\"Apr\",\"May\",\"Jun\",\"Jul\",\"Aug\",\"Sep\",\"Oct\",\"Nov\",\"Dec\"],\"xaxis\":\"x\",\"y\":[1429,1468,1678,1765,1672,1461,1159,1405,1494,1340,1295,1061],\"yaxis\":\"y\",\"type\":\"scatter\"},{\"hovertemplate\":\"ViolationDescription=OUNTERFEIT HP PERM<br>Month=%{x}<br>CountOfViolations=%{y}<extra></extra>\",\"legendgroup\":\"OUNTERFEIT HP PERM\",\"line\":{\"color\":\"#B6E880\",\"dash\":\"solid\"},\"marker\":{\"symbol\":\"circle\"},\"mode\":\"lines\",\"name\":\"OUNTERFEIT HP PERM\",\"orientation\":\"v\",\"showlegend\":true,\"x\":[\"Jan\",\"Feb\",\"Mar\",\"Apr\",\"May\",\"Jun\",\"Jul\",\"Aug\",\"Sep\",\"Oct\",\"Nov\",\"Dec\"],\"xaxis\":\"x\",\"y\":[15,19,17,12,15,13,9,9,8,3,3,1],\"yaxis\":\"y\",\"type\":\"scatter\"},{\"hovertemplate\":\"ViolationDescription=OVER TIME LIMIT<br>Month=%{x}<br>CountOfViolations=%{y}<extra></extra>\",\"legendgroup\":\"OVER TIME LIMIT\",\"line\":{\"color\":\"#FF97FF\",\"dash\":\"solid\"},\"marker\":{\"symbol\":\"circle\"},\"mode\":\"lines\",\"name\":\"OVER TIME LIMIT\",\"orientation\":\"v\",\"showlegend\":true,\"x\":[\"Jan\",\"Feb\",\"Mar\",\"Apr\",\"May\",\"Jun\",\"Jul\",\"Aug\",\"Sep\",\"Oct\",\"Nov\",\"Dec\"],\"xaxis\":\"x\",\"y\":[19137,18326,20605,20313,20954,20291,17769,23225,21665,22424,22075,19689],\"yaxis\":\"y\",\"type\":\"scatter\"},{\"hovertemplate\":\"ViolationDescription=PARENTAL LIABILITY<br>Month=%{x}<br>CountOfViolations=%{y}<extra></extra>\",\"legendgroup\":\"PARENTAL LIABILITY\",\"line\":{\"color\":\"#FECB52\",\"dash\":\"solid\"},\"marker\":{\"symbol\":\"circle\"},\"mode\":\"lines\",\"name\":\"PARENTAL LIABILITY\",\"orientation\":\"v\",\"showlegend\":true,\"x\":[\"Jan\",\"Feb\",\"Mar\",\"Apr\",\"May\",\"Jun\",\"Jul\",\"Aug\",\"Sep\",\"Oct\",\"Nov\",\"Dec\"],\"xaxis\":\"x\",\"y\":[13,7,23,9,7,7,37,65,29,30,19,7],\"yaxis\":\"y\",\"type\":\"scatter\"},{\"hovertemplate\":\"ViolationDescription=PARK METER IMPROPER<br>Month=%{x}<br>CountOfViolations=%{y}<extra></extra>\",\"legendgroup\":\"PARK METER IMPROPER\",\"line\":{\"color\":\"#636efa\",\"dash\":\"solid\"},\"marker\":{\"symbol\":\"circle\"},\"mode\":\"lines\",\"name\":\"PARK METER IMPROPER\",\"orientation\":\"v\",\"showlegend\":true,\"x\":[\"Jan\",\"Feb\",\"Mar\",\"Apr\",\"May\",\"Jun\",\"Sep\",\"Nov\",\"Dec\"],\"xaxis\":\"x\",\"y\":[1,1,1,2,1,3,2,2,1],\"yaxis\":\"y\",\"type\":\"scatter\"},{\"hovertemplate\":\"ViolationDescription=PARK PROHIB PLACE<br>Month=%{x}<br>CountOfViolations=%{y}<extra></extra>\",\"legendgroup\":\"PARK PROHIB PLACE\",\"line\":{\"color\":\"#EF553B\",\"dash\":\"solid\"},\"marker\":{\"symbol\":\"circle\"},\"mode\":\"lines\",\"name\":\"PARK PROHIB PLACE\",\"orientation\":\"v\",\"showlegend\":true,\"x\":[\"Jan\",\"Mar\",\"Apr\",\"May\",\"Jun\",\"Jul\",\"Aug\",\"Sep\",\"Oct\",\"Nov\"],\"xaxis\":\"x\",\"y\":[1,4,3,11,8,2,21,3,3,3],\"yaxis\":\"y\",\"type\":\"scatter\"},{\"hovertemplate\":\"ViolationDescription=PARKED ON BRIDGE 14<br>Month=%{x}<br>CountOfViolations=%{y}<extra></extra>\",\"legendgroup\":\"PARKED ON BRIDGE 14\",\"line\":{\"color\":\"#00cc96\",\"dash\":\"solid\"},\"marker\":{\"symbol\":\"circle\"},\"mode\":\"lines\",\"name\":\"PARKED ON BRIDGE 14\",\"orientation\":\"v\",\"showlegend\":true,\"x\":[\"Jan\",\"Mar\",\"Apr\",\"Jun\",\"Aug\",\"Sep\",\"Oct\",\"Nov\"],\"xaxis\":\"x\",\"y\":[4,1,1,4,1,5,1,2],\"yaxis\":\"y\",\"type\":\"scatter\"},{\"hovertemplate\":\"ViolationDescription=PARKED ON GRASS<br>Month=%{x}<br>CountOfViolations=%{y}<extra></extra>\",\"legendgroup\":\"PARKED ON GRASS\",\"line\":{\"color\":\"#ab63fa\",\"dash\":\"solid\"},\"marker\":{\"symbol\":\"circle\"},\"mode\":\"lines\",\"name\":\"PARKED ON GRASS\",\"orientation\":\"v\",\"showlegend\":true,\"x\":[\"Jan\",\"Feb\",\"Mar\",\"Apr\",\"May\",\"Jun\",\"Jul\",\"Aug\",\"Sep\",\"Oct\",\"Nov\",\"Dec\"],\"xaxis\":\"x\",\"y\":[3,9,37,183,162,62,50,18,96,71,11,5],\"yaxis\":\"y\",\"type\":\"scatter\"},{\"hovertemplate\":\"ViolationDescription=PARKING PROHBITED<br>Month=%{x}<br>CountOfViolations=%{y}<extra></extra>\",\"legendgroup\":\"PARKING PROHBITED\",\"line\":{\"color\":\"#FFA15A\",\"dash\":\"solid\"},\"marker\":{\"symbol\":\"circle\"},\"mode\":\"lines\",\"name\":\"PARKING PROHBITED\",\"orientation\":\"v\",\"showlegend\":true,\"x\":[\"Jan\",\"Feb\",\"Mar\",\"Apr\",\"May\",\"Jun\",\"Jul\",\"Aug\",\"Sep\",\"Oct\",\"Nov\",\"Dec\"],\"xaxis\":\"x\",\"y\":[9939,10080,11876,11566,11577,11200,9967,11573,11681,12895,11835,9952],\"yaxis\":\"y\",\"type\":\"scatter\"},{\"hovertemplate\":\"ViolationDescription=PARKING PROHIBITED<br>Month=%{x}<br>CountOfViolations=%{y}<extra></extra>\",\"legendgroup\":\"PARKING PROHIBITED\",\"line\":{\"color\":\"#19d3f3\",\"dash\":\"solid\"},\"marker\":{\"symbol\":\"circle\"},\"mode\":\"lines\",\"name\":\"PARKING PROHIBITED\",\"orientation\":\"v\",\"showlegend\":true,\"x\":[\"Jan\",\"Mar\",\"May\",\"Jun\",\"Jul\",\"Aug\",\"Sep\",\"Oct\",\"Nov\",\"Dec\"],\"xaxis\":\"x\",\"y\":[2,13,1,13,15,26,10,3,20,2],\"yaxis\":\"y\",\"type\":\"scatter\"},{\"hovertemplate\":\"ViolationDescription=PASSENGR LOADNG ZONE<br>Month=%{x}<br>CountOfViolations=%{y}<extra></extra>\",\"legendgroup\":\"PASSENGR LOADNG ZONE\",\"line\":{\"color\":\"#FF6692\",\"dash\":\"solid\"},\"marker\":{\"symbol\":\"circle\"},\"mode\":\"lines\",\"name\":\"PASSENGR LOADNG ZONE\",\"orientation\":\"v\",\"showlegend\":true,\"x\":[\"Jan\",\"Feb\",\"Mar\",\"Apr\",\"May\",\"Jun\",\"Jul\",\"Aug\",\"Sep\",\"Oct\",\"Nov\",\"Dec\"],\"xaxis\":\"x\",\"y\":[2668,2686,2936,2664,2931,2773,2357,2954,2661,2781,2753,2670],\"yaxis\":\"y\",\"type\":\"scatter\"},{\"hovertemplate\":\"ViolationDescription=PKG W/LIC SUSPD 75<br>Month=%{x}<br>CountOfViolations=%{y}<extra></extra>\",\"legendgroup\":\"PKG W/LIC SUSPD 75\",\"line\":{\"color\":\"#B6E880\",\"dash\":\"solid\"},\"marker\":{\"symbol\":\"circle\"},\"mode\":\"lines\",\"name\":\"PKG W/LIC SUSPD 75\",\"orientation\":\"v\",\"showlegend\":true,\"x\":[\"Jan\",\"Feb\",\"Apr\",\"May\",\"Jun\",\"Jul\",\"Aug\",\"Sep\",\"Oct\",\"Dec\"],\"xaxis\":\"x\",\"y\":[3,15,6,1,1,2,5,2,4,4],\"yaxis\":\"y\",\"type\":\"scatter\"},{\"hovertemplate\":\"ViolationDescription=PRIVATE PROPERTY<br>Month=%{x}<br>CountOfViolations=%{y}<extra></extra>\",\"legendgroup\":\"PRIVATE PROPERTY\",\"line\":{\"color\":\"#FF97FF\",\"dash\":\"solid\"},\"marker\":{\"symbol\":\"circle\"},\"mode\":\"lines\",\"name\":\"PRIVATE PROPERTY\",\"orientation\":\"v\",\"showlegend\":true,\"x\":[\"Jan\",\"Feb\",\"Mar\",\"Apr\",\"May\",\"Jun\",\"Jul\",\"Aug\",\"Sep\",\"Oct\",\"Nov\",\"Dec\"],\"xaxis\":\"x\",\"y\":[103,453,524,652,700,770,747,746,736,782,709,537],\"yaxis\":\"y\",\"type\":\"scatter\"},{\"hovertemplate\":\"ViolationDescription=ROSSWALK<br>Month=%{x}<br>CountOfViolations=%{y}<extra></extra>\",\"legendgroup\":\"ROSSWALK\",\"line\":{\"color\":\"#FECB52\",\"dash\":\"solid\"},\"marker\":{\"symbol\":\"circle\"},\"mode\":\"lines\",\"name\":\"ROSSWALK\",\"orientation\":\"v\",\"showlegend\":true,\"x\":[\"Jan\",\"Feb\",\"Mar\",\"Apr\",\"May\",\"Jun\",\"Jul\",\"Aug\",\"Sep\",\"Oct\",\"Nov\",\"Dec\"],\"xaxis\":\"x\",\"y\":[1225,1017,1363,1238,1272,989,788,972,1130,1198,1193,995],\"yaxis\":\"y\",\"type\":\"scatter\"},{\"hovertemplate\":\"ViolationDescription=SCHOOL ZONE<br>Month=%{x}<br>CountOfViolations=%{y}<extra></extra>\",\"legendgroup\":\"SCHOOL ZONE\",\"line\":{\"color\":\"#636efa\",\"dash\":\"solid\"},\"marker\":{\"symbol\":\"circle\"},\"mode\":\"lines\",\"name\":\"SCHOOL ZONE\",\"orientation\":\"v\",\"showlegend\":true,\"x\":[\"Jan\",\"Feb\",\"Mar\",\"Apr\",\"May\",\"Jun\",\"Jul\",\"Aug\",\"Sep\",\"Oct\",\"Nov\",\"Dec\"],\"xaxis\":\"x\",\"y\":[997,1011,1363,954,1361,855,82,23,1283,1281,931,576],\"yaxis\":\"y\",\"type\":\"scatter\"},{\"hovertemplate\":\"ViolationDescription=SIDEWALK<br>Month=%{x}<br>CountOfViolations=%{y}<extra></extra>\",\"legendgroup\":\"SIDEWALK\",\"line\":{\"color\":\"#EF553B\",\"dash\":\"solid\"},\"marker\":{\"symbol\":\"circle\"},\"mode\":\"lines\",\"name\":\"SIDEWALK\",\"orientation\":\"v\",\"showlegend\":true,\"x\":[\"Jan\",\"Feb\",\"Mar\",\"Apr\",\"May\",\"Jun\",\"Jul\",\"Aug\",\"Sep\",\"Oct\",\"Nov\",\"Dec\"],\"xaxis\":\"x\",\"y\":[3107,3074,3701,3623,3449,2888,2453,2916,2982,3069,2891,2318],\"yaxis\":\"y\",\"type\":\"scatter\"},{\"hovertemplate\":\"ViolationDescription=STOP IN INTERSECTION<br>Month=%{x}<br>CountOfViolations=%{y}<extra></extra>\",\"legendgroup\":\"STOP IN INTERSECTION\",\"line\":{\"color\":\"#00cc96\",\"dash\":\"solid\"},\"marker\":{\"symbol\":\"circle\"},\"mode\":\"lines\",\"name\":\"STOP IN INTERSECTION\",\"orientation\":\"v\",\"showlegend\":true,\"x\":[\"Jan\",\"Feb\",\"Mar\",\"Apr\",\"May\",\"Jun\",\"Jul\",\"Aug\",\"Sep\",\"Oct\",\"Nov\",\"Dec\"],\"xaxis\":\"x\",\"y\":[5,3,4,6,5,2,7,5,6,9,4,8],\"yaxis\":\"y\",\"type\":\"scatter\"},{\"hovertemplate\":\"ViolationDescription=STOP MEDIAL STRIP<br>Month=%{x}<br>CountOfViolations=%{y}<extra></extra>\",\"legendgroup\":\"STOP MEDIAL STRIP\",\"line\":{\"color\":\"#ab63fa\",\"dash\":\"solid\"},\"marker\":{\"symbol\":\"circle\"},\"mode\":\"lines\",\"name\":\"STOP MEDIAL STRIP\",\"orientation\":\"v\",\"showlegend\":true,\"x\":[\"Jan\",\"Feb\",\"Mar\",\"Apr\",\"May\",\"Jun\",\"Jul\",\"Aug\",\"Sep\",\"Oct\",\"Nov\",\"Dec\"],\"xaxis\":\"x\",\"y\":[178,207,225,221,235,191,155,158,145,160,194,130],\"yaxis\":\"y\",\"type\":\"scatter\"},{\"hovertemplate\":\"ViolationDescription=STOP ON R/R TRACK 44<br>Month=%{x}<br>CountOfViolations=%{y}<extra></extra>\",\"legendgroup\":\"STOP ON R/R TRACK 44\",\"line\":{\"color\":\"#FFA15A\",\"dash\":\"solid\"},\"marker\":{\"symbol\":\"circle\"},\"mode\":\"lines\",\"name\":\"STOP ON R/R TRACK 44\",\"orientation\":\"v\",\"showlegend\":true,\"x\":[\"Jan\",\"Feb\",\"Mar\",\"May\",\"Jul\",\"Aug\",\"Sep\",\"Oct\",\"Nov\",\"Dec\"],\"xaxis\":\"x\",\"y\":[33,6,7,1,1,1,1,1,1,4],\"yaxis\":\"y\",\"type\":\"scatter\"},{\"hovertemplate\":\"ViolationDescription=STOP PROHIBITED<br>Month=%{x}<br>CountOfViolations=%{y}<extra></extra>\",\"legendgroup\":\"STOP PROHIBITED\",\"line\":{\"color\":\"#19d3f3\",\"dash\":\"solid\"},\"marker\":{\"symbol\":\"circle\"},\"mode\":\"lines\",\"name\":\"STOP PROHIBITED\",\"orientation\":\"v\",\"showlegend\":true,\"x\":[\"Jan\",\"Feb\",\"Mar\",\"Apr\",\"May\",\"Jun\",\"Jul\",\"Aug\",\"Sep\",\"Oct\",\"Nov\",\"Dec\"],\"xaxis\":\"x\",\"y\":[12596,12157,13922,13048,13970,14065,12753,15769,14728,15484,15143,13268],\"yaxis\":\"y\",\"type\":\"scatter\"},{\"hovertemplate\":\"ViolationDescription=STOP/BLOCK HIGHWAY<br>Month=%{x}<br>CountOfViolations=%{y}<extra></extra>\",\"legendgroup\":\"STOP/BLOCK HIGHWAY\",\"line\":{\"color\":\"#FF6692\",\"dash\":\"solid\"},\"marker\":{\"symbol\":\"circle\"},\"mode\":\"lines\",\"name\":\"STOP/BLOCK HIGHWAY\",\"orientation\":\"v\",\"showlegend\":true,\"x\":[\"Jan\",\"Feb\",\"Mar\",\"Apr\",\"May\",\"Jun\",\"Jul\",\"Aug\",\"Sep\",\"Oct\",\"Nov\",\"Dec\"],\"xaxis\":\"x\",\"y\":[56,41,69,62,27,26,30,21,37,43,24,17],\"yaxis\":\"y\",\"type\":\"scatter\"},{\"hovertemplate\":\"ViolationDescription=STOP/BLOCK HIWY<br>Month=%{x}<br>CountOfViolations=%{y}<extra></extra>\",\"legendgroup\":\"STOP/BLOCK HIWY\",\"line\":{\"color\":\"#B6E880\",\"dash\":\"solid\"},\"marker\":{\"symbol\":\"circle\"},\"mode\":\"lines\",\"name\":\"STOP/BLOCK HIWY\",\"orientation\":\"v\",\"showlegend\":true,\"x\":[\"Jan\",\"Feb\",\"Mar\",\"Apr\",\"May\",\"Jun\",\"Jul\",\"Aug\",\"Sep\",\"Oct\",\"Nov\",\"Dec\"],\"xaxis\":\"x\",\"y\":[6,4,9,19,14,12,8,9,10,19,10,6],\"yaxis\":\"y\",\"type\":\"scatter\"},{\"hovertemplate\":\"ViolationDescription=STOPPED IN SAFE ZONE<br>Month=%{x}<br>CountOfViolations=%{y}<extra></extra>\",\"legendgroup\":\"STOPPED IN SAFE ZONE\",\"line\":{\"color\":\"#FF97FF\",\"dash\":\"solid\"},\"marker\":{\"symbol\":\"circle\"},\"mode\":\"lines\",\"name\":\"STOPPED IN SAFE ZONE\",\"orientation\":\"v\",\"showlegend\":true,\"x\":[\"Jan\",\"Feb\",\"Mar\",\"Apr\",\"May\",\"Jun\",\"Jul\",\"Aug\",\"Sep\",\"Oct\",\"Nov\",\"Dec\"],\"xaxis\":\"x\",\"y\":[7,7,1,5,8,12,2,12,12,15,15,8],\"yaxis\":\"y\",\"type\":\"scatter\"},{\"hovertemplate\":\"ViolationDescription=STOPPING PROHIBITED<br>Month=%{x}<br>CountOfViolations=%{y}<extra></extra>\",\"legendgroup\":\"STOPPING PROHIBITED\",\"line\":{\"color\":\"#FECB52\",\"dash\":\"solid\"},\"marker\":{\"symbol\":\"circle\"},\"mode\":\"lines\",\"name\":\"STOPPING PROHIBITED\",\"orientation\":\"v\",\"showlegend\":true,\"x\":[\"Jan\",\"Feb\",\"Mar\",\"Apr\",\"May\",\"Jun\",\"Jul\",\"Aug\",\"Sep\",\"Oct\",\"Nov\",\"Dec\"],\"xaxis\":\"x\",\"y\":[4560,4322,5438,5267,5020,4809,4367,5624,5060,5566,5015,4259],\"yaxis\":\"y\",\"type\":\"scatter\"},{\"hovertemplate\":\"ViolationDescription=STREET CLEANING<br>Month=%{x}<br>CountOfViolations=%{y}<extra></extra>\",\"legendgroup\":\"STREET CLEANING\",\"line\":{\"color\":\"#636efa\",\"dash\":\"solid\"},\"marker\":{\"symbol\":\"circle\"},\"mode\":\"lines\",\"name\":\"STREET CLEANING\",\"orientation\":\"v\",\"showlegend\":true,\"x\":[\"Jan\",\"Feb\",\"Mar\",\"Apr\",\"May\",\"Jun\",\"Jul\",\"Aug\",\"Sep\",\"Oct\",\"Nov\",\"Dec\"],\"xaxis\":\"x\",\"y\":[727,687,746,747,852,861,809,695,591,529,580,666],\"yaxis\":\"y\",\"type\":\"scatter\"},{\"hovertemplate\":\"ViolationDescription=SUSPENDED LICENSE<br>Month=%{x}<br>CountOfViolations=%{y}<extra></extra>\",\"legendgroup\":\"SUSPENDED LICENSE\",\"line\":{\"color\":\"#EF553B\",\"dash\":\"solid\"},\"marker\":{\"symbol\":\"circle\"},\"mode\":\"lines\",\"name\":\"SUSPENDED LICENSE\",\"orientation\":\"v\",\"showlegend\":true,\"x\":[\"Jan\",\"Feb\",\"Mar\",\"Apr\",\"May\",\"Jun\",\"Jul\",\"Aug\",\"Sep\",\"Oct\",\"Nov\",\"Dec\"],\"xaxis\":\"x\",\"y\":[9,11,16,11,9,6,18,17,9,3,9,3],\"yaxis\":\"y\",\"type\":\"scatter\"},{\"hovertemplate\":\"ViolationDescription=TAXI NOT AT STAND<br>Month=%{x}<br>CountOfViolations=%{y}<extra></extra>\",\"legendgroup\":\"TAXI NOT AT STAND\",\"line\":{\"color\":\"#00cc96\",\"dash\":\"solid\"},\"marker\":{\"symbol\":\"circle\"},\"mode\":\"lines\",\"name\":\"TAXI NOT AT STAND\",\"orientation\":\"v\",\"showlegend\":true,\"x\":[\"Jan\",\"Feb\",\"Mar\",\"Apr\",\"May\",\"Jun\",\"Jul\",\"Aug\",\"Sep\",\"Oct\",\"Nov\",\"Dec\"],\"xaxis\":\"x\",\"y\":[2,5,7,4,1,3,1,1,1,4,2,1],\"yaxis\":\"y\",\"type\":\"scatter\"},{\"hovertemplate\":\"ViolationDescription=TAXI STAND<br>Month=%{x}<br>CountOfViolations=%{y}<extra></extra>\",\"legendgroup\":\"TAXI STAND\",\"line\":{\"color\":\"#ab63fa\",\"dash\":\"solid\"},\"marker\":{\"symbol\":\"circle\"},\"mode\":\"lines\",\"name\":\"TAXI STAND\",\"orientation\":\"v\",\"showlegend\":true,\"x\":[\"Jan\",\"Feb\",\"Mar\",\"Apr\",\"May\",\"Jun\",\"Jul\",\"Aug\",\"Sep\",\"Oct\",\"Nov\",\"Dec\"],\"xaxis\":\"x\",\"y\":[118,122,156,153,159,150,122,138,163,139,152,163],\"yaxis\":\"y\",\"type\":\"scatter\"},{\"hovertemplate\":\"ViolationDescription=UNATTENDED VEH    29<br>Month=%{x}<br>CountOfViolations=%{y}<extra></extra>\",\"legendgroup\":\"UNATTENDED VEH    29\",\"line\":{\"color\":\"#FFA15A\",\"dash\":\"solid\"},\"marker\":{\"symbol\":\"circle\"},\"mode\":\"lines\",\"name\":\"UNATTENDED VEH    29\",\"orientation\":\"v\",\"showlegend\":true,\"x\":[\"Jan\",\"Feb\",\"Mar\",\"Apr\",\"May\",\"Jun\",\"Jul\",\"Aug\",\"Sep\",\"Oct\",\"Nov\",\"Dec\"],\"xaxis\":\"x\",\"y\":[52,31,38,33,36,52,55,53,36,50,49,28],\"yaxis\":\"y\",\"type\":\"scatter\"},{\"hovertemplate\":\"ViolationDescription=UNLAWFUL ALARM<br>Month=%{x}<br>CountOfViolations=%{y}<extra></extra>\",\"legendgroup\":\"UNLAWFUL ALARM\",\"line\":{\"color\":\"#19d3f3\",\"dash\":\"solid\"},\"marker\":{\"symbol\":\"circle\"},\"mode\":\"lines\",\"name\":\"UNLAWFUL ALARM\",\"orientation\":\"v\",\"showlegend\":true,\"x\":[\"Jan\",\"Feb\",\"Mar\",\"Apr\",\"May\",\"Jun\",\"Aug\",\"Oct\"],\"xaxis\":\"x\",\"y\":[3,1,2,6,5,2,3,1],\"yaxis\":\"y\",\"type\":\"scatter\"},{\"hovertemplate\":\"ViolationDescription=UNMETERED SPACE<br>Month=%{x}<br>CountOfViolations=%{y}<extra></extra>\",\"legendgroup\":\"UNMETERED SPACE\",\"line\":{\"color\":\"#FF6692\",\"dash\":\"solid\"},\"marker\":{\"symbol\":\"circle\"},\"mode\":\"lines\",\"name\":\"UNMETERED SPACE\",\"orientation\":\"v\",\"showlegend\":true,\"x\":[\"Jan\",\"Mar\",\"Apr\",\"Jun\",\"Aug\",\"Nov\"],\"xaxis\":\"x\",\"y\":[1,30,4,1,1,2],\"yaxis\":\"y\",\"type\":\"scatter\"},{\"hovertemplate\":\"ViolationDescription=UNREG/ABANDONED VEH<br>Month=%{x}<br>CountOfViolations=%{y}<extra></extra>\",\"legendgroup\":\"UNREG/ABANDONED VEH\",\"line\":{\"color\":\"#B6E880\",\"dash\":\"solid\"},\"marker\":{\"symbol\":\"circle\"},\"mode\":\"lines\",\"name\":\"UNREG/ABANDONED VEH\",\"orientation\":\"v\",\"showlegend\":true,\"x\":[\"Jan\",\"Feb\",\"Mar\",\"Apr\",\"May\",\"Jun\",\"Jul\",\"Aug\",\"Sep\",\"Oct\",\"Nov\",\"Dec\"],\"xaxis\":\"x\",\"y\":[731,928,907,900,1014,861,482,977,712,915,575,105],\"yaxis\":\"y\",\"type\":\"scatter\"},{\"hovertemplate\":\"ViolationDescription=VALET VIOLATION<br>Month=%{x}<br>CountOfViolations=%{y}<extra></extra>\",\"legendgroup\":\"VALET VIOLATION\",\"line\":{\"color\":\"#FF97FF\",\"dash\":\"solid\"},\"marker\":{\"symbol\":\"circle\"},\"mode\":\"lines\",\"name\":\"VALET VIOLATION\",\"orientation\":\"v\",\"showlegend\":true,\"x\":[\"Jan\",\"Feb\",\"Mar\",\"Apr\",\"May\",\"Jun\",\"Jul\",\"Aug\",\"Sep\",\"Oct\",\"Nov\",\"Dec\"],\"xaxis\":\"x\",\"y\":[6,6,16,11,21,24,45,43,27,6,15,26],\"yaxis\":\"y\",\"type\":\"scatter\"},{\"hovertemplate\":\"ViolationDescription=VALET ZONE VIOLATION<br>Month=%{x}<br>CountOfViolations=%{y}<extra></extra>\",\"legendgroup\":\"VALET ZONE VIOLATION\",\"line\":{\"color\":\"#FECB52\",\"dash\":\"solid\"},\"marker\":{\"symbol\":\"circle\"},\"mode\":\"lines\",\"name\":\"VALET ZONE VIOLATION\",\"orientation\":\"v\",\"showlegend\":true,\"x\":[\"Jan\",\"Feb\",\"Mar\",\"Apr\",\"May\",\"Jun\",\"Jul\",\"Aug\",\"Sep\",\"Oct\",\"Nov\",\"Dec\"],\"xaxis\":\"x\",\"y\":[120,179,157,150,159,147,142,212,173,230,164,158],\"yaxis\":\"y\",\"type\":\"scatter\"},{\"hovertemplate\":\"ViolationDescription=WASH/REPAIR VEH<br>Month=%{x}<br>CountOfViolations=%{y}<extra></extra>\",\"legendgroup\":\"WASH/REPAIR VEH\",\"line\":{\"color\":\"#636efa\",\"dash\":\"solid\"},\"marker\":{\"symbol\":\"circle\"},\"mode\":\"lines\",\"name\":\"WASH/REPAIR VEH\",\"orientation\":\"v\",\"showlegend\":true,\"x\":[\"Jan\",\"Feb\",\"Mar\",\"Apr\",\"May\",\"Jun\",\"Jul\",\"Aug\",\"Sep\",\"Oct\",\"Nov\",\"Dec\"],\"xaxis\":\"x\",\"y\":[4,9,18,16,14,12,5,10,7,9,3,2],\"yaxis\":\"y\",\"type\":\"scatter\"},{\"hovertemplate\":\"ViolationDescription=BUS-IMP PSNG DISCHRG<br>Month=%{x}<br>CountOfViolations=%{y}<extra></extra>\",\"legendgroup\":\"BUS-IMP PSNG DISCHRG\",\"line\":{\"color\":\"#EF553B\",\"dash\":\"solid\"},\"marker\":{\"symbol\":\"circle\"},\"mode\":\"lines\",\"name\":\"BUS-IMP PSNG DISCHRG\",\"orientation\":\"v\",\"showlegend\":true,\"x\":[\"Feb\",\"Mar\",\"Apr\",\"May\",\"Jun\",\"Jul\",\"Oct\",\"Nov\",\"Dec\"],\"xaxis\":\"x\",\"y\":[7,1,1,4,1,4,1,10,6],\"yaxis\":\"y\",\"type\":\"scatter\"},{\"hovertemplate\":\"ViolationDescription=DAMAGE TO METER<br>Month=%{x}<br>CountOfViolations=%{y}<extra></extra>\",\"legendgroup\":\"DAMAGE TO METER\",\"line\":{\"color\":\"#00cc96\",\"dash\":\"solid\"},\"marker\":{\"symbol\":\"circle\"},\"mode\":\"lines\",\"name\":\"DAMAGE TO METER\",\"orientation\":\"v\",\"showlegend\":true,\"x\":[\"Feb\",\"Mar\",\"Apr\",\"May\",\"Jun\",\"Aug\",\"Sep\",\"Oct\"],\"xaxis\":\"x\",\"y\":[1,3,1,4,1,4,5,2],\"yaxis\":\"y\",\"type\":\"scatter\"},{\"hovertemplate\":\"ViolationDescription=DISOBEY SN-STANDG<br>Month=%{x}<br>CountOfViolations=%{y}<extra></extra>\",\"legendgroup\":\"DISOBEY SN-STANDG\",\"line\":{\"color\":\"#ab63fa\",\"dash\":\"solid\"},\"marker\":{\"symbol\":\"circle\"},\"mode\":\"lines\",\"name\":\"DISOBEY SN-STANDG\",\"orientation\":\"v\",\"showlegend\":true,\"x\":[\"Feb\"],\"xaxis\":\"x\",\"y\":[1],\"yaxis\":\"y\",\"type\":\"scatter\"},{\"hovertemplate\":\"ViolationDescription=FRAUD PARK HP SPACE<br>Month=%{x}<br>CountOfViolations=%{y}<extra></extra>\",\"legendgroup\":\"FRAUD PARK HP SPACE\",\"line\":{\"color\":\"#FFA15A\",\"dash\":\"solid\"},\"marker\":{\"symbol\":\"circle\"},\"mode\":\"lines\",\"name\":\"FRAUD PARK HP SPACE\",\"orientation\":\"v\",\"showlegend\":true,\"x\":[\"Feb\",\"Mar\",\"Apr\",\"Jul\",\"Aug\"],\"xaxis\":\"x\",\"y\":[1,3,1,1,3],\"yaxis\":\"y\",\"type\":\"scatter\"},{\"hovertemplate\":\"ViolationDescription=OBSTRUCT TROLLEY 52<br>Month=%{x}<br>CountOfViolations=%{y}<extra></extra>\",\"legendgroup\":\"OBSTRUCT TROLLEY 52\",\"line\":{\"color\":\"#19d3f3\",\"dash\":\"solid\"},\"marker\":{\"symbol\":\"circle\"},\"mode\":\"lines\",\"name\":\"OBSTRUCT TROLLEY 52\",\"orientation\":\"v\",\"showlegend\":true,\"x\":[\"Feb\",\"Mar\",\"Jun\"],\"xaxis\":\"x\",\"y\":[1,3,1],\"yaxis\":\"y\",\"type\":\"scatter\"},{\"hovertemplate\":\"ViolationDescription=PARK MOBILE HOME 28<br>Month=%{x}<br>CountOfViolations=%{y}<extra></extra>\",\"legendgroup\":\"PARK MOBILE HOME 28\",\"line\":{\"color\":\"#FF6692\",\"dash\":\"solid\"},\"marker\":{\"symbol\":\"circle\"},\"mode\":\"lines\",\"name\":\"PARK MOBILE HOME 28\",\"orientation\":\"v\",\"showlegend\":true,\"x\":[\"Feb\",\"Apr\",\"May\",\"Jul\",\"Aug\",\"Sep\",\"Oct\",\"Nov\"],\"xaxis\":\"x\",\"y\":[2,2,2,2,1,5,2,1],\"yaxis\":\"y\",\"type\":\"scatter\"},{\"hovertemplate\":\"ViolationDescription=PK NEAR FIRE STAT 51<br>Month=%{x}<br>CountOfViolations=%{y}<extra></extra>\",\"legendgroup\":\"PK NEAR FIRE STAT 51\",\"line\":{\"color\":\"#B6E880\",\"dash\":\"solid\"},\"marker\":{\"symbol\":\"circle\"},\"mode\":\"lines\",\"name\":\"PK NEAR FIRE STAT 51\",\"orientation\":\"v\",\"showlegend\":true,\"x\":[\"Feb\",\"Mar\",\"Apr\",\"May\",\"Aug\",\"Sep\",\"Nov\",\"Dec\"],\"xaxis\":\"x\",\"y\":[1,2,1,2,1,1,2,1],\"yaxis\":\"y\",\"type\":\"scatter\"},{\"hovertemplate\":\"ViolationDescription=PK NEAR TRAFF SIGNAL<br>Month=%{x}<br>CountOfViolations=%{y}<extra></extra>\",\"legendgroup\":\"PK NEAR TRAFF SIGNAL\",\"line\":{\"color\":\"#FF97FF\",\"dash\":\"solid\"},\"marker\":{\"symbol\":\"circle\"},\"mode\":\"lines\",\"name\":\"PK NEAR TRAFF SIGNAL\",\"orientation\":\"v\",\"showlegend\":true,\"x\":[\"Feb\",\"Mar\",\"Apr\",\"May\",\"Jun\",\"Jul\",\"Aug\",\"Sep\",\"Oct\",\"Nov\",\"Dec\"],\"xaxis\":\"x\",\"y\":[2,2,3,2,2,2,1,4,3,10,1],\"yaxis\":\"y\",\"type\":\"scatter\"},{\"hovertemplate\":\"ViolationDescription=SNOW EMERGENCY ROUTE<br>Month=%{x}<br>CountOfViolations=%{y}<extra></extra>\",\"legendgroup\":\"SNOW EMERGENCY ROUTE\",\"line\":{\"color\":\"#FECB52\",\"dash\":\"solid\"},\"marker\":{\"symbol\":\"circle\"},\"mode\":\"lines\",\"name\":\"SNOW EMERGENCY ROUTE\",\"orientation\":\"v\",\"showlegend\":true,\"x\":[\"Feb\",\"Mar\"],\"xaxis\":\"x\",\"y\":[1560,985],\"yaxis\":\"y\",\"type\":\"scatter\"},{\"hovertemplate\":\"ViolationDescription=SNOW RELOCATION TOW<br>Month=%{x}<br>CountOfViolations=%{y}<extra></extra>\",\"legendgroup\":\"SNOW RELOCATION TOW\",\"line\":{\"color\":\"#636efa\",\"dash\":\"solid\"},\"marker\":{\"symbol\":\"circle\"},\"mode\":\"lines\",\"name\":\"SNOW RELOCATION TOW\",\"orientation\":\"v\",\"showlegend\":true,\"x\":[\"Feb\",\"Mar\",\"Apr\"],\"xaxis\":\"x\",\"y\":[260,414,1],\"yaxis\":\"y\",\"type\":\"scatter\"},{\"hovertemplate\":\"ViolationDescription=STOPPED SAFE ZONE<br>Month=%{x}<br>CountOfViolations=%{y}<extra></extra>\",\"legendgroup\":\"STOPPED SAFE ZONE\",\"line\":{\"color\":\"#EF553B\",\"dash\":\"solid\"},\"marker\":{\"symbol\":\"circle\"},\"mode\":\"lines\",\"name\":\"STOPPED SAFE ZONE\",\"orientation\":\"v\",\"showlegend\":true,\"x\":[\"Feb\",\"Oct\"],\"xaxis\":\"x\",\"y\":[1,1],\"yaxis\":\"y\",\"type\":\"scatter\"},{\"hovertemplate\":\"ViolationDescription=ILLEGAL PLACD TKT 73<br>Month=%{x}<br>CountOfViolations=%{y}<extra></extra>\",\"legendgroup\":\"ILLEGAL PLACD TKT 73\",\"line\":{\"color\":\"#00cc96\",\"dash\":\"solid\"},\"marker\":{\"symbol\":\"circle\"},\"mode\":\"lines\",\"name\":\"ILLEGAL PLACD TKT 73\",\"orientation\":\"v\",\"showlegend\":true,\"x\":[\"Mar\",\"Jun\"],\"xaxis\":\"x\",\"y\":[1,1],\"yaxis\":\"y\",\"type\":\"scatter\"},{\"hovertemplate\":\"ViolationDescription=OWNER ID ON COM VEH<br>Month=%{x}<br>CountOfViolations=%{y}<extra></extra>\",\"legendgroup\":\"OWNER ID ON COM VEH\",\"line\":{\"color\":\"#ab63fa\",\"dash\":\"solid\"},\"marker\":{\"symbol\":\"circle\"},\"mode\":\"lines\",\"name\":\"OWNER ID ON COM VEH\",\"orientation\":\"v\",\"showlegend\":true,\"x\":[\"Mar\",\"Apr\",\"Jul\",\"Aug\",\"Sep\",\"Oct\",\"Dec\"],\"xaxis\":\"x\",\"y\":[3,3,5,1,1,1,1],\"yaxis\":\"y\",\"type\":\"scatter\"},{\"hovertemplate\":\"ViolationDescription=PARK PROHIBITED 04<br>Month=%{x}<br>CountOfViolations=%{y}<extra></extra>\",\"legendgroup\":\"PARK PROHIBITED 04\",\"line\":{\"color\":\"#FFA15A\",\"dash\":\"solid\"},\"marker\":{\"symbol\":\"circle\"},\"mode\":\"lines\",\"name\":\"PARK PROHIBITED 04\",\"orientation\":\"v\",\"showlegend\":true,\"x\":[\"Mar\",\"Apr\",\"Jun\",\"Sep\",\"Oct\",\"Nov\"],\"xaxis\":\"x\",\"y\":[4,1,1,1,1,3],\"yaxis\":\"y\",\"type\":\"scatter\"},{\"hovertemplate\":\"ViolationDescription=PARK-TROLLEY STOP 23<br>Month=%{x}<br>CountOfViolations=%{y}<extra></extra>\",\"legendgroup\":\"PARK-TROLLEY STOP 23\",\"line\":{\"color\":\"#19d3f3\",\"dash\":\"solid\"},\"marker\":{\"symbol\":\"circle\"},\"mode\":\"lines\",\"name\":\"PARK-TROLLEY STOP 23\",\"orientation\":\"v\",\"showlegend\":true,\"x\":[\"Mar\",\"Jul\"],\"xaxis\":\"x\",\"y\":[2,1],\"yaxis\":\"y\",\"type\":\"scatter\"},{\"hovertemplate\":\"ViolationDescription=ATV ON PUBLIC PROPTY<br>Month=%{x}<br>CountOfViolations=%{y}<extra></extra>\",\"legendgroup\":\"ATV ON PUBLIC PROPTY\",\"line\":{\"color\":\"#FF6692\",\"dash\":\"solid\"},\"marker\":{\"symbol\":\"circle\"},\"mode\":\"lines\",\"name\":\"ATV ON PUBLIC PROPTY\",\"orientation\":\"v\",\"showlegend\":true,\"x\":[\"Apr\"],\"xaxis\":\"x\",\"y\":[1],\"yaxis\":\"y\",\"type\":\"scatter\"},{\"hovertemplate\":\"ViolationDescription=HIWAY CONSTRCTION 43<br>Month=%{x}<br>CountOfViolations=%{y}<extra></extra>\",\"legendgroup\":\"HIWAY CONSTRCTION 43\",\"line\":{\"color\":\"#B6E880\",\"dash\":\"solid\"},\"marker\":{\"symbol\":\"circle\"},\"mode\":\"lines\",\"name\":\"HIWAY CONSTRCTION 43\",\"orientation\":\"v\",\"showlegend\":true,\"x\":[\"Apr\",\"Jun\",\"Jul\",\"Sep\"],\"xaxis\":\"x\",\"y\":[1,3,1,2],\"yaxis\":\"y\",\"type\":\"scatter\"},{\"hovertemplate\":\"ViolationDescription=INTERSECTION<br>Month=%{x}<br>CountOfViolations=%{y}<extra></extra>\",\"legendgroup\":\"INTERSECTION\",\"line\":{\"color\":\"#FF97FF\",\"dash\":\"solid\"},\"marker\":{\"symbol\":\"circle\"},\"mode\":\"lines\",\"name\":\"INTERSECTION\",\"orientation\":\"v\",\"showlegend\":true,\"x\":[\"Apr\",\"Sep\",\"Oct\",\"Nov\",\"Dec\"],\"xaxis\":\"x\",\"y\":[1,6,4,2,1],\"yaxis\":\"y\",\"type\":\"scatter\"},{\"hovertemplate\":\"ViolationDescription=INVALID RPP PERMIT<br>Month=%{x}<br>CountOfViolations=%{y}<extra></extra>\",\"legendgroup\":\"INVALID RPP PERMIT\",\"line\":{\"color\":\"#FECB52\",\"dash\":\"solid\"},\"marker\":{\"symbol\":\"circle\"},\"mode\":\"lines\",\"name\":\"INVALID RPP PERMIT\",\"orientation\":\"v\",\"showlegend\":true,\"x\":[\"Apr\",\"May\",\"Jun\"],\"xaxis\":\"x\",\"y\":[1,1,2],\"yaxis\":\"y\",\"type\":\"scatter\"},{\"hovertemplate\":\"ViolationDescription=BUS-IMPROPER LOADING<br>Month=%{x}<br>CountOfViolations=%{y}<extra></extra>\",\"legendgroup\":\"BUS-IMPROPER LOADING\",\"line\":{\"color\":\"#636efa\",\"dash\":\"solid\"},\"marker\":{\"symbol\":\"circle\"},\"mode\":\"lines\",\"name\":\"BUS-IMPROPER LOADING\",\"orientation\":\"v\",\"showlegend\":true,\"x\":[\"May\",\"Jul\",\"Aug\",\"Oct\"],\"xaxis\":\"x\",\"y\":[2,1,1,2],\"yaxis\":\"y\",\"type\":\"scatter\"},{\"hovertemplate\":\"ViolationDescription=IMPROPER MOTORCYCLE<br>Month=%{x}<br>CountOfViolations=%{y}<extra></extra>\",\"legendgroup\":\"IMPROPER MOTORCYCLE\",\"line\":{\"color\":\"#EF553B\",\"dash\":\"solid\"},\"marker\":{\"symbol\":\"circle\"},\"mode\":\"lines\",\"name\":\"IMPROPER MOTORCYCLE\",\"orientation\":\"v\",\"showlegend\":true,\"x\":[\"Jul\",\"Sep\",\"Nov\",\"Dec\"],\"xaxis\":\"x\",\"y\":[1,1,2,1],\"yaxis\":\"y\",\"type\":\"scatter\"},{\"hovertemplate\":\"ViolationDescription=ONTRACTOR PLAC VIOL<br>Month=%{x}<br>CountOfViolations=%{y}<extra></extra>\",\"legendgroup\":\"ONTRACTOR PLAC VIOL\",\"line\":{\"color\":\"#00cc96\",\"dash\":\"solid\"},\"marker\":{\"symbol\":\"circle\"},\"mode\":\"lines\",\"name\":\"ONTRACTOR PLAC VIOL\",\"orientation\":\"v\",\"showlegend\":true,\"x\":[\"Jul\"],\"xaxis\":\"x\",\"y\":[1],\"yaxis\":\"y\",\"type\":\"scatter\"},{\"hovertemplate\":\"ViolationDescription=PRK MTR IMPROPER 11<br>Month=%{x}<br>CountOfViolations=%{y}<extra></extra>\",\"legendgroup\":\"PRK MTR IMPROPER 11\",\"line\":{\"color\":\"#ab63fa\",\"dash\":\"solid\"},\"marker\":{\"symbol\":\"circle\"},\"mode\":\"lines\",\"name\":\"PRK MTR IMPROPER 11\",\"orientation\":\"v\",\"showlegend\":true,\"x\":[\"Sep\"],\"xaxis\":\"x\",\"y\":[1],\"yaxis\":\"y\",\"type\":\"scatter\"},{\"hovertemplate\":\"ViolationDescription=STOP/BLOCK HWY  33<br>Month=%{x}<br>CountOfViolations=%{y}<extra></extra>\",\"legendgroup\":\"STOP/BLOCK HWY  33\",\"line\":{\"color\":\"#FFA15A\",\"dash\":\"solid\"},\"marker\":{\"symbol\":\"circle\"},\"mode\":\"lines\",\"name\":\"STOP/BLOCK HWY  33\",\"orientation\":\"v\",\"showlegend\":true,\"x\":[\"Sep\"],\"xaxis\":\"x\",\"y\":[2],\"yaxis\":\"y\",\"type\":\"scatter\"},{\"hovertemplate\":\"ViolationDescription=+4HR IN LOADING ZONE<br>Month=%{x}<br>CountOfViolations=%{y}<extra></extra>\",\"legendgroup\":\"+4HR IN LOADING ZONE\",\"line\":{\"color\":\"#19d3f3\",\"dash\":\"solid\"},\"marker\":{\"symbol\":\"circle\"},\"mode\":\"lines\",\"name\":\"+4HR IN LOADING ZONE\",\"orientation\":\"v\",\"showlegend\":true,\"x\":[\"Dec\"],\"xaxis\":\"x\",\"y\":[1],\"yaxis\":\"y\",\"type\":\"scatter\"},{\"hovertemplate\":\"ViolationDescription=PK OVER TIME LIM 17<br>Month=%{x}<br>CountOfViolations=%{y}<extra></extra>\",\"legendgroup\":\"PK OVER TIME LIM 17\",\"line\":{\"color\":\"#FF6692\",\"dash\":\"solid\"},\"marker\":{\"symbol\":\"circle\"},\"mode\":\"lines\",\"name\":\"PK OVER TIME LIM 17\",\"orientation\":\"v\",\"showlegend\":true,\"x\":[\"Dec\"],\"xaxis\":\"x\",\"y\":[3],\"yaxis\":\"y\",\"type\":\"scatter\"}],                        {\"template\":{\"data\":{\"histogram2dcontour\":[{\"type\":\"histogram2dcontour\",\"colorbar\":{\"outlinewidth\":0,\"ticks\":\"\"},\"colorscale\":[[0.0,\"#0d0887\"],[0.1111111111111111,\"#46039f\"],[0.2222222222222222,\"#7201a8\"],[0.3333333333333333,\"#9c179e\"],[0.4444444444444444,\"#bd3786\"],[0.5555555555555556,\"#d8576b\"],[0.6666666666666666,\"#ed7953\"],[0.7777777777777778,\"#fb9f3a\"],[0.8888888888888888,\"#fdca26\"],[1.0,\"#f0f921\"]]}],\"choropleth\":[{\"type\":\"choropleth\",\"colorbar\":{\"outlinewidth\":0,\"ticks\":\"\"}}],\"histogram2d\":[{\"type\":\"histogram2d\",\"colorbar\":{\"outlinewidth\":0,\"ticks\":\"\"},\"colorscale\":[[0.0,\"#0d0887\"],[0.1111111111111111,\"#46039f\"],[0.2222222222222222,\"#7201a8\"],[0.3333333333333333,\"#9c179e\"],[0.4444444444444444,\"#bd3786\"],[0.5555555555555556,\"#d8576b\"],[0.6666666666666666,\"#ed7953\"],[0.7777777777777778,\"#fb9f3a\"],[0.8888888888888888,\"#fdca26\"],[1.0,\"#f0f921\"]]}],\"heatmap\":[{\"type\":\"heatmap\",\"colorbar\":{\"outlinewidth\":0,\"ticks\":\"\"},\"colorscale\":[[0.0,\"#0d0887\"],[0.1111111111111111,\"#46039f\"],[0.2222222222222222,\"#7201a8\"],[0.3333333333333333,\"#9c179e\"],[0.4444444444444444,\"#bd3786\"],[0.5555555555555556,\"#d8576b\"],[0.6666666666666666,\"#ed7953\"],[0.7777777777777778,\"#fb9f3a\"],[0.8888888888888888,\"#fdca26\"],[1.0,\"#f0f921\"]]}],\"heatmapgl\":[{\"type\":\"heatmapgl\",\"colorbar\":{\"outlinewidth\":0,\"ticks\":\"\"},\"colorscale\":[[0.0,\"#0d0887\"],[0.1111111111111111,\"#46039f\"],[0.2222222222222222,\"#7201a8\"],[0.3333333333333333,\"#9c179e\"],[0.4444444444444444,\"#bd3786\"],[0.5555555555555556,\"#d8576b\"],[0.6666666666666666,\"#ed7953\"],[0.7777777777777778,\"#fb9f3a\"],[0.8888888888888888,\"#fdca26\"],[1.0,\"#f0f921\"]]}],\"contourcarpet\":[{\"type\":\"contourcarpet\",\"colorbar\":{\"outlinewidth\":0,\"ticks\":\"\"}}],\"contour\":[{\"type\":\"contour\",\"colorbar\":{\"outlinewidth\":0,\"ticks\":\"\"},\"colorscale\":[[0.0,\"#0d0887\"],[0.1111111111111111,\"#46039f\"],[0.2222222222222222,\"#7201a8\"],[0.3333333333333333,\"#9c179e\"],[0.4444444444444444,\"#bd3786\"],[0.5555555555555556,\"#d8576b\"],[0.6666666666666666,\"#ed7953\"],[0.7777777777777778,\"#fb9f3a\"],[0.8888888888888888,\"#fdca26\"],[1.0,\"#f0f921\"]]}],\"surface\":[{\"type\":\"surface\",\"colorbar\":{\"outlinewidth\":0,\"ticks\":\"\"},\"colorscale\":[[0.0,\"#0d0887\"],[0.1111111111111111,\"#46039f\"],[0.2222222222222222,\"#7201a8\"],[0.3333333333333333,\"#9c179e\"],[0.4444444444444444,\"#bd3786\"],[0.5555555555555556,\"#d8576b\"],[0.6666666666666666,\"#ed7953\"],[0.7777777777777778,\"#fb9f3a\"],[0.8888888888888888,\"#fdca26\"],[1.0,\"#f0f921\"]]}],\"mesh3d\":[{\"type\":\"mesh3d\",\"colorbar\":{\"outlinewidth\":0,\"ticks\":\"\"}}],\"scatter\":[{\"fillpattern\":{\"fillmode\":\"overlay\",\"size\":10,\"solidity\":0.2},\"type\":\"scatter\"}],\"parcoords\":[{\"type\":\"parcoords\",\"line\":{\"colorbar\":{\"outlinewidth\":0,\"ticks\":\"\"}}}],\"scatterpolargl\":[{\"type\":\"scatterpolargl\",\"marker\":{\"colorbar\":{\"outlinewidth\":0,\"ticks\":\"\"}}}],\"bar\":[{\"error_x\":{\"color\":\"#2a3f5f\"},\"error_y\":{\"color\":\"#2a3f5f\"},\"marker\":{\"line\":{\"color\":\"#E5ECF6\",\"width\":0.5},\"pattern\":{\"fillmode\":\"overlay\",\"size\":10,\"solidity\":0.2}},\"type\":\"bar\"}],\"scattergeo\":[{\"type\":\"scattergeo\",\"marker\":{\"colorbar\":{\"outlinewidth\":0,\"ticks\":\"\"}}}],\"scatterpolar\":[{\"type\":\"scatterpolar\",\"marker\":{\"colorbar\":{\"outlinewidth\":0,\"ticks\":\"\"}}}],\"histogram\":[{\"marker\":{\"pattern\":{\"fillmode\":\"overlay\",\"size\":10,\"solidity\":0.2}},\"type\":\"histogram\"}],\"scattergl\":[{\"type\":\"scattergl\",\"marker\":{\"colorbar\":{\"outlinewidth\":0,\"ticks\":\"\"}}}],\"scatter3d\":[{\"type\":\"scatter3d\",\"line\":{\"colorbar\":{\"outlinewidth\":0,\"ticks\":\"\"}},\"marker\":{\"colorbar\":{\"outlinewidth\":0,\"ticks\":\"\"}}}],\"scattermapbox\":[{\"type\":\"scattermapbox\",\"marker\":{\"colorbar\":{\"outlinewidth\":0,\"ticks\":\"\"}}}],\"scatterternary\":[{\"type\":\"scatterternary\",\"marker\":{\"colorbar\":{\"outlinewidth\":0,\"ticks\":\"\"}}}],\"scattercarpet\":[{\"type\":\"scattercarpet\",\"marker\":{\"colorbar\":{\"outlinewidth\":0,\"ticks\":\"\"}}}],\"carpet\":[{\"aaxis\":{\"endlinecolor\":\"#2a3f5f\",\"gridcolor\":\"white\",\"linecolor\":\"white\",\"minorgridcolor\":\"white\",\"startlinecolor\":\"#2a3f5f\"},\"baxis\":{\"endlinecolor\":\"#2a3f5f\",\"gridcolor\":\"white\",\"linecolor\":\"white\",\"minorgridcolor\":\"white\",\"startlinecolor\":\"#2a3f5f\"},\"type\":\"carpet\"}],\"table\":[{\"cells\":{\"fill\":{\"color\":\"#EBF0F8\"},\"line\":{\"color\":\"white\"}},\"header\":{\"fill\":{\"color\":\"#C8D4E3\"},\"line\":{\"color\":\"white\"}},\"type\":\"table\"}],\"barpolar\":[{\"marker\":{\"line\":{\"color\":\"#E5ECF6\",\"width\":0.5},\"pattern\":{\"fillmode\":\"overlay\",\"size\":10,\"solidity\":0.2}},\"type\":\"barpolar\"}],\"pie\":[{\"automargin\":true,\"type\":\"pie\"}]},\"layout\":{\"autotypenumbers\":\"strict\",\"colorway\":[\"#636efa\",\"#EF553B\",\"#00cc96\",\"#ab63fa\",\"#FFA15A\",\"#19d3f3\",\"#FF6692\",\"#B6E880\",\"#FF97FF\",\"#FECB52\"],\"font\":{\"color\":\"#2a3f5f\"},\"hovermode\":\"closest\",\"hoverlabel\":{\"align\":\"left\"},\"paper_bgcolor\":\"white\",\"plot_bgcolor\":\"#E5ECF6\",\"polar\":{\"bgcolor\":\"#E5ECF6\",\"angularaxis\":{\"gridcolor\":\"white\",\"linecolor\":\"white\",\"ticks\":\"\"},\"radialaxis\":{\"gridcolor\":\"white\",\"linecolor\":\"white\",\"ticks\":\"\"}},\"ternary\":{\"bgcolor\":\"#E5ECF6\",\"aaxis\":{\"gridcolor\":\"white\",\"linecolor\":\"white\",\"ticks\":\"\"},\"baxis\":{\"gridcolor\":\"white\",\"linecolor\":\"white\",\"ticks\":\"\"},\"caxis\":{\"gridcolor\":\"white\",\"linecolor\":\"white\",\"ticks\":\"\"}},\"coloraxis\":{\"colorbar\":{\"outlinewidth\":0,\"ticks\":\"\"}},\"colorscale\":{\"sequential\":[[0.0,\"#0d0887\"],[0.1111111111111111,\"#46039f\"],[0.2222222222222222,\"#7201a8\"],[0.3333333333333333,\"#9c179e\"],[0.4444444444444444,\"#bd3786\"],[0.5555555555555556,\"#d8576b\"],[0.6666666666666666,\"#ed7953\"],[0.7777777777777778,\"#fb9f3a\"],[0.8888888888888888,\"#fdca26\"],[1.0,\"#f0f921\"]],\"sequentialminus\":[[0.0,\"#0d0887\"],[0.1111111111111111,\"#46039f\"],[0.2222222222222222,\"#7201a8\"],[0.3333333333333333,\"#9c179e\"],[0.4444444444444444,\"#bd3786\"],[0.5555555555555556,\"#d8576b\"],[0.6666666666666666,\"#ed7953\"],[0.7777777777777778,\"#fb9f3a\"],[0.8888888888888888,\"#fdca26\"],[1.0,\"#f0f921\"]],\"diverging\":[[0,\"#8e0152\"],[0.1,\"#c51b7d\"],[0.2,\"#de77ae\"],[0.3,\"#f1b6da\"],[0.4,\"#fde0ef\"],[0.5,\"#f7f7f7\"],[0.6,\"#e6f5d0\"],[0.7,\"#b8e186\"],[0.8,\"#7fbc41\"],[0.9,\"#4d9221\"],[1,\"#276419\"]]},\"xaxis\":{\"gridcolor\":\"white\",\"linecolor\":\"white\",\"ticks\":\"\",\"title\":{\"standoff\":15},\"zerolinecolor\":\"white\",\"automargin\":true,\"zerolinewidth\":2},\"yaxis\":{\"gridcolor\":\"white\",\"linecolor\":\"white\",\"ticks\":\"\",\"title\":{\"standoff\":15},\"zerolinecolor\":\"white\",\"automargin\":true,\"zerolinewidth\":2},\"scene\":{\"xaxis\":{\"backgroundcolor\":\"#E5ECF6\",\"gridcolor\":\"white\",\"linecolor\":\"white\",\"showbackground\":true,\"ticks\":\"\",\"zerolinecolor\":\"white\",\"gridwidth\":2},\"yaxis\":{\"backgroundcolor\":\"#E5ECF6\",\"gridcolor\":\"white\",\"linecolor\":\"white\",\"showbackground\":true,\"ticks\":\"\",\"zerolinecolor\":\"white\",\"gridwidth\":2},\"zaxis\":{\"backgroundcolor\":\"#E5ECF6\",\"gridcolor\":\"white\",\"linecolor\":\"white\",\"showbackground\":true,\"ticks\":\"\",\"zerolinecolor\":\"white\",\"gridwidth\":2}},\"shapedefaults\":{\"line\":{\"color\":\"#2a3f5f\"}},\"annotationdefaults\":{\"arrowcolor\":\"#2a3f5f\",\"arrowhead\":0,\"arrowwidth\":1},\"geo\":{\"bgcolor\":\"white\",\"landcolor\":\"#E5ECF6\",\"subunitcolor\":\"white\",\"showland\":true,\"showlakes\":true,\"lakecolor\":\"white\"},\"title\":{\"x\":0.05},\"mapbox\":{\"style\":\"light\"}}},\"xaxis\":{\"anchor\":\"y\",\"domain\":[0.0,1.0],\"title\":{\"text\":\"Month\"}},\"yaxis\":{\"anchor\":\"x\",\"domain\":[0.0,1.0],\"title\":{\"text\":\"CountOfViolations\"}},\"legend\":{\"title\":{\"text\":\"ViolationDescription\"},\"tracegroupgap\":0},\"title\":{\"text\":\"Violations by Month\"}},                        {\"responsive\": true}                    ).then(function(){\n",
       "                            \n",
       "var gd = document.getElementById('accaac46-03a9-41d0-903a-db051f4df71c');\n",
       "var x = new MutationObserver(function (mutations, observer) {{\n",
       "        var display = window.getComputedStyle(gd).display;\n",
       "        if (!display || display === 'none') {{\n",
       "            console.log([gd, 'removed!']);\n",
       "            Plotly.purge(gd);\n",
       "            observer.disconnect();\n",
       "        }}\n",
       "}});\n",
       "\n",
       "// Listen for the removal of the full notebook cells\n",
       "var notebookContainer = gd.closest('#notebook-container');\n",
       "if (notebookContainer) {{\n",
       "    x.observe(notebookContainer, {childList: true});\n",
       "}}\n",
       "\n",
       "// Listen for the clearing of the current output cell\n",
       "var outputEl = gd.closest('.output');\n",
       "if (outputEl) {{\n",
       "    x.observe(outputEl, {childList: true});\n",
       "}}\n",
       "\n",
       "                        })                };                });            </script>        </div>"
      ]
     },
     "metadata": {},
     "output_type": "display_data"
    }
   ],
   "source": [
    "fig = px.line(run_query(FinesByMonth), x=\"Month\", y=\"CountOfViolations\", color=\"ViolationDescription\", title=\"Violations by Month\")\n",
    "fig.show()\n"
   ]
  },
  {
   "cell_type": "code",
   "execution_count": 41,
   "metadata": {},
   "outputs": [
    {
     "data": {
      "application/vnd.plotly.v1+json": {
       "config": {
        "plotlyServerURL": "https://plot.ly"
       },
       "data": [
        {
         "alignmentgroup": "True",
         "hovertemplate": "ViolationDescription=AR SHARE VEHS ONLY<br>Month=%{x}<br>CountOfViolations=%{y}<extra></extra>",
         "legendgroup": "AR SHARE VEHS ONLY",
         "marker": {
          "color": "#636efa",
          "pattern": {
           "shape": ""
          }
         },
         "name": "AR SHARE VEHS ONLY",
         "offsetgroup": "AR SHARE VEHS ONLY",
         "orientation": "v",
         "showlegend": true,
         "textposition": "auto",
         "type": "bar",
         "x": [
          "Jan",
          "Feb",
          "Mar",
          "Apr",
          "May",
          "Jun",
          "Jul",
          "Aug",
          "Sep",
          "Oct",
          "Nov",
          "Dec"
         ],
         "xaxis": "x",
         "y": [
          16,
          26,
          39,
          23,
          18,
          21,
          11,
          24,
          31,
          25,
          15,
          19
         ],
         "yaxis": "y"
        },
        {
         "alignmentgroup": "True",
         "hovertemplate": "ViolationDescription=BLOCKING DRIVEWAY<br>Month=%{x}<br>CountOfViolations=%{y}<extra></extra>",
         "legendgroup": "BLOCKING DRIVEWAY",
         "marker": {
          "color": "#EF553B",
          "pattern": {
           "shape": ""
          }
         },
         "name": "BLOCKING DRIVEWAY",
         "offsetgroup": "BLOCKING DRIVEWAY",
         "orientation": "v",
         "showlegend": true,
         "textposition": "auto",
         "type": "bar",
         "x": [
          "Jan",
          "Feb",
          "Mar",
          "Apr",
          "May",
          "Jun",
          "Jul",
          "Aug",
          "Sep",
          "Oct",
          "Nov",
          "Dec"
         ],
         "xaxis": "x",
         "y": [
          806,
          1020,
          1267,
          1119,
          1150,
          1173,
          1097,
          1228,
          1235,
          1209,
          1192,
          945
         ],
         "yaxis": "y"
        },
        {
         "alignmentgroup": "True",
         "hovertemplate": "ViolationDescription=BLOCKNG MASS TRANSIT<br>Month=%{x}<br>CountOfViolations=%{y}<extra></extra>",
         "legendgroup": "BLOCKNG MASS TRANSIT",
         "marker": {
          "color": "#00cc96",
          "pattern": {
           "shape": ""
          }
         },
         "name": "BLOCKNG MASS TRANSIT",
         "offsetgroup": "BLOCKNG MASS TRANSIT",
         "orientation": "v",
         "showlegend": true,
         "textposition": "auto",
         "type": "bar",
         "x": [
          "Jan",
          "Feb",
          "Mar",
          "Apr",
          "May",
          "Jun",
          "Jul",
          "Aug",
          "Sep",
          "Oct",
          "Nov",
          "Dec"
         ],
         "xaxis": "x",
         "y": [
          38,
          17,
          84,
          44,
          29,
          30,
          27,
          30,
          30,
          21,
          23,
          21
         ],
         "yaxis": "y"
        },
        {
         "alignmentgroup": "True",
         "hovertemplate": "ViolationDescription=BUS NOT IN BUS STAND<br>Month=%{x}<br>CountOfViolations=%{y}<extra></extra>",
         "legendgroup": "BUS NOT IN BUS STAND",
         "marker": {
          "color": "#ab63fa",
          "pattern": {
           "shape": ""
          }
         },
         "name": "BUS NOT IN BUS STAND",
         "offsetgroup": "BUS NOT IN BUS STAND",
         "orientation": "v",
         "showlegend": true,
         "textposition": "auto",
         "type": "bar",
         "x": [
          "Jan",
          "Feb",
          "Mar",
          "Apr",
          "May",
          "Jun",
          "Jul",
          "Aug",
          "Sep",
          "Oct",
          "Nov",
          "Dec"
         ],
         "xaxis": "x",
         "y": [
          6,
          3,
          10,
          23,
          54,
          48,
          14,
          21,
          19,
          22,
          12,
          9
         ],
         "yaxis": "y"
        },
        {
         "alignmentgroup": "True",
         "hovertemplate": "ViolationDescription=BUS ONLY ZONE<br>Month=%{x}<br>CountOfViolations=%{y}<extra></extra>",
         "legendgroup": "BUS ONLY ZONE",
         "marker": {
          "color": "#FFA15A",
          "pattern": {
           "shape": ""
          }
         },
         "name": "BUS ONLY ZONE",
         "offsetgroup": "BUS ONLY ZONE",
         "orientation": "v",
         "showlegend": true,
         "textposition": "auto",
         "type": "bar",
         "x": [
          "Jan",
          "Feb",
          "Mar",
          "Apr",
          "May",
          "Jun",
          "Jul",
          "Aug",
          "Sep",
          "Oct",
          "Nov",
          "Dec"
         ],
         "xaxis": "x",
         "y": [
          2985,
          3034,
          3512,
          3379,
          3428,
          3222,
          2931,
          3511,
          3460,
          3460,
          3378,
          2681
         ],
         "yaxis": "y"
        },
        {
         "alignmentgroup": "True",
         "hovertemplate": "ViolationDescription=DISOBEY SIGN-PRHB 21<br>Month=%{x}<br>CountOfViolations=%{y}<extra></extra>",
         "legendgroup": "DISOBEY SIGN-PRHB 21",
         "marker": {
          "color": "#19d3f3",
          "pattern": {
           "shape": ""
          }
         },
         "name": "DISOBEY SIGN-PRHB 21",
         "offsetgroup": "DISOBEY SIGN-PRHB 21",
         "orientation": "v",
         "showlegend": true,
         "textposition": "auto",
         "type": "bar",
         "x": [
          "Jan",
          "Feb",
          "Jul",
          "Aug"
         ],
         "xaxis": "x",
         "y": [
          1,
          2,
          2,
          2
         ],
         "yaxis": "y"
        },
        {
         "alignmentgroup": "True",
         "hovertemplate": "ViolationDescription=DISOBEY SN-STANDING<br>Month=%{x}<br>CountOfViolations=%{y}<extra></extra>",
         "legendgroup": "DISOBEY SN-STANDING",
         "marker": {
          "color": "#FF6692",
          "pattern": {
           "shape": ""
          }
         },
         "name": "DISOBEY SN-STANDING",
         "offsetgroup": "DISOBEY SN-STANDING",
         "orientation": "v",
         "showlegend": true,
         "textposition": "auto",
         "type": "bar",
         "x": [
          "Jan",
          "Feb",
          "Apr",
          "May",
          "Jun",
          "Jul",
          "Aug",
          "Sep",
          "Nov"
         ],
         "xaxis": "x",
         "y": [
          1,
          1,
          7,
          3,
          3,
          1,
          1,
          2,
          1
         ],
         "yaxis": "y"
        },
        {
         "alignmentgroup": "True",
         "hovertemplate": "ViolationDescription=DISPLAY VEH FOR SALE<br>Month=%{x}<br>CountOfViolations=%{y}<extra></extra>",
         "legendgroup": "DISPLAY VEH FOR SALE",
         "marker": {
          "color": "#B6E880",
          "pattern": {
           "shape": ""
          }
         },
         "name": "DISPLAY VEH FOR SALE",
         "offsetgroup": "DISPLAY VEH FOR SALE",
         "orientation": "v",
         "showlegend": true,
         "textposition": "auto",
         "type": "bar",
         "x": [
          "Jan",
          "Feb",
          "Mar",
          "Apr",
          "May",
          "Jun",
          "Jul",
          "Aug",
          "Sep",
          "Oct",
          "Nov",
          "Dec"
         ],
         "xaxis": "x",
         "y": [
          43,
          37,
          32,
          66,
          34,
          20,
          32,
          24,
          19,
          18,
          25,
          9
         ],
         "yaxis": "y"
        },
        {
         "alignmentgroup": "True",
         "hovertemplate": "ViolationDescription=DOUBLE PARKED<br>Month=%{x}<br>CountOfViolations=%{y}<extra></extra>",
         "legendgroup": "DOUBLE PARKED",
         "marker": {
          "color": "#FF97FF",
          "pattern": {
           "shape": ""
          }
         },
         "name": "DOUBLE PARKED",
         "offsetgroup": "DOUBLE PARKED",
         "orientation": "v",
         "showlegend": true,
         "textposition": "auto",
         "type": "bar",
         "x": [
          "Jan",
          "Feb",
          "Mar",
          "Apr",
          "May",
          "Jun",
          "Jul",
          "Aug",
          "Sep",
          "Oct",
          "Nov",
          "Dec"
         ],
         "xaxis": "x",
         "y": [
          1717,
          1645,
          2256,
          1865,
          2080,
          1928,
          1582,
          2029,
          2100,
          1961,
          1778,
          1573
         ],
         "yaxis": "y"
        },
        {
         "alignmentgroup": "True",
         "hovertemplate": "ViolationDescription=EXCESSIVE IDLING<br>Month=%{x}<br>CountOfViolations=%{y}<extra></extra>",
         "legendgroup": "EXCESSIVE IDLING",
         "marker": {
          "color": "#FECB52",
          "pattern": {
           "shape": ""
          }
         },
         "name": "EXCESSIVE IDLING",
         "offsetgroup": "EXCESSIVE IDLING",
         "orientation": "v",
         "showlegend": true,
         "textposition": "auto",
         "type": "bar",
         "x": [
          "Jan",
          "Feb",
          "Mar",
          "Apr",
          "May",
          "Jun",
          "Jul",
          "Aug",
          "Sep",
          "Oct",
          "Dec"
         ],
         "xaxis": "x",
         "y": [
          6,
          6,
          6,
          3,
          1,
          5,
          4,
          11,
          4,
          3,
          4
         ],
         "yaxis": "y"
        },
        {
         "alignmentgroup": "True",
         "hovertemplate": "ViolationDescription=EXCESSIVE NOISE<br>Month=%{x}<br>CountOfViolations=%{y}<extra></extra>",
         "legendgroup": "EXCESSIVE NOISE",
         "marker": {
          "color": "#636efa",
          "pattern": {
           "shape": ""
          }
         },
         "name": "EXCESSIVE NOISE",
         "offsetgroup": "EXCESSIVE NOISE",
         "orientation": "v",
         "showlegend": true,
         "textposition": "auto",
         "type": "bar",
         "x": [
          "Jan",
          "Feb",
          "Mar",
          "Apr",
          "May",
          "Jun",
          "Jul",
          "Aug",
          "Sep",
          "Oct",
          "Nov",
          "Dec"
         ],
         "xaxis": "x",
         "y": [
          11,
          8,
          3,
          11,
          14,
          29,
          18,
          20,
          9,
          11,
          2,
          1
         ],
         "yaxis": "y"
        },
        {
         "alignmentgroup": "True",
         "hovertemplate": "ViolationDescription=EXPIRED INSPECTION<br>Month=%{x}<br>CountOfViolations=%{y}<extra></extra>",
         "legendgroup": "EXPIRED INSPECTION",
         "marker": {
          "color": "#EF553B",
          "pattern": {
           "shape": ""
          }
         },
         "name": "EXPIRED INSPECTION",
         "offsetgroup": "EXPIRED INSPECTION",
         "orientation": "v",
         "showlegend": true,
         "textposition": "auto",
         "type": "bar",
         "x": [
          "Jan",
          "Feb",
          "Mar",
          "Apr",
          "May",
          "Jun",
          "Jul",
          "Aug",
          "Sep",
          "Oct",
          "Nov",
          "Dec"
         ],
         "xaxis": "x",
         "y": [
          12303,
          11016,
          11705,
          12235,
          12914,
          13508,
          13787,
          15766,
          14271,
          15281,
          13802,
          10537
         ],
         "yaxis": "y"
        },
        {
         "alignmentgroup": "True",
         "hovertemplate": "ViolationDescription=EXPIRED TAG<br>Month=%{x}<br>CountOfViolations=%{y}<extra></extra>",
         "legendgroup": "EXPIRED TAG",
         "marker": {
          "color": "#00cc96",
          "pattern": {
           "shape": ""
          }
         },
         "name": "EXPIRED TAG",
         "offsetgroup": "EXPIRED TAG",
         "orientation": "v",
         "showlegend": true,
         "textposition": "auto",
         "type": "bar",
         "x": [
          "Jan",
          "Feb",
          "Mar",
          "Apr",
          "May",
          "Jun",
          "Jul",
          "Aug",
          "Sep",
          "Oct",
          "Nov",
          "Dec"
         ],
         "xaxis": "x",
         "y": [
          292,
          283,
          407,
          401,
          318,
          286,
          371,
          356,
          359,
          377,
          277,
          206
         ],
         "yaxis": "y"
        },
        {
         "alignmentgroup": "True",
         "hovertemplate": "ViolationDescription=FIRE HYDRANT<br>Month=%{x}<br>CountOfViolations=%{y}<extra></extra>",
         "legendgroup": "FIRE HYDRANT",
         "marker": {
          "color": "#ab63fa",
          "pattern": {
           "shape": ""
          }
         },
         "name": "FIRE HYDRANT",
         "offsetgroup": "FIRE HYDRANT",
         "orientation": "v",
         "showlegend": true,
         "textposition": "auto",
         "type": "bar",
         "x": [
          "Jan",
          "Feb",
          "Mar",
          "Apr",
          "May",
          "Jun",
          "Jul",
          "Aug",
          "Sep",
          "Oct",
          "Nov",
          "Dec"
         ],
         "xaxis": "x",
         "y": [
          2759,
          2448,
          3069,
          2878,
          2922,
          2540,
          2119,
          2411,
          2737,
          2863,
          2673,
          2233
         ],
         "yaxis": "y"
        },
        {
         "alignmentgroup": "True",
         "hovertemplate": "ViolationDescription=HP RAMP BLOCKED<br>Month=%{x}<br>CountOfViolations=%{y}<extra></extra>",
         "legendgroup": "HP RAMP BLOCKED",
         "marker": {
          "color": "#FFA15A",
          "pattern": {
           "shape": ""
          }
         },
         "name": "HP RAMP BLOCKED",
         "offsetgroup": "HP RAMP BLOCKED",
         "orientation": "v",
         "showlegend": true,
         "textposition": "auto",
         "type": "bar",
         "x": [
          "Jan",
          "Feb",
          "Mar",
          "Apr",
          "May",
          "Jun",
          "Jul",
          "Aug",
          "Sep",
          "Oct",
          "Nov",
          "Dec"
         ],
         "xaxis": "x",
         "y": [
          774,
          756,
          827,
          851,
          784,
          732,
          580,
          790,
          865,
          922,
          848,
          769
         ],
         "yaxis": "y"
        },
        {
         "alignmentgroup": "True",
         "hovertemplate": "ViolationDescription=HP RESERVED SPACE<br>Month=%{x}<br>CountOfViolations=%{y}<extra></extra>",
         "legendgroup": "HP RESERVED SPACE",
         "marker": {
          "color": "#19d3f3",
          "pattern": {
           "shape": ""
          }
         },
         "name": "HP RESERVED SPACE",
         "offsetgroup": "HP RESERVED SPACE",
         "orientation": "v",
         "showlegend": true,
         "textposition": "auto",
         "type": "bar",
         "x": [
          "Jan",
          "Feb",
          "Mar",
          "Apr",
          "May",
          "Jun",
          "Jul",
          "Aug",
          "Sep",
          "Oct",
          "Nov",
          "Dec"
         ],
         "xaxis": "x",
         "y": [
          1637,
          1667,
          1972,
          1954,
          2065,
          1999,
          1935,
          2173,
          2063,
          2030,
          2051,
          1653
         ],
         "yaxis": "y"
        },
        {
         "alignmentgroup": "True",
         "hovertemplate": "ViolationDescription=ILLEGAL PLACED TICKT<br>Month=%{x}<br>CountOfViolations=%{y}<extra></extra>",
         "legendgroup": "ILLEGAL PLACED TICKT",
         "marker": {
          "color": "#FF6692",
          "pattern": {
           "shape": ""
          }
         },
         "name": "ILLEGAL PLACED TICKT",
         "offsetgroup": "ILLEGAL PLACED TICKT",
         "orientation": "v",
         "showlegend": true,
         "textposition": "auto",
         "type": "bar",
         "x": [
          "Jan",
          "Feb",
          "Mar",
          "Apr",
          "May",
          "Jun",
          "Jul",
          "Sep",
          "Oct",
          "Nov",
          "Dec"
         ],
         "xaxis": "x",
         "y": [
          3,
          2,
          2,
          2,
          2,
          1,
          6,
          2,
          1,
          1,
          3
         ],
         "yaxis": "y"
        },
        {
         "alignmentgroup": "True",
         "hovertemplate": "ViolationDescription=IMPROPER ON 1WAY HWY<br>Month=%{x}<br>CountOfViolations=%{y}<extra></extra>",
         "legendgroup": "IMPROPER ON 1WAY HWY",
         "marker": {
          "color": "#B6E880",
          "pattern": {
           "shape": ""
          }
         },
         "name": "IMPROPER ON 1WAY HWY",
         "offsetgroup": "IMPROPER ON 1WAY HWY",
         "orientation": "v",
         "showlegend": true,
         "textposition": "auto",
         "type": "bar",
         "x": [
          "Jan",
          "Feb",
          "Mar",
          "Apr",
          "May",
          "Jun",
          "Jul",
          "Aug",
          "Sep",
          "Oct",
          "Nov",
          "Dec"
         ],
         "xaxis": "x",
         "y": [
          68,
          73,
          99,
          67,
          85,
          54,
          64,
          68,
          75,
          85,
          69,
          63
         ],
         "yaxis": "y"
        },
        {
         "alignmentgroup": "True",
         "hovertemplate": "ViolationDescription=IMPROPER ON 2WAY HWY<br>Month=%{x}<br>CountOfViolations=%{y}<extra></extra>",
         "legendgroup": "IMPROPER ON 2WAY HWY",
         "marker": {
          "color": "#FF97FF",
          "pattern": {
           "shape": ""
          }
         },
         "name": "IMPROPER ON 2WAY HWY",
         "offsetgroup": "IMPROPER ON 2WAY HWY",
         "orientation": "v",
         "showlegend": true,
         "textposition": "auto",
         "type": "bar",
         "x": [
          "Jan",
          "Feb",
          "Mar",
          "Apr",
          "May",
          "Jun",
          "Jul",
          "Aug",
          "Sep",
          "Oct",
          "Nov",
          "Dec"
         ],
         "xaxis": "x",
         "y": [
          306,
          919,
          1050,
          723,
          595,
          534,
          399,
          493,
          453,
          413,
          407,
          386
         ],
         "yaxis": "y"
        },
        {
         "alignmentgroup": "True",
         "hovertemplate": "ViolationDescription=IMPROPER-2WAY HWY 74<br>Month=%{x}<br>CountOfViolations=%{y}<extra></extra>",
         "legendgroup": "IMPROPER-2WAY HWY 74",
         "marker": {
          "color": "#FECB52",
          "pattern": {
           "shape": ""
          }
         },
         "name": "IMPROPER-2WAY HWY 74",
         "offsetgroup": "IMPROPER-2WAY HWY 74",
         "orientation": "v",
         "showlegend": true,
         "textposition": "auto",
         "type": "bar",
         "x": [
          "Jan",
          "Feb",
          "Mar",
          "Apr",
          "May",
          "Aug",
          "Oct",
          "Dec"
         ],
         "xaxis": "x",
         "y": [
          1,
          1,
          2,
          2,
          2,
          1,
          2,
          1
         ],
         "yaxis": "y"
        },
        {
         "alignmentgroup": "True",
         "hovertemplate": "ViolationDescription=INVALID CONT PERMIT<br>Month=%{x}<br>CountOfViolations=%{y}<extra></extra>",
         "legendgroup": "INVALID CONT PERMIT",
         "marker": {
          "color": "#636efa",
          "pattern": {
           "shape": ""
          }
         },
         "name": "INVALID CONT PERMIT",
         "offsetgroup": "INVALID CONT PERMIT",
         "orientation": "v",
         "showlegend": true,
         "textposition": "auto",
         "type": "bar",
         "x": [
          "Jan",
          "May",
          "Nov"
         ],
         "xaxis": "x",
         "y": [
          2,
          1,
          1
         ],
         "yaxis": "y"
        },
        {
         "alignmentgroup": "True",
         "hovertemplate": "ViolationDescription=INVALID KIOSK RECPT<br>Month=%{x}<br>CountOfViolations=%{y}<extra></extra>",
         "legendgroup": "INVALID KIOSK RECPT",
         "marker": {
          "color": "#EF553B",
          "pattern": {
           "shape": ""
          }
         },
         "name": "INVALID KIOSK RECPT",
         "offsetgroup": "INVALID KIOSK RECPT",
         "orientation": "v",
         "showlegend": true,
         "textposition": "auto",
         "type": "bar",
         "x": [
          "Jan",
          "Feb",
          "Mar",
          "Apr",
          "May",
          "Jun",
          "Jul",
          "Aug",
          "Sep",
          "Oct",
          "Nov",
          "Dec"
         ],
         "xaxis": "x",
         "y": [
          1,
          1,
          2,
          5,
          5,
          3,
          2,
          6,
          1,
          4,
          7,
          2
         ],
         "yaxis": "y"
        },
        {
         "alignmentgroup": "True",
         "hovertemplate": "ViolationDescription=LOADING ZONE<br>Month=%{x}<br>CountOfViolations=%{y}<extra></extra>",
         "legendgroup": "LOADING ZONE",
         "marker": {
          "color": "#00cc96",
          "pattern": {
           "shape": ""
          }
         },
         "name": "LOADING ZONE",
         "offsetgroup": "LOADING ZONE",
         "orientation": "v",
         "showlegend": true,
         "textposition": "auto",
         "type": "bar",
         "x": [
          "Jan",
          "Feb",
          "Mar",
          "Apr",
          "May",
          "Jun",
          "Jul",
          "Aug",
          "Sep",
          "Oct",
          "Nov",
          "Dec"
         ],
         "xaxis": "x",
         "y": [
          2062,
          2006,
          2193,
          2028,
          1850,
          1928,
          1770,
          2227,
          2063,
          2218,
          2130,
          1923
         ],
         "yaxis": "y"
        },
        {
         "alignmentgroup": "True",
         "hovertemplate": "ViolationDescription=METER EXPIRED<br>Month=%{x}<br>CountOfViolations=%{y}<extra></extra>",
         "legendgroup": "METER EXPIRED",
         "marker": {
          "color": "#ab63fa",
          "pattern": {
           "shape": ""
          }
         },
         "name": "METER EXPIRED",
         "offsetgroup": "METER EXPIRED",
         "orientation": "v",
         "showlegend": true,
         "textposition": "auto",
         "type": "bar",
         "x": [
          "Jan",
          "Feb",
          "Mar",
          "Apr",
          "May",
          "Jun",
          "Jul",
          "Aug",
          "Sep",
          "Oct",
          "Nov",
          "Dec"
         ],
         "xaxis": "x",
         "y": [
          48154,
          46735,
          52337,
          53061,
          56108,
          54189,
          51247,
          59922,
          55294,
          57232,
          55118,
          43601
         ],
         "yaxis": "y"
        },
        {
         "alignmentgroup": "True",
         "hovertemplate": "ViolationDescription=OMMRCL VEH RES AREA<br>Month=%{x}<br>CountOfViolations=%{y}<extra></extra>",
         "legendgroup": "OMMRCL VEH RES AREA",
         "marker": {
          "color": "#FFA15A",
          "pattern": {
           "shape": ""
          }
         },
         "name": "OMMRCL VEH RES AREA",
         "offsetgroup": "OMMRCL VEH RES AREA",
         "orientation": "v",
         "showlegend": true,
         "textposition": "auto",
         "type": "bar",
         "x": [
          "Jan",
          "Feb",
          "Mar",
          "Apr",
          "May",
          "Jun",
          "Jul",
          "Aug",
          "Sep",
          "Oct",
          "Nov",
          "Dec"
         ],
         "xaxis": "x",
         "y": [
          65,
          43,
          74,
          91,
          64,
          40,
          39,
          48,
          46,
          99,
          38,
          44
         ],
         "yaxis": "y"
        },
        {
         "alignmentgroup": "True",
         "hovertemplate": "ViolationDescription=ON LIMITD ACCESS HW<br>Month=%{x}<br>CountOfViolations=%{y}<extra></extra>",
         "legendgroup": "ON LIMITD ACCESS HW",
         "marker": {
          "color": "#19d3f3",
          "pattern": {
           "shape": ""
          }
         },
         "name": "ON LIMITD ACCESS HW",
         "offsetgroup": "ON LIMITD ACCESS HW",
         "orientation": "v",
         "showlegend": true,
         "textposition": "auto",
         "type": "bar",
         "x": [
          "Jan",
          "Feb",
          "Apr",
          "Aug",
          "Sep",
          "Oct"
         ],
         "xaxis": "x",
         "y": [
          1,
          2,
          2,
          3,
          1,
          1
         ],
         "yaxis": "y"
        },
        {
         "alignmentgroup": "True",
         "hovertemplate": "ViolationDescription=ORNER CLEARANCE<br>Month=%{x}<br>CountOfViolations=%{y}<extra></extra>",
         "legendgroup": "ORNER CLEARANCE",
         "marker": {
          "color": "#FF6692",
          "pattern": {
           "shape": ""
          }
         },
         "name": "ORNER CLEARANCE",
         "offsetgroup": "ORNER CLEARANCE",
         "orientation": "v",
         "showlegend": true,
         "textposition": "auto",
         "type": "bar",
         "x": [
          "Jan",
          "Feb",
          "Mar",
          "Apr",
          "May",
          "Jun",
          "Jul",
          "Aug",
          "Sep",
          "Oct",
          "Nov",
          "Dec"
         ],
         "xaxis": "x",
         "y": [
          1429,
          1468,
          1678,
          1765,
          1672,
          1461,
          1159,
          1405,
          1494,
          1340,
          1295,
          1061
         ],
         "yaxis": "y"
        },
        {
         "alignmentgroup": "True",
         "hovertemplate": "ViolationDescription=OUNTERFEIT HP PERM<br>Month=%{x}<br>CountOfViolations=%{y}<extra></extra>",
         "legendgroup": "OUNTERFEIT HP PERM",
         "marker": {
          "color": "#B6E880",
          "pattern": {
           "shape": ""
          }
         },
         "name": "OUNTERFEIT HP PERM",
         "offsetgroup": "OUNTERFEIT HP PERM",
         "orientation": "v",
         "showlegend": true,
         "textposition": "auto",
         "type": "bar",
         "x": [
          "Jan",
          "Feb",
          "Mar",
          "Apr",
          "May",
          "Jun",
          "Jul",
          "Aug",
          "Sep",
          "Oct",
          "Nov",
          "Dec"
         ],
         "xaxis": "x",
         "y": [
          15,
          19,
          17,
          12,
          15,
          13,
          9,
          9,
          8,
          3,
          3,
          1
         ],
         "yaxis": "y"
        },
        {
         "alignmentgroup": "True",
         "hovertemplate": "ViolationDescription=OVER TIME LIMIT<br>Month=%{x}<br>CountOfViolations=%{y}<extra></extra>",
         "legendgroup": "OVER TIME LIMIT",
         "marker": {
          "color": "#FF97FF",
          "pattern": {
           "shape": ""
          }
         },
         "name": "OVER TIME LIMIT",
         "offsetgroup": "OVER TIME LIMIT",
         "orientation": "v",
         "showlegend": true,
         "textposition": "auto",
         "type": "bar",
         "x": [
          "Jan",
          "Feb",
          "Mar",
          "Apr",
          "May",
          "Jun",
          "Jul",
          "Aug",
          "Sep",
          "Oct",
          "Nov",
          "Dec"
         ],
         "xaxis": "x",
         "y": [
          19137,
          18326,
          20605,
          20313,
          20954,
          20291,
          17769,
          23225,
          21665,
          22424,
          22075,
          19689
         ],
         "yaxis": "y"
        },
        {
         "alignmentgroup": "True",
         "hovertemplate": "ViolationDescription=PARENTAL LIABILITY<br>Month=%{x}<br>CountOfViolations=%{y}<extra></extra>",
         "legendgroup": "PARENTAL LIABILITY",
         "marker": {
          "color": "#FECB52",
          "pattern": {
           "shape": ""
          }
         },
         "name": "PARENTAL LIABILITY",
         "offsetgroup": "PARENTAL LIABILITY",
         "orientation": "v",
         "showlegend": true,
         "textposition": "auto",
         "type": "bar",
         "x": [
          "Jan",
          "Feb",
          "Mar",
          "Apr",
          "May",
          "Jun",
          "Jul",
          "Aug",
          "Sep",
          "Oct",
          "Nov",
          "Dec"
         ],
         "xaxis": "x",
         "y": [
          13,
          7,
          23,
          9,
          7,
          7,
          37,
          65,
          29,
          30,
          19,
          7
         ],
         "yaxis": "y"
        },
        {
         "alignmentgroup": "True",
         "hovertemplate": "ViolationDescription=PARK METER IMPROPER<br>Month=%{x}<br>CountOfViolations=%{y}<extra></extra>",
         "legendgroup": "PARK METER IMPROPER",
         "marker": {
          "color": "#636efa",
          "pattern": {
           "shape": ""
          }
         },
         "name": "PARK METER IMPROPER",
         "offsetgroup": "PARK METER IMPROPER",
         "orientation": "v",
         "showlegend": true,
         "textposition": "auto",
         "type": "bar",
         "x": [
          "Jan",
          "Feb",
          "Mar",
          "Apr",
          "May",
          "Jun",
          "Sep",
          "Nov",
          "Dec"
         ],
         "xaxis": "x",
         "y": [
          1,
          1,
          1,
          2,
          1,
          3,
          2,
          2,
          1
         ],
         "yaxis": "y"
        },
        {
         "alignmentgroup": "True",
         "hovertemplate": "ViolationDescription=PARK PROHIB PLACE<br>Month=%{x}<br>CountOfViolations=%{y}<extra></extra>",
         "legendgroup": "PARK PROHIB PLACE",
         "marker": {
          "color": "#EF553B",
          "pattern": {
           "shape": ""
          }
         },
         "name": "PARK PROHIB PLACE",
         "offsetgroup": "PARK PROHIB PLACE",
         "orientation": "v",
         "showlegend": true,
         "textposition": "auto",
         "type": "bar",
         "x": [
          "Jan",
          "Mar",
          "Apr",
          "May",
          "Jun",
          "Jul",
          "Aug",
          "Sep",
          "Oct",
          "Nov"
         ],
         "xaxis": "x",
         "y": [
          1,
          4,
          3,
          11,
          8,
          2,
          21,
          3,
          3,
          3
         ],
         "yaxis": "y"
        },
        {
         "alignmentgroup": "True",
         "hovertemplate": "ViolationDescription=PARKED ON BRIDGE 14<br>Month=%{x}<br>CountOfViolations=%{y}<extra></extra>",
         "legendgroup": "PARKED ON BRIDGE 14",
         "marker": {
          "color": "#00cc96",
          "pattern": {
           "shape": ""
          }
         },
         "name": "PARKED ON BRIDGE 14",
         "offsetgroup": "PARKED ON BRIDGE 14",
         "orientation": "v",
         "showlegend": true,
         "textposition": "auto",
         "type": "bar",
         "x": [
          "Jan",
          "Mar",
          "Apr",
          "Jun",
          "Aug",
          "Sep",
          "Oct",
          "Nov"
         ],
         "xaxis": "x",
         "y": [
          4,
          1,
          1,
          4,
          1,
          5,
          1,
          2
         ],
         "yaxis": "y"
        },
        {
         "alignmentgroup": "True",
         "hovertemplate": "ViolationDescription=PARKED ON GRASS<br>Month=%{x}<br>CountOfViolations=%{y}<extra></extra>",
         "legendgroup": "PARKED ON GRASS",
         "marker": {
          "color": "#ab63fa",
          "pattern": {
           "shape": ""
          }
         },
         "name": "PARKED ON GRASS",
         "offsetgroup": "PARKED ON GRASS",
         "orientation": "v",
         "showlegend": true,
         "textposition": "auto",
         "type": "bar",
         "x": [
          "Jan",
          "Feb",
          "Mar",
          "Apr",
          "May",
          "Jun",
          "Jul",
          "Aug",
          "Sep",
          "Oct",
          "Nov",
          "Dec"
         ],
         "xaxis": "x",
         "y": [
          3,
          9,
          37,
          183,
          162,
          62,
          50,
          18,
          96,
          71,
          11,
          5
         ],
         "yaxis": "y"
        },
        {
         "alignmentgroup": "True",
         "hovertemplate": "ViolationDescription=PARKING PROHBITED<br>Month=%{x}<br>CountOfViolations=%{y}<extra></extra>",
         "legendgroup": "PARKING PROHBITED",
         "marker": {
          "color": "#FFA15A",
          "pattern": {
           "shape": ""
          }
         },
         "name": "PARKING PROHBITED",
         "offsetgroup": "PARKING PROHBITED",
         "orientation": "v",
         "showlegend": true,
         "textposition": "auto",
         "type": "bar",
         "x": [
          "Jan",
          "Feb",
          "Mar",
          "Apr",
          "May",
          "Jun",
          "Jul",
          "Aug",
          "Sep",
          "Oct",
          "Nov",
          "Dec"
         ],
         "xaxis": "x",
         "y": [
          9939,
          10080,
          11876,
          11566,
          11577,
          11200,
          9967,
          11573,
          11681,
          12895,
          11835,
          9952
         ],
         "yaxis": "y"
        },
        {
         "alignmentgroup": "True",
         "hovertemplate": "ViolationDescription=PARKING PROHIBITED<br>Month=%{x}<br>CountOfViolations=%{y}<extra></extra>",
         "legendgroup": "PARKING PROHIBITED",
         "marker": {
          "color": "#19d3f3",
          "pattern": {
           "shape": ""
          }
         },
         "name": "PARKING PROHIBITED",
         "offsetgroup": "PARKING PROHIBITED",
         "orientation": "v",
         "showlegend": true,
         "textposition": "auto",
         "type": "bar",
         "x": [
          "Jan",
          "Mar",
          "May",
          "Jun",
          "Jul",
          "Aug",
          "Sep",
          "Oct",
          "Nov",
          "Dec"
         ],
         "xaxis": "x",
         "y": [
          2,
          13,
          1,
          13,
          15,
          26,
          10,
          3,
          20,
          2
         ],
         "yaxis": "y"
        },
        {
         "alignmentgroup": "True",
         "hovertemplate": "ViolationDescription=PASSENGR LOADNG ZONE<br>Month=%{x}<br>CountOfViolations=%{y}<extra></extra>",
         "legendgroup": "PASSENGR LOADNG ZONE",
         "marker": {
          "color": "#FF6692",
          "pattern": {
           "shape": ""
          }
         },
         "name": "PASSENGR LOADNG ZONE",
         "offsetgroup": "PASSENGR LOADNG ZONE",
         "orientation": "v",
         "showlegend": true,
         "textposition": "auto",
         "type": "bar",
         "x": [
          "Jan",
          "Feb",
          "Mar",
          "Apr",
          "May",
          "Jun",
          "Jul",
          "Aug",
          "Sep",
          "Oct",
          "Nov",
          "Dec"
         ],
         "xaxis": "x",
         "y": [
          2668,
          2686,
          2936,
          2664,
          2931,
          2773,
          2357,
          2954,
          2661,
          2781,
          2753,
          2670
         ],
         "yaxis": "y"
        },
        {
         "alignmentgroup": "True",
         "hovertemplate": "ViolationDescription=PKG W/LIC SUSPD 75<br>Month=%{x}<br>CountOfViolations=%{y}<extra></extra>",
         "legendgroup": "PKG W/LIC SUSPD 75",
         "marker": {
          "color": "#B6E880",
          "pattern": {
           "shape": ""
          }
         },
         "name": "PKG W/LIC SUSPD 75",
         "offsetgroup": "PKG W/LIC SUSPD 75",
         "orientation": "v",
         "showlegend": true,
         "textposition": "auto",
         "type": "bar",
         "x": [
          "Jan",
          "Feb",
          "Apr",
          "May",
          "Jun",
          "Jul",
          "Aug",
          "Sep",
          "Oct",
          "Dec"
         ],
         "xaxis": "x",
         "y": [
          3,
          15,
          6,
          1,
          1,
          2,
          5,
          2,
          4,
          4
         ],
         "yaxis": "y"
        },
        {
         "alignmentgroup": "True",
         "hovertemplate": "ViolationDescription=PRIVATE PROPERTY<br>Month=%{x}<br>CountOfViolations=%{y}<extra></extra>",
         "legendgroup": "PRIVATE PROPERTY",
         "marker": {
          "color": "#FF97FF",
          "pattern": {
           "shape": ""
          }
         },
         "name": "PRIVATE PROPERTY",
         "offsetgroup": "PRIVATE PROPERTY",
         "orientation": "v",
         "showlegend": true,
         "textposition": "auto",
         "type": "bar",
         "x": [
          "Jan",
          "Feb",
          "Mar",
          "Apr",
          "May",
          "Jun",
          "Jul",
          "Aug",
          "Sep",
          "Oct",
          "Nov",
          "Dec"
         ],
         "xaxis": "x",
         "y": [
          103,
          453,
          524,
          652,
          700,
          770,
          747,
          746,
          736,
          782,
          709,
          537
         ],
         "yaxis": "y"
        },
        {
         "alignmentgroup": "True",
         "hovertemplate": "ViolationDescription=ROSSWALK<br>Month=%{x}<br>CountOfViolations=%{y}<extra></extra>",
         "legendgroup": "ROSSWALK",
         "marker": {
          "color": "#FECB52",
          "pattern": {
           "shape": ""
          }
         },
         "name": "ROSSWALK",
         "offsetgroup": "ROSSWALK",
         "orientation": "v",
         "showlegend": true,
         "textposition": "auto",
         "type": "bar",
         "x": [
          "Jan",
          "Feb",
          "Mar",
          "Apr",
          "May",
          "Jun",
          "Jul",
          "Aug",
          "Sep",
          "Oct",
          "Nov",
          "Dec"
         ],
         "xaxis": "x",
         "y": [
          1225,
          1017,
          1363,
          1238,
          1272,
          989,
          788,
          972,
          1130,
          1198,
          1193,
          995
         ],
         "yaxis": "y"
        },
        {
         "alignmentgroup": "True",
         "hovertemplate": "ViolationDescription=SCHOOL ZONE<br>Month=%{x}<br>CountOfViolations=%{y}<extra></extra>",
         "legendgroup": "SCHOOL ZONE",
         "marker": {
          "color": "#636efa",
          "pattern": {
           "shape": ""
          }
         },
         "name": "SCHOOL ZONE",
         "offsetgroup": "SCHOOL ZONE",
         "orientation": "v",
         "showlegend": true,
         "textposition": "auto",
         "type": "bar",
         "x": [
          "Jan",
          "Feb",
          "Mar",
          "Apr",
          "May",
          "Jun",
          "Jul",
          "Aug",
          "Sep",
          "Oct",
          "Nov",
          "Dec"
         ],
         "xaxis": "x",
         "y": [
          997,
          1011,
          1363,
          954,
          1361,
          855,
          82,
          23,
          1283,
          1281,
          931,
          576
         ],
         "yaxis": "y"
        },
        {
         "alignmentgroup": "True",
         "hovertemplate": "ViolationDescription=SIDEWALK<br>Month=%{x}<br>CountOfViolations=%{y}<extra></extra>",
         "legendgroup": "SIDEWALK",
         "marker": {
          "color": "#EF553B",
          "pattern": {
           "shape": ""
          }
         },
         "name": "SIDEWALK",
         "offsetgroup": "SIDEWALK",
         "orientation": "v",
         "showlegend": true,
         "textposition": "auto",
         "type": "bar",
         "x": [
          "Jan",
          "Feb",
          "Mar",
          "Apr",
          "May",
          "Jun",
          "Jul",
          "Aug",
          "Sep",
          "Oct",
          "Nov",
          "Dec"
         ],
         "xaxis": "x",
         "y": [
          3107,
          3074,
          3701,
          3623,
          3449,
          2888,
          2453,
          2916,
          2982,
          3069,
          2891,
          2318
         ],
         "yaxis": "y"
        },
        {
         "alignmentgroup": "True",
         "hovertemplate": "ViolationDescription=STOP IN INTERSECTION<br>Month=%{x}<br>CountOfViolations=%{y}<extra></extra>",
         "legendgroup": "STOP IN INTERSECTION",
         "marker": {
          "color": "#00cc96",
          "pattern": {
           "shape": ""
          }
         },
         "name": "STOP IN INTERSECTION",
         "offsetgroup": "STOP IN INTERSECTION",
         "orientation": "v",
         "showlegend": true,
         "textposition": "auto",
         "type": "bar",
         "x": [
          "Jan",
          "Feb",
          "Mar",
          "Apr",
          "May",
          "Jun",
          "Jul",
          "Aug",
          "Sep",
          "Oct",
          "Nov",
          "Dec"
         ],
         "xaxis": "x",
         "y": [
          5,
          3,
          4,
          6,
          5,
          2,
          7,
          5,
          6,
          9,
          4,
          8
         ],
         "yaxis": "y"
        },
        {
         "alignmentgroup": "True",
         "hovertemplate": "ViolationDescription=STOP MEDIAL STRIP<br>Month=%{x}<br>CountOfViolations=%{y}<extra></extra>",
         "legendgroup": "STOP MEDIAL STRIP",
         "marker": {
          "color": "#ab63fa",
          "pattern": {
           "shape": ""
          }
         },
         "name": "STOP MEDIAL STRIP",
         "offsetgroup": "STOP MEDIAL STRIP",
         "orientation": "v",
         "showlegend": true,
         "textposition": "auto",
         "type": "bar",
         "x": [
          "Jan",
          "Feb",
          "Mar",
          "Apr",
          "May",
          "Jun",
          "Jul",
          "Aug",
          "Sep",
          "Oct",
          "Nov",
          "Dec"
         ],
         "xaxis": "x",
         "y": [
          178,
          207,
          225,
          221,
          235,
          191,
          155,
          158,
          145,
          160,
          194,
          130
         ],
         "yaxis": "y"
        },
        {
         "alignmentgroup": "True",
         "hovertemplate": "ViolationDescription=STOP ON R/R TRACK 44<br>Month=%{x}<br>CountOfViolations=%{y}<extra></extra>",
         "legendgroup": "STOP ON R/R TRACK 44",
         "marker": {
          "color": "#FFA15A",
          "pattern": {
           "shape": ""
          }
         },
         "name": "STOP ON R/R TRACK 44",
         "offsetgroup": "STOP ON R/R TRACK 44",
         "orientation": "v",
         "showlegend": true,
         "textposition": "auto",
         "type": "bar",
         "x": [
          "Jan",
          "Feb",
          "Mar",
          "May",
          "Jul",
          "Aug",
          "Sep",
          "Oct",
          "Nov",
          "Dec"
         ],
         "xaxis": "x",
         "y": [
          33,
          6,
          7,
          1,
          1,
          1,
          1,
          1,
          1,
          4
         ],
         "yaxis": "y"
        },
        {
         "alignmentgroup": "True",
         "hovertemplate": "ViolationDescription=STOP PROHIBITED<br>Month=%{x}<br>CountOfViolations=%{y}<extra></extra>",
         "legendgroup": "STOP PROHIBITED",
         "marker": {
          "color": "#19d3f3",
          "pattern": {
           "shape": ""
          }
         },
         "name": "STOP PROHIBITED",
         "offsetgroup": "STOP PROHIBITED",
         "orientation": "v",
         "showlegend": true,
         "textposition": "auto",
         "type": "bar",
         "x": [
          "Jan",
          "Feb",
          "Mar",
          "Apr",
          "May",
          "Jun",
          "Jul",
          "Aug",
          "Sep",
          "Oct",
          "Nov",
          "Dec"
         ],
         "xaxis": "x",
         "y": [
          12596,
          12157,
          13922,
          13048,
          13970,
          14065,
          12753,
          15769,
          14728,
          15484,
          15143,
          13268
         ],
         "yaxis": "y"
        },
        {
         "alignmentgroup": "True",
         "hovertemplate": "ViolationDescription=STOP/BLOCK HIGHWAY<br>Month=%{x}<br>CountOfViolations=%{y}<extra></extra>",
         "legendgroup": "STOP/BLOCK HIGHWAY",
         "marker": {
          "color": "#FF6692",
          "pattern": {
           "shape": ""
          }
         },
         "name": "STOP/BLOCK HIGHWAY",
         "offsetgroup": "STOP/BLOCK HIGHWAY",
         "orientation": "v",
         "showlegend": true,
         "textposition": "auto",
         "type": "bar",
         "x": [
          "Jan",
          "Feb",
          "Mar",
          "Apr",
          "May",
          "Jun",
          "Jul",
          "Aug",
          "Sep",
          "Oct",
          "Nov",
          "Dec"
         ],
         "xaxis": "x",
         "y": [
          56,
          41,
          69,
          62,
          27,
          26,
          30,
          21,
          37,
          43,
          24,
          17
         ],
         "yaxis": "y"
        },
        {
         "alignmentgroup": "True",
         "hovertemplate": "ViolationDescription=STOP/BLOCK HIWY<br>Month=%{x}<br>CountOfViolations=%{y}<extra></extra>",
         "legendgroup": "STOP/BLOCK HIWY",
         "marker": {
          "color": "#B6E880",
          "pattern": {
           "shape": ""
          }
         },
         "name": "STOP/BLOCK HIWY",
         "offsetgroup": "STOP/BLOCK HIWY",
         "orientation": "v",
         "showlegend": true,
         "textposition": "auto",
         "type": "bar",
         "x": [
          "Jan",
          "Feb",
          "Mar",
          "Apr",
          "May",
          "Jun",
          "Jul",
          "Aug",
          "Sep",
          "Oct",
          "Nov",
          "Dec"
         ],
         "xaxis": "x",
         "y": [
          6,
          4,
          9,
          19,
          14,
          12,
          8,
          9,
          10,
          19,
          10,
          6
         ],
         "yaxis": "y"
        },
        {
         "alignmentgroup": "True",
         "hovertemplate": "ViolationDescription=STOPPED IN SAFE ZONE<br>Month=%{x}<br>CountOfViolations=%{y}<extra></extra>",
         "legendgroup": "STOPPED IN SAFE ZONE",
         "marker": {
          "color": "#FF97FF",
          "pattern": {
           "shape": ""
          }
         },
         "name": "STOPPED IN SAFE ZONE",
         "offsetgroup": "STOPPED IN SAFE ZONE",
         "orientation": "v",
         "showlegend": true,
         "textposition": "auto",
         "type": "bar",
         "x": [
          "Jan",
          "Feb",
          "Mar",
          "Apr",
          "May",
          "Jun",
          "Jul",
          "Aug",
          "Sep",
          "Oct",
          "Nov",
          "Dec"
         ],
         "xaxis": "x",
         "y": [
          7,
          7,
          1,
          5,
          8,
          12,
          2,
          12,
          12,
          15,
          15,
          8
         ],
         "yaxis": "y"
        },
        {
         "alignmentgroup": "True",
         "hovertemplate": "ViolationDescription=STOPPING PROHIBITED<br>Month=%{x}<br>CountOfViolations=%{y}<extra></extra>",
         "legendgroup": "STOPPING PROHIBITED",
         "marker": {
          "color": "#FECB52",
          "pattern": {
           "shape": ""
          }
         },
         "name": "STOPPING PROHIBITED",
         "offsetgroup": "STOPPING PROHIBITED",
         "orientation": "v",
         "showlegend": true,
         "textposition": "auto",
         "type": "bar",
         "x": [
          "Jan",
          "Feb",
          "Mar",
          "Apr",
          "May",
          "Jun",
          "Jul",
          "Aug",
          "Sep",
          "Oct",
          "Nov",
          "Dec"
         ],
         "xaxis": "x",
         "y": [
          4560,
          4322,
          5438,
          5267,
          5020,
          4809,
          4367,
          5624,
          5060,
          5566,
          5015,
          4259
         ],
         "yaxis": "y"
        },
        {
         "alignmentgroup": "True",
         "hovertemplate": "ViolationDescription=STREET CLEANING<br>Month=%{x}<br>CountOfViolations=%{y}<extra></extra>",
         "legendgroup": "STREET CLEANING",
         "marker": {
          "color": "#636efa",
          "pattern": {
           "shape": ""
          }
         },
         "name": "STREET CLEANING",
         "offsetgroup": "STREET CLEANING",
         "orientation": "v",
         "showlegend": true,
         "textposition": "auto",
         "type": "bar",
         "x": [
          "Jan",
          "Feb",
          "Mar",
          "Apr",
          "May",
          "Jun",
          "Jul",
          "Aug",
          "Sep",
          "Oct",
          "Nov",
          "Dec"
         ],
         "xaxis": "x",
         "y": [
          727,
          687,
          746,
          747,
          852,
          861,
          809,
          695,
          591,
          529,
          580,
          666
         ],
         "yaxis": "y"
        },
        {
         "alignmentgroup": "True",
         "hovertemplate": "ViolationDescription=SUSPENDED LICENSE<br>Month=%{x}<br>CountOfViolations=%{y}<extra></extra>",
         "legendgroup": "SUSPENDED LICENSE",
         "marker": {
          "color": "#EF553B",
          "pattern": {
           "shape": ""
          }
         },
         "name": "SUSPENDED LICENSE",
         "offsetgroup": "SUSPENDED LICENSE",
         "orientation": "v",
         "showlegend": true,
         "textposition": "auto",
         "type": "bar",
         "x": [
          "Jan",
          "Feb",
          "Mar",
          "Apr",
          "May",
          "Jun",
          "Jul",
          "Aug",
          "Sep",
          "Oct",
          "Nov",
          "Dec"
         ],
         "xaxis": "x",
         "y": [
          9,
          11,
          16,
          11,
          9,
          6,
          18,
          17,
          9,
          3,
          9,
          3
         ],
         "yaxis": "y"
        },
        {
         "alignmentgroup": "True",
         "hovertemplate": "ViolationDescription=TAXI NOT AT STAND<br>Month=%{x}<br>CountOfViolations=%{y}<extra></extra>",
         "legendgroup": "TAXI NOT AT STAND",
         "marker": {
          "color": "#00cc96",
          "pattern": {
           "shape": ""
          }
         },
         "name": "TAXI NOT AT STAND",
         "offsetgroup": "TAXI NOT AT STAND",
         "orientation": "v",
         "showlegend": true,
         "textposition": "auto",
         "type": "bar",
         "x": [
          "Jan",
          "Feb",
          "Mar",
          "Apr",
          "May",
          "Jun",
          "Jul",
          "Aug",
          "Sep",
          "Oct",
          "Nov",
          "Dec"
         ],
         "xaxis": "x",
         "y": [
          2,
          5,
          7,
          4,
          1,
          3,
          1,
          1,
          1,
          4,
          2,
          1
         ],
         "yaxis": "y"
        },
        {
         "alignmentgroup": "True",
         "hovertemplate": "ViolationDescription=TAXI STAND<br>Month=%{x}<br>CountOfViolations=%{y}<extra></extra>",
         "legendgroup": "TAXI STAND",
         "marker": {
          "color": "#ab63fa",
          "pattern": {
           "shape": ""
          }
         },
         "name": "TAXI STAND",
         "offsetgroup": "TAXI STAND",
         "orientation": "v",
         "showlegend": true,
         "textposition": "auto",
         "type": "bar",
         "x": [
          "Jan",
          "Feb",
          "Mar",
          "Apr",
          "May",
          "Jun",
          "Jul",
          "Aug",
          "Sep",
          "Oct",
          "Nov",
          "Dec"
         ],
         "xaxis": "x",
         "y": [
          118,
          122,
          156,
          153,
          159,
          150,
          122,
          138,
          163,
          139,
          152,
          163
         ],
         "yaxis": "y"
        },
        {
         "alignmentgroup": "True",
         "hovertemplate": "ViolationDescription=UNATTENDED VEH    29<br>Month=%{x}<br>CountOfViolations=%{y}<extra></extra>",
         "legendgroup": "UNATTENDED VEH    29",
         "marker": {
          "color": "#FFA15A",
          "pattern": {
           "shape": ""
          }
         },
         "name": "UNATTENDED VEH    29",
         "offsetgroup": "UNATTENDED VEH    29",
         "orientation": "v",
         "showlegend": true,
         "textposition": "auto",
         "type": "bar",
         "x": [
          "Jan",
          "Feb",
          "Mar",
          "Apr",
          "May",
          "Jun",
          "Jul",
          "Aug",
          "Sep",
          "Oct",
          "Nov",
          "Dec"
         ],
         "xaxis": "x",
         "y": [
          52,
          31,
          38,
          33,
          36,
          52,
          55,
          53,
          36,
          50,
          49,
          28
         ],
         "yaxis": "y"
        },
        {
         "alignmentgroup": "True",
         "hovertemplate": "ViolationDescription=UNLAWFUL ALARM<br>Month=%{x}<br>CountOfViolations=%{y}<extra></extra>",
         "legendgroup": "UNLAWFUL ALARM",
         "marker": {
          "color": "#19d3f3",
          "pattern": {
           "shape": ""
          }
         },
         "name": "UNLAWFUL ALARM",
         "offsetgroup": "UNLAWFUL ALARM",
         "orientation": "v",
         "showlegend": true,
         "textposition": "auto",
         "type": "bar",
         "x": [
          "Jan",
          "Feb",
          "Mar",
          "Apr",
          "May",
          "Jun",
          "Aug",
          "Oct"
         ],
         "xaxis": "x",
         "y": [
          3,
          1,
          2,
          6,
          5,
          2,
          3,
          1
         ],
         "yaxis": "y"
        },
        {
         "alignmentgroup": "True",
         "hovertemplate": "ViolationDescription=UNMETERED SPACE<br>Month=%{x}<br>CountOfViolations=%{y}<extra></extra>",
         "legendgroup": "UNMETERED SPACE",
         "marker": {
          "color": "#FF6692",
          "pattern": {
           "shape": ""
          }
         },
         "name": "UNMETERED SPACE",
         "offsetgroup": "UNMETERED SPACE",
         "orientation": "v",
         "showlegend": true,
         "textposition": "auto",
         "type": "bar",
         "x": [
          "Jan",
          "Mar",
          "Apr",
          "Jun",
          "Aug",
          "Nov"
         ],
         "xaxis": "x",
         "y": [
          1,
          30,
          4,
          1,
          1,
          2
         ],
         "yaxis": "y"
        },
        {
         "alignmentgroup": "True",
         "hovertemplate": "ViolationDescription=UNREG/ABANDONED VEH<br>Month=%{x}<br>CountOfViolations=%{y}<extra></extra>",
         "legendgroup": "UNREG/ABANDONED VEH",
         "marker": {
          "color": "#B6E880",
          "pattern": {
           "shape": ""
          }
         },
         "name": "UNREG/ABANDONED VEH",
         "offsetgroup": "UNREG/ABANDONED VEH",
         "orientation": "v",
         "showlegend": true,
         "textposition": "auto",
         "type": "bar",
         "x": [
          "Jan",
          "Feb",
          "Mar",
          "Apr",
          "May",
          "Jun",
          "Jul",
          "Aug",
          "Sep",
          "Oct",
          "Nov",
          "Dec"
         ],
         "xaxis": "x",
         "y": [
          731,
          928,
          907,
          900,
          1014,
          861,
          482,
          977,
          712,
          915,
          575,
          105
         ],
         "yaxis": "y"
        },
        {
         "alignmentgroup": "True",
         "hovertemplate": "ViolationDescription=VALET VIOLATION<br>Month=%{x}<br>CountOfViolations=%{y}<extra></extra>",
         "legendgroup": "VALET VIOLATION",
         "marker": {
          "color": "#FF97FF",
          "pattern": {
           "shape": ""
          }
         },
         "name": "VALET VIOLATION",
         "offsetgroup": "VALET VIOLATION",
         "orientation": "v",
         "showlegend": true,
         "textposition": "auto",
         "type": "bar",
         "x": [
          "Jan",
          "Feb",
          "Mar",
          "Apr",
          "May",
          "Jun",
          "Jul",
          "Aug",
          "Sep",
          "Oct",
          "Nov",
          "Dec"
         ],
         "xaxis": "x",
         "y": [
          6,
          6,
          16,
          11,
          21,
          24,
          45,
          43,
          27,
          6,
          15,
          26
         ],
         "yaxis": "y"
        },
        {
         "alignmentgroup": "True",
         "hovertemplate": "ViolationDescription=VALET ZONE VIOLATION<br>Month=%{x}<br>CountOfViolations=%{y}<extra></extra>",
         "legendgroup": "VALET ZONE VIOLATION",
         "marker": {
          "color": "#FECB52",
          "pattern": {
           "shape": ""
          }
         },
         "name": "VALET ZONE VIOLATION",
         "offsetgroup": "VALET ZONE VIOLATION",
         "orientation": "v",
         "showlegend": true,
         "textposition": "auto",
         "type": "bar",
         "x": [
          "Jan",
          "Feb",
          "Mar",
          "Apr",
          "May",
          "Jun",
          "Jul",
          "Aug",
          "Sep",
          "Oct",
          "Nov",
          "Dec"
         ],
         "xaxis": "x",
         "y": [
          120,
          179,
          157,
          150,
          159,
          147,
          142,
          212,
          173,
          230,
          164,
          158
         ],
         "yaxis": "y"
        },
        {
         "alignmentgroup": "True",
         "hovertemplate": "ViolationDescription=WASH/REPAIR VEH<br>Month=%{x}<br>CountOfViolations=%{y}<extra></extra>",
         "legendgroup": "WASH/REPAIR VEH",
         "marker": {
          "color": "#636efa",
          "pattern": {
           "shape": ""
          }
         },
         "name": "WASH/REPAIR VEH",
         "offsetgroup": "WASH/REPAIR VEH",
         "orientation": "v",
         "showlegend": true,
         "textposition": "auto",
         "type": "bar",
         "x": [
          "Jan",
          "Feb",
          "Mar",
          "Apr",
          "May",
          "Jun",
          "Jul",
          "Aug",
          "Sep",
          "Oct",
          "Nov",
          "Dec"
         ],
         "xaxis": "x",
         "y": [
          4,
          9,
          18,
          16,
          14,
          12,
          5,
          10,
          7,
          9,
          3,
          2
         ],
         "yaxis": "y"
        },
        {
         "alignmentgroup": "True",
         "hovertemplate": "ViolationDescription=BUS-IMP PSNG DISCHRG<br>Month=%{x}<br>CountOfViolations=%{y}<extra></extra>",
         "legendgroup": "BUS-IMP PSNG DISCHRG",
         "marker": {
          "color": "#EF553B",
          "pattern": {
           "shape": ""
          }
         },
         "name": "BUS-IMP PSNG DISCHRG",
         "offsetgroup": "BUS-IMP PSNG DISCHRG",
         "orientation": "v",
         "showlegend": true,
         "textposition": "auto",
         "type": "bar",
         "x": [
          "Feb",
          "Mar",
          "Apr",
          "May",
          "Jun",
          "Jul",
          "Oct",
          "Nov",
          "Dec"
         ],
         "xaxis": "x",
         "y": [
          7,
          1,
          1,
          4,
          1,
          4,
          1,
          10,
          6
         ],
         "yaxis": "y"
        },
        {
         "alignmentgroup": "True",
         "hovertemplate": "ViolationDescription=DAMAGE TO METER<br>Month=%{x}<br>CountOfViolations=%{y}<extra></extra>",
         "legendgroup": "DAMAGE TO METER",
         "marker": {
          "color": "#00cc96",
          "pattern": {
           "shape": ""
          }
         },
         "name": "DAMAGE TO METER",
         "offsetgroup": "DAMAGE TO METER",
         "orientation": "v",
         "showlegend": true,
         "textposition": "auto",
         "type": "bar",
         "x": [
          "Feb",
          "Mar",
          "Apr",
          "May",
          "Jun",
          "Aug",
          "Sep",
          "Oct"
         ],
         "xaxis": "x",
         "y": [
          1,
          3,
          1,
          4,
          1,
          4,
          5,
          2
         ],
         "yaxis": "y"
        },
        {
         "alignmentgroup": "True",
         "hovertemplate": "ViolationDescription=DISOBEY SN-STANDG<br>Month=%{x}<br>CountOfViolations=%{y}<extra></extra>",
         "legendgroup": "DISOBEY SN-STANDG",
         "marker": {
          "color": "#ab63fa",
          "pattern": {
           "shape": ""
          }
         },
         "name": "DISOBEY SN-STANDG",
         "offsetgroup": "DISOBEY SN-STANDG",
         "orientation": "v",
         "showlegend": true,
         "textposition": "auto",
         "type": "bar",
         "x": [
          "Feb"
         ],
         "xaxis": "x",
         "y": [
          1
         ],
         "yaxis": "y"
        },
        {
         "alignmentgroup": "True",
         "hovertemplate": "ViolationDescription=FRAUD PARK HP SPACE<br>Month=%{x}<br>CountOfViolations=%{y}<extra></extra>",
         "legendgroup": "FRAUD PARK HP SPACE",
         "marker": {
          "color": "#FFA15A",
          "pattern": {
           "shape": ""
          }
         },
         "name": "FRAUD PARK HP SPACE",
         "offsetgroup": "FRAUD PARK HP SPACE",
         "orientation": "v",
         "showlegend": true,
         "textposition": "auto",
         "type": "bar",
         "x": [
          "Feb",
          "Mar",
          "Apr",
          "Jul",
          "Aug"
         ],
         "xaxis": "x",
         "y": [
          1,
          3,
          1,
          1,
          3
         ],
         "yaxis": "y"
        },
        {
         "alignmentgroup": "True",
         "hovertemplate": "ViolationDescription=OBSTRUCT TROLLEY 52<br>Month=%{x}<br>CountOfViolations=%{y}<extra></extra>",
         "legendgroup": "OBSTRUCT TROLLEY 52",
         "marker": {
          "color": "#19d3f3",
          "pattern": {
           "shape": ""
          }
         },
         "name": "OBSTRUCT TROLLEY 52",
         "offsetgroup": "OBSTRUCT TROLLEY 52",
         "orientation": "v",
         "showlegend": true,
         "textposition": "auto",
         "type": "bar",
         "x": [
          "Feb",
          "Mar",
          "Jun"
         ],
         "xaxis": "x",
         "y": [
          1,
          3,
          1
         ],
         "yaxis": "y"
        },
        {
         "alignmentgroup": "True",
         "hovertemplate": "ViolationDescription=PARK MOBILE HOME 28<br>Month=%{x}<br>CountOfViolations=%{y}<extra></extra>",
         "legendgroup": "PARK MOBILE HOME 28",
         "marker": {
          "color": "#FF6692",
          "pattern": {
           "shape": ""
          }
         },
         "name": "PARK MOBILE HOME 28",
         "offsetgroup": "PARK MOBILE HOME 28",
         "orientation": "v",
         "showlegend": true,
         "textposition": "auto",
         "type": "bar",
         "x": [
          "Feb",
          "Apr",
          "May",
          "Jul",
          "Aug",
          "Sep",
          "Oct",
          "Nov"
         ],
         "xaxis": "x",
         "y": [
          2,
          2,
          2,
          2,
          1,
          5,
          2,
          1
         ],
         "yaxis": "y"
        },
        {
         "alignmentgroup": "True",
         "hovertemplate": "ViolationDescription=PK NEAR FIRE STAT 51<br>Month=%{x}<br>CountOfViolations=%{y}<extra></extra>",
         "legendgroup": "PK NEAR FIRE STAT 51",
         "marker": {
          "color": "#B6E880",
          "pattern": {
           "shape": ""
          }
         },
         "name": "PK NEAR FIRE STAT 51",
         "offsetgroup": "PK NEAR FIRE STAT 51",
         "orientation": "v",
         "showlegend": true,
         "textposition": "auto",
         "type": "bar",
         "x": [
          "Feb",
          "Mar",
          "Apr",
          "May",
          "Aug",
          "Sep",
          "Nov",
          "Dec"
         ],
         "xaxis": "x",
         "y": [
          1,
          2,
          1,
          2,
          1,
          1,
          2,
          1
         ],
         "yaxis": "y"
        },
        {
         "alignmentgroup": "True",
         "hovertemplate": "ViolationDescription=PK NEAR TRAFF SIGNAL<br>Month=%{x}<br>CountOfViolations=%{y}<extra></extra>",
         "legendgroup": "PK NEAR TRAFF SIGNAL",
         "marker": {
          "color": "#FF97FF",
          "pattern": {
           "shape": ""
          }
         },
         "name": "PK NEAR TRAFF SIGNAL",
         "offsetgroup": "PK NEAR TRAFF SIGNAL",
         "orientation": "v",
         "showlegend": true,
         "textposition": "auto",
         "type": "bar",
         "x": [
          "Feb",
          "Mar",
          "Apr",
          "May",
          "Jun",
          "Jul",
          "Aug",
          "Sep",
          "Oct",
          "Nov",
          "Dec"
         ],
         "xaxis": "x",
         "y": [
          2,
          2,
          3,
          2,
          2,
          2,
          1,
          4,
          3,
          10,
          1
         ],
         "yaxis": "y"
        },
        {
         "alignmentgroup": "True",
         "hovertemplate": "ViolationDescription=SNOW EMERGENCY ROUTE<br>Month=%{x}<br>CountOfViolations=%{y}<extra></extra>",
         "legendgroup": "SNOW EMERGENCY ROUTE",
         "marker": {
          "color": "#FECB52",
          "pattern": {
           "shape": ""
          }
         },
         "name": "SNOW EMERGENCY ROUTE",
         "offsetgroup": "SNOW EMERGENCY ROUTE",
         "orientation": "v",
         "showlegend": true,
         "textposition": "auto",
         "type": "bar",
         "x": [
          "Feb",
          "Mar"
         ],
         "xaxis": "x",
         "y": [
          1560,
          985
         ],
         "yaxis": "y"
        },
        {
         "alignmentgroup": "True",
         "hovertemplate": "ViolationDescription=SNOW RELOCATION TOW<br>Month=%{x}<br>CountOfViolations=%{y}<extra></extra>",
         "legendgroup": "SNOW RELOCATION TOW",
         "marker": {
          "color": "#636efa",
          "pattern": {
           "shape": ""
          }
         },
         "name": "SNOW RELOCATION TOW",
         "offsetgroup": "SNOW RELOCATION TOW",
         "orientation": "v",
         "showlegend": true,
         "textposition": "auto",
         "type": "bar",
         "x": [
          "Feb",
          "Mar",
          "Apr"
         ],
         "xaxis": "x",
         "y": [
          260,
          414,
          1
         ],
         "yaxis": "y"
        },
        {
         "alignmentgroup": "True",
         "hovertemplate": "ViolationDescription=STOPPED SAFE ZONE<br>Month=%{x}<br>CountOfViolations=%{y}<extra></extra>",
         "legendgroup": "STOPPED SAFE ZONE",
         "marker": {
          "color": "#EF553B",
          "pattern": {
           "shape": ""
          }
         },
         "name": "STOPPED SAFE ZONE",
         "offsetgroup": "STOPPED SAFE ZONE",
         "orientation": "v",
         "showlegend": true,
         "textposition": "auto",
         "type": "bar",
         "x": [
          "Feb",
          "Oct"
         ],
         "xaxis": "x",
         "y": [
          1,
          1
         ],
         "yaxis": "y"
        },
        {
         "alignmentgroup": "True",
         "hovertemplate": "ViolationDescription=ILLEGAL PLACD TKT 73<br>Month=%{x}<br>CountOfViolations=%{y}<extra></extra>",
         "legendgroup": "ILLEGAL PLACD TKT 73",
         "marker": {
          "color": "#00cc96",
          "pattern": {
           "shape": ""
          }
         },
         "name": "ILLEGAL PLACD TKT 73",
         "offsetgroup": "ILLEGAL PLACD TKT 73",
         "orientation": "v",
         "showlegend": true,
         "textposition": "auto",
         "type": "bar",
         "x": [
          "Mar",
          "Jun"
         ],
         "xaxis": "x",
         "y": [
          1,
          1
         ],
         "yaxis": "y"
        },
        {
         "alignmentgroup": "True",
         "hovertemplate": "ViolationDescription=OWNER ID ON COM VEH<br>Month=%{x}<br>CountOfViolations=%{y}<extra></extra>",
         "legendgroup": "OWNER ID ON COM VEH",
         "marker": {
          "color": "#ab63fa",
          "pattern": {
           "shape": ""
          }
         },
         "name": "OWNER ID ON COM VEH",
         "offsetgroup": "OWNER ID ON COM VEH",
         "orientation": "v",
         "showlegend": true,
         "textposition": "auto",
         "type": "bar",
         "x": [
          "Mar",
          "Apr",
          "Jul",
          "Aug",
          "Sep",
          "Oct",
          "Dec"
         ],
         "xaxis": "x",
         "y": [
          3,
          3,
          5,
          1,
          1,
          1,
          1
         ],
         "yaxis": "y"
        },
        {
         "alignmentgroup": "True",
         "hovertemplate": "ViolationDescription=PARK PROHIBITED 04<br>Month=%{x}<br>CountOfViolations=%{y}<extra></extra>",
         "legendgroup": "PARK PROHIBITED 04",
         "marker": {
          "color": "#FFA15A",
          "pattern": {
           "shape": ""
          }
         },
         "name": "PARK PROHIBITED 04",
         "offsetgroup": "PARK PROHIBITED 04",
         "orientation": "v",
         "showlegend": true,
         "textposition": "auto",
         "type": "bar",
         "x": [
          "Mar",
          "Apr",
          "Jun",
          "Sep",
          "Oct",
          "Nov"
         ],
         "xaxis": "x",
         "y": [
          4,
          1,
          1,
          1,
          1,
          3
         ],
         "yaxis": "y"
        },
        {
         "alignmentgroup": "True",
         "hovertemplate": "ViolationDescription=PARK-TROLLEY STOP 23<br>Month=%{x}<br>CountOfViolations=%{y}<extra></extra>",
         "legendgroup": "PARK-TROLLEY STOP 23",
         "marker": {
          "color": "#19d3f3",
          "pattern": {
           "shape": ""
          }
         },
         "name": "PARK-TROLLEY STOP 23",
         "offsetgroup": "PARK-TROLLEY STOP 23",
         "orientation": "v",
         "showlegend": true,
         "textposition": "auto",
         "type": "bar",
         "x": [
          "Mar",
          "Jul"
         ],
         "xaxis": "x",
         "y": [
          2,
          1
         ],
         "yaxis": "y"
        },
        {
         "alignmentgroup": "True",
         "hovertemplate": "ViolationDescription=ATV ON PUBLIC PROPTY<br>Month=%{x}<br>CountOfViolations=%{y}<extra></extra>",
         "legendgroup": "ATV ON PUBLIC PROPTY",
         "marker": {
          "color": "#FF6692",
          "pattern": {
           "shape": ""
          }
         },
         "name": "ATV ON PUBLIC PROPTY",
         "offsetgroup": "ATV ON PUBLIC PROPTY",
         "orientation": "v",
         "showlegend": true,
         "textposition": "auto",
         "type": "bar",
         "x": [
          "Apr"
         ],
         "xaxis": "x",
         "y": [
          1
         ],
         "yaxis": "y"
        },
        {
         "alignmentgroup": "True",
         "hovertemplate": "ViolationDescription=HIWAY CONSTRCTION 43<br>Month=%{x}<br>CountOfViolations=%{y}<extra></extra>",
         "legendgroup": "HIWAY CONSTRCTION 43",
         "marker": {
          "color": "#B6E880",
          "pattern": {
           "shape": ""
          }
         },
         "name": "HIWAY CONSTRCTION 43",
         "offsetgroup": "HIWAY CONSTRCTION 43",
         "orientation": "v",
         "showlegend": true,
         "textposition": "auto",
         "type": "bar",
         "x": [
          "Apr",
          "Jun",
          "Jul",
          "Sep"
         ],
         "xaxis": "x",
         "y": [
          1,
          3,
          1,
          2
         ],
         "yaxis": "y"
        },
        {
         "alignmentgroup": "True",
         "hovertemplate": "ViolationDescription=INTERSECTION<br>Month=%{x}<br>CountOfViolations=%{y}<extra></extra>",
         "legendgroup": "INTERSECTION",
         "marker": {
          "color": "#FF97FF",
          "pattern": {
           "shape": ""
          }
         },
         "name": "INTERSECTION",
         "offsetgroup": "INTERSECTION",
         "orientation": "v",
         "showlegend": true,
         "textposition": "auto",
         "type": "bar",
         "x": [
          "Apr",
          "Sep",
          "Oct",
          "Nov",
          "Dec"
         ],
         "xaxis": "x",
         "y": [
          1,
          6,
          4,
          2,
          1
         ],
         "yaxis": "y"
        },
        {
         "alignmentgroup": "True",
         "hovertemplate": "ViolationDescription=INVALID RPP PERMIT<br>Month=%{x}<br>CountOfViolations=%{y}<extra></extra>",
         "legendgroup": "INVALID RPP PERMIT",
         "marker": {
          "color": "#FECB52",
          "pattern": {
           "shape": ""
          }
         },
         "name": "INVALID RPP PERMIT",
         "offsetgroup": "INVALID RPP PERMIT",
         "orientation": "v",
         "showlegend": true,
         "textposition": "auto",
         "type": "bar",
         "x": [
          "Apr",
          "May",
          "Jun"
         ],
         "xaxis": "x",
         "y": [
          1,
          1,
          2
         ],
         "yaxis": "y"
        },
        {
         "alignmentgroup": "True",
         "hovertemplate": "ViolationDescription=BUS-IMPROPER LOADING<br>Month=%{x}<br>CountOfViolations=%{y}<extra></extra>",
         "legendgroup": "BUS-IMPROPER LOADING",
         "marker": {
          "color": "#636efa",
          "pattern": {
           "shape": ""
          }
         },
         "name": "BUS-IMPROPER LOADING",
         "offsetgroup": "BUS-IMPROPER LOADING",
         "orientation": "v",
         "showlegend": true,
         "textposition": "auto",
         "type": "bar",
         "x": [
          "May",
          "Jul",
          "Aug",
          "Oct"
         ],
         "xaxis": "x",
         "y": [
          2,
          1,
          1,
          2
         ],
         "yaxis": "y"
        },
        {
         "alignmentgroup": "True",
         "hovertemplate": "ViolationDescription=IMPROPER MOTORCYCLE<br>Month=%{x}<br>CountOfViolations=%{y}<extra></extra>",
         "legendgroup": "IMPROPER MOTORCYCLE",
         "marker": {
          "color": "#EF553B",
          "pattern": {
           "shape": ""
          }
         },
         "name": "IMPROPER MOTORCYCLE",
         "offsetgroup": "IMPROPER MOTORCYCLE",
         "orientation": "v",
         "showlegend": true,
         "textposition": "auto",
         "type": "bar",
         "x": [
          "Jul",
          "Sep",
          "Nov",
          "Dec"
         ],
         "xaxis": "x",
         "y": [
          1,
          1,
          2,
          1
         ],
         "yaxis": "y"
        },
        {
         "alignmentgroup": "True",
         "hovertemplate": "ViolationDescription=ONTRACTOR PLAC VIOL<br>Month=%{x}<br>CountOfViolations=%{y}<extra></extra>",
         "legendgroup": "ONTRACTOR PLAC VIOL",
         "marker": {
          "color": "#00cc96",
          "pattern": {
           "shape": ""
          }
         },
         "name": "ONTRACTOR PLAC VIOL",
         "offsetgroup": "ONTRACTOR PLAC VIOL",
         "orientation": "v",
         "showlegend": true,
         "textposition": "auto",
         "type": "bar",
         "x": [
          "Jul"
         ],
         "xaxis": "x",
         "y": [
          1
         ],
         "yaxis": "y"
        },
        {
         "alignmentgroup": "True",
         "hovertemplate": "ViolationDescription=PRK MTR IMPROPER 11<br>Month=%{x}<br>CountOfViolations=%{y}<extra></extra>",
         "legendgroup": "PRK MTR IMPROPER 11",
         "marker": {
          "color": "#ab63fa",
          "pattern": {
           "shape": ""
          }
         },
         "name": "PRK MTR IMPROPER 11",
         "offsetgroup": "PRK MTR IMPROPER 11",
         "orientation": "v",
         "showlegend": true,
         "textposition": "auto",
         "type": "bar",
         "x": [
          "Sep"
         ],
         "xaxis": "x",
         "y": [
          1
         ],
         "yaxis": "y"
        },
        {
         "alignmentgroup": "True",
         "hovertemplate": "ViolationDescription=STOP/BLOCK HWY  33<br>Month=%{x}<br>CountOfViolations=%{y}<extra></extra>",
         "legendgroup": "STOP/BLOCK HWY  33",
         "marker": {
          "color": "#FFA15A",
          "pattern": {
           "shape": ""
          }
         },
         "name": "STOP/BLOCK HWY  33",
         "offsetgroup": "STOP/BLOCK HWY  33",
         "orientation": "v",
         "showlegend": true,
         "textposition": "auto",
         "type": "bar",
         "x": [
          "Sep"
         ],
         "xaxis": "x",
         "y": [
          2
         ],
         "yaxis": "y"
        },
        {
         "alignmentgroup": "True",
         "hovertemplate": "ViolationDescription=+4HR IN LOADING ZONE<br>Month=%{x}<br>CountOfViolations=%{y}<extra></extra>",
         "legendgroup": "+4HR IN LOADING ZONE",
         "marker": {
          "color": "#19d3f3",
          "pattern": {
           "shape": ""
          }
         },
         "name": "+4HR IN LOADING ZONE",
         "offsetgroup": "+4HR IN LOADING ZONE",
         "orientation": "v",
         "showlegend": true,
         "textposition": "auto",
         "type": "bar",
         "x": [
          "Dec"
         ],
         "xaxis": "x",
         "y": [
          1
         ],
         "yaxis": "y"
        },
        {
         "alignmentgroup": "True",
         "hovertemplate": "ViolationDescription=PK OVER TIME LIM 17<br>Month=%{x}<br>CountOfViolations=%{y}<extra></extra>",
         "legendgroup": "PK OVER TIME LIM 17",
         "marker": {
          "color": "#FF6692",
          "pattern": {
           "shape": ""
          }
         },
         "name": "PK OVER TIME LIM 17",
         "offsetgroup": "PK OVER TIME LIM 17",
         "orientation": "v",
         "showlegend": true,
         "textposition": "auto",
         "type": "bar",
         "x": [
          "Dec"
         ],
         "xaxis": "x",
         "y": [
          3
         ],
         "yaxis": "y"
        }
       ],
       "layout": {
        "barmode": "relative",
        "legend": {
         "title": {
          "text": "ViolationDescription"
         },
         "tracegroupgap": 0
        },
        "template": {
         "data": {
          "bar": [
           {
            "error_x": {
             "color": "#2a3f5f"
            },
            "error_y": {
             "color": "#2a3f5f"
            },
            "marker": {
             "line": {
              "color": "#E5ECF6",
              "width": 0.5
             },
             "pattern": {
              "fillmode": "overlay",
              "size": 10,
              "solidity": 0.2
             }
            },
            "type": "bar"
           }
          ],
          "barpolar": [
           {
            "marker": {
             "line": {
              "color": "#E5ECF6",
              "width": 0.5
             },
             "pattern": {
              "fillmode": "overlay",
              "size": 10,
              "solidity": 0.2
             }
            },
            "type": "barpolar"
           }
          ],
          "carpet": [
           {
            "aaxis": {
             "endlinecolor": "#2a3f5f",
             "gridcolor": "white",
             "linecolor": "white",
             "minorgridcolor": "white",
             "startlinecolor": "#2a3f5f"
            },
            "baxis": {
             "endlinecolor": "#2a3f5f",
             "gridcolor": "white",
             "linecolor": "white",
             "minorgridcolor": "white",
             "startlinecolor": "#2a3f5f"
            },
            "type": "carpet"
           }
          ],
          "choropleth": [
           {
            "colorbar": {
             "outlinewidth": 0,
             "ticks": ""
            },
            "type": "choropleth"
           }
          ],
          "contour": [
           {
            "colorbar": {
             "outlinewidth": 0,
             "ticks": ""
            },
            "colorscale": [
             [
              0,
              "#0d0887"
             ],
             [
              0.1111111111111111,
              "#46039f"
             ],
             [
              0.2222222222222222,
              "#7201a8"
             ],
             [
              0.3333333333333333,
              "#9c179e"
             ],
             [
              0.4444444444444444,
              "#bd3786"
             ],
             [
              0.5555555555555556,
              "#d8576b"
             ],
             [
              0.6666666666666666,
              "#ed7953"
             ],
             [
              0.7777777777777778,
              "#fb9f3a"
             ],
             [
              0.8888888888888888,
              "#fdca26"
             ],
             [
              1,
              "#f0f921"
             ]
            ],
            "type": "contour"
           }
          ],
          "contourcarpet": [
           {
            "colorbar": {
             "outlinewidth": 0,
             "ticks": ""
            },
            "type": "contourcarpet"
           }
          ],
          "heatmap": [
           {
            "colorbar": {
             "outlinewidth": 0,
             "ticks": ""
            },
            "colorscale": [
             [
              0,
              "#0d0887"
             ],
             [
              0.1111111111111111,
              "#46039f"
             ],
             [
              0.2222222222222222,
              "#7201a8"
             ],
             [
              0.3333333333333333,
              "#9c179e"
             ],
             [
              0.4444444444444444,
              "#bd3786"
             ],
             [
              0.5555555555555556,
              "#d8576b"
             ],
             [
              0.6666666666666666,
              "#ed7953"
             ],
             [
              0.7777777777777778,
              "#fb9f3a"
             ],
             [
              0.8888888888888888,
              "#fdca26"
             ],
             [
              1,
              "#f0f921"
             ]
            ],
            "type": "heatmap"
           }
          ],
          "heatmapgl": [
           {
            "colorbar": {
             "outlinewidth": 0,
             "ticks": ""
            },
            "colorscale": [
             [
              0,
              "#0d0887"
             ],
             [
              0.1111111111111111,
              "#46039f"
             ],
             [
              0.2222222222222222,
              "#7201a8"
             ],
             [
              0.3333333333333333,
              "#9c179e"
             ],
             [
              0.4444444444444444,
              "#bd3786"
             ],
             [
              0.5555555555555556,
              "#d8576b"
             ],
             [
              0.6666666666666666,
              "#ed7953"
             ],
             [
              0.7777777777777778,
              "#fb9f3a"
             ],
             [
              0.8888888888888888,
              "#fdca26"
             ],
             [
              1,
              "#f0f921"
             ]
            ],
            "type": "heatmapgl"
           }
          ],
          "histogram": [
           {
            "marker": {
             "pattern": {
              "fillmode": "overlay",
              "size": 10,
              "solidity": 0.2
             }
            },
            "type": "histogram"
           }
          ],
          "histogram2d": [
           {
            "colorbar": {
             "outlinewidth": 0,
             "ticks": ""
            },
            "colorscale": [
             [
              0,
              "#0d0887"
             ],
             [
              0.1111111111111111,
              "#46039f"
             ],
             [
              0.2222222222222222,
              "#7201a8"
             ],
             [
              0.3333333333333333,
              "#9c179e"
             ],
             [
              0.4444444444444444,
              "#bd3786"
             ],
             [
              0.5555555555555556,
              "#d8576b"
             ],
             [
              0.6666666666666666,
              "#ed7953"
             ],
             [
              0.7777777777777778,
              "#fb9f3a"
             ],
             [
              0.8888888888888888,
              "#fdca26"
             ],
             [
              1,
              "#f0f921"
             ]
            ],
            "type": "histogram2d"
           }
          ],
          "histogram2dcontour": [
           {
            "colorbar": {
             "outlinewidth": 0,
             "ticks": ""
            },
            "colorscale": [
             [
              0,
              "#0d0887"
             ],
             [
              0.1111111111111111,
              "#46039f"
             ],
             [
              0.2222222222222222,
              "#7201a8"
             ],
             [
              0.3333333333333333,
              "#9c179e"
             ],
             [
              0.4444444444444444,
              "#bd3786"
             ],
             [
              0.5555555555555556,
              "#d8576b"
             ],
             [
              0.6666666666666666,
              "#ed7953"
             ],
             [
              0.7777777777777778,
              "#fb9f3a"
             ],
             [
              0.8888888888888888,
              "#fdca26"
             ],
             [
              1,
              "#f0f921"
             ]
            ],
            "type": "histogram2dcontour"
           }
          ],
          "mesh3d": [
           {
            "colorbar": {
             "outlinewidth": 0,
             "ticks": ""
            },
            "type": "mesh3d"
           }
          ],
          "parcoords": [
           {
            "line": {
             "colorbar": {
              "outlinewidth": 0,
              "ticks": ""
             }
            },
            "type": "parcoords"
           }
          ],
          "pie": [
           {
            "automargin": true,
            "type": "pie"
           }
          ],
          "scatter": [
           {
            "fillpattern": {
             "fillmode": "overlay",
             "size": 10,
             "solidity": 0.2
            },
            "type": "scatter"
           }
          ],
          "scatter3d": [
           {
            "line": {
             "colorbar": {
              "outlinewidth": 0,
              "ticks": ""
             }
            },
            "marker": {
             "colorbar": {
              "outlinewidth": 0,
              "ticks": ""
             }
            },
            "type": "scatter3d"
           }
          ],
          "scattercarpet": [
           {
            "marker": {
             "colorbar": {
              "outlinewidth": 0,
              "ticks": ""
             }
            },
            "type": "scattercarpet"
           }
          ],
          "scattergeo": [
           {
            "marker": {
             "colorbar": {
              "outlinewidth": 0,
              "ticks": ""
             }
            },
            "type": "scattergeo"
           }
          ],
          "scattergl": [
           {
            "marker": {
             "colorbar": {
              "outlinewidth": 0,
              "ticks": ""
             }
            },
            "type": "scattergl"
           }
          ],
          "scattermapbox": [
           {
            "marker": {
             "colorbar": {
              "outlinewidth": 0,
              "ticks": ""
             }
            },
            "type": "scattermapbox"
           }
          ],
          "scatterpolar": [
           {
            "marker": {
             "colorbar": {
              "outlinewidth": 0,
              "ticks": ""
             }
            },
            "type": "scatterpolar"
           }
          ],
          "scatterpolargl": [
           {
            "marker": {
             "colorbar": {
              "outlinewidth": 0,
              "ticks": ""
             }
            },
            "type": "scatterpolargl"
           }
          ],
          "scatterternary": [
           {
            "marker": {
             "colorbar": {
              "outlinewidth": 0,
              "ticks": ""
             }
            },
            "type": "scatterternary"
           }
          ],
          "surface": [
           {
            "colorbar": {
             "outlinewidth": 0,
             "ticks": ""
            },
            "colorscale": [
             [
              0,
              "#0d0887"
             ],
             [
              0.1111111111111111,
              "#46039f"
             ],
             [
              0.2222222222222222,
              "#7201a8"
             ],
             [
              0.3333333333333333,
              "#9c179e"
             ],
             [
              0.4444444444444444,
              "#bd3786"
             ],
             [
              0.5555555555555556,
              "#d8576b"
             ],
             [
              0.6666666666666666,
              "#ed7953"
             ],
             [
              0.7777777777777778,
              "#fb9f3a"
             ],
             [
              0.8888888888888888,
              "#fdca26"
             ],
             [
              1,
              "#f0f921"
             ]
            ],
            "type": "surface"
           }
          ],
          "table": [
           {
            "cells": {
             "fill": {
              "color": "#EBF0F8"
             },
             "line": {
              "color": "white"
             }
            },
            "header": {
             "fill": {
              "color": "#C8D4E3"
             },
             "line": {
              "color": "white"
             }
            },
            "type": "table"
           }
          ]
         },
         "layout": {
          "annotationdefaults": {
           "arrowcolor": "#2a3f5f",
           "arrowhead": 0,
           "arrowwidth": 1
          },
          "autotypenumbers": "strict",
          "coloraxis": {
           "colorbar": {
            "outlinewidth": 0,
            "ticks": ""
           }
          },
          "colorscale": {
           "diverging": [
            [
             0,
             "#8e0152"
            ],
            [
             0.1,
             "#c51b7d"
            ],
            [
             0.2,
             "#de77ae"
            ],
            [
             0.3,
             "#f1b6da"
            ],
            [
             0.4,
             "#fde0ef"
            ],
            [
             0.5,
             "#f7f7f7"
            ],
            [
             0.6,
             "#e6f5d0"
            ],
            [
             0.7,
             "#b8e186"
            ],
            [
             0.8,
             "#7fbc41"
            ],
            [
             0.9,
             "#4d9221"
            ],
            [
             1,
             "#276419"
            ]
           ],
           "sequential": [
            [
             0,
             "#0d0887"
            ],
            [
             0.1111111111111111,
             "#46039f"
            ],
            [
             0.2222222222222222,
             "#7201a8"
            ],
            [
             0.3333333333333333,
             "#9c179e"
            ],
            [
             0.4444444444444444,
             "#bd3786"
            ],
            [
             0.5555555555555556,
             "#d8576b"
            ],
            [
             0.6666666666666666,
             "#ed7953"
            ],
            [
             0.7777777777777778,
             "#fb9f3a"
            ],
            [
             0.8888888888888888,
             "#fdca26"
            ],
            [
             1,
             "#f0f921"
            ]
           ],
           "sequentialminus": [
            [
             0,
             "#0d0887"
            ],
            [
             0.1111111111111111,
             "#46039f"
            ],
            [
             0.2222222222222222,
             "#7201a8"
            ],
            [
             0.3333333333333333,
             "#9c179e"
            ],
            [
             0.4444444444444444,
             "#bd3786"
            ],
            [
             0.5555555555555556,
             "#d8576b"
            ],
            [
             0.6666666666666666,
             "#ed7953"
            ],
            [
             0.7777777777777778,
             "#fb9f3a"
            ],
            [
             0.8888888888888888,
             "#fdca26"
            ],
            [
             1,
             "#f0f921"
            ]
           ]
          },
          "colorway": [
           "#636efa",
           "#EF553B",
           "#00cc96",
           "#ab63fa",
           "#FFA15A",
           "#19d3f3",
           "#FF6692",
           "#B6E880",
           "#FF97FF",
           "#FECB52"
          ],
          "font": {
           "color": "#2a3f5f"
          },
          "geo": {
           "bgcolor": "white",
           "lakecolor": "white",
           "landcolor": "#E5ECF6",
           "showlakes": true,
           "showland": true,
           "subunitcolor": "white"
          },
          "hoverlabel": {
           "align": "left"
          },
          "hovermode": "closest",
          "mapbox": {
           "style": "light"
          },
          "paper_bgcolor": "white",
          "plot_bgcolor": "#E5ECF6",
          "polar": {
           "angularaxis": {
            "gridcolor": "white",
            "linecolor": "white",
            "ticks": ""
           },
           "bgcolor": "#E5ECF6",
           "radialaxis": {
            "gridcolor": "white",
            "linecolor": "white",
            "ticks": ""
           }
          },
          "scene": {
           "xaxis": {
            "backgroundcolor": "#E5ECF6",
            "gridcolor": "white",
            "gridwidth": 2,
            "linecolor": "white",
            "showbackground": true,
            "ticks": "",
            "zerolinecolor": "white"
           },
           "yaxis": {
            "backgroundcolor": "#E5ECF6",
            "gridcolor": "white",
            "gridwidth": 2,
            "linecolor": "white",
            "showbackground": true,
            "ticks": "",
            "zerolinecolor": "white"
           },
           "zaxis": {
            "backgroundcolor": "#E5ECF6",
            "gridcolor": "white",
            "gridwidth": 2,
            "linecolor": "white",
            "showbackground": true,
            "ticks": "",
            "zerolinecolor": "white"
           }
          },
          "shapedefaults": {
           "line": {
            "color": "#2a3f5f"
           }
          },
          "ternary": {
           "aaxis": {
            "gridcolor": "white",
            "linecolor": "white",
            "ticks": ""
           },
           "baxis": {
            "gridcolor": "white",
            "linecolor": "white",
            "ticks": ""
           },
           "bgcolor": "#E5ECF6",
           "caxis": {
            "gridcolor": "white",
            "linecolor": "white",
            "ticks": ""
           }
          },
          "title": {
           "x": 0.05
          },
          "xaxis": {
           "automargin": true,
           "gridcolor": "white",
           "linecolor": "white",
           "ticks": "",
           "title": {
            "standoff": 15
           },
           "zerolinecolor": "white",
           "zerolinewidth": 2
          },
          "yaxis": {
           "automargin": true,
           "gridcolor": "white",
           "linecolor": "white",
           "ticks": "",
           "title": {
            "standoff": 15
           },
           "zerolinecolor": "white",
           "zerolinewidth": 2
          }
         }
        },
        "title": {
         "text": "Violations by Month"
        },
        "xaxis": {
         "anchor": "y",
         "domain": [
          0,
          1
         ],
         "title": {
          "text": "Month"
         }
        },
        "yaxis": {
         "anchor": "x",
         "domain": [
          0,
          1
         ],
         "title": {
          "text": "CountOfViolations"
         }
        }
       }
      },
      "text/html": [
       "<div>                            <div id=\"90af4b25-9c44-45e1-9820-abc66bd75e03\" class=\"plotly-graph-div\" style=\"height:525px; width:100%;\"></div>            <script type=\"text/javascript\">                require([\"plotly\"], function(Plotly) {                    window.PLOTLYENV=window.PLOTLYENV || {};                                    if (document.getElementById(\"90af4b25-9c44-45e1-9820-abc66bd75e03\")) {                    Plotly.newPlot(                        \"90af4b25-9c44-45e1-9820-abc66bd75e03\",                        [{\"alignmentgroup\":\"True\",\"hovertemplate\":\"ViolationDescription=AR SHARE VEHS ONLY<br>Month=%{x}<br>CountOfViolations=%{y}<extra></extra>\",\"legendgroup\":\"AR SHARE VEHS ONLY\",\"marker\":{\"color\":\"#636efa\",\"pattern\":{\"shape\":\"\"}},\"name\":\"AR SHARE VEHS ONLY\",\"offsetgroup\":\"AR SHARE VEHS ONLY\",\"orientation\":\"v\",\"showlegend\":true,\"textposition\":\"auto\",\"x\":[\"Jan\",\"Feb\",\"Mar\",\"Apr\",\"May\",\"Jun\",\"Jul\",\"Aug\",\"Sep\",\"Oct\",\"Nov\",\"Dec\"],\"xaxis\":\"x\",\"y\":[16,26,39,23,18,21,11,24,31,25,15,19],\"yaxis\":\"y\",\"type\":\"bar\"},{\"alignmentgroup\":\"True\",\"hovertemplate\":\"ViolationDescription=BLOCKING DRIVEWAY<br>Month=%{x}<br>CountOfViolations=%{y}<extra></extra>\",\"legendgroup\":\"BLOCKING DRIVEWAY\",\"marker\":{\"color\":\"#EF553B\",\"pattern\":{\"shape\":\"\"}},\"name\":\"BLOCKING DRIVEWAY\",\"offsetgroup\":\"BLOCKING DRIVEWAY\",\"orientation\":\"v\",\"showlegend\":true,\"textposition\":\"auto\",\"x\":[\"Jan\",\"Feb\",\"Mar\",\"Apr\",\"May\",\"Jun\",\"Jul\",\"Aug\",\"Sep\",\"Oct\",\"Nov\",\"Dec\"],\"xaxis\":\"x\",\"y\":[806,1020,1267,1119,1150,1173,1097,1228,1235,1209,1192,945],\"yaxis\":\"y\",\"type\":\"bar\"},{\"alignmentgroup\":\"True\",\"hovertemplate\":\"ViolationDescription=BLOCKNG MASS TRANSIT<br>Month=%{x}<br>CountOfViolations=%{y}<extra></extra>\",\"legendgroup\":\"BLOCKNG MASS TRANSIT\",\"marker\":{\"color\":\"#00cc96\",\"pattern\":{\"shape\":\"\"}},\"name\":\"BLOCKNG MASS TRANSIT\",\"offsetgroup\":\"BLOCKNG MASS TRANSIT\",\"orientation\":\"v\",\"showlegend\":true,\"textposition\":\"auto\",\"x\":[\"Jan\",\"Feb\",\"Mar\",\"Apr\",\"May\",\"Jun\",\"Jul\",\"Aug\",\"Sep\",\"Oct\",\"Nov\",\"Dec\"],\"xaxis\":\"x\",\"y\":[38,17,84,44,29,30,27,30,30,21,23,21],\"yaxis\":\"y\",\"type\":\"bar\"},{\"alignmentgroup\":\"True\",\"hovertemplate\":\"ViolationDescription=BUS NOT IN BUS STAND<br>Month=%{x}<br>CountOfViolations=%{y}<extra></extra>\",\"legendgroup\":\"BUS NOT IN BUS STAND\",\"marker\":{\"color\":\"#ab63fa\",\"pattern\":{\"shape\":\"\"}},\"name\":\"BUS NOT IN BUS STAND\",\"offsetgroup\":\"BUS NOT IN BUS STAND\",\"orientation\":\"v\",\"showlegend\":true,\"textposition\":\"auto\",\"x\":[\"Jan\",\"Feb\",\"Mar\",\"Apr\",\"May\",\"Jun\",\"Jul\",\"Aug\",\"Sep\",\"Oct\",\"Nov\",\"Dec\"],\"xaxis\":\"x\",\"y\":[6,3,10,23,54,48,14,21,19,22,12,9],\"yaxis\":\"y\",\"type\":\"bar\"},{\"alignmentgroup\":\"True\",\"hovertemplate\":\"ViolationDescription=BUS ONLY ZONE<br>Month=%{x}<br>CountOfViolations=%{y}<extra></extra>\",\"legendgroup\":\"BUS ONLY ZONE\",\"marker\":{\"color\":\"#FFA15A\",\"pattern\":{\"shape\":\"\"}},\"name\":\"BUS ONLY ZONE\",\"offsetgroup\":\"BUS ONLY ZONE\",\"orientation\":\"v\",\"showlegend\":true,\"textposition\":\"auto\",\"x\":[\"Jan\",\"Feb\",\"Mar\",\"Apr\",\"May\",\"Jun\",\"Jul\",\"Aug\",\"Sep\",\"Oct\",\"Nov\",\"Dec\"],\"xaxis\":\"x\",\"y\":[2985,3034,3512,3379,3428,3222,2931,3511,3460,3460,3378,2681],\"yaxis\":\"y\",\"type\":\"bar\"},{\"alignmentgroup\":\"True\",\"hovertemplate\":\"ViolationDescription=DISOBEY SIGN-PRHB 21<br>Month=%{x}<br>CountOfViolations=%{y}<extra></extra>\",\"legendgroup\":\"DISOBEY SIGN-PRHB 21\",\"marker\":{\"color\":\"#19d3f3\",\"pattern\":{\"shape\":\"\"}},\"name\":\"DISOBEY SIGN-PRHB 21\",\"offsetgroup\":\"DISOBEY SIGN-PRHB 21\",\"orientation\":\"v\",\"showlegend\":true,\"textposition\":\"auto\",\"x\":[\"Jan\",\"Feb\",\"Jul\",\"Aug\"],\"xaxis\":\"x\",\"y\":[1,2,2,2],\"yaxis\":\"y\",\"type\":\"bar\"},{\"alignmentgroup\":\"True\",\"hovertemplate\":\"ViolationDescription=DISOBEY SN-STANDING<br>Month=%{x}<br>CountOfViolations=%{y}<extra></extra>\",\"legendgroup\":\"DISOBEY SN-STANDING\",\"marker\":{\"color\":\"#FF6692\",\"pattern\":{\"shape\":\"\"}},\"name\":\"DISOBEY SN-STANDING\",\"offsetgroup\":\"DISOBEY SN-STANDING\",\"orientation\":\"v\",\"showlegend\":true,\"textposition\":\"auto\",\"x\":[\"Jan\",\"Feb\",\"Apr\",\"May\",\"Jun\",\"Jul\",\"Aug\",\"Sep\",\"Nov\"],\"xaxis\":\"x\",\"y\":[1,1,7,3,3,1,1,2,1],\"yaxis\":\"y\",\"type\":\"bar\"},{\"alignmentgroup\":\"True\",\"hovertemplate\":\"ViolationDescription=DISPLAY VEH FOR SALE<br>Month=%{x}<br>CountOfViolations=%{y}<extra></extra>\",\"legendgroup\":\"DISPLAY VEH FOR SALE\",\"marker\":{\"color\":\"#B6E880\",\"pattern\":{\"shape\":\"\"}},\"name\":\"DISPLAY VEH FOR SALE\",\"offsetgroup\":\"DISPLAY VEH FOR SALE\",\"orientation\":\"v\",\"showlegend\":true,\"textposition\":\"auto\",\"x\":[\"Jan\",\"Feb\",\"Mar\",\"Apr\",\"May\",\"Jun\",\"Jul\",\"Aug\",\"Sep\",\"Oct\",\"Nov\",\"Dec\"],\"xaxis\":\"x\",\"y\":[43,37,32,66,34,20,32,24,19,18,25,9],\"yaxis\":\"y\",\"type\":\"bar\"},{\"alignmentgroup\":\"True\",\"hovertemplate\":\"ViolationDescription=DOUBLE PARKED<br>Month=%{x}<br>CountOfViolations=%{y}<extra></extra>\",\"legendgroup\":\"DOUBLE PARKED\",\"marker\":{\"color\":\"#FF97FF\",\"pattern\":{\"shape\":\"\"}},\"name\":\"DOUBLE PARKED\",\"offsetgroup\":\"DOUBLE PARKED\",\"orientation\":\"v\",\"showlegend\":true,\"textposition\":\"auto\",\"x\":[\"Jan\",\"Feb\",\"Mar\",\"Apr\",\"May\",\"Jun\",\"Jul\",\"Aug\",\"Sep\",\"Oct\",\"Nov\",\"Dec\"],\"xaxis\":\"x\",\"y\":[1717,1645,2256,1865,2080,1928,1582,2029,2100,1961,1778,1573],\"yaxis\":\"y\",\"type\":\"bar\"},{\"alignmentgroup\":\"True\",\"hovertemplate\":\"ViolationDescription=EXCESSIVE IDLING<br>Month=%{x}<br>CountOfViolations=%{y}<extra></extra>\",\"legendgroup\":\"EXCESSIVE IDLING\",\"marker\":{\"color\":\"#FECB52\",\"pattern\":{\"shape\":\"\"}},\"name\":\"EXCESSIVE IDLING\",\"offsetgroup\":\"EXCESSIVE IDLING\",\"orientation\":\"v\",\"showlegend\":true,\"textposition\":\"auto\",\"x\":[\"Jan\",\"Feb\",\"Mar\",\"Apr\",\"May\",\"Jun\",\"Jul\",\"Aug\",\"Sep\",\"Oct\",\"Dec\"],\"xaxis\":\"x\",\"y\":[6,6,6,3,1,5,4,11,4,3,4],\"yaxis\":\"y\",\"type\":\"bar\"},{\"alignmentgroup\":\"True\",\"hovertemplate\":\"ViolationDescription=EXCESSIVE NOISE<br>Month=%{x}<br>CountOfViolations=%{y}<extra></extra>\",\"legendgroup\":\"EXCESSIVE NOISE\",\"marker\":{\"color\":\"#636efa\",\"pattern\":{\"shape\":\"\"}},\"name\":\"EXCESSIVE NOISE\",\"offsetgroup\":\"EXCESSIVE NOISE\",\"orientation\":\"v\",\"showlegend\":true,\"textposition\":\"auto\",\"x\":[\"Jan\",\"Feb\",\"Mar\",\"Apr\",\"May\",\"Jun\",\"Jul\",\"Aug\",\"Sep\",\"Oct\",\"Nov\",\"Dec\"],\"xaxis\":\"x\",\"y\":[11,8,3,11,14,29,18,20,9,11,2,1],\"yaxis\":\"y\",\"type\":\"bar\"},{\"alignmentgroup\":\"True\",\"hovertemplate\":\"ViolationDescription=EXPIRED INSPECTION<br>Month=%{x}<br>CountOfViolations=%{y}<extra></extra>\",\"legendgroup\":\"EXPIRED INSPECTION\",\"marker\":{\"color\":\"#EF553B\",\"pattern\":{\"shape\":\"\"}},\"name\":\"EXPIRED INSPECTION\",\"offsetgroup\":\"EXPIRED INSPECTION\",\"orientation\":\"v\",\"showlegend\":true,\"textposition\":\"auto\",\"x\":[\"Jan\",\"Feb\",\"Mar\",\"Apr\",\"May\",\"Jun\",\"Jul\",\"Aug\",\"Sep\",\"Oct\",\"Nov\",\"Dec\"],\"xaxis\":\"x\",\"y\":[12303,11016,11705,12235,12914,13508,13787,15766,14271,15281,13802,10537],\"yaxis\":\"y\",\"type\":\"bar\"},{\"alignmentgroup\":\"True\",\"hovertemplate\":\"ViolationDescription=EXPIRED TAG<br>Month=%{x}<br>CountOfViolations=%{y}<extra></extra>\",\"legendgroup\":\"EXPIRED TAG\",\"marker\":{\"color\":\"#00cc96\",\"pattern\":{\"shape\":\"\"}},\"name\":\"EXPIRED TAG\",\"offsetgroup\":\"EXPIRED TAG\",\"orientation\":\"v\",\"showlegend\":true,\"textposition\":\"auto\",\"x\":[\"Jan\",\"Feb\",\"Mar\",\"Apr\",\"May\",\"Jun\",\"Jul\",\"Aug\",\"Sep\",\"Oct\",\"Nov\",\"Dec\"],\"xaxis\":\"x\",\"y\":[292,283,407,401,318,286,371,356,359,377,277,206],\"yaxis\":\"y\",\"type\":\"bar\"},{\"alignmentgroup\":\"True\",\"hovertemplate\":\"ViolationDescription=FIRE HYDRANT<br>Month=%{x}<br>CountOfViolations=%{y}<extra></extra>\",\"legendgroup\":\"FIRE HYDRANT\",\"marker\":{\"color\":\"#ab63fa\",\"pattern\":{\"shape\":\"\"}},\"name\":\"FIRE HYDRANT\",\"offsetgroup\":\"FIRE HYDRANT\",\"orientation\":\"v\",\"showlegend\":true,\"textposition\":\"auto\",\"x\":[\"Jan\",\"Feb\",\"Mar\",\"Apr\",\"May\",\"Jun\",\"Jul\",\"Aug\",\"Sep\",\"Oct\",\"Nov\",\"Dec\"],\"xaxis\":\"x\",\"y\":[2759,2448,3069,2878,2922,2540,2119,2411,2737,2863,2673,2233],\"yaxis\":\"y\",\"type\":\"bar\"},{\"alignmentgroup\":\"True\",\"hovertemplate\":\"ViolationDescription=HP RAMP BLOCKED<br>Month=%{x}<br>CountOfViolations=%{y}<extra></extra>\",\"legendgroup\":\"HP RAMP BLOCKED\",\"marker\":{\"color\":\"#FFA15A\",\"pattern\":{\"shape\":\"\"}},\"name\":\"HP RAMP BLOCKED\",\"offsetgroup\":\"HP RAMP BLOCKED\",\"orientation\":\"v\",\"showlegend\":true,\"textposition\":\"auto\",\"x\":[\"Jan\",\"Feb\",\"Mar\",\"Apr\",\"May\",\"Jun\",\"Jul\",\"Aug\",\"Sep\",\"Oct\",\"Nov\",\"Dec\"],\"xaxis\":\"x\",\"y\":[774,756,827,851,784,732,580,790,865,922,848,769],\"yaxis\":\"y\",\"type\":\"bar\"},{\"alignmentgroup\":\"True\",\"hovertemplate\":\"ViolationDescription=HP RESERVED SPACE<br>Month=%{x}<br>CountOfViolations=%{y}<extra></extra>\",\"legendgroup\":\"HP RESERVED SPACE\",\"marker\":{\"color\":\"#19d3f3\",\"pattern\":{\"shape\":\"\"}},\"name\":\"HP RESERVED SPACE\",\"offsetgroup\":\"HP RESERVED SPACE\",\"orientation\":\"v\",\"showlegend\":true,\"textposition\":\"auto\",\"x\":[\"Jan\",\"Feb\",\"Mar\",\"Apr\",\"May\",\"Jun\",\"Jul\",\"Aug\",\"Sep\",\"Oct\",\"Nov\",\"Dec\"],\"xaxis\":\"x\",\"y\":[1637,1667,1972,1954,2065,1999,1935,2173,2063,2030,2051,1653],\"yaxis\":\"y\",\"type\":\"bar\"},{\"alignmentgroup\":\"True\",\"hovertemplate\":\"ViolationDescription=ILLEGAL PLACED TICKT<br>Month=%{x}<br>CountOfViolations=%{y}<extra></extra>\",\"legendgroup\":\"ILLEGAL PLACED TICKT\",\"marker\":{\"color\":\"#FF6692\",\"pattern\":{\"shape\":\"\"}},\"name\":\"ILLEGAL PLACED TICKT\",\"offsetgroup\":\"ILLEGAL PLACED TICKT\",\"orientation\":\"v\",\"showlegend\":true,\"textposition\":\"auto\",\"x\":[\"Jan\",\"Feb\",\"Mar\",\"Apr\",\"May\",\"Jun\",\"Jul\",\"Sep\",\"Oct\",\"Nov\",\"Dec\"],\"xaxis\":\"x\",\"y\":[3,2,2,2,2,1,6,2,1,1,3],\"yaxis\":\"y\",\"type\":\"bar\"},{\"alignmentgroup\":\"True\",\"hovertemplate\":\"ViolationDescription=IMPROPER ON 1WAY HWY<br>Month=%{x}<br>CountOfViolations=%{y}<extra></extra>\",\"legendgroup\":\"IMPROPER ON 1WAY HWY\",\"marker\":{\"color\":\"#B6E880\",\"pattern\":{\"shape\":\"\"}},\"name\":\"IMPROPER ON 1WAY HWY\",\"offsetgroup\":\"IMPROPER ON 1WAY HWY\",\"orientation\":\"v\",\"showlegend\":true,\"textposition\":\"auto\",\"x\":[\"Jan\",\"Feb\",\"Mar\",\"Apr\",\"May\",\"Jun\",\"Jul\",\"Aug\",\"Sep\",\"Oct\",\"Nov\",\"Dec\"],\"xaxis\":\"x\",\"y\":[68,73,99,67,85,54,64,68,75,85,69,63],\"yaxis\":\"y\",\"type\":\"bar\"},{\"alignmentgroup\":\"True\",\"hovertemplate\":\"ViolationDescription=IMPROPER ON 2WAY HWY<br>Month=%{x}<br>CountOfViolations=%{y}<extra></extra>\",\"legendgroup\":\"IMPROPER ON 2WAY HWY\",\"marker\":{\"color\":\"#FF97FF\",\"pattern\":{\"shape\":\"\"}},\"name\":\"IMPROPER ON 2WAY HWY\",\"offsetgroup\":\"IMPROPER ON 2WAY HWY\",\"orientation\":\"v\",\"showlegend\":true,\"textposition\":\"auto\",\"x\":[\"Jan\",\"Feb\",\"Mar\",\"Apr\",\"May\",\"Jun\",\"Jul\",\"Aug\",\"Sep\",\"Oct\",\"Nov\",\"Dec\"],\"xaxis\":\"x\",\"y\":[306,919,1050,723,595,534,399,493,453,413,407,386],\"yaxis\":\"y\",\"type\":\"bar\"},{\"alignmentgroup\":\"True\",\"hovertemplate\":\"ViolationDescription=IMPROPER-2WAY HWY 74<br>Month=%{x}<br>CountOfViolations=%{y}<extra></extra>\",\"legendgroup\":\"IMPROPER-2WAY HWY 74\",\"marker\":{\"color\":\"#FECB52\",\"pattern\":{\"shape\":\"\"}},\"name\":\"IMPROPER-2WAY HWY 74\",\"offsetgroup\":\"IMPROPER-2WAY HWY 74\",\"orientation\":\"v\",\"showlegend\":true,\"textposition\":\"auto\",\"x\":[\"Jan\",\"Feb\",\"Mar\",\"Apr\",\"May\",\"Aug\",\"Oct\",\"Dec\"],\"xaxis\":\"x\",\"y\":[1,1,2,2,2,1,2,1],\"yaxis\":\"y\",\"type\":\"bar\"},{\"alignmentgroup\":\"True\",\"hovertemplate\":\"ViolationDescription=INVALID CONT PERMIT<br>Month=%{x}<br>CountOfViolations=%{y}<extra></extra>\",\"legendgroup\":\"INVALID CONT PERMIT\",\"marker\":{\"color\":\"#636efa\",\"pattern\":{\"shape\":\"\"}},\"name\":\"INVALID CONT PERMIT\",\"offsetgroup\":\"INVALID CONT PERMIT\",\"orientation\":\"v\",\"showlegend\":true,\"textposition\":\"auto\",\"x\":[\"Jan\",\"May\",\"Nov\"],\"xaxis\":\"x\",\"y\":[2,1,1],\"yaxis\":\"y\",\"type\":\"bar\"},{\"alignmentgroup\":\"True\",\"hovertemplate\":\"ViolationDescription=INVALID KIOSK RECPT<br>Month=%{x}<br>CountOfViolations=%{y}<extra></extra>\",\"legendgroup\":\"INVALID KIOSK RECPT\",\"marker\":{\"color\":\"#EF553B\",\"pattern\":{\"shape\":\"\"}},\"name\":\"INVALID KIOSK RECPT\",\"offsetgroup\":\"INVALID KIOSK RECPT\",\"orientation\":\"v\",\"showlegend\":true,\"textposition\":\"auto\",\"x\":[\"Jan\",\"Feb\",\"Mar\",\"Apr\",\"May\",\"Jun\",\"Jul\",\"Aug\",\"Sep\",\"Oct\",\"Nov\",\"Dec\"],\"xaxis\":\"x\",\"y\":[1,1,2,5,5,3,2,6,1,4,7,2],\"yaxis\":\"y\",\"type\":\"bar\"},{\"alignmentgroup\":\"True\",\"hovertemplate\":\"ViolationDescription=LOADING ZONE<br>Month=%{x}<br>CountOfViolations=%{y}<extra></extra>\",\"legendgroup\":\"LOADING ZONE\",\"marker\":{\"color\":\"#00cc96\",\"pattern\":{\"shape\":\"\"}},\"name\":\"LOADING ZONE\",\"offsetgroup\":\"LOADING ZONE\",\"orientation\":\"v\",\"showlegend\":true,\"textposition\":\"auto\",\"x\":[\"Jan\",\"Feb\",\"Mar\",\"Apr\",\"May\",\"Jun\",\"Jul\",\"Aug\",\"Sep\",\"Oct\",\"Nov\",\"Dec\"],\"xaxis\":\"x\",\"y\":[2062,2006,2193,2028,1850,1928,1770,2227,2063,2218,2130,1923],\"yaxis\":\"y\",\"type\":\"bar\"},{\"alignmentgroup\":\"True\",\"hovertemplate\":\"ViolationDescription=METER EXPIRED<br>Month=%{x}<br>CountOfViolations=%{y}<extra></extra>\",\"legendgroup\":\"METER EXPIRED\",\"marker\":{\"color\":\"#ab63fa\",\"pattern\":{\"shape\":\"\"}},\"name\":\"METER EXPIRED\",\"offsetgroup\":\"METER EXPIRED\",\"orientation\":\"v\",\"showlegend\":true,\"textposition\":\"auto\",\"x\":[\"Jan\",\"Feb\",\"Mar\",\"Apr\",\"May\",\"Jun\",\"Jul\",\"Aug\",\"Sep\",\"Oct\",\"Nov\",\"Dec\"],\"xaxis\":\"x\",\"y\":[48154,46735,52337,53061,56108,54189,51247,59922,55294,57232,55118,43601],\"yaxis\":\"y\",\"type\":\"bar\"},{\"alignmentgroup\":\"True\",\"hovertemplate\":\"ViolationDescription=OMMRCL VEH RES AREA<br>Month=%{x}<br>CountOfViolations=%{y}<extra></extra>\",\"legendgroup\":\"OMMRCL VEH RES AREA\",\"marker\":{\"color\":\"#FFA15A\",\"pattern\":{\"shape\":\"\"}},\"name\":\"OMMRCL VEH RES AREA\",\"offsetgroup\":\"OMMRCL VEH RES AREA\",\"orientation\":\"v\",\"showlegend\":true,\"textposition\":\"auto\",\"x\":[\"Jan\",\"Feb\",\"Mar\",\"Apr\",\"May\",\"Jun\",\"Jul\",\"Aug\",\"Sep\",\"Oct\",\"Nov\",\"Dec\"],\"xaxis\":\"x\",\"y\":[65,43,74,91,64,40,39,48,46,99,38,44],\"yaxis\":\"y\",\"type\":\"bar\"},{\"alignmentgroup\":\"True\",\"hovertemplate\":\"ViolationDescription=ON LIMITD ACCESS HW<br>Month=%{x}<br>CountOfViolations=%{y}<extra></extra>\",\"legendgroup\":\"ON LIMITD ACCESS HW\",\"marker\":{\"color\":\"#19d3f3\",\"pattern\":{\"shape\":\"\"}},\"name\":\"ON LIMITD ACCESS HW\",\"offsetgroup\":\"ON LIMITD ACCESS HW\",\"orientation\":\"v\",\"showlegend\":true,\"textposition\":\"auto\",\"x\":[\"Jan\",\"Feb\",\"Apr\",\"Aug\",\"Sep\",\"Oct\"],\"xaxis\":\"x\",\"y\":[1,2,2,3,1,1],\"yaxis\":\"y\",\"type\":\"bar\"},{\"alignmentgroup\":\"True\",\"hovertemplate\":\"ViolationDescription=ORNER CLEARANCE<br>Month=%{x}<br>CountOfViolations=%{y}<extra></extra>\",\"legendgroup\":\"ORNER CLEARANCE\",\"marker\":{\"color\":\"#FF6692\",\"pattern\":{\"shape\":\"\"}},\"name\":\"ORNER CLEARANCE\",\"offsetgroup\":\"ORNER CLEARANCE\",\"orientation\":\"v\",\"showlegend\":true,\"textposition\":\"auto\",\"x\":[\"Jan\",\"Feb\",\"Mar\",\"Apr\",\"May\",\"Jun\",\"Jul\",\"Aug\",\"Sep\",\"Oct\",\"Nov\",\"Dec\"],\"xaxis\":\"x\",\"y\":[1429,1468,1678,1765,1672,1461,1159,1405,1494,1340,1295,1061],\"yaxis\":\"y\",\"type\":\"bar\"},{\"alignmentgroup\":\"True\",\"hovertemplate\":\"ViolationDescription=OUNTERFEIT HP PERM<br>Month=%{x}<br>CountOfViolations=%{y}<extra></extra>\",\"legendgroup\":\"OUNTERFEIT HP PERM\",\"marker\":{\"color\":\"#B6E880\",\"pattern\":{\"shape\":\"\"}},\"name\":\"OUNTERFEIT HP PERM\",\"offsetgroup\":\"OUNTERFEIT HP PERM\",\"orientation\":\"v\",\"showlegend\":true,\"textposition\":\"auto\",\"x\":[\"Jan\",\"Feb\",\"Mar\",\"Apr\",\"May\",\"Jun\",\"Jul\",\"Aug\",\"Sep\",\"Oct\",\"Nov\",\"Dec\"],\"xaxis\":\"x\",\"y\":[15,19,17,12,15,13,9,9,8,3,3,1],\"yaxis\":\"y\",\"type\":\"bar\"},{\"alignmentgroup\":\"True\",\"hovertemplate\":\"ViolationDescription=OVER TIME LIMIT<br>Month=%{x}<br>CountOfViolations=%{y}<extra></extra>\",\"legendgroup\":\"OVER TIME LIMIT\",\"marker\":{\"color\":\"#FF97FF\",\"pattern\":{\"shape\":\"\"}},\"name\":\"OVER TIME LIMIT\",\"offsetgroup\":\"OVER TIME LIMIT\",\"orientation\":\"v\",\"showlegend\":true,\"textposition\":\"auto\",\"x\":[\"Jan\",\"Feb\",\"Mar\",\"Apr\",\"May\",\"Jun\",\"Jul\",\"Aug\",\"Sep\",\"Oct\",\"Nov\",\"Dec\"],\"xaxis\":\"x\",\"y\":[19137,18326,20605,20313,20954,20291,17769,23225,21665,22424,22075,19689],\"yaxis\":\"y\",\"type\":\"bar\"},{\"alignmentgroup\":\"True\",\"hovertemplate\":\"ViolationDescription=PARENTAL LIABILITY<br>Month=%{x}<br>CountOfViolations=%{y}<extra></extra>\",\"legendgroup\":\"PARENTAL LIABILITY\",\"marker\":{\"color\":\"#FECB52\",\"pattern\":{\"shape\":\"\"}},\"name\":\"PARENTAL LIABILITY\",\"offsetgroup\":\"PARENTAL LIABILITY\",\"orientation\":\"v\",\"showlegend\":true,\"textposition\":\"auto\",\"x\":[\"Jan\",\"Feb\",\"Mar\",\"Apr\",\"May\",\"Jun\",\"Jul\",\"Aug\",\"Sep\",\"Oct\",\"Nov\",\"Dec\"],\"xaxis\":\"x\",\"y\":[13,7,23,9,7,7,37,65,29,30,19,7],\"yaxis\":\"y\",\"type\":\"bar\"},{\"alignmentgroup\":\"True\",\"hovertemplate\":\"ViolationDescription=PARK METER IMPROPER<br>Month=%{x}<br>CountOfViolations=%{y}<extra></extra>\",\"legendgroup\":\"PARK METER IMPROPER\",\"marker\":{\"color\":\"#636efa\",\"pattern\":{\"shape\":\"\"}},\"name\":\"PARK METER IMPROPER\",\"offsetgroup\":\"PARK METER IMPROPER\",\"orientation\":\"v\",\"showlegend\":true,\"textposition\":\"auto\",\"x\":[\"Jan\",\"Feb\",\"Mar\",\"Apr\",\"May\",\"Jun\",\"Sep\",\"Nov\",\"Dec\"],\"xaxis\":\"x\",\"y\":[1,1,1,2,1,3,2,2,1],\"yaxis\":\"y\",\"type\":\"bar\"},{\"alignmentgroup\":\"True\",\"hovertemplate\":\"ViolationDescription=PARK PROHIB PLACE<br>Month=%{x}<br>CountOfViolations=%{y}<extra></extra>\",\"legendgroup\":\"PARK PROHIB PLACE\",\"marker\":{\"color\":\"#EF553B\",\"pattern\":{\"shape\":\"\"}},\"name\":\"PARK PROHIB PLACE\",\"offsetgroup\":\"PARK PROHIB PLACE\",\"orientation\":\"v\",\"showlegend\":true,\"textposition\":\"auto\",\"x\":[\"Jan\",\"Mar\",\"Apr\",\"May\",\"Jun\",\"Jul\",\"Aug\",\"Sep\",\"Oct\",\"Nov\"],\"xaxis\":\"x\",\"y\":[1,4,3,11,8,2,21,3,3,3],\"yaxis\":\"y\",\"type\":\"bar\"},{\"alignmentgroup\":\"True\",\"hovertemplate\":\"ViolationDescription=PARKED ON BRIDGE 14<br>Month=%{x}<br>CountOfViolations=%{y}<extra></extra>\",\"legendgroup\":\"PARKED ON BRIDGE 14\",\"marker\":{\"color\":\"#00cc96\",\"pattern\":{\"shape\":\"\"}},\"name\":\"PARKED ON BRIDGE 14\",\"offsetgroup\":\"PARKED ON BRIDGE 14\",\"orientation\":\"v\",\"showlegend\":true,\"textposition\":\"auto\",\"x\":[\"Jan\",\"Mar\",\"Apr\",\"Jun\",\"Aug\",\"Sep\",\"Oct\",\"Nov\"],\"xaxis\":\"x\",\"y\":[4,1,1,4,1,5,1,2],\"yaxis\":\"y\",\"type\":\"bar\"},{\"alignmentgroup\":\"True\",\"hovertemplate\":\"ViolationDescription=PARKED ON GRASS<br>Month=%{x}<br>CountOfViolations=%{y}<extra></extra>\",\"legendgroup\":\"PARKED ON GRASS\",\"marker\":{\"color\":\"#ab63fa\",\"pattern\":{\"shape\":\"\"}},\"name\":\"PARKED ON GRASS\",\"offsetgroup\":\"PARKED ON GRASS\",\"orientation\":\"v\",\"showlegend\":true,\"textposition\":\"auto\",\"x\":[\"Jan\",\"Feb\",\"Mar\",\"Apr\",\"May\",\"Jun\",\"Jul\",\"Aug\",\"Sep\",\"Oct\",\"Nov\",\"Dec\"],\"xaxis\":\"x\",\"y\":[3,9,37,183,162,62,50,18,96,71,11,5],\"yaxis\":\"y\",\"type\":\"bar\"},{\"alignmentgroup\":\"True\",\"hovertemplate\":\"ViolationDescription=PARKING PROHBITED<br>Month=%{x}<br>CountOfViolations=%{y}<extra></extra>\",\"legendgroup\":\"PARKING PROHBITED\",\"marker\":{\"color\":\"#FFA15A\",\"pattern\":{\"shape\":\"\"}},\"name\":\"PARKING PROHBITED\",\"offsetgroup\":\"PARKING PROHBITED\",\"orientation\":\"v\",\"showlegend\":true,\"textposition\":\"auto\",\"x\":[\"Jan\",\"Feb\",\"Mar\",\"Apr\",\"May\",\"Jun\",\"Jul\",\"Aug\",\"Sep\",\"Oct\",\"Nov\",\"Dec\"],\"xaxis\":\"x\",\"y\":[9939,10080,11876,11566,11577,11200,9967,11573,11681,12895,11835,9952],\"yaxis\":\"y\",\"type\":\"bar\"},{\"alignmentgroup\":\"True\",\"hovertemplate\":\"ViolationDescription=PARKING PROHIBITED<br>Month=%{x}<br>CountOfViolations=%{y}<extra></extra>\",\"legendgroup\":\"PARKING PROHIBITED\",\"marker\":{\"color\":\"#19d3f3\",\"pattern\":{\"shape\":\"\"}},\"name\":\"PARKING PROHIBITED\",\"offsetgroup\":\"PARKING PROHIBITED\",\"orientation\":\"v\",\"showlegend\":true,\"textposition\":\"auto\",\"x\":[\"Jan\",\"Mar\",\"May\",\"Jun\",\"Jul\",\"Aug\",\"Sep\",\"Oct\",\"Nov\",\"Dec\"],\"xaxis\":\"x\",\"y\":[2,13,1,13,15,26,10,3,20,2],\"yaxis\":\"y\",\"type\":\"bar\"},{\"alignmentgroup\":\"True\",\"hovertemplate\":\"ViolationDescription=PASSENGR LOADNG ZONE<br>Month=%{x}<br>CountOfViolations=%{y}<extra></extra>\",\"legendgroup\":\"PASSENGR LOADNG ZONE\",\"marker\":{\"color\":\"#FF6692\",\"pattern\":{\"shape\":\"\"}},\"name\":\"PASSENGR LOADNG ZONE\",\"offsetgroup\":\"PASSENGR LOADNG ZONE\",\"orientation\":\"v\",\"showlegend\":true,\"textposition\":\"auto\",\"x\":[\"Jan\",\"Feb\",\"Mar\",\"Apr\",\"May\",\"Jun\",\"Jul\",\"Aug\",\"Sep\",\"Oct\",\"Nov\",\"Dec\"],\"xaxis\":\"x\",\"y\":[2668,2686,2936,2664,2931,2773,2357,2954,2661,2781,2753,2670],\"yaxis\":\"y\",\"type\":\"bar\"},{\"alignmentgroup\":\"True\",\"hovertemplate\":\"ViolationDescription=PKG W/LIC SUSPD 75<br>Month=%{x}<br>CountOfViolations=%{y}<extra></extra>\",\"legendgroup\":\"PKG W/LIC SUSPD 75\",\"marker\":{\"color\":\"#B6E880\",\"pattern\":{\"shape\":\"\"}},\"name\":\"PKG W/LIC SUSPD 75\",\"offsetgroup\":\"PKG W/LIC SUSPD 75\",\"orientation\":\"v\",\"showlegend\":true,\"textposition\":\"auto\",\"x\":[\"Jan\",\"Feb\",\"Apr\",\"May\",\"Jun\",\"Jul\",\"Aug\",\"Sep\",\"Oct\",\"Dec\"],\"xaxis\":\"x\",\"y\":[3,15,6,1,1,2,5,2,4,4],\"yaxis\":\"y\",\"type\":\"bar\"},{\"alignmentgroup\":\"True\",\"hovertemplate\":\"ViolationDescription=PRIVATE PROPERTY<br>Month=%{x}<br>CountOfViolations=%{y}<extra></extra>\",\"legendgroup\":\"PRIVATE PROPERTY\",\"marker\":{\"color\":\"#FF97FF\",\"pattern\":{\"shape\":\"\"}},\"name\":\"PRIVATE PROPERTY\",\"offsetgroup\":\"PRIVATE PROPERTY\",\"orientation\":\"v\",\"showlegend\":true,\"textposition\":\"auto\",\"x\":[\"Jan\",\"Feb\",\"Mar\",\"Apr\",\"May\",\"Jun\",\"Jul\",\"Aug\",\"Sep\",\"Oct\",\"Nov\",\"Dec\"],\"xaxis\":\"x\",\"y\":[103,453,524,652,700,770,747,746,736,782,709,537],\"yaxis\":\"y\",\"type\":\"bar\"},{\"alignmentgroup\":\"True\",\"hovertemplate\":\"ViolationDescription=ROSSWALK<br>Month=%{x}<br>CountOfViolations=%{y}<extra></extra>\",\"legendgroup\":\"ROSSWALK\",\"marker\":{\"color\":\"#FECB52\",\"pattern\":{\"shape\":\"\"}},\"name\":\"ROSSWALK\",\"offsetgroup\":\"ROSSWALK\",\"orientation\":\"v\",\"showlegend\":true,\"textposition\":\"auto\",\"x\":[\"Jan\",\"Feb\",\"Mar\",\"Apr\",\"May\",\"Jun\",\"Jul\",\"Aug\",\"Sep\",\"Oct\",\"Nov\",\"Dec\"],\"xaxis\":\"x\",\"y\":[1225,1017,1363,1238,1272,989,788,972,1130,1198,1193,995],\"yaxis\":\"y\",\"type\":\"bar\"},{\"alignmentgroup\":\"True\",\"hovertemplate\":\"ViolationDescription=SCHOOL ZONE<br>Month=%{x}<br>CountOfViolations=%{y}<extra></extra>\",\"legendgroup\":\"SCHOOL ZONE\",\"marker\":{\"color\":\"#636efa\",\"pattern\":{\"shape\":\"\"}},\"name\":\"SCHOOL ZONE\",\"offsetgroup\":\"SCHOOL ZONE\",\"orientation\":\"v\",\"showlegend\":true,\"textposition\":\"auto\",\"x\":[\"Jan\",\"Feb\",\"Mar\",\"Apr\",\"May\",\"Jun\",\"Jul\",\"Aug\",\"Sep\",\"Oct\",\"Nov\",\"Dec\"],\"xaxis\":\"x\",\"y\":[997,1011,1363,954,1361,855,82,23,1283,1281,931,576],\"yaxis\":\"y\",\"type\":\"bar\"},{\"alignmentgroup\":\"True\",\"hovertemplate\":\"ViolationDescription=SIDEWALK<br>Month=%{x}<br>CountOfViolations=%{y}<extra></extra>\",\"legendgroup\":\"SIDEWALK\",\"marker\":{\"color\":\"#EF553B\",\"pattern\":{\"shape\":\"\"}},\"name\":\"SIDEWALK\",\"offsetgroup\":\"SIDEWALK\",\"orientation\":\"v\",\"showlegend\":true,\"textposition\":\"auto\",\"x\":[\"Jan\",\"Feb\",\"Mar\",\"Apr\",\"May\",\"Jun\",\"Jul\",\"Aug\",\"Sep\",\"Oct\",\"Nov\",\"Dec\"],\"xaxis\":\"x\",\"y\":[3107,3074,3701,3623,3449,2888,2453,2916,2982,3069,2891,2318],\"yaxis\":\"y\",\"type\":\"bar\"},{\"alignmentgroup\":\"True\",\"hovertemplate\":\"ViolationDescription=STOP IN INTERSECTION<br>Month=%{x}<br>CountOfViolations=%{y}<extra></extra>\",\"legendgroup\":\"STOP IN INTERSECTION\",\"marker\":{\"color\":\"#00cc96\",\"pattern\":{\"shape\":\"\"}},\"name\":\"STOP IN INTERSECTION\",\"offsetgroup\":\"STOP IN INTERSECTION\",\"orientation\":\"v\",\"showlegend\":true,\"textposition\":\"auto\",\"x\":[\"Jan\",\"Feb\",\"Mar\",\"Apr\",\"May\",\"Jun\",\"Jul\",\"Aug\",\"Sep\",\"Oct\",\"Nov\",\"Dec\"],\"xaxis\":\"x\",\"y\":[5,3,4,6,5,2,7,5,6,9,4,8],\"yaxis\":\"y\",\"type\":\"bar\"},{\"alignmentgroup\":\"True\",\"hovertemplate\":\"ViolationDescription=STOP MEDIAL STRIP<br>Month=%{x}<br>CountOfViolations=%{y}<extra></extra>\",\"legendgroup\":\"STOP MEDIAL STRIP\",\"marker\":{\"color\":\"#ab63fa\",\"pattern\":{\"shape\":\"\"}},\"name\":\"STOP MEDIAL STRIP\",\"offsetgroup\":\"STOP MEDIAL STRIP\",\"orientation\":\"v\",\"showlegend\":true,\"textposition\":\"auto\",\"x\":[\"Jan\",\"Feb\",\"Mar\",\"Apr\",\"May\",\"Jun\",\"Jul\",\"Aug\",\"Sep\",\"Oct\",\"Nov\",\"Dec\"],\"xaxis\":\"x\",\"y\":[178,207,225,221,235,191,155,158,145,160,194,130],\"yaxis\":\"y\",\"type\":\"bar\"},{\"alignmentgroup\":\"True\",\"hovertemplate\":\"ViolationDescription=STOP ON R/R TRACK 44<br>Month=%{x}<br>CountOfViolations=%{y}<extra></extra>\",\"legendgroup\":\"STOP ON R/R TRACK 44\",\"marker\":{\"color\":\"#FFA15A\",\"pattern\":{\"shape\":\"\"}},\"name\":\"STOP ON R/R TRACK 44\",\"offsetgroup\":\"STOP ON R/R TRACK 44\",\"orientation\":\"v\",\"showlegend\":true,\"textposition\":\"auto\",\"x\":[\"Jan\",\"Feb\",\"Mar\",\"May\",\"Jul\",\"Aug\",\"Sep\",\"Oct\",\"Nov\",\"Dec\"],\"xaxis\":\"x\",\"y\":[33,6,7,1,1,1,1,1,1,4],\"yaxis\":\"y\",\"type\":\"bar\"},{\"alignmentgroup\":\"True\",\"hovertemplate\":\"ViolationDescription=STOP PROHIBITED<br>Month=%{x}<br>CountOfViolations=%{y}<extra></extra>\",\"legendgroup\":\"STOP PROHIBITED\",\"marker\":{\"color\":\"#19d3f3\",\"pattern\":{\"shape\":\"\"}},\"name\":\"STOP PROHIBITED\",\"offsetgroup\":\"STOP PROHIBITED\",\"orientation\":\"v\",\"showlegend\":true,\"textposition\":\"auto\",\"x\":[\"Jan\",\"Feb\",\"Mar\",\"Apr\",\"May\",\"Jun\",\"Jul\",\"Aug\",\"Sep\",\"Oct\",\"Nov\",\"Dec\"],\"xaxis\":\"x\",\"y\":[12596,12157,13922,13048,13970,14065,12753,15769,14728,15484,15143,13268],\"yaxis\":\"y\",\"type\":\"bar\"},{\"alignmentgroup\":\"True\",\"hovertemplate\":\"ViolationDescription=STOP/BLOCK HIGHWAY<br>Month=%{x}<br>CountOfViolations=%{y}<extra></extra>\",\"legendgroup\":\"STOP/BLOCK HIGHWAY\",\"marker\":{\"color\":\"#FF6692\",\"pattern\":{\"shape\":\"\"}},\"name\":\"STOP/BLOCK HIGHWAY\",\"offsetgroup\":\"STOP/BLOCK HIGHWAY\",\"orientation\":\"v\",\"showlegend\":true,\"textposition\":\"auto\",\"x\":[\"Jan\",\"Feb\",\"Mar\",\"Apr\",\"May\",\"Jun\",\"Jul\",\"Aug\",\"Sep\",\"Oct\",\"Nov\",\"Dec\"],\"xaxis\":\"x\",\"y\":[56,41,69,62,27,26,30,21,37,43,24,17],\"yaxis\":\"y\",\"type\":\"bar\"},{\"alignmentgroup\":\"True\",\"hovertemplate\":\"ViolationDescription=STOP/BLOCK HIWY<br>Month=%{x}<br>CountOfViolations=%{y}<extra></extra>\",\"legendgroup\":\"STOP/BLOCK HIWY\",\"marker\":{\"color\":\"#B6E880\",\"pattern\":{\"shape\":\"\"}},\"name\":\"STOP/BLOCK HIWY\",\"offsetgroup\":\"STOP/BLOCK HIWY\",\"orientation\":\"v\",\"showlegend\":true,\"textposition\":\"auto\",\"x\":[\"Jan\",\"Feb\",\"Mar\",\"Apr\",\"May\",\"Jun\",\"Jul\",\"Aug\",\"Sep\",\"Oct\",\"Nov\",\"Dec\"],\"xaxis\":\"x\",\"y\":[6,4,9,19,14,12,8,9,10,19,10,6],\"yaxis\":\"y\",\"type\":\"bar\"},{\"alignmentgroup\":\"True\",\"hovertemplate\":\"ViolationDescription=STOPPED IN SAFE ZONE<br>Month=%{x}<br>CountOfViolations=%{y}<extra></extra>\",\"legendgroup\":\"STOPPED IN SAFE ZONE\",\"marker\":{\"color\":\"#FF97FF\",\"pattern\":{\"shape\":\"\"}},\"name\":\"STOPPED IN SAFE ZONE\",\"offsetgroup\":\"STOPPED IN SAFE ZONE\",\"orientation\":\"v\",\"showlegend\":true,\"textposition\":\"auto\",\"x\":[\"Jan\",\"Feb\",\"Mar\",\"Apr\",\"May\",\"Jun\",\"Jul\",\"Aug\",\"Sep\",\"Oct\",\"Nov\",\"Dec\"],\"xaxis\":\"x\",\"y\":[7,7,1,5,8,12,2,12,12,15,15,8],\"yaxis\":\"y\",\"type\":\"bar\"},{\"alignmentgroup\":\"True\",\"hovertemplate\":\"ViolationDescription=STOPPING PROHIBITED<br>Month=%{x}<br>CountOfViolations=%{y}<extra></extra>\",\"legendgroup\":\"STOPPING PROHIBITED\",\"marker\":{\"color\":\"#FECB52\",\"pattern\":{\"shape\":\"\"}},\"name\":\"STOPPING PROHIBITED\",\"offsetgroup\":\"STOPPING PROHIBITED\",\"orientation\":\"v\",\"showlegend\":true,\"textposition\":\"auto\",\"x\":[\"Jan\",\"Feb\",\"Mar\",\"Apr\",\"May\",\"Jun\",\"Jul\",\"Aug\",\"Sep\",\"Oct\",\"Nov\",\"Dec\"],\"xaxis\":\"x\",\"y\":[4560,4322,5438,5267,5020,4809,4367,5624,5060,5566,5015,4259],\"yaxis\":\"y\",\"type\":\"bar\"},{\"alignmentgroup\":\"True\",\"hovertemplate\":\"ViolationDescription=STREET CLEANING<br>Month=%{x}<br>CountOfViolations=%{y}<extra></extra>\",\"legendgroup\":\"STREET CLEANING\",\"marker\":{\"color\":\"#636efa\",\"pattern\":{\"shape\":\"\"}},\"name\":\"STREET CLEANING\",\"offsetgroup\":\"STREET CLEANING\",\"orientation\":\"v\",\"showlegend\":true,\"textposition\":\"auto\",\"x\":[\"Jan\",\"Feb\",\"Mar\",\"Apr\",\"May\",\"Jun\",\"Jul\",\"Aug\",\"Sep\",\"Oct\",\"Nov\",\"Dec\"],\"xaxis\":\"x\",\"y\":[727,687,746,747,852,861,809,695,591,529,580,666],\"yaxis\":\"y\",\"type\":\"bar\"},{\"alignmentgroup\":\"True\",\"hovertemplate\":\"ViolationDescription=SUSPENDED LICENSE<br>Month=%{x}<br>CountOfViolations=%{y}<extra></extra>\",\"legendgroup\":\"SUSPENDED LICENSE\",\"marker\":{\"color\":\"#EF553B\",\"pattern\":{\"shape\":\"\"}},\"name\":\"SUSPENDED LICENSE\",\"offsetgroup\":\"SUSPENDED LICENSE\",\"orientation\":\"v\",\"showlegend\":true,\"textposition\":\"auto\",\"x\":[\"Jan\",\"Feb\",\"Mar\",\"Apr\",\"May\",\"Jun\",\"Jul\",\"Aug\",\"Sep\",\"Oct\",\"Nov\",\"Dec\"],\"xaxis\":\"x\",\"y\":[9,11,16,11,9,6,18,17,9,3,9,3],\"yaxis\":\"y\",\"type\":\"bar\"},{\"alignmentgroup\":\"True\",\"hovertemplate\":\"ViolationDescription=TAXI NOT AT STAND<br>Month=%{x}<br>CountOfViolations=%{y}<extra></extra>\",\"legendgroup\":\"TAXI NOT AT STAND\",\"marker\":{\"color\":\"#00cc96\",\"pattern\":{\"shape\":\"\"}},\"name\":\"TAXI NOT AT STAND\",\"offsetgroup\":\"TAXI NOT AT STAND\",\"orientation\":\"v\",\"showlegend\":true,\"textposition\":\"auto\",\"x\":[\"Jan\",\"Feb\",\"Mar\",\"Apr\",\"May\",\"Jun\",\"Jul\",\"Aug\",\"Sep\",\"Oct\",\"Nov\",\"Dec\"],\"xaxis\":\"x\",\"y\":[2,5,7,4,1,3,1,1,1,4,2,1],\"yaxis\":\"y\",\"type\":\"bar\"},{\"alignmentgroup\":\"True\",\"hovertemplate\":\"ViolationDescription=TAXI STAND<br>Month=%{x}<br>CountOfViolations=%{y}<extra></extra>\",\"legendgroup\":\"TAXI STAND\",\"marker\":{\"color\":\"#ab63fa\",\"pattern\":{\"shape\":\"\"}},\"name\":\"TAXI STAND\",\"offsetgroup\":\"TAXI STAND\",\"orientation\":\"v\",\"showlegend\":true,\"textposition\":\"auto\",\"x\":[\"Jan\",\"Feb\",\"Mar\",\"Apr\",\"May\",\"Jun\",\"Jul\",\"Aug\",\"Sep\",\"Oct\",\"Nov\",\"Dec\"],\"xaxis\":\"x\",\"y\":[118,122,156,153,159,150,122,138,163,139,152,163],\"yaxis\":\"y\",\"type\":\"bar\"},{\"alignmentgroup\":\"True\",\"hovertemplate\":\"ViolationDescription=UNATTENDED VEH    29<br>Month=%{x}<br>CountOfViolations=%{y}<extra></extra>\",\"legendgroup\":\"UNATTENDED VEH    29\",\"marker\":{\"color\":\"#FFA15A\",\"pattern\":{\"shape\":\"\"}},\"name\":\"UNATTENDED VEH    29\",\"offsetgroup\":\"UNATTENDED VEH    29\",\"orientation\":\"v\",\"showlegend\":true,\"textposition\":\"auto\",\"x\":[\"Jan\",\"Feb\",\"Mar\",\"Apr\",\"May\",\"Jun\",\"Jul\",\"Aug\",\"Sep\",\"Oct\",\"Nov\",\"Dec\"],\"xaxis\":\"x\",\"y\":[52,31,38,33,36,52,55,53,36,50,49,28],\"yaxis\":\"y\",\"type\":\"bar\"},{\"alignmentgroup\":\"True\",\"hovertemplate\":\"ViolationDescription=UNLAWFUL ALARM<br>Month=%{x}<br>CountOfViolations=%{y}<extra></extra>\",\"legendgroup\":\"UNLAWFUL ALARM\",\"marker\":{\"color\":\"#19d3f3\",\"pattern\":{\"shape\":\"\"}},\"name\":\"UNLAWFUL ALARM\",\"offsetgroup\":\"UNLAWFUL ALARM\",\"orientation\":\"v\",\"showlegend\":true,\"textposition\":\"auto\",\"x\":[\"Jan\",\"Feb\",\"Mar\",\"Apr\",\"May\",\"Jun\",\"Aug\",\"Oct\"],\"xaxis\":\"x\",\"y\":[3,1,2,6,5,2,3,1],\"yaxis\":\"y\",\"type\":\"bar\"},{\"alignmentgroup\":\"True\",\"hovertemplate\":\"ViolationDescription=UNMETERED SPACE<br>Month=%{x}<br>CountOfViolations=%{y}<extra></extra>\",\"legendgroup\":\"UNMETERED SPACE\",\"marker\":{\"color\":\"#FF6692\",\"pattern\":{\"shape\":\"\"}},\"name\":\"UNMETERED SPACE\",\"offsetgroup\":\"UNMETERED SPACE\",\"orientation\":\"v\",\"showlegend\":true,\"textposition\":\"auto\",\"x\":[\"Jan\",\"Mar\",\"Apr\",\"Jun\",\"Aug\",\"Nov\"],\"xaxis\":\"x\",\"y\":[1,30,4,1,1,2],\"yaxis\":\"y\",\"type\":\"bar\"},{\"alignmentgroup\":\"True\",\"hovertemplate\":\"ViolationDescription=UNREG/ABANDONED VEH<br>Month=%{x}<br>CountOfViolations=%{y}<extra></extra>\",\"legendgroup\":\"UNREG/ABANDONED VEH\",\"marker\":{\"color\":\"#B6E880\",\"pattern\":{\"shape\":\"\"}},\"name\":\"UNREG/ABANDONED VEH\",\"offsetgroup\":\"UNREG/ABANDONED VEH\",\"orientation\":\"v\",\"showlegend\":true,\"textposition\":\"auto\",\"x\":[\"Jan\",\"Feb\",\"Mar\",\"Apr\",\"May\",\"Jun\",\"Jul\",\"Aug\",\"Sep\",\"Oct\",\"Nov\",\"Dec\"],\"xaxis\":\"x\",\"y\":[731,928,907,900,1014,861,482,977,712,915,575,105],\"yaxis\":\"y\",\"type\":\"bar\"},{\"alignmentgroup\":\"True\",\"hovertemplate\":\"ViolationDescription=VALET VIOLATION<br>Month=%{x}<br>CountOfViolations=%{y}<extra></extra>\",\"legendgroup\":\"VALET VIOLATION\",\"marker\":{\"color\":\"#FF97FF\",\"pattern\":{\"shape\":\"\"}},\"name\":\"VALET VIOLATION\",\"offsetgroup\":\"VALET VIOLATION\",\"orientation\":\"v\",\"showlegend\":true,\"textposition\":\"auto\",\"x\":[\"Jan\",\"Feb\",\"Mar\",\"Apr\",\"May\",\"Jun\",\"Jul\",\"Aug\",\"Sep\",\"Oct\",\"Nov\",\"Dec\"],\"xaxis\":\"x\",\"y\":[6,6,16,11,21,24,45,43,27,6,15,26],\"yaxis\":\"y\",\"type\":\"bar\"},{\"alignmentgroup\":\"True\",\"hovertemplate\":\"ViolationDescription=VALET ZONE VIOLATION<br>Month=%{x}<br>CountOfViolations=%{y}<extra></extra>\",\"legendgroup\":\"VALET ZONE VIOLATION\",\"marker\":{\"color\":\"#FECB52\",\"pattern\":{\"shape\":\"\"}},\"name\":\"VALET ZONE VIOLATION\",\"offsetgroup\":\"VALET ZONE VIOLATION\",\"orientation\":\"v\",\"showlegend\":true,\"textposition\":\"auto\",\"x\":[\"Jan\",\"Feb\",\"Mar\",\"Apr\",\"May\",\"Jun\",\"Jul\",\"Aug\",\"Sep\",\"Oct\",\"Nov\",\"Dec\"],\"xaxis\":\"x\",\"y\":[120,179,157,150,159,147,142,212,173,230,164,158],\"yaxis\":\"y\",\"type\":\"bar\"},{\"alignmentgroup\":\"True\",\"hovertemplate\":\"ViolationDescription=WASH/REPAIR VEH<br>Month=%{x}<br>CountOfViolations=%{y}<extra></extra>\",\"legendgroup\":\"WASH/REPAIR VEH\",\"marker\":{\"color\":\"#636efa\",\"pattern\":{\"shape\":\"\"}},\"name\":\"WASH/REPAIR VEH\",\"offsetgroup\":\"WASH/REPAIR VEH\",\"orientation\":\"v\",\"showlegend\":true,\"textposition\":\"auto\",\"x\":[\"Jan\",\"Feb\",\"Mar\",\"Apr\",\"May\",\"Jun\",\"Jul\",\"Aug\",\"Sep\",\"Oct\",\"Nov\",\"Dec\"],\"xaxis\":\"x\",\"y\":[4,9,18,16,14,12,5,10,7,9,3,2],\"yaxis\":\"y\",\"type\":\"bar\"},{\"alignmentgroup\":\"True\",\"hovertemplate\":\"ViolationDescription=BUS-IMP PSNG DISCHRG<br>Month=%{x}<br>CountOfViolations=%{y}<extra></extra>\",\"legendgroup\":\"BUS-IMP PSNG DISCHRG\",\"marker\":{\"color\":\"#EF553B\",\"pattern\":{\"shape\":\"\"}},\"name\":\"BUS-IMP PSNG DISCHRG\",\"offsetgroup\":\"BUS-IMP PSNG DISCHRG\",\"orientation\":\"v\",\"showlegend\":true,\"textposition\":\"auto\",\"x\":[\"Feb\",\"Mar\",\"Apr\",\"May\",\"Jun\",\"Jul\",\"Oct\",\"Nov\",\"Dec\"],\"xaxis\":\"x\",\"y\":[7,1,1,4,1,4,1,10,6],\"yaxis\":\"y\",\"type\":\"bar\"},{\"alignmentgroup\":\"True\",\"hovertemplate\":\"ViolationDescription=DAMAGE TO METER<br>Month=%{x}<br>CountOfViolations=%{y}<extra></extra>\",\"legendgroup\":\"DAMAGE TO METER\",\"marker\":{\"color\":\"#00cc96\",\"pattern\":{\"shape\":\"\"}},\"name\":\"DAMAGE TO METER\",\"offsetgroup\":\"DAMAGE TO METER\",\"orientation\":\"v\",\"showlegend\":true,\"textposition\":\"auto\",\"x\":[\"Feb\",\"Mar\",\"Apr\",\"May\",\"Jun\",\"Aug\",\"Sep\",\"Oct\"],\"xaxis\":\"x\",\"y\":[1,3,1,4,1,4,5,2],\"yaxis\":\"y\",\"type\":\"bar\"},{\"alignmentgroup\":\"True\",\"hovertemplate\":\"ViolationDescription=DISOBEY SN-STANDG<br>Month=%{x}<br>CountOfViolations=%{y}<extra></extra>\",\"legendgroup\":\"DISOBEY SN-STANDG\",\"marker\":{\"color\":\"#ab63fa\",\"pattern\":{\"shape\":\"\"}},\"name\":\"DISOBEY SN-STANDG\",\"offsetgroup\":\"DISOBEY SN-STANDG\",\"orientation\":\"v\",\"showlegend\":true,\"textposition\":\"auto\",\"x\":[\"Feb\"],\"xaxis\":\"x\",\"y\":[1],\"yaxis\":\"y\",\"type\":\"bar\"},{\"alignmentgroup\":\"True\",\"hovertemplate\":\"ViolationDescription=FRAUD PARK HP SPACE<br>Month=%{x}<br>CountOfViolations=%{y}<extra></extra>\",\"legendgroup\":\"FRAUD PARK HP SPACE\",\"marker\":{\"color\":\"#FFA15A\",\"pattern\":{\"shape\":\"\"}},\"name\":\"FRAUD PARK HP SPACE\",\"offsetgroup\":\"FRAUD PARK HP SPACE\",\"orientation\":\"v\",\"showlegend\":true,\"textposition\":\"auto\",\"x\":[\"Feb\",\"Mar\",\"Apr\",\"Jul\",\"Aug\"],\"xaxis\":\"x\",\"y\":[1,3,1,1,3],\"yaxis\":\"y\",\"type\":\"bar\"},{\"alignmentgroup\":\"True\",\"hovertemplate\":\"ViolationDescription=OBSTRUCT TROLLEY 52<br>Month=%{x}<br>CountOfViolations=%{y}<extra></extra>\",\"legendgroup\":\"OBSTRUCT TROLLEY 52\",\"marker\":{\"color\":\"#19d3f3\",\"pattern\":{\"shape\":\"\"}},\"name\":\"OBSTRUCT TROLLEY 52\",\"offsetgroup\":\"OBSTRUCT TROLLEY 52\",\"orientation\":\"v\",\"showlegend\":true,\"textposition\":\"auto\",\"x\":[\"Feb\",\"Mar\",\"Jun\"],\"xaxis\":\"x\",\"y\":[1,3,1],\"yaxis\":\"y\",\"type\":\"bar\"},{\"alignmentgroup\":\"True\",\"hovertemplate\":\"ViolationDescription=PARK MOBILE HOME 28<br>Month=%{x}<br>CountOfViolations=%{y}<extra></extra>\",\"legendgroup\":\"PARK MOBILE HOME 28\",\"marker\":{\"color\":\"#FF6692\",\"pattern\":{\"shape\":\"\"}},\"name\":\"PARK MOBILE HOME 28\",\"offsetgroup\":\"PARK MOBILE HOME 28\",\"orientation\":\"v\",\"showlegend\":true,\"textposition\":\"auto\",\"x\":[\"Feb\",\"Apr\",\"May\",\"Jul\",\"Aug\",\"Sep\",\"Oct\",\"Nov\"],\"xaxis\":\"x\",\"y\":[2,2,2,2,1,5,2,1],\"yaxis\":\"y\",\"type\":\"bar\"},{\"alignmentgroup\":\"True\",\"hovertemplate\":\"ViolationDescription=PK NEAR FIRE STAT 51<br>Month=%{x}<br>CountOfViolations=%{y}<extra></extra>\",\"legendgroup\":\"PK NEAR FIRE STAT 51\",\"marker\":{\"color\":\"#B6E880\",\"pattern\":{\"shape\":\"\"}},\"name\":\"PK NEAR FIRE STAT 51\",\"offsetgroup\":\"PK NEAR FIRE STAT 51\",\"orientation\":\"v\",\"showlegend\":true,\"textposition\":\"auto\",\"x\":[\"Feb\",\"Mar\",\"Apr\",\"May\",\"Aug\",\"Sep\",\"Nov\",\"Dec\"],\"xaxis\":\"x\",\"y\":[1,2,1,2,1,1,2,1],\"yaxis\":\"y\",\"type\":\"bar\"},{\"alignmentgroup\":\"True\",\"hovertemplate\":\"ViolationDescription=PK NEAR TRAFF SIGNAL<br>Month=%{x}<br>CountOfViolations=%{y}<extra></extra>\",\"legendgroup\":\"PK NEAR TRAFF SIGNAL\",\"marker\":{\"color\":\"#FF97FF\",\"pattern\":{\"shape\":\"\"}},\"name\":\"PK NEAR TRAFF SIGNAL\",\"offsetgroup\":\"PK NEAR TRAFF SIGNAL\",\"orientation\":\"v\",\"showlegend\":true,\"textposition\":\"auto\",\"x\":[\"Feb\",\"Mar\",\"Apr\",\"May\",\"Jun\",\"Jul\",\"Aug\",\"Sep\",\"Oct\",\"Nov\",\"Dec\"],\"xaxis\":\"x\",\"y\":[2,2,3,2,2,2,1,4,3,10,1],\"yaxis\":\"y\",\"type\":\"bar\"},{\"alignmentgroup\":\"True\",\"hovertemplate\":\"ViolationDescription=SNOW EMERGENCY ROUTE<br>Month=%{x}<br>CountOfViolations=%{y}<extra></extra>\",\"legendgroup\":\"SNOW EMERGENCY ROUTE\",\"marker\":{\"color\":\"#FECB52\",\"pattern\":{\"shape\":\"\"}},\"name\":\"SNOW EMERGENCY ROUTE\",\"offsetgroup\":\"SNOW EMERGENCY ROUTE\",\"orientation\":\"v\",\"showlegend\":true,\"textposition\":\"auto\",\"x\":[\"Feb\",\"Mar\"],\"xaxis\":\"x\",\"y\":[1560,985],\"yaxis\":\"y\",\"type\":\"bar\"},{\"alignmentgroup\":\"True\",\"hovertemplate\":\"ViolationDescription=SNOW RELOCATION TOW<br>Month=%{x}<br>CountOfViolations=%{y}<extra></extra>\",\"legendgroup\":\"SNOW RELOCATION TOW\",\"marker\":{\"color\":\"#636efa\",\"pattern\":{\"shape\":\"\"}},\"name\":\"SNOW RELOCATION TOW\",\"offsetgroup\":\"SNOW RELOCATION TOW\",\"orientation\":\"v\",\"showlegend\":true,\"textposition\":\"auto\",\"x\":[\"Feb\",\"Mar\",\"Apr\"],\"xaxis\":\"x\",\"y\":[260,414,1],\"yaxis\":\"y\",\"type\":\"bar\"},{\"alignmentgroup\":\"True\",\"hovertemplate\":\"ViolationDescription=STOPPED SAFE ZONE<br>Month=%{x}<br>CountOfViolations=%{y}<extra></extra>\",\"legendgroup\":\"STOPPED SAFE ZONE\",\"marker\":{\"color\":\"#EF553B\",\"pattern\":{\"shape\":\"\"}},\"name\":\"STOPPED SAFE ZONE\",\"offsetgroup\":\"STOPPED SAFE ZONE\",\"orientation\":\"v\",\"showlegend\":true,\"textposition\":\"auto\",\"x\":[\"Feb\",\"Oct\"],\"xaxis\":\"x\",\"y\":[1,1],\"yaxis\":\"y\",\"type\":\"bar\"},{\"alignmentgroup\":\"True\",\"hovertemplate\":\"ViolationDescription=ILLEGAL PLACD TKT 73<br>Month=%{x}<br>CountOfViolations=%{y}<extra></extra>\",\"legendgroup\":\"ILLEGAL PLACD TKT 73\",\"marker\":{\"color\":\"#00cc96\",\"pattern\":{\"shape\":\"\"}},\"name\":\"ILLEGAL PLACD TKT 73\",\"offsetgroup\":\"ILLEGAL PLACD TKT 73\",\"orientation\":\"v\",\"showlegend\":true,\"textposition\":\"auto\",\"x\":[\"Mar\",\"Jun\"],\"xaxis\":\"x\",\"y\":[1,1],\"yaxis\":\"y\",\"type\":\"bar\"},{\"alignmentgroup\":\"True\",\"hovertemplate\":\"ViolationDescription=OWNER ID ON COM VEH<br>Month=%{x}<br>CountOfViolations=%{y}<extra></extra>\",\"legendgroup\":\"OWNER ID ON COM VEH\",\"marker\":{\"color\":\"#ab63fa\",\"pattern\":{\"shape\":\"\"}},\"name\":\"OWNER ID ON COM VEH\",\"offsetgroup\":\"OWNER ID ON COM VEH\",\"orientation\":\"v\",\"showlegend\":true,\"textposition\":\"auto\",\"x\":[\"Mar\",\"Apr\",\"Jul\",\"Aug\",\"Sep\",\"Oct\",\"Dec\"],\"xaxis\":\"x\",\"y\":[3,3,5,1,1,1,1],\"yaxis\":\"y\",\"type\":\"bar\"},{\"alignmentgroup\":\"True\",\"hovertemplate\":\"ViolationDescription=PARK PROHIBITED 04<br>Month=%{x}<br>CountOfViolations=%{y}<extra></extra>\",\"legendgroup\":\"PARK PROHIBITED 04\",\"marker\":{\"color\":\"#FFA15A\",\"pattern\":{\"shape\":\"\"}},\"name\":\"PARK PROHIBITED 04\",\"offsetgroup\":\"PARK PROHIBITED 04\",\"orientation\":\"v\",\"showlegend\":true,\"textposition\":\"auto\",\"x\":[\"Mar\",\"Apr\",\"Jun\",\"Sep\",\"Oct\",\"Nov\"],\"xaxis\":\"x\",\"y\":[4,1,1,1,1,3],\"yaxis\":\"y\",\"type\":\"bar\"},{\"alignmentgroup\":\"True\",\"hovertemplate\":\"ViolationDescription=PARK-TROLLEY STOP 23<br>Month=%{x}<br>CountOfViolations=%{y}<extra></extra>\",\"legendgroup\":\"PARK-TROLLEY STOP 23\",\"marker\":{\"color\":\"#19d3f3\",\"pattern\":{\"shape\":\"\"}},\"name\":\"PARK-TROLLEY STOP 23\",\"offsetgroup\":\"PARK-TROLLEY STOP 23\",\"orientation\":\"v\",\"showlegend\":true,\"textposition\":\"auto\",\"x\":[\"Mar\",\"Jul\"],\"xaxis\":\"x\",\"y\":[2,1],\"yaxis\":\"y\",\"type\":\"bar\"},{\"alignmentgroup\":\"True\",\"hovertemplate\":\"ViolationDescription=ATV ON PUBLIC PROPTY<br>Month=%{x}<br>CountOfViolations=%{y}<extra></extra>\",\"legendgroup\":\"ATV ON PUBLIC PROPTY\",\"marker\":{\"color\":\"#FF6692\",\"pattern\":{\"shape\":\"\"}},\"name\":\"ATV ON PUBLIC PROPTY\",\"offsetgroup\":\"ATV ON PUBLIC PROPTY\",\"orientation\":\"v\",\"showlegend\":true,\"textposition\":\"auto\",\"x\":[\"Apr\"],\"xaxis\":\"x\",\"y\":[1],\"yaxis\":\"y\",\"type\":\"bar\"},{\"alignmentgroup\":\"True\",\"hovertemplate\":\"ViolationDescription=HIWAY CONSTRCTION 43<br>Month=%{x}<br>CountOfViolations=%{y}<extra></extra>\",\"legendgroup\":\"HIWAY CONSTRCTION 43\",\"marker\":{\"color\":\"#B6E880\",\"pattern\":{\"shape\":\"\"}},\"name\":\"HIWAY CONSTRCTION 43\",\"offsetgroup\":\"HIWAY CONSTRCTION 43\",\"orientation\":\"v\",\"showlegend\":true,\"textposition\":\"auto\",\"x\":[\"Apr\",\"Jun\",\"Jul\",\"Sep\"],\"xaxis\":\"x\",\"y\":[1,3,1,2],\"yaxis\":\"y\",\"type\":\"bar\"},{\"alignmentgroup\":\"True\",\"hovertemplate\":\"ViolationDescription=INTERSECTION<br>Month=%{x}<br>CountOfViolations=%{y}<extra></extra>\",\"legendgroup\":\"INTERSECTION\",\"marker\":{\"color\":\"#FF97FF\",\"pattern\":{\"shape\":\"\"}},\"name\":\"INTERSECTION\",\"offsetgroup\":\"INTERSECTION\",\"orientation\":\"v\",\"showlegend\":true,\"textposition\":\"auto\",\"x\":[\"Apr\",\"Sep\",\"Oct\",\"Nov\",\"Dec\"],\"xaxis\":\"x\",\"y\":[1,6,4,2,1],\"yaxis\":\"y\",\"type\":\"bar\"},{\"alignmentgroup\":\"True\",\"hovertemplate\":\"ViolationDescription=INVALID RPP PERMIT<br>Month=%{x}<br>CountOfViolations=%{y}<extra></extra>\",\"legendgroup\":\"INVALID RPP PERMIT\",\"marker\":{\"color\":\"#FECB52\",\"pattern\":{\"shape\":\"\"}},\"name\":\"INVALID RPP PERMIT\",\"offsetgroup\":\"INVALID RPP PERMIT\",\"orientation\":\"v\",\"showlegend\":true,\"textposition\":\"auto\",\"x\":[\"Apr\",\"May\",\"Jun\"],\"xaxis\":\"x\",\"y\":[1,1,2],\"yaxis\":\"y\",\"type\":\"bar\"},{\"alignmentgroup\":\"True\",\"hovertemplate\":\"ViolationDescription=BUS-IMPROPER LOADING<br>Month=%{x}<br>CountOfViolations=%{y}<extra></extra>\",\"legendgroup\":\"BUS-IMPROPER LOADING\",\"marker\":{\"color\":\"#636efa\",\"pattern\":{\"shape\":\"\"}},\"name\":\"BUS-IMPROPER LOADING\",\"offsetgroup\":\"BUS-IMPROPER LOADING\",\"orientation\":\"v\",\"showlegend\":true,\"textposition\":\"auto\",\"x\":[\"May\",\"Jul\",\"Aug\",\"Oct\"],\"xaxis\":\"x\",\"y\":[2,1,1,2],\"yaxis\":\"y\",\"type\":\"bar\"},{\"alignmentgroup\":\"True\",\"hovertemplate\":\"ViolationDescription=IMPROPER MOTORCYCLE<br>Month=%{x}<br>CountOfViolations=%{y}<extra></extra>\",\"legendgroup\":\"IMPROPER MOTORCYCLE\",\"marker\":{\"color\":\"#EF553B\",\"pattern\":{\"shape\":\"\"}},\"name\":\"IMPROPER MOTORCYCLE\",\"offsetgroup\":\"IMPROPER MOTORCYCLE\",\"orientation\":\"v\",\"showlegend\":true,\"textposition\":\"auto\",\"x\":[\"Jul\",\"Sep\",\"Nov\",\"Dec\"],\"xaxis\":\"x\",\"y\":[1,1,2,1],\"yaxis\":\"y\",\"type\":\"bar\"},{\"alignmentgroup\":\"True\",\"hovertemplate\":\"ViolationDescription=ONTRACTOR PLAC VIOL<br>Month=%{x}<br>CountOfViolations=%{y}<extra></extra>\",\"legendgroup\":\"ONTRACTOR PLAC VIOL\",\"marker\":{\"color\":\"#00cc96\",\"pattern\":{\"shape\":\"\"}},\"name\":\"ONTRACTOR PLAC VIOL\",\"offsetgroup\":\"ONTRACTOR PLAC VIOL\",\"orientation\":\"v\",\"showlegend\":true,\"textposition\":\"auto\",\"x\":[\"Jul\"],\"xaxis\":\"x\",\"y\":[1],\"yaxis\":\"y\",\"type\":\"bar\"},{\"alignmentgroup\":\"True\",\"hovertemplate\":\"ViolationDescription=PRK MTR IMPROPER 11<br>Month=%{x}<br>CountOfViolations=%{y}<extra></extra>\",\"legendgroup\":\"PRK MTR IMPROPER 11\",\"marker\":{\"color\":\"#ab63fa\",\"pattern\":{\"shape\":\"\"}},\"name\":\"PRK MTR IMPROPER 11\",\"offsetgroup\":\"PRK MTR IMPROPER 11\",\"orientation\":\"v\",\"showlegend\":true,\"textposition\":\"auto\",\"x\":[\"Sep\"],\"xaxis\":\"x\",\"y\":[1],\"yaxis\":\"y\",\"type\":\"bar\"},{\"alignmentgroup\":\"True\",\"hovertemplate\":\"ViolationDescription=STOP/BLOCK HWY  33<br>Month=%{x}<br>CountOfViolations=%{y}<extra></extra>\",\"legendgroup\":\"STOP/BLOCK HWY  33\",\"marker\":{\"color\":\"#FFA15A\",\"pattern\":{\"shape\":\"\"}},\"name\":\"STOP/BLOCK HWY  33\",\"offsetgroup\":\"STOP/BLOCK HWY  33\",\"orientation\":\"v\",\"showlegend\":true,\"textposition\":\"auto\",\"x\":[\"Sep\"],\"xaxis\":\"x\",\"y\":[2],\"yaxis\":\"y\",\"type\":\"bar\"},{\"alignmentgroup\":\"True\",\"hovertemplate\":\"ViolationDescription=+4HR IN LOADING ZONE<br>Month=%{x}<br>CountOfViolations=%{y}<extra></extra>\",\"legendgroup\":\"+4HR IN LOADING ZONE\",\"marker\":{\"color\":\"#19d3f3\",\"pattern\":{\"shape\":\"\"}},\"name\":\"+4HR IN LOADING ZONE\",\"offsetgroup\":\"+4HR IN LOADING ZONE\",\"orientation\":\"v\",\"showlegend\":true,\"textposition\":\"auto\",\"x\":[\"Dec\"],\"xaxis\":\"x\",\"y\":[1],\"yaxis\":\"y\",\"type\":\"bar\"},{\"alignmentgroup\":\"True\",\"hovertemplate\":\"ViolationDescription=PK OVER TIME LIM 17<br>Month=%{x}<br>CountOfViolations=%{y}<extra></extra>\",\"legendgroup\":\"PK OVER TIME LIM 17\",\"marker\":{\"color\":\"#FF6692\",\"pattern\":{\"shape\":\"\"}},\"name\":\"PK OVER TIME LIM 17\",\"offsetgroup\":\"PK OVER TIME LIM 17\",\"orientation\":\"v\",\"showlegend\":true,\"textposition\":\"auto\",\"x\":[\"Dec\"],\"xaxis\":\"x\",\"y\":[3],\"yaxis\":\"y\",\"type\":\"bar\"}],                        {\"template\":{\"data\":{\"histogram2dcontour\":[{\"type\":\"histogram2dcontour\",\"colorbar\":{\"outlinewidth\":0,\"ticks\":\"\"},\"colorscale\":[[0.0,\"#0d0887\"],[0.1111111111111111,\"#46039f\"],[0.2222222222222222,\"#7201a8\"],[0.3333333333333333,\"#9c179e\"],[0.4444444444444444,\"#bd3786\"],[0.5555555555555556,\"#d8576b\"],[0.6666666666666666,\"#ed7953\"],[0.7777777777777778,\"#fb9f3a\"],[0.8888888888888888,\"#fdca26\"],[1.0,\"#f0f921\"]]}],\"choropleth\":[{\"type\":\"choropleth\",\"colorbar\":{\"outlinewidth\":0,\"ticks\":\"\"}}],\"histogram2d\":[{\"type\":\"histogram2d\",\"colorbar\":{\"outlinewidth\":0,\"ticks\":\"\"},\"colorscale\":[[0.0,\"#0d0887\"],[0.1111111111111111,\"#46039f\"],[0.2222222222222222,\"#7201a8\"],[0.3333333333333333,\"#9c179e\"],[0.4444444444444444,\"#bd3786\"],[0.5555555555555556,\"#d8576b\"],[0.6666666666666666,\"#ed7953\"],[0.7777777777777778,\"#fb9f3a\"],[0.8888888888888888,\"#fdca26\"],[1.0,\"#f0f921\"]]}],\"heatmap\":[{\"type\":\"heatmap\",\"colorbar\":{\"outlinewidth\":0,\"ticks\":\"\"},\"colorscale\":[[0.0,\"#0d0887\"],[0.1111111111111111,\"#46039f\"],[0.2222222222222222,\"#7201a8\"],[0.3333333333333333,\"#9c179e\"],[0.4444444444444444,\"#bd3786\"],[0.5555555555555556,\"#d8576b\"],[0.6666666666666666,\"#ed7953\"],[0.7777777777777778,\"#fb9f3a\"],[0.8888888888888888,\"#fdca26\"],[1.0,\"#f0f921\"]]}],\"heatmapgl\":[{\"type\":\"heatmapgl\",\"colorbar\":{\"outlinewidth\":0,\"ticks\":\"\"},\"colorscale\":[[0.0,\"#0d0887\"],[0.1111111111111111,\"#46039f\"],[0.2222222222222222,\"#7201a8\"],[0.3333333333333333,\"#9c179e\"],[0.4444444444444444,\"#bd3786\"],[0.5555555555555556,\"#d8576b\"],[0.6666666666666666,\"#ed7953\"],[0.7777777777777778,\"#fb9f3a\"],[0.8888888888888888,\"#fdca26\"],[1.0,\"#f0f921\"]]}],\"contourcarpet\":[{\"type\":\"contourcarpet\",\"colorbar\":{\"outlinewidth\":0,\"ticks\":\"\"}}],\"contour\":[{\"type\":\"contour\",\"colorbar\":{\"outlinewidth\":0,\"ticks\":\"\"},\"colorscale\":[[0.0,\"#0d0887\"],[0.1111111111111111,\"#46039f\"],[0.2222222222222222,\"#7201a8\"],[0.3333333333333333,\"#9c179e\"],[0.4444444444444444,\"#bd3786\"],[0.5555555555555556,\"#d8576b\"],[0.6666666666666666,\"#ed7953\"],[0.7777777777777778,\"#fb9f3a\"],[0.8888888888888888,\"#fdca26\"],[1.0,\"#f0f921\"]]}],\"surface\":[{\"type\":\"surface\",\"colorbar\":{\"outlinewidth\":0,\"ticks\":\"\"},\"colorscale\":[[0.0,\"#0d0887\"],[0.1111111111111111,\"#46039f\"],[0.2222222222222222,\"#7201a8\"],[0.3333333333333333,\"#9c179e\"],[0.4444444444444444,\"#bd3786\"],[0.5555555555555556,\"#d8576b\"],[0.6666666666666666,\"#ed7953\"],[0.7777777777777778,\"#fb9f3a\"],[0.8888888888888888,\"#fdca26\"],[1.0,\"#f0f921\"]]}],\"mesh3d\":[{\"type\":\"mesh3d\",\"colorbar\":{\"outlinewidth\":0,\"ticks\":\"\"}}],\"scatter\":[{\"fillpattern\":{\"fillmode\":\"overlay\",\"size\":10,\"solidity\":0.2},\"type\":\"scatter\"}],\"parcoords\":[{\"type\":\"parcoords\",\"line\":{\"colorbar\":{\"outlinewidth\":0,\"ticks\":\"\"}}}],\"scatterpolargl\":[{\"type\":\"scatterpolargl\",\"marker\":{\"colorbar\":{\"outlinewidth\":0,\"ticks\":\"\"}}}],\"bar\":[{\"error_x\":{\"color\":\"#2a3f5f\"},\"error_y\":{\"color\":\"#2a3f5f\"},\"marker\":{\"line\":{\"color\":\"#E5ECF6\",\"width\":0.5},\"pattern\":{\"fillmode\":\"overlay\",\"size\":10,\"solidity\":0.2}},\"type\":\"bar\"}],\"scattergeo\":[{\"type\":\"scattergeo\",\"marker\":{\"colorbar\":{\"outlinewidth\":0,\"ticks\":\"\"}}}],\"scatterpolar\":[{\"type\":\"scatterpolar\",\"marker\":{\"colorbar\":{\"outlinewidth\":0,\"ticks\":\"\"}}}],\"histogram\":[{\"marker\":{\"pattern\":{\"fillmode\":\"overlay\",\"size\":10,\"solidity\":0.2}},\"type\":\"histogram\"}],\"scattergl\":[{\"type\":\"scattergl\",\"marker\":{\"colorbar\":{\"outlinewidth\":0,\"ticks\":\"\"}}}],\"scatter3d\":[{\"type\":\"scatter3d\",\"line\":{\"colorbar\":{\"outlinewidth\":0,\"ticks\":\"\"}},\"marker\":{\"colorbar\":{\"outlinewidth\":0,\"ticks\":\"\"}}}],\"scattermapbox\":[{\"type\":\"scattermapbox\",\"marker\":{\"colorbar\":{\"outlinewidth\":0,\"ticks\":\"\"}}}],\"scatterternary\":[{\"type\":\"scatterternary\",\"marker\":{\"colorbar\":{\"outlinewidth\":0,\"ticks\":\"\"}}}],\"scattercarpet\":[{\"type\":\"scattercarpet\",\"marker\":{\"colorbar\":{\"outlinewidth\":0,\"ticks\":\"\"}}}],\"carpet\":[{\"aaxis\":{\"endlinecolor\":\"#2a3f5f\",\"gridcolor\":\"white\",\"linecolor\":\"white\",\"minorgridcolor\":\"white\",\"startlinecolor\":\"#2a3f5f\"},\"baxis\":{\"endlinecolor\":\"#2a3f5f\",\"gridcolor\":\"white\",\"linecolor\":\"white\",\"minorgridcolor\":\"white\",\"startlinecolor\":\"#2a3f5f\"},\"type\":\"carpet\"}],\"table\":[{\"cells\":{\"fill\":{\"color\":\"#EBF0F8\"},\"line\":{\"color\":\"white\"}},\"header\":{\"fill\":{\"color\":\"#C8D4E3\"},\"line\":{\"color\":\"white\"}},\"type\":\"table\"}],\"barpolar\":[{\"marker\":{\"line\":{\"color\":\"#E5ECF6\",\"width\":0.5},\"pattern\":{\"fillmode\":\"overlay\",\"size\":10,\"solidity\":0.2}},\"type\":\"barpolar\"}],\"pie\":[{\"automargin\":true,\"type\":\"pie\"}]},\"layout\":{\"autotypenumbers\":\"strict\",\"colorway\":[\"#636efa\",\"#EF553B\",\"#00cc96\",\"#ab63fa\",\"#FFA15A\",\"#19d3f3\",\"#FF6692\",\"#B6E880\",\"#FF97FF\",\"#FECB52\"],\"font\":{\"color\":\"#2a3f5f\"},\"hovermode\":\"closest\",\"hoverlabel\":{\"align\":\"left\"},\"paper_bgcolor\":\"white\",\"plot_bgcolor\":\"#E5ECF6\",\"polar\":{\"bgcolor\":\"#E5ECF6\",\"angularaxis\":{\"gridcolor\":\"white\",\"linecolor\":\"white\",\"ticks\":\"\"},\"radialaxis\":{\"gridcolor\":\"white\",\"linecolor\":\"white\",\"ticks\":\"\"}},\"ternary\":{\"bgcolor\":\"#E5ECF6\",\"aaxis\":{\"gridcolor\":\"white\",\"linecolor\":\"white\",\"ticks\":\"\"},\"baxis\":{\"gridcolor\":\"white\",\"linecolor\":\"white\",\"ticks\":\"\"},\"caxis\":{\"gridcolor\":\"white\",\"linecolor\":\"white\",\"ticks\":\"\"}},\"coloraxis\":{\"colorbar\":{\"outlinewidth\":0,\"ticks\":\"\"}},\"colorscale\":{\"sequential\":[[0.0,\"#0d0887\"],[0.1111111111111111,\"#46039f\"],[0.2222222222222222,\"#7201a8\"],[0.3333333333333333,\"#9c179e\"],[0.4444444444444444,\"#bd3786\"],[0.5555555555555556,\"#d8576b\"],[0.6666666666666666,\"#ed7953\"],[0.7777777777777778,\"#fb9f3a\"],[0.8888888888888888,\"#fdca26\"],[1.0,\"#f0f921\"]],\"sequentialminus\":[[0.0,\"#0d0887\"],[0.1111111111111111,\"#46039f\"],[0.2222222222222222,\"#7201a8\"],[0.3333333333333333,\"#9c179e\"],[0.4444444444444444,\"#bd3786\"],[0.5555555555555556,\"#d8576b\"],[0.6666666666666666,\"#ed7953\"],[0.7777777777777778,\"#fb9f3a\"],[0.8888888888888888,\"#fdca26\"],[1.0,\"#f0f921\"]],\"diverging\":[[0,\"#8e0152\"],[0.1,\"#c51b7d\"],[0.2,\"#de77ae\"],[0.3,\"#f1b6da\"],[0.4,\"#fde0ef\"],[0.5,\"#f7f7f7\"],[0.6,\"#e6f5d0\"],[0.7,\"#b8e186\"],[0.8,\"#7fbc41\"],[0.9,\"#4d9221\"],[1,\"#276419\"]]},\"xaxis\":{\"gridcolor\":\"white\",\"linecolor\":\"white\",\"ticks\":\"\",\"title\":{\"standoff\":15},\"zerolinecolor\":\"white\",\"automargin\":true,\"zerolinewidth\":2},\"yaxis\":{\"gridcolor\":\"white\",\"linecolor\":\"white\",\"ticks\":\"\",\"title\":{\"standoff\":15},\"zerolinecolor\":\"white\",\"automargin\":true,\"zerolinewidth\":2},\"scene\":{\"xaxis\":{\"backgroundcolor\":\"#E5ECF6\",\"gridcolor\":\"white\",\"linecolor\":\"white\",\"showbackground\":true,\"ticks\":\"\",\"zerolinecolor\":\"white\",\"gridwidth\":2},\"yaxis\":{\"backgroundcolor\":\"#E5ECF6\",\"gridcolor\":\"white\",\"linecolor\":\"white\",\"showbackground\":true,\"ticks\":\"\",\"zerolinecolor\":\"white\",\"gridwidth\":2},\"zaxis\":{\"backgroundcolor\":\"#E5ECF6\",\"gridcolor\":\"white\",\"linecolor\":\"white\",\"showbackground\":true,\"ticks\":\"\",\"zerolinecolor\":\"white\",\"gridwidth\":2}},\"shapedefaults\":{\"line\":{\"color\":\"#2a3f5f\"}},\"annotationdefaults\":{\"arrowcolor\":\"#2a3f5f\",\"arrowhead\":0,\"arrowwidth\":1},\"geo\":{\"bgcolor\":\"white\",\"landcolor\":\"#E5ECF6\",\"subunitcolor\":\"white\",\"showland\":true,\"showlakes\":true,\"lakecolor\":\"white\"},\"title\":{\"x\":0.05},\"mapbox\":{\"style\":\"light\"}}},\"xaxis\":{\"anchor\":\"y\",\"domain\":[0.0,1.0],\"title\":{\"text\":\"Month\"}},\"yaxis\":{\"anchor\":\"x\",\"domain\":[0.0,1.0],\"title\":{\"text\":\"CountOfViolations\"}},\"legend\":{\"title\":{\"text\":\"ViolationDescription\"},\"tracegroupgap\":0},\"title\":{\"text\":\"Violations by Month\"},\"barmode\":\"relative\"},                        {\"responsive\": true}                    ).then(function(){\n",
       "                            \n",
       "var gd = document.getElementById('90af4b25-9c44-45e1-9820-abc66bd75e03');\n",
       "var x = new MutationObserver(function (mutations, observer) {{\n",
       "        var display = window.getComputedStyle(gd).display;\n",
       "        if (!display || display === 'none') {{\n",
       "            console.log([gd, 'removed!']);\n",
       "            Plotly.purge(gd);\n",
       "            observer.disconnect();\n",
       "        }}\n",
       "}});\n",
       "\n",
       "// Listen for the removal of the full notebook cells\n",
       "var notebookContainer = gd.closest('#notebook-container');\n",
       "if (notebookContainer) {{\n",
       "    x.observe(notebookContainer, {childList: true});\n",
       "}}\n",
       "\n",
       "// Listen for the clearing of the current output cell\n",
       "var outputEl = gd.closest('.output');\n",
       "if (outputEl) {{\n",
       "    x.observe(outputEl, {childList: true});\n",
       "}}\n",
       "\n",
       "                        })                };                });            </script>        </div>"
      ]
     },
     "metadata": {},
     "output_type": "display_data"
    }
   ],
   "source": [
    "fig = px.bar(run_query(FinesByMonth), x=\"Month\", y=\"CountOfViolations\", color=\"ViolationDescription\", title=\"Violations by Month\")\n",
    "fig.show()"
   ]
  },
  {
   "cell_type": "markdown",
   "metadata": {},
   "source": [
    "### Do certain zipcodes get more fines than other zip codes? <a class=\"anchor\" id=\"zipcode-fine-comparison\"></a> "
   ]
  },
  {
   "cell_type": "code",
   "execution_count": 42,
   "metadata": {
    "scrolled": true
   },
   "outputs": [
    {
     "data": {
      "text/html": [
       "<div>\n",
       "<style scoped>\n",
       "    .dataframe tbody tr th:only-of-type {\n",
       "        vertical-align: middle;\n",
       "    }\n",
       "\n",
       "    .dataframe tbody tr th {\n",
       "        vertical-align: top;\n",
       "    }\n",
       "\n",
       "    .dataframe thead th {\n",
       "        text-align: right;\n",
       "    }\n",
       "</style>\n",
       "<table border=\"1\" class=\"dataframe\">\n",
       "  <thead>\n",
       "    <tr style=\"text-align: right;\">\n",
       "      <th></th>\n",
       "      <th>zip_code</th>\n",
       "      <th>fines_given</th>\n",
       "      <th>sum_fines</th>\n",
       "    </tr>\n",
       "  </thead>\n",
       "  <tbody>\n",
       "    <tr>\n",
       "      <th>0</th>\n",
       "      <td>19103</td>\n",
       "      <td>178096</td>\n",
       "      <td>9719831</td>\n",
       "    </tr>\n",
       "    <tr>\n",
       "      <th>1</th>\n",
       "      <td>19107</td>\n",
       "      <td>162393</td>\n",
       "      <td>9086563</td>\n",
       "    </tr>\n",
       "    <tr>\n",
       "      <th>2</th>\n",
       "      <td>19147</td>\n",
       "      <td>150897</td>\n",
       "      <td>6437837</td>\n",
       "    </tr>\n",
       "    <tr>\n",
       "      <th>3</th>\n",
       "      <td>19104</td>\n",
       "      <td>139237</td>\n",
       "      <td>6323122</td>\n",
       "    </tr>\n",
       "    <tr>\n",
       "      <th>4</th>\n",
       "      <td>19106</td>\n",
       "      <td>108665</td>\n",
       "      <td>5777605</td>\n",
       "    </tr>\n",
       "    <tr>\n",
       "      <th>5</th>\n",
       "      <td>19146</td>\n",
       "      <td>71698</td>\n",
       "      <td>2869658</td>\n",
       "    </tr>\n",
       "    <tr>\n",
       "      <th>6</th>\n",
       "      <td>19130</td>\n",
       "      <td>67078</td>\n",
       "      <td>2793793</td>\n",
       "    </tr>\n",
       "    <tr>\n",
       "      <th>7</th>\n",
       "      <td>19102</td>\n",
       "      <td>51456</td>\n",
       "      <td>3026116</td>\n",
       "    </tr>\n",
       "    <tr>\n",
       "      <th>8</th>\n",
       "      <td>19148</td>\n",
       "      <td>49532</td>\n",
       "      <td>1915687</td>\n",
       "    </tr>\n",
       "    <tr>\n",
       "      <th>9</th>\n",
       "      <td>19123</td>\n",
       "      <td>47373</td>\n",
       "      <td>1997463</td>\n",
       "    </tr>\n",
       "    <tr>\n",
       "      <th>10</th>\n",
       "      <td>19145</td>\n",
       "      <td>39393</td>\n",
       "      <td>1502093</td>\n",
       "    </tr>\n",
       "    <tr>\n",
       "      <th>11</th>\n",
       "      <td>19139</td>\n",
       "      <td>33791</td>\n",
       "      <td>1218201</td>\n",
       "    </tr>\n",
       "    <tr>\n",
       "      <th>12</th>\n",
       "      <td>19127</td>\n",
       "      <td>30855</td>\n",
       "      <td>1084175</td>\n",
       "    </tr>\n",
       "    <tr>\n",
       "      <th>13</th>\n",
       "      <td>19121</td>\n",
       "      <td>27866</td>\n",
       "      <td>1008411</td>\n",
       "    </tr>\n",
       "    <tr>\n",
       "      <th>14</th>\n",
       "      <td>19140</td>\n",
       "      <td>24263</td>\n",
       "      <td>955748</td>\n",
       "    </tr>\n",
       "    <tr>\n",
       "      <th>15</th>\n",
       "      <td>19141</td>\n",
       "      <td>23801</td>\n",
       "      <td>840996</td>\n",
       "    </tr>\n",
       "    <tr>\n",
       "      <th>16</th>\n",
       "      <td>19124</td>\n",
       "      <td>23147</td>\n",
       "      <td>944867</td>\n",
       "    </tr>\n",
       "    <tr>\n",
       "      <th>17</th>\n",
       "      <td>19144</td>\n",
       "      <td>17934</td>\n",
       "      <td>644634</td>\n",
       "    </tr>\n",
       "    <tr>\n",
       "      <th>18</th>\n",
       "      <td>19142</td>\n",
       "      <td>16714</td>\n",
       "      <td>666169</td>\n",
       "    </tr>\n",
       "    <tr>\n",
       "      <th>19</th>\n",
       "      <td>19143</td>\n",
       "      <td>15969</td>\n",
       "      <td>695244</td>\n",
       "    </tr>\n",
       "    <tr>\n",
       "      <th>20</th>\n",
       "      <td>19149</td>\n",
       "      <td>15547</td>\n",
       "      <td>618187</td>\n",
       "    </tr>\n",
       "    <tr>\n",
       "      <th>21</th>\n",
       "      <td>19134</td>\n",
       "      <td>14360</td>\n",
       "      <td>714610</td>\n",
       "    </tr>\n",
       "    <tr>\n",
       "      <th>22</th>\n",
       "      <td>19120</td>\n",
       "      <td>14293</td>\n",
       "      <td>663888</td>\n",
       "    </tr>\n",
       "    <tr>\n",
       "      <th>23</th>\n",
       "      <td>19118</td>\n",
       "      <td>13659</td>\n",
       "      <td>433294</td>\n",
       "    </tr>\n",
       "    <tr>\n",
       "      <th>24</th>\n",
       "      <td>19125</td>\n",
       "      <td>11561</td>\n",
       "      <td>479326</td>\n",
       "    </tr>\n",
       "    <tr>\n",
       "      <th>25</th>\n",
       "      <td>19128</td>\n",
       "      <td>10107</td>\n",
       "      <td>405862</td>\n",
       "    </tr>\n",
       "    <tr>\n",
       "      <th>26</th>\n",
       "      <td>19111</td>\n",
       "      <td>9168</td>\n",
       "      <td>364658</td>\n",
       "    </tr>\n",
       "    <tr>\n",
       "      <th>27</th>\n",
       "      <td>19136</td>\n",
       "      <td>7279</td>\n",
       "      <td>270464</td>\n",
       "    </tr>\n",
       "    <tr>\n",
       "      <th>28</th>\n",
       "      <td>19135</td>\n",
       "      <td>7105</td>\n",
       "      <td>272275</td>\n",
       "    </tr>\n",
       "    <tr>\n",
       "      <th>29</th>\n",
       "      <td>19132</td>\n",
       "      <td>6925</td>\n",
       "      <td>304120</td>\n",
       "    </tr>\n",
       "    <tr>\n",
       "      <th>30</th>\n",
       "      <td>19122</td>\n",
       "      <td>6924</td>\n",
       "      <td>322879</td>\n",
       "    </tr>\n",
       "    <tr>\n",
       "      <th>31</th>\n",
       "      <td>19129</td>\n",
       "      <td>6521</td>\n",
       "      <td>231676</td>\n",
       "    </tr>\n",
       "    <tr>\n",
       "      <th>32</th>\n",
       "      <td>19131</td>\n",
       "      <td>6313</td>\n",
       "      <td>323558</td>\n",
       "    </tr>\n",
       "    <tr>\n",
       "      <th>33</th>\n",
       "      <td>19133</td>\n",
       "      <td>5753</td>\n",
       "      <td>236568</td>\n",
       "    </tr>\n",
       "    <tr>\n",
       "      <th>34</th>\n",
       "      <td>19151</td>\n",
       "      <td>4561</td>\n",
       "      <td>243831</td>\n",
       "    </tr>\n",
       "    <tr>\n",
       "      <th>35</th>\n",
       "      <td>19119</td>\n",
       "      <td>3977</td>\n",
       "      <td>156217</td>\n",
       "    </tr>\n",
       "    <tr>\n",
       "      <th>36</th>\n",
       "      <td>19152</td>\n",
       "      <td>2521</td>\n",
       "      <td>103106</td>\n",
       "    </tr>\n",
       "    <tr>\n",
       "      <th>37</th>\n",
       "      <td>19138</td>\n",
       "      <td>1447</td>\n",
       "      <td>99432</td>\n",
       "    </tr>\n",
       "    <tr>\n",
       "      <th>38</th>\n",
       "      <td>19110</td>\n",
       "      <td>1410</td>\n",
       "      <td>97735</td>\n",
       "    </tr>\n",
       "    <tr>\n",
       "      <th>39</th>\n",
       "      <td>19150</td>\n",
       "      <td>959</td>\n",
       "      <td>57144</td>\n",
       "    </tr>\n",
       "    <tr>\n",
       "      <th>40</th>\n",
       "      <td>19126</td>\n",
       "      <td>871</td>\n",
       "      <td>57556</td>\n",
       "    </tr>\n",
       "    <tr>\n",
       "      <th>41</th>\n",
       "      <td>19153</td>\n",
       "      <td>573</td>\n",
       "      <td>42438</td>\n",
       "    </tr>\n",
       "    <tr>\n",
       "      <th>42</th>\n",
       "      <td>19115</td>\n",
       "      <td>504</td>\n",
       "      <td>29641</td>\n",
       "    </tr>\n",
       "    <tr>\n",
       "      <th>43</th>\n",
       "      <td>19137</td>\n",
       "      <td>452</td>\n",
       "      <td>36587</td>\n",
       "    </tr>\n",
       "    <tr>\n",
       "      <th>44</th>\n",
       "      <td>19114</td>\n",
       "      <td>404</td>\n",
       "      <td>26914</td>\n",
       "    </tr>\n",
       "    <tr>\n",
       "      <th>45</th>\n",
       "      <td>19116</td>\n",
       "      <td>261</td>\n",
       "      <td>23256</td>\n",
       "    </tr>\n",
       "    <tr>\n",
       "      <th>46</th>\n",
       "      <td>19154</td>\n",
       "      <td>178</td>\n",
       "      <td>16183</td>\n",
       "    </tr>\n",
       "    <tr>\n",
       "      <th>47</th>\n",
       "      <td>19108</td>\n",
       "      <td>85</td>\n",
       "      <td>3750</td>\n",
       "    </tr>\n",
       "    <tr>\n",
       "      <th>48</th>\n",
       "      <td>19109</td>\n",
       "      <td>68</td>\n",
       "      <td>4793</td>\n",
       "    </tr>\n",
       "    <tr>\n",
       "      <th>49</th>\n",
       "      <td>19112</td>\n",
       "      <td>58</td>\n",
       "      <td>2608</td>\n",
       "    </tr>\n",
       "  </tbody>\n",
       "</table>\n",
       "</div>"
      ],
      "text/plain": [
       "    zip_code  fines_given  sum_fines\n",
       "0      19103       178096    9719831\n",
       "1      19107       162393    9086563\n",
       "2      19147       150897    6437837\n",
       "3      19104       139237    6323122\n",
       "4      19106       108665    5777605\n",
       "5      19146        71698    2869658\n",
       "6      19130        67078    2793793\n",
       "7      19102        51456    3026116\n",
       "8      19148        49532    1915687\n",
       "9      19123        47373    1997463\n",
       "10     19145        39393    1502093\n",
       "11     19139        33791    1218201\n",
       "12     19127        30855    1084175\n",
       "13     19121        27866    1008411\n",
       "14     19140        24263     955748\n",
       "15     19141        23801     840996\n",
       "16     19124        23147     944867\n",
       "17     19144        17934     644634\n",
       "18     19142        16714     666169\n",
       "19     19143        15969     695244\n",
       "20     19149        15547     618187\n",
       "21     19134        14360     714610\n",
       "22     19120        14293     663888\n",
       "23     19118        13659     433294\n",
       "24     19125        11561     479326\n",
       "25     19128        10107     405862\n",
       "26     19111         9168     364658\n",
       "27     19136         7279     270464\n",
       "28     19135         7105     272275\n",
       "29     19132         6925     304120\n",
       "30     19122         6924     322879\n",
       "31     19129         6521     231676\n",
       "32     19131         6313     323558\n",
       "33     19133         5753     236568\n",
       "34     19151         4561     243831\n",
       "35     19119         3977     156217\n",
       "36     19152         2521     103106\n",
       "37     19138         1447      99432\n",
       "38     19110         1410      97735\n",
       "39     19150          959      57144\n",
       "40     19126          871      57556\n",
       "41     19153          573      42438\n",
       "42     19115          504      29641\n",
       "43     19137          452      36587\n",
       "44     19114          404      26914\n",
       "45     19116          261      23256\n",
       "46     19154          178      16183\n",
       "47     19108           85       3750\n",
       "48     19109           68       4793\n",
       "49     19112           58       2608"
      ]
     },
     "execution_count": 42,
     "metadata": {},
     "output_type": "execute_result"
    }
   ],
   "source": [
    "FinesPerZipCode = \"\"\"\n",
    "SELECT \n",
    "    zip_code, \n",
    "    COUNT(anon_ticket_number) AS fines_given,\n",
    "    \n",
    "    SUM(fine) AS sum_fines\n",
    "FROM PPA_2017_Dataset\n",
    "WHERE zip_code != \"0\"\n",
    "GROUP BY zip_code \n",
    "ORDER BY fines_given DESC\n",
    "\"\"\"\n",
    "run_query(FinesPerZipCode)"
   ]
  },
  {
   "cell_type": "code",
   "execution_count": 47,
   "metadata": {},
   "outputs": [],
   "source": [
    "# TO DO:\n",
    "# COMPARE WITH WEATHER! DOES temperature affect amount of tickets (do a scatter 365 days)\n",
    "# Find geoJSON to create a data visualization showing violations per zipcode."
   ]
  },
  {
   "cell_type": "code",
   "execution_count": 46,
   "metadata": {
    "scrolled": true
   },
   "outputs": [
    {
     "data": {
      "text/html": [
       "<div>\n",
       "<style scoped>\n",
       "    .dataframe tbody tr th:only-of-type {\n",
       "        vertical-align: middle;\n",
       "    }\n",
       "\n",
       "    .dataframe tbody tr th {\n",
       "        vertical-align: top;\n",
       "    }\n",
       "\n",
       "    .dataframe thead th {\n",
       "        text-align: right;\n",
       "    }\n",
       "</style>\n",
       "<table border=\"1\" class=\"dataframe\">\n",
       "  <thead>\n",
       "    <tr style=\"text-align: right;\">\n",
       "      <th></th>\n",
       "      <th>zip_code</th>\n",
       "      <th>Violation_Description</th>\n",
       "      <th>Violation_Count</th>\n",
       "      <th>RANK</th>\n",
       "    </tr>\n",
       "  </thead>\n",
       "  <tbody>\n",
       "    <tr>\n",
       "      <th>0</th>\n",
       "      <td>19107</td>\n",
       "      <td>METER EXPIRED</td>\n",
       "      <td>75173</td>\n",
       "      <td>1</td>\n",
       "    </tr>\n",
       "    <tr>\n",
       "      <th>1</th>\n",
       "      <td>19103</td>\n",
       "      <td>METER EXPIRED</td>\n",
       "      <td>72429</td>\n",
       "      <td>1</td>\n",
       "    </tr>\n",
       "    <tr>\n",
       "      <th>2</th>\n",
       "      <td>19104</td>\n",
       "      <td>METER EXPIRED</td>\n",
       "      <td>67225</td>\n",
       "      <td>1</td>\n",
       "    </tr>\n",
       "    <tr>\n",
       "      <th>3</th>\n",
       "      <td>19147</td>\n",
       "      <td>METER EXPIRED</td>\n",
       "      <td>66447</td>\n",
       "      <td>1</td>\n",
       "    </tr>\n",
       "    <tr>\n",
       "      <th>4</th>\n",
       "      <td>19106</td>\n",
       "      <td>METER EXPIRED</td>\n",
       "      <td>54533</td>\n",
       "      <td>1</td>\n",
       "    </tr>\n",
       "    <tr>\n",
       "      <th>5</th>\n",
       "      <td>19146</td>\n",
       "      <td>OVER TIME LIMIT</td>\n",
       "      <td>27774</td>\n",
       "      <td>1</td>\n",
       "    </tr>\n",
       "    <tr>\n",
       "      <th>6</th>\n",
       "      <td>19130</td>\n",
       "      <td>METER EXPIRED</td>\n",
       "      <td>22938</td>\n",
       "      <td>1</td>\n",
       "    </tr>\n",
       "    <tr>\n",
       "      <th>7</th>\n",
       "      <td>19102</td>\n",
       "      <td>STOP PROHIBITED</td>\n",
       "      <td>16727</td>\n",
       "      <td>1</td>\n",
       "    </tr>\n",
       "    <tr>\n",
       "      <th>8</th>\n",
       "      <td>19123</td>\n",
       "      <td>OVER TIME LIMIT</td>\n",
       "      <td>15500</td>\n",
       "      <td>1</td>\n",
       "    </tr>\n",
       "    <tr>\n",
       "      <th>9</th>\n",
       "      <td>19127</td>\n",
       "      <td>METER EXPIRED</td>\n",
       "      <td>14234</td>\n",
       "      <td>1</td>\n",
       "    </tr>\n",
       "    <tr>\n",
       "      <th>10</th>\n",
       "      <td>19139</td>\n",
       "      <td>METER EXPIRED</td>\n",
       "      <td>13684</td>\n",
       "      <td>1</td>\n",
       "    </tr>\n",
       "    <tr>\n",
       "      <th>11</th>\n",
       "      <td>19148</td>\n",
       "      <td>OVER TIME LIMIT</td>\n",
       "      <td>13519</td>\n",
       "      <td>1</td>\n",
       "    </tr>\n",
       "    <tr>\n",
       "      <th>12</th>\n",
       "      <td>19121</td>\n",
       "      <td>OVER TIME LIMIT</td>\n",
       "      <td>12479</td>\n",
       "      <td>1</td>\n",
       "    </tr>\n",
       "    <tr>\n",
       "      <th>13</th>\n",
       "      <td>19144</td>\n",
       "      <td>METER EXPIRED</td>\n",
       "      <td>12136</td>\n",
       "      <td>1</td>\n",
       "    </tr>\n",
       "    <tr>\n",
       "      <th>14</th>\n",
       "      <td>19145</td>\n",
       "      <td>METER EXPIRED</td>\n",
       "      <td>11618</td>\n",
       "      <td>1</td>\n",
       "    </tr>\n",
       "    <tr>\n",
       "      <th>15</th>\n",
       "      <td>19118</td>\n",
       "      <td>METER EXPIRED</td>\n",
       "      <td>10776</td>\n",
       "      <td>1</td>\n",
       "    </tr>\n",
       "    <tr>\n",
       "      <th>16</th>\n",
       "      <td>19141</td>\n",
       "      <td>METER EXPIRED</td>\n",
       "      <td>10720</td>\n",
       "      <td>1</td>\n",
       "    </tr>\n",
       "    <tr>\n",
       "      <th>17</th>\n",
       "      <td>19140</td>\n",
       "      <td>METER EXPIRED</td>\n",
       "      <td>10608</td>\n",
       "      <td>1</td>\n",
       "    </tr>\n",
       "    <tr>\n",
       "      <th>18</th>\n",
       "      <td>19124</td>\n",
       "      <td>METER EXPIRED</td>\n",
       "      <td>9579</td>\n",
       "      <td>1</td>\n",
       "    </tr>\n",
       "    <tr>\n",
       "      <th>19</th>\n",
       "      <td>19149</td>\n",
       "      <td>METER EXPIRED</td>\n",
       "      <td>9114</td>\n",
       "      <td>1</td>\n",
       "    </tr>\n",
       "    <tr>\n",
       "      <th>20</th>\n",
       "      <td>19142</td>\n",
       "      <td>METER EXPIRED</td>\n",
       "      <td>7934</td>\n",
       "      <td>1</td>\n",
       "    </tr>\n",
       "    <tr>\n",
       "      <th>21</th>\n",
       "      <td>19120</td>\n",
       "      <td>METER EXPIRED</td>\n",
       "      <td>6388</td>\n",
       "      <td>1</td>\n",
       "    </tr>\n",
       "    <tr>\n",
       "      <th>22</th>\n",
       "      <td>19134</td>\n",
       "      <td>METER EXPIRED</td>\n",
       "      <td>5618</td>\n",
       "      <td>1</td>\n",
       "    </tr>\n",
       "    <tr>\n",
       "      <th>23</th>\n",
       "      <td>19125</td>\n",
       "      <td>OVER TIME LIMIT</td>\n",
       "      <td>5565</td>\n",
       "      <td>1</td>\n",
       "    </tr>\n",
       "    <tr>\n",
       "      <th>24</th>\n",
       "      <td>19143</td>\n",
       "      <td>OVER TIME LIMIT</td>\n",
       "      <td>5294</td>\n",
       "      <td>1</td>\n",
       "    </tr>\n",
       "    <tr>\n",
       "      <th>25</th>\n",
       "      <td>19111</td>\n",
       "      <td>METER EXPIRED</td>\n",
       "      <td>4959</td>\n",
       "      <td>1</td>\n",
       "    </tr>\n",
       "    <tr>\n",
       "      <th>26</th>\n",
       "      <td>19135</td>\n",
       "      <td>METER EXPIRED</td>\n",
       "      <td>4730</td>\n",
       "      <td>1</td>\n",
       "    </tr>\n",
       "    <tr>\n",
       "      <th>27</th>\n",
       "      <td>19136</td>\n",
       "      <td>METER EXPIRED</td>\n",
       "      <td>4539</td>\n",
       "      <td>1</td>\n",
       "    </tr>\n",
       "    <tr>\n",
       "      <th>28</th>\n",
       "      <td>19129</td>\n",
       "      <td>OVER TIME LIMIT</td>\n",
       "      <td>3825</td>\n",
       "      <td>1</td>\n",
       "    </tr>\n",
       "    <tr>\n",
       "      <th>29</th>\n",
       "      <td>19133</td>\n",
       "      <td>METER EXPIRED</td>\n",
       "      <td>3539</td>\n",
       "      <td>1</td>\n",
       "    </tr>\n",
       "    <tr>\n",
       "      <th>30</th>\n",
       "      <td>19128</td>\n",
       "      <td>METER EXPIRED</td>\n",
       "      <td>3363</td>\n",
       "      <td>1</td>\n",
       "    </tr>\n",
       "    <tr>\n",
       "      <th>31</th>\n",
       "      <td>19132</td>\n",
       "      <td>METER EXPIRED</td>\n",
       "      <td>2124</td>\n",
       "      <td>1</td>\n",
       "    </tr>\n",
       "    <tr>\n",
       "      <th>32</th>\n",
       "      <td>19119</td>\n",
       "      <td>METER EXPIRED</td>\n",
       "      <td>1873</td>\n",
       "      <td>1</td>\n",
       "    </tr>\n",
       "    <tr>\n",
       "      <th>33</th>\n",
       "      <td>19122</td>\n",
       "      <td>OVER TIME LIMIT</td>\n",
       "      <td>1779</td>\n",
       "      <td>1</td>\n",
       "    </tr>\n",
       "    <tr>\n",
       "      <th>34</th>\n",
       "      <td>19151</td>\n",
       "      <td>METER EXPIRED</td>\n",
       "      <td>1526</td>\n",
       "      <td>1</td>\n",
       "    </tr>\n",
       "    <tr>\n",
       "      <th>35</th>\n",
       "      <td>19152</td>\n",
       "      <td>METER EXPIRED</td>\n",
       "      <td>1431</td>\n",
       "      <td>1</td>\n",
       "    </tr>\n",
       "    <tr>\n",
       "      <th>36</th>\n",
       "      <td>19131</td>\n",
       "      <td>EXPIRED INSPECTION</td>\n",
       "      <td>1272</td>\n",
       "      <td>1</td>\n",
       "    </tr>\n",
       "    <tr>\n",
       "      <th>37</th>\n",
       "      <td>19110</td>\n",
       "      <td>STOP PROHIBITED</td>\n",
       "      <td>870</td>\n",
       "      <td>1</td>\n",
       "    </tr>\n",
       "    <tr>\n",
       "      <th>38</th>\n",
       "      <td>19150</td>\n",
       "      <td>EXPIRED INSPECTION</td>\n",
       "      <td>282</td>\n",
       "      <td>1</td>\n",
       "    </tr>\n",
       "    <tr>\n",
       "      <th>39</th>\n",
       "      <td>19138</td>\n",
       "      <td>EXPIRED INSPECTION</td>\n",
       "      <td>263</td>\n",
       "      <td>1</td>\n",
       "    </tr>\n",
       "    <tr>\n",
       "      <th>40</th>\n",
       "      <td>19126</td>\n",
       "      <td>PARKING PROHBITED</td>\n",
       "      <td>193</td>\n",
       "      <td>1</td>\n",
       "    </tr>\n",
       "    <tr>\n",
       "      <th>41</th>\n",
       "      <td>19115</td>\n",
       "      <td>EXPIRED INSPECTION</td>\n",
       "      <td>167</td>\n",
       "      <td>1</td>\n",
       "    </tr>\n",
       "    <tr>\n",
       "      <th>42</th>\n",
       "      <td>19153</td>\n",
       "      <td>PARKING PROHBITED</td>\n",
       "      <td>162</td>\n",
       "      <td>1</td>\n",
       "    </tr>\n",
       "    <tr>\n",
       "      <th>43</th>\n",
       "      <td>19137</td>\n",
       "      <td>FIRE HYDRANT</td>\n",
       "      <td>132</td>\n",
       "      <td>1</td>\n",
       "    </tr>\n",
       "    <tr>\n",
       "      <th>44</th>\n",
       "      <td>19114</td>\n",
       "      <td>EXPIRED INSPECTION</td>\n",
       "      <td>82</td>\n",
       "      <td>1</td>\n",
       "    </tr>\n",
       "    <tr>\n",
       "      <th>45</th>\n",
       "      <td>19108</td>\n",
       "      <td>METER EXPIRED</td>\n",
       "      <td>71</td>\n",
       "      <td>1</td>\n",
       "    </tr>\n",
       "    <tr>\n",
       "      <th>46</th>\n",
       "      <td>19116</td>\n",
       "      <td>SIDEWALK</td>\n",
       "      <td>56</td>\n",
       "      <td>1</td>\n",
       "    </tr>\n",
       "    <tr>\n",
       "      <th>47</th>\n",
       "      <td>19112</td>\n",
       "      <td>PARKING PROHBITED</td>\n",
       "      <td>55</td>\n",
       "      <td>1</td>\n",
       "    </tr>\n",
       "    <tr>\n",
       "      <th>48</th>\n",
       "      <td>19109</td>\n",
       "      <td>STOP PROHIBITED</td>\n",
       "      <td>53</td>\n",
       "      <td>1</td>\n",
       "    </tr>\n",
       "    <tr>\n",
       "      <th>49</th>\n",
       "      <td>19154</td>\n",
       "      <td>PARKING PROHBITED</td>\n",
       "      <td>41</td>\n",
       "      <td>1</td>\n",
       "    </tr>\n",
       "  </tbody>\n",
       "</table>\n",
       "</div>"
      ],
      "text/plain": [
       "    zip_code Violation_Description  Violation_Count  RANK\n",
       "0      19107         METER EXPIRED            75173     1\n",
       "1      19103         METER EXPIRED            72429     1\n",
       "2      19104         METER EXPIRED            67225     1\n",
       "3      19147         METER EXPIRED            66447     1\n",
       "4      19106         METER EXPIRED            54533     1\n",
       "5      19146       OVER TIME LIMIT            27774     1\n",
       "6      19130         METER EXPIRED            22938     1\n",
       "7      19102       STOP PROHIBITED            16727     1\n",
       "8      19123       OVER TIME LIMIT            15500     1\n",
       "9      19127         METER EXPIRED            14234     1\n",
       "10     19139         METER EXPIRED            13684     1\n",
       "11     19148       OVER TIME LIMIT            13519     1\n",
       "12     19121       OVER TIME LIMIT            12479     1\n",
       "13     19144         METER EXPIRED            12136     1\n",
       "14     19145         METER EXPIRED            11618     1\n",
       "15     19118         METER EXPIRED            10776     1\n",
       "16     19141         METER EXPIRED            10720     1\n",
       "17     19140         METER EXPIRED            10608     1\n",
       "18     19124         METER EXPIRED             9579     1\n",
       "19     19149         METER EXPIRED             9114     1\n",
       "20     19142         METER EXPIRED             7934     1\n",
       "21     19120         METER EXPIRED             6388     1\n",
       "22     19134         METER EXPIRED             5618     1\n",
       "23     19125       OVER TIME LIMIT             5565     1\n",
       "24     19143       OVER TIME LIMIT             5294     1\n",
       "25     19111         METER EXPIRED             4959     1\n",
       "26     19135         METER EXPIRED             4730     1\n",
       "27     19136         METER EXPIRED             4539     1\n",
       "28     19129       OVER TIME LIMIT             3825     1\n",
       "29     19133         METER EXPIRED             3539     1\n",
       "30     19128         METER EXPIRED             3363     1\n",
       "31     19132         METER EXPIRED             2124     1\n",
       "32     19119         METER EXPIRED             1873     1\n",
       "33     19122       OVER TIME LIMIT             1779     1\n",
       "34     19151         METER EXPIRED             1526     1\n",
       "35     19152         METER EXPIRED             1431     1\n",
       "36     19131    EXPIRED INSPECTION             1272     1\n",
       "37     19110       STOP PROHIBITED              870     1\n",
       "38     19150    EXPIRED INSPECTION              282     1\n",
       "39     19138    EXPIRED INSPECTION              263     1\n",
       "40     19126     PARKING PROHBITED              193     1\n",
       "41     19115    EXPIRED INSPECTION              167     1\n",
       "42     19153     PARKING PROHBITED              162     1\n",
       "43     19137          FIRE HYDRANT              132     1\n",
       "44     19114    EXPIRED INSPECTION               82     1\n",
       "45     19108         METER EXPIRED               71     1\n",
       "46     19116              SIDEWALK               56     1\n",
       "47     19112     PARKING PROHBITED               55     1\n",
       "48     19109       STOP PROHIBITED               53     1\n",
       "49     19154     PARKING PROHBITED               41     1"
      ]
     },
     "execution_count": 46,
     "metadata": {},
     "output_type": "execute_result"
    }
   ],
   "source": [
    "ViolationByZipCodeRanked = \"\"\"\n",
    "WITH TempTable AS (\n",
    "    SELECT\n",
    "        zip_code,\n",
    "        TRIM(violation_desc, ' CC') AS Violation_Description,\n",
    "        COUNT(zip_code) AS Violation_Count,\n",
    "        RANK() OVER(\n",
    "            PARTITION BY zip_code\n",
    "            ORDER BY COUNT(zip_code) DESC\n",
    "        ) AS RANK\n",
    "    FROM PPA_2017_Dataset\n",
    "    GROUP BY zip_code, Violation_Description\n",
    ")\n",
    "\n",
    "SELECT \n",
    "    *\n",
    "FROM TempTable\n",
    "WHERE RANK = 1\n",
    "AND zip_code != \"0\"\n",
    "GROUP BY zip_code\n",
    "ORDER BY Violation_Count DESC\n",
    "\n",
    "\"\"\"\n",
    "run_query(ViolationByZipCodeRanked)"
   ]
  },
  {
   "cell_type": "code",
   "execution_count": 43,
   "metadata": {
    "scrolled": true
   },
   "outputs": [
    {
     "data": {
      "text/html": [
       "<div>\n",
       "<style scoped>\n",
       "    .dataframe tbody tr th:only-of-type {\n",
       "        vertical-align: middle;\n",
       "    }\n",
       "\n",
       "    .dataframe tbody tr th {\n",
       "        vertical-align: top;\n",
       "    }\n",
       "\n",
       "    .dataframe thead th {\n",
       "        text-align: right;\n",
       "    }\n",
       "</style>\n",
       "<table border=\"1\" class=\"dataframe\">\n",
       "  <thead>\n",
       "    <tr style=\"text-align: right;\">\n",
       "      <th></th>\n",
       "      <th>zip_code</th>\n",
       "      <th>fines_given</th>\n",
       "      <th>sum_fines</th>\n",
       "    </tr>\n",
       "  </thead>\n",
       "  <tbody>\n",
       "    <tr>\n",
       "      <th>0</th>\n",
       "      <td>19103</td>\n",
       "      <td>178096</td>\n",
       "      <td>9719831</td>\n",
       "    </tr>\n",
       "    <tr>\n",
       "      <th>1</th>\n",
       "      <td>19107</td>\n",
       "      <td>162393</td>\n",
       "      <td>9086563</td>\n",
       "    </tr>\n",
       "    <tr>\n",
       "      <th>2</th>\n",
       "      <td>19147</td>\n",
       "      <td>150897</td>\n",
       "      <td>6437837</td>\n",
       "    </tr>\n",
       "    <tr>\n",
       "      <th>3</th>\n",
       "      <td>19104</td>\n",
       "      <td>139237</td>\n",
       "      <td>6323122</td>\n",
       "    </tr>\n",
       "    <tr>\n",
       "      <th>4</th>\n",
       "      <td>19106</td>\n",
       "      <td>108665</td>\n",
       "      <td>5777605</td>\n",
       "    </tr>\n",
       "    <tr>\n",
       "      <th>5</th>\n",
       "      <td>19146</td>\n",
       "      <td>71698</td>\n",
       "      <td>2869658</td>\n",
       "    </tr>\n",
       "    <tr>\n",
       "      <th>6</th>\n",
       "      <td>19130</td>\n",
       "      <td>67078</td>\n",
       "      <td>2793793</td>\n",
       "    </tr>\n",
       "    <tr>\n",
       "      <th>7</th>\n",
       "      <td>19102</td>\n",
       "      <td>51456</td>\n",
       "      <td>3026116</td>\n",
       "    </tr>\n",
       "    <tr>\n",
       "      <th>8</th>\n",
       "      <td>19148</td>\n",
       "      <td>49532</td>\n",
       "      <td>1915687</td>\n",
       "    </tr>\n",
       "    <tr>\n",
       "      <th>9</th>\n",
       "      <td>19123</td>\n",
       "      <td>47373</td>\n",
       "      <td>1997463</td>\n",
       "    </tr>\n",
       "    <tr>\n",
       "      <th>10</th>\n",
       "      <td>19145</td>\n",
       "      <td>39393</td>\n",
       "      <td>1502093</td>\n",
       "    </tr>\n",
       "    <tr>\n",
       "      <th>11</th>\n",
       "      <td>19139</td>\n",
       "      <td>33791</td>\n",
       "      <td>1218201</td>\n",
       "    </tr>\n",
       "    <tr>\n",
       "      <th>12</th>\n",
       "      <td>19127</td>\n",
       "      <td>30855</td>\n",
       "      <td>1084175</td>\n",
       "    </tr>\n",
       "    <tr>\n",
       "      <th>13</th>\n",
       "      <td>19121</td>\n",
       "      <td>27866</td>\n",
       "      <td>1008411</td>\n",
       "    </tr>\n",
       "    <tr>\n",
       "      <th>14</th>\n",
       "      <td>19140</td>\n",
       "      <td>24263</td>\n",
       "      <td>955748</td>\n",
       "    </tr>\n",
       "    <tr>\n",
       "      <th>15</th>\n",
       "      <td>19141</td>\n",
       "      <td>23801</td>\n",
       "      <td>840996</td>\n",
       "    </tr>\n",
       "    <tr>\n",
       "      <th>16</th>\n",
       "      <td>19124</td>\n",
       "      <td>23147</td>\n",
       "      <td>944867</td>\n",
       "    </tr>\n",
       "    <tr>\n",
       "      <th>17</th>\n",
       "      <td>19144</td>\n",
       "      <td>17934</td>\n",
       "      <td>644634</td>\n",
       "    </tr>\n",
       "    <tr>\n",
       "      <th>18</th>\n",
       "      <td>19142</td>\n",
       "      <td>16714</td>\n",
       "      <td>666169</td>\n",
       "    </tr>\n",
       "    <tr>\n",
       "      <th>19</th>\n",
       "      <td>19143</td>\n",
       "      <td>15969</td>\n",
       "      <td>695244</td>\n",
       "    </tr>\n",
       "    <tr>\n",
       "      <th>20</th>\n",
       "      <td>19149</td>\n",
       "      <td>15547</td>\n",
       "      <td>618187</td>\n",
       "    </tr>\n",
       "    <tr>\n",
       "      <th>21</th>\n",
       "      <td>19134</td>\n",
       "      <td>14360</td>\n",
       "      <td>714610</td>\n",
       "    </tr>\n",
       "    <tr>\n",
       "      <th>22</th>\n",
       "      <td>19120</td>\n",
       "      <td>14293</td>\n",
       "      <td>663888</td>\n",
       "    </tr>\n",
       "    <tr>\n",
       "      <th>23</th>\n",
       "      <td>19118</td>\n",
       "      <td>13659</td>\n",
       "      <td>433294</td>\n",
       "    </tr>\n",
       "    <tr>\n",
       "      <th>24</th>\n",
       "      <td>19125</td>\n",
       "      <td>11561</td>\n",
       "      <td>479326</td>\n",
       "    </tr>\n",
       "    <tr>\n",
       "      <th>25</th>\n",
       "      <td>19128</td>\n",
       "      <td>10107</td>\n",
       "      <td>405862</td>\n",
       "    </tr>\n",
       "    <tr>\n",
       "      <th>26</th>\n",
       "      <td>19111</td>\n",
       "      <td>9168</td>\n",
       "      <td>364658</td>\n",
       "    </tr>\n",
       "    <tr>\n",
       "      <th>27</th>\n",
       "      <td>19136</td>\n",
       "      <td>7279</td>\n",
       "      <td>270464</td>\n",
       "    </tr>\n",
       "    <tr>\n",
       "      <th>28</th>\n",
       "      <td>19135</td>\n",
       "      <td>7105</td>\n",
       "      <td>272275</td>\n",
       "    </tr>\n",
       "    <tr>\n",
       "      <th>29</th>\n",
       "      <td>19132</td>\n",
       "      <td>6925</td>\n",
       "      <td>304120</td>\n",
       "    </tr>\n",
       "    <tr>\n",
       "      <th>30</th>\n",
       "      <td>19122</td>\n",
       "      <td>6924</td>\n",
       "      <td>322879</td>\n",
       "    </tr>\n",
       "    <tr>\n",
       "      <th>31</th>\n",
       "      <td>19129</td>\n",
       "      <td>6521</td>\n",
       "      <td>231676</td>\n",
       "    </tr>\n",
       "    <tr>\n",
       "      <th>32</th>\n",
       "      <td>19131</td>\n",
       "      <td>6313</td>\n",
       "      <td>323558</td>\n",
       "    </tr>\n",
       "    <tr>\n",
       "      <th>33</th>\n",
       "      <td>19133</td>\n",
       "      <td>5753</td>\n",
       "      <td>236568</td>\n",
       "    </tr>\n",
       "    <tr>\n",
       "      <th>34</th>\n",
       "      <td>19151</td>\n",
       "      <td>4561</td>\n",
       "      <td>243831</td>\n",
       "    </tr>\n",
       "    <tr>\n",
       "      <th>35</th>\n",
       "      <td>19119</td>\n",
       "      <td>3977</td>\n",
       "      <td>156217</td>\n",
       "    </tr>\n",
       "    <tr>\n",
       "      <th>36</th>\n",
       "      <td>19152</td>\n",
       "      <td>2521</td>\n",
       "      <td>103106</td>\n",
       "    </tr>\n",
       "    <tr>\n",
       "      <th>37</th>\n",
       "      <td>19138</td>\n",
       "      <td>1447</td>\n",
       "      <td>99432</td>\n",
       "    </tr>\n",
       "    <tr>\n",
       "      <th>38</th>\n",
       "      <td>19110</td>\n",
       "      <td>1410</td>\n",
       "      <td>97735</td>\n",
       "    </tr>\n",
       "    <tr>\n",
       "      <th>39</th>\n",
       "      <td>19150</td>\n",
       "      <td>959</td>\n",
       "      <td>57144</td>\n",
       "    </tr>\n",
       "    <tr>\n",
       "      <th>40</th>\n",
       "      <td>19126</td>\n",
       "      <td>871</td>\n",
       "      <td>57556</td>\n",
       "    </tr>\n",
       "    <tr>\n",
       "      <th>41</th>\n",
       "      <td>19153</td>\n",
       "      <td>573</td>\n",
       "      <td>42438</td>\n",
       "    </tr>\n",
       "    <tr>\n",
       "      <th>42</th>\n",
       "      <td>19115</td>\n",
       "      <td>504</td>\n",
       "      <td>29641</td>\n",
       "    </tr>\n",
       "    <tr>\n",
       "      <th>43</th>\n",
       "      <td>19137</td>\n",
       "      <td>452</td>\n",
       "      <td>36587</td>\n",
       "    </tr>\n",
       "    <tr>\n",
       "      <th>44</th>\n",
       "      <td>19114</td>\n",
       "      <td>404</td>\n",
       "      <td>26914</td>\n",
       "    </tr>\n",
       "    <tr>\n",
       "      <th>45</th>\n",
       "      <td>19116</td>\n",
       "      <td>261</td>\n",
       "      <td>23256</td>\n",
       "    </tr>\n",
       "    <tr>\n",
       "      <th>46</th>\n",
       "      <td>19154</td>\n",
       "      <td>178</td>\n",
       "      <td>16183</td>\n",
       "    </tr>\n",
       "    <tr>\n",
       "      <th>47</th>\n",
       "      <td>19108</td>\n",
       "      <td>85</td>\n",
       "      <td>3750</td>\n",
       "    </tr>\n",
       "    <tr>\n",
       "      <th>48</th>\n",
       "      <td>19109</td>\n",
       "      <td>68</td>\n",
       "      <td>4793</td>\n",
       "    </tr>\n",
       "    <tr>\n",
       "      <th>49</th>\n",
       "      <td>19112</td>\n",
       "      <td>58</td>\n",
       "      <td>2608</td>\n",
       "    </tr>\n",
       "  </tbody>\n",
       "</table>\n",
       "</div>"
      ],
      "text/plain": [
       "    zip_code  fines_given  sum_fines\n",
       "0      19103       178096    9719831\n",
       "1      19107       162393    9086563\n",
       "2      19147       150897    6437837\n",
       "3      19104       139237    6323122\n",
       "4      19106       108665    5777605\n",
       "5      19146        71698    2869658\n",
       "6      19130        67078    2793793\n",
       "7      19102        51456    3026116\n",
       "8      19148        49532    1915687\n",
       "9      19123        47373    1997463\n",
       "10     19145        39393    1502093\n",
       "11     19139        33791    1218201\n",
       "12     19127        30855    1084175\n",
       "13     19121        27866    1008411\n",
       "14     19140        24263     955748\n",
       "15     19141        23801     840996\n",
       "16     19124        23147     944867\n",
       "17     19144        17934     644634\n",
       "18     19142        16714     666169\n",
       "19     19143        15969     695244\n",
       "20     19149        15547     618187\n",
       "21     19134        14360     714610\n",
       "22     19120        14293     663888\n",
       "23     19118        13659     433294\n",
       "24     19125        11561     479326\n",
       "25     19128        10107     405862\n",
       "26     19111         9168     364658\n",
       "27     19136         7279     270464\n",
       "28     19135         7105     272275\n",
       "29     19132         6925     304120\n",
       "30     19122         6924     322879\n",
       "31     19129         6521     231676\n",
       "32     19131         6313     323558\n",
       "33     19133         5753     236568\n",
       "34     19151         4561     243831\n",
       "35     19119         3977     156217\n",
       "36     19152         2521     103106\n",
       "37     19138         1447      99432\n",
       "38     19110         1410      97735\n",
       "39     19150          959      57144\n",
       "40     19126          871      57556\n",
       "41     19153          573      42438\n",
       "42     19115          504      29641\n",
       "43     19137          452      36587\n",
       "44     19114          404      26914\n",
       "45     19116          261      23256\n",
       "46     19154          178      16183\n",
       "47     19108           85       3750\n",
       "48     19109           68       4793\n",
       "49     19112           58       2608"
      ]
     },
     "execution_count": 43,
     "metadata": {},
     "output_type": "execute_result"
    }
   ],
   "source": [
    "FinesPerZipCodeNJ = \"\"\"\n",
    "SELECT \n",
    "    zip_code, \n",
    "    COUNT(anon_ticket_number) AS fines_given,\n",
    "    \n",
    "    SUM(fine) AS sum_fines\n",
    "FROM PPA_2017_Dataset\n",
    "WHERE zip_code != \"0\"\n",
    "AND state = 'NJ'\n",
    "GROUP BY zip_code \n",
    "ORDER BY fines_given DESC\n",
    "\"\"\"\n",
    "run_query(FinesPerZipCode)"
   ]
  }
 ],
 "metadata": {
  "kernelspec": {
   "display_name": "Python 3",
   "language": "python",
   "name": "python3"
  },
  "language_info": {
   "codemirror_mode": {
    "name": "ipython",
    "version": 3
   },
   "file_extension": ".py",
   "mimetype": "text/x-python",
   "name": "python",
   "nbconvert_exporter": "python",
   "pygments_lexer": "ipython3",
   "version": "3.7.6"
  }
 },
 "nbformat": 4,
 "nbformat_minor": 4
}
